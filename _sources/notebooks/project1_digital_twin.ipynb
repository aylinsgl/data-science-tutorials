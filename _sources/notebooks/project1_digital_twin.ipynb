{
 "cells": [
  {
   "cell_type": "markdown",
   "metadata": {},
   "source": [
    "# Digital Twin"
   ]
  },
  {
   "cell_type": "markdown",
   "metadata": {},
   "source": [
    "[Link to Article](https://towardsdatascience.com/supply-chain-sustainability-reporting-with-python-161c1f63f267)"
   ]
  },
  {
   "cell_type": "markdown",
   "metadata": {},
   "source": [
    "To create a digital twin of a supply chain using Python, you first need to define the various components and processes that make up the supply chain.\n",
    "\n",
    "Next, you would need to collect data on the various components and processes of the supply chain, such as\n",
    "\n",
    "- Locations and **capacities of warehouses**\n",
    "- Routes and capacities of **transportation networks**\n",
    "- Production rates of production facilities\n",
    "- Customer and store demand\n",
    "\n",
    "## Simulation blocks\n",
    "\n",
    "---\n",
    "\n",
    "Once you have the data on the supply chain components and processes, you can use Python to create algorithms and simulations that replicate the supply chain's behaviour.\n",
    "\n",
    "- Determine the most efficient routes*(output)* to **deliver stores** using replenishment orders *(input)* coming from the store model\n",
    "- Improve the picking processes *(output)* in your warehouse to prepare store replenishment orders *(input)*\n",
    "- Schedule your production (output) based on demand forecasts built with the stores’ sales historical data (input)"
   ]
  },
  {
   "cell_type": "code",
   "execution_count": 5,
   "metadata": {
    "tags": [
     "hide-input"
    ]
   },
   "outputs": [],
   "source": [
    "# Define a Warehouse class to represent a warehouse\n",
    "class Warehouse:\n",
    "    def __init__(self, location, capacity):\n",
    "        self.location = location\n",
    "        self.capacity = capacity\n",
    "        self.inventory = {}\n",
    "        \n",
    "    def add_inventory(self, item, quantity):\n",
    "        if item in self.inventory:\n",
    "            # either add to inventory or update quantity\n",
    "            self.inventory[item] += quantity\n",
    "        else:\n",
    "            self.inventory[item] = quantity\n",
    "            \n",
    "    def remove_inventory(self, item, quantity):\n",
    "        # check if item is in inventory and if there is enough quantity to remove\n",
    "        if item in self.inventory and self.inventory[item] >= quantity:\n",
    "            self.inventory[item] -= quantity\n",
    "        else:\n",
    "            print(\"Error: Not enough inventory to fulfill order.\")\n"
   ]
  },
  {
   "cell_type": "code",
   "execution_count": 7,
   "metadata": {},
   "outputs": [
    {
     "name": "stdout",
     "output_type": "stream",
     "text": [
      "Warehouse inventory: {'A': 5}\n"
     ]
    }
   ],
   "source": [
    "\n",
    "# Create a warehouse at location \"New York\" with a capacity of 100\n",
    "warehouse = Warehouse(\"New York\", 100)\n",
    "\n",
    "# Add 10 units of item \"A\" to the warehouse's inventory\n",
    "warehouse.add_inventory(\"A\", 10)\n",
    "\n",
    "# Remove 5 units of item \"A\" from the warehouse's inventory\n",
    "warehouse.remove_inventory(\"A\", 5)\n",
    "\n",
    "print(f'Warehouse inventory: {warehouse.inventory}')"
   ]
  },
  {
   "cell_type": "markdown",
   "metadata": {},
   "source": [
    "```{note}\n",
    "if your final goal is to use the insights this model provides, ensure that all the stakeholders validate the assumptions and parameters used to build it.\n",
    "```"
   ]
  },
  {
   "cell_type": "code",
   "execution_count": null,
   "metadata": {},
   "outputs": [],
   "source": []
  }
 ],
 "metadata": {
  "kernelspec": {
   "display_name": "portfolio",
   "language": "python",
   "name": "python3"
  },
  "language_info": {
   "codemirror_mode": {
    "name": "ipython",
    "version": 3
   },
   "file_extension": ".py",
   "mimetype": "text/x-python",
   "name": "python",
   "nbconvert_exporter": "python",
   "pygments_lexer": "ipython3",
   "version": "3.9.21"
  }
 },
 "nbformat": 4,
 "nbformat_minor": 2
}
