{
 "cells": [
  {
   "cell_type": "markdown",
   "metadata": {},
   "source": [
    "# Digital Twin"
   ]
  },
  {
   "cell_type": "markdown",
   "metadata": {},
   "source": [
    "[Link to Article](https://towardsdatascience.com/supply-chain-sustainability-reporting-with-python-161c1f63f267)"
   ]
  },
  {
   "cell_type": "markdown",
   "metadata": {},
   "source": [
    "To create a digital twin of a supply chain using Python, you first need to define the various components and processes that make up the supply chain.\n",
    "\n",
    "Next, you would need to collect data on the various components and processes of the supply chain, such as\n",
    "\n",
    "- Locations and **capacities of warehouses**\n",
    "- Routes and capacities of **transportation networks**\n",
    "- Production rates of production facilities\n",
    "- Customer and store demand\n",
    "\n",
    "## Simulation blocks\n",
    "\n",
    "---\n",
    "\n",
    "Once you have the data on the supply chain components and processes, you can use Python to create algorithms and simulations that replicate the supply chain's behaviour.\n",
    "\n",
    "- Determine the most efficient routes*(output)* to **deliver stores** using replenishment orders *(input)* coming from the store model\n",
    "- Improve the picking processes *(output)* in your warehouse to prepare store replenishment orders *(input)*\n",
    "- Schedule your production (output) based on demand forecasts built with the stores’ sales historical data (input)"
   ]
  },
  {
   "cell_type": "markdown",
   "metadata": {},
   "source": [
    "### Warehouse"
   ]
  },
  {
   "cell_type": "code",
   "execution_count": 8,
   "metadata": {
    "tags": [
     "hide-input"
    ]
   },
   "outputs": [],
   "source": [
    "# Define a Warehouse class to represent a warehouse\n",
    "class Warehouse:\n",
    "    def __init__(self, location, capacity):\n",
    "        self.location = location\n",
    "        self.capacity = capacity\n",
    "        self.inventory = {}\n",
    "        \n",
    "    def add_inventory(self, item, quantity):\n",
    "        if item in self.inventory:\n",
    "            # either add to inventory or update quantity\n",
    "            self.inventory[item] += quantity\n",
    "        else:\n",
    "            self.inventory[item] = quantity\n",
    "            \n",
    "    def remove_inventory(self, item, quantity):\n",
    "        # check if item is in inventory and if there is enough quantity to remove\n",
    "        if item in self.inventory and self.inventory[item] >= quantity:\n",
    "            self.inventory[item] -= quantity\n",
    "        else:\n",
    "            print(\"Error: Not enough inventory to fulfill order.\")\n"
   ]
  },
  {
   "cell_type": "code",
   "execution_count": 9,
   "metadata": {},
   "outputs": [
    {
     "name": "stdout",
     "output_type": "stream",
     "text": [
      "Warehouse inventory: {'A': 5}\n"
     ]
    }
   ],
   "source": [
    "\n",
    "# Create a warehouse at location \"New York\" with a capacity of 100\n",
    "warehouse = Warehouse(\"New York\", 100)\n",
    "\n",
    "# Add 10 units of item \"A\" to the warehouse's inventory\n",
    "warehouse.add_inventory(\"A\", 10)\n",
    "\n",
    "# Remove 5 units of item \"A\" from the warehouse's inventory\n",
    "warehouse.remove_inventory(\"A\", 5)\n",
    "\n",
    "print(f'Warehouse inventory: {warehouse.inventory}')"
   ]
  },
  {
   "cell_type": "markdown",
   "metadata": {},
   "source": [
    "```{note}\n",
    "if your final goal is to use the insights this model provides, ensure that all the stakeholders validate the assumptions and parameters used to build it.\n",
    "```"
   ]
  },
  {
   "cell_type": "markdown",
   "metadata": {},
   "source": [
    "### Trucks"
   ]
  },
  {
   "cell_type": "code",
   "execution_count": 11,
   "metadata": {
    "tags": [
     "hide-input"
    ]
   },
   "outputs": [],
   "source": [
    "# Define a Truck class to represent a truck\n",
    "class Truck:\n",
    "    def __init__(self, location, capacity):\n",
    "        self.location = location\n",
    "        self.capacity = capacity\n",
    "        self.cargo = {}\n",
    "        \n",
    "    def load_cargo(self, item, quantity):\n",
    "        # check if there is enough capacity to load cargo\n",
    "        if sum(self.cargo.values()) + quantity <= self.capacity:\n",
    "            # either add to cargo or update quantity\n",
    "            if item in self.cargo:\n",
    "                self.cargo[item] += quantity\n",
    "            else:\n",
    "                self.cargo[item] = quantity\n",
    "        else:\n",
    "            print(\"Error: Not enough capacity to load cargo.\")\n",
    "            \n",
    "    def unload_cargo(self, item, quantity):\n",
    "        # check if item is in cargo and if there is enough quantity to unload\n",
    "        if item in self.cargo and self.cargo[item] >= quantity:\n",
    "            self.cargo[item] -= quantity\n",
    "        else:\n",
    "            print(\"Error: Cargo not found.\")\n",
    "            \n",
    "    def move_to(self, location):\n",
    "        self.location = location"
   ]
  },
  {
   "cell_type": "code",
   "execution_count": 13,
   "metadata": {},
   "outputs": [
    {
     "name": "stdout",
     "output_type": "stream",
     "text": [
      "Truck cargo: {'A': 25}\n"
     ]
    }
   ],
   "source": [
    "# Create a truck at location \"Paris\" with a capacity of 100\n",
    "truck = Truck(\"Paris\", 100)\n",
    "\n",
    "# Load 50 units of item \"A\" onto the truck\n",
    "truck.load_cargo(\"A\", 50)\n",
    "\n",
    "# Move the truck to location \"Lille\"\n",
    "truck.move_to(\"Lille\")\n",
    "\n",
    "# Unload 25 units of item \"A\" from the truck\n",
    "truck.unload_cargo(\"A\", 25)\n",
    "\n",
    "print(f'Truck cargo: {truck.cargo}')"
   ]
  },
  {
   "cell_type": "markdown",
   "metadata": {},
   "source": [
    "### Store"
   ]
  },
  {
   "cell_type": "code",
   "execution_count": 17,
   "metadata": {
    "tags": [
     "hide-input"
    ]
   },
   "outputs": [],
   "source": [
    "# Define a Store class to represent a store\n",
    "class Store:\n",
    "    def __init__(self, location, inventory):\n",
    "        self.location = location\n",
    "        self.inventory = inventory\n",
    "        \n",
    "    def place_order(self, item, quantity):\n",
    "        if item in self.inventory and self.inventory[item] >= quantity:\n",
    "            self.inventory[item] -= quantity\n",
    "            print(\"Order fulfilled.\")\n",
    "        else:\n",
    "            print(\"Error: Not enough inventory to fulfill order.\")"
   ]
  },
  {
   "cell_type": "code",
   "execution_count": 18,
   "metadata": {},
   "outputs": [
    {
     "name": "stdout",
     "output_type": "stream",
     "text": [
      "Order fulfilled.\n",
      "Store inventory: {'A': 5}\n"
     ]
    }
   ],
   "source": [
    "# Create a store at location \"New York\" with 10 units of item \"A\" in inventory\n",
    "store = Store(\"New York\", {\"A\": 10})\n",
    "\n",
    "# Place an order for 5 units of item \"A\"\n",
    "store.place_order(\"A\", 5)\n",
    "\n",
    "print(f'Store inventory: {store.inventory}')"
   ]
  },
  {
   "cell_type": "markdown",
   "metadata": {},
   "source": [
    "## Simulation"
   ]
  },
  {
   "cell_type": "code",
   "execution_count": 38,
   "metadata": {
    "tags": [
     "hide-input"
    ]
   },
   "outputs": [],
   "source": [
    "import random\n",
    "import matplotlib.pyplot as plt\n",
    "\n",
    "class SupplyChainSimulation:\n",
    "    def __init__(self, warehouses, trucks, stores):\n",
    "        self.warehouses = warehouses\n",
    "        self.trucks = trucks\n",
    "        self.stores = stores\n",
    "        self.time_step = 0\n",
    "        \n",
    "        # Demand log: list of dicts, each with time_step, store, item, quantity\n",
    "        self.demand_log = []\n",
    "        # Inventory log: list of dicts, each with time_step, warehouse_location, item, quantity\n",
    "        self.inventory_log = []\n",
    "\n",
    "    def run_step(self):\n",
    "        print(f\"--- Time Step {self.time_step} ---\")\n",
    "\n",
    "        items = [\"WidgetA\", \"WidgetB\", \"WidgetC\"]  # possible SKUs\n",
    "        for store in self.stores:\n",
    "            item_to_order = random.choice(items)\n",
    "            quantity_to_order = random.randint(5, 15)\n",
    "            print(f\"Store at {store.location} requests {quantity_to_order} units of {item_to_order}.\")\n",
    "\n",
    "            # LOG the demand\n",
    "            self.demand_log.append({\n",
    "                \"time_step\": self.time_step,\n",
    "                \"store_location\": store.location,\n",
    "                \"item\": item_to_order,\n",
    "                \"quantity\": quantity_to_order\n",
    "            })\n",
    "\n",
    "            # We'll just use the first truck & first warehouse for demonstration\n",
    "            truck = self.trucks[0]\n",
    "            warehouse = self.warehouses[0]\n",
    "\n",
    "            # Move truck to warehouse\n",
    "            if truck.location != warehouse.location:\n",
    "                truck.move_to(warehouse.location)\n",
    "\n",
    "            # Check warehouse inventory & load cargo\n",
    "            if item_to_order in warehouse.inventory and warehouse.inventory[item_to_order] >= quantity_to_order:\n",
    "                print(f\"Loading {quantity_to_order} of {item_to_order} onto truck.\")\n",
    "                warehouse.remove_inventory(item_to_order, quantity_to_order)\n",
    "                truck.load_cargo(item_to_order, quantity_to_order)\n",
    "            else:\n",
    "                print(f\"Warehouse at {warehouse.location} does not have enough {item_to_order} in stock.\\n\")\n",
    "                continue  # skip delivery if not enough stock\n",
    "\n",
    "            # Deliver to store\n",
    "            truck.move_to(store.location)\n",
    "            truck.unload_cargo(item_to_order, quantity_to_order)\n",
    "\n",
    "            # Add to store’s inventory\n",
    "            store.inventory[item_to_order] = store.inventory.get(item_to_order, 0) + quantity_to_order\n",
    "            print(f\"Delivered {quantity_to_order} {item_to_order} to {store.location}.\\n\")\n",
    "            \n",
    "        # After processing all stores in this time step, log the warehouse inventory\n",
    "        for warehouse in self.warehouses:\n",
    "            for item, qty in warehouse.inventory.items():\n",
    "                self.inventory_log.append({\n",
    "                    \"time_step\": self.time_step,\n",
    "                    \"warehouse_location\": warehouse.location,\n",
    "                    \"item\": item,\n",
    "                    \"quantity\": qty\n",
    "                })\n",
    "\n",
    "        self.time_step += 1\n",
    "\n",
    "    def run_simulation(self, steps=5):\n",
    "        for _ in range(steps):\n",
    "            self.run_step()\n",
    "            print()\n",
    "\n",
    "    def plot_demand_and_inventory(self, \n",
    "                                  store_location=None, \n",
    "                                  warehouse_location=None, \n",
    "                                  item=None):\n",
    "        \"\"\"\n",
    "        Plot both Demand (for a store) and Inventory (for a warehouse) in the same figure \n",
    "        as separate lines, filtered by location/item if provided.\n",
    "        \"\"\"\n",
    "        # ----------------------\n",
    "        # 1) Aggregate DEMAND\n",
    "        # ----------------------\n",
    "        filtered_demand = [\n",
    "            entry for entry in self.demand_log\n",
    "            if (store_location is None or entry[\"store_location\"] == store_location)\n",
    "            and (item is None or entry[\"item\"] == item)\n",
    "        ]\n",
    "        demand_by_time = {}\n",
    "        for entry in filtered_demand:\n",
    "            t = entry[\"time_step\"]\n",
    "            q = entry[\"quantity\"]\n",
    "            demand_by_time[t] = demand_by_time.get(t, 0) + q  # sum if multiple orders in same step\n",
    "\n",
    "        # ----------------------\n",
    "        # 2) Aggregate INVENTORY\n",
    "        # ----------------------\n",
    "        filtered_inventory = [\n",
    "            row for row in self.inventory_log\n",
    "            if (warehouse_location is None or row[\"warehouse_location\"] == warehouse_location)\n",
    "            and (item is None or row[\"item\"] == item)\n",
    "        ]\n",
    "        inventory_by_time = {}\n",
    "        for row in filtered_inventory:\n",
    "            t = row[\"time_step\"]\n",
    "            q = row[\"quantity\"]\n",
    "            # If multiple items in the same step, sum them or pick a strategy\n",
    "            inventory_by_time[t] = q  # or inventory_by_time.get(t, 0) + q\n",
    "\n",
    "        # ----------------------\n",
    "        # 3) Merge time steps\n",
    "        # ----------------------\n",
    "        all_time_steps = set(demand_by_time.keys()).union(set(inventory_by_time.keys()))\n",
    "        time_steps = sorted(all_time_steps)\n",
    "\n",
    "        demand_values = [demand_by_time.get(t, 0) for t in time_steps]\n",
    "        inventory_values = [inventory_by_time.get(t, 0) for t in time_steps]\n",
    "\n",
    "        # ----------------------\n",
    "        # 4) Plot both lines\n",
    "        # ----------------------\n",
    "        plt.figure(figsize=(8,5))\n",
    "        plt.plot(time_steps, demand_values, marker='o', label='Demand')\n",
    "        plt.plot(time_steps, inventory_values, marker='s', label='Inventory')\n",
    "\n",
    "        title_str = \"Demand & Inventory Over Time\"\n",
    "        if store_location:\n",
    "            title_str += f\" (Store: {store_location})\"\n",
    "        if warehouse_location:\n",
    "            title_str += f\" (Warehouse: {warehouse_location})\"\n",
    "        if item:\n",
    "            title_str += f\" (Item: {item})\"\n",
    "\n",
    "        plt.title(title_str)\n",
    "        plt.xlabel(\"Time Step\")\n",
    "        plt.ylabel(\"Quantity\")\n",
    "        plt.xticks(time_steps)\n",
    "        plt.legend()\n",
    "        plt.grid(True)\n",
    "        plt.show()\n"
   ]
  },
  {
   "cell_type": "code",
   "execution_count": 42,
   "metadata": {},
   "outputs": [
    {
     "name": "stdout",
     "output_type": "stream",
     "text": [
      "--- Time Step 0 ---\n",
      "Store at Store_1 requests 15 units of WidgetC.\n",
      "Warehouse at Warehouse_1 does not have enough WidgetC in stock.\n",
      "\n",
      "Store at Store_2 requests 15 units of WidgetA.\n",
      "Loading 15 of WidgetA onto truck.\n",
      "Delivered 15 WidgetA to Store_2.\n",
      "\n",
      "\n",
      "--- Time Step 1 ---\n",
      "Store at Store_1 requests 11 units of WidgetB.\n",
      "Loading 11 of WidgetB onto truck.\n",
      "Delivered 11 WidgetB to Store_1.\n",
      "\n",
      "Store at Store_2 requests 6 units of WidgetA.\n",
      "Loading 6 of WidgetA onto truck.\n",
      "Delivered 6 WidgetA to Store_2.\n",
      "\n",
      "\n",
      "--- Time Step 2 ---\n",
      "Store at Store_1 requests 8 units of WidgetB.\n",
      "Loading 8 of WidgetB onto truck.\n",
      "Delivered 8 WidgetB to Store_1.\n",
      "\n",
      "Store at Store_2 requests 6 units of WidgetA.\n",
      "Loading 6 of WidgetA onto truck.\n",
      "Delivered 6 WidgetA to Store_2.\n",
      "\n",
      "\n",
      "--- Time Step 3 ---\n",
      "Store at Store_1 requests 15 units of WidgetA.\n",
      "Loading 15 of WidgetA onto truck.\n",
      "Delivered 15 WidgetA to Store_1.\n",
      "\n",
      "Store at Store_2 requests 13 units of WidgetA.\n",
      "Loading 13 of WidgetA onto truck.\n",
      "Delivered 13 WidgetA to Store_2.\n",
      "\n",
      "\n",
      "--- Time Step 4 ---\n",
      "Store at Store_1 requests 10 units of WidgetA.\n",
      "Loading 10 of WidgetA onto truck.\n",
      "Delivered 10 WidgetA to Store_1.\n",
      "\n",
      "Store at Store_2 requests 15 units of WidgetC.\n",
      "Warehouse at Warehouse_1 does not have enough WidgetC in stock.\n",
      "\n",
      "\n",
      "--- Time Step 5 ---\n",
      "Store at Store_1 requests 15 units of WidgetB.\n",
      "Loading 15 of WidgetB onto truck.\n",
      "Delivered 15 WidgetB to Store_1.\n",
      "\n",
      "Store at Store_2 requests 15 units of WidgetB.\n",
      "Loading 15 of WidgetB onto truck.\n",
      "Delivered 15 WidgetB to Store_2.\n",
      "\n",
      "\n",
      "--- Time Step 6 ---\n",
      "Store at Store_1 requests 15 units of WidgetC.\n",
      "Warehouse at Warehouse_1 does not have enough WidgetC in stock.\n",
      "\n",
      "Store at Store_2 requests 14 units of WidgetB.\n",
      "Warehouse at Warehouse_1 does not have enough WidgetB in stock.\n",
      "\n",
      "\n",
      "--- Time Step 7 ---\n",
      "Store at Store_1 requests 5 units of WidgetC.\n",
      "Warehouse at Warehouse_1 does not have enough WidgetC in stock.\n",
      "\n",
      "Store at Store_2 requests 9 units of WidgetA.\n",
      "Loading 9 of WidgetA onto truck.\n",
      "Delivered 9 WidgetA to Store_2.\n",
      "\n",
      "\n",
      "--- Time Step 8 ---\n",
      "Store at Store_1 requests 12 units of WidgetB.\n",
      "Warehouse at Warehouse_1 does not have enough WidgetB in stock.\n",
      "\n",
      "Store at Store_2 requests 11 units of WidgetC.\n",
      "Warehouse at Warehouse_1 does not have enough WidgetC in stock.\n",
      "\n",
      "\n",
      "--- Time Step 9 ---\n",
      "Store at Store_1 requests 6 units of WidgetB.\n",
      "Warehouse at Warehouse_1 does not have enough WidgetB in stock.\n",
      "\n",
      "Store at Store_2 requests 6 units of WidgetC.\n",
      "Warehouse at Warehouse_1 does not have enough WidgetC in stock.\n",
      "\n",
      "\n"
     ]
    },
    {
     "data": {
      "image/png": "[encoded data removed]",
      "text/plain": [
       "<Figure size 800x500 with 1 Axes>"
      ]
     },
     "metadata": {},
     "output_type": "display_data"
    }
   ],
   "source": [
    "# Now let's instantiate everything and run a short simulation:\n",
    "warehouse1 = Warehouse(\"Warehouse_1\", capacity=1000)\n",
    "# Pre-populate warehouse\n",
    "warehouse1.add_inventory(\"WidgetA\", 100)\n",
    "warehouse1.add_inventory(\"WidgetB\", 50)\n",
    "\n",
    "truck1 = Truck(location=\"Garage\", capacity=50)\n",
    "store1 = Store(location=\"Store_1\", inventory={\"WidgetA\": 10})\n",
    "store2 = Store(location=\"Store_2\", inventory={\"WidgetB\": 20})\n",
    "\n",
    "# Create the simulation\n",
    "sim = SupplyChainSimulation(\n",
    "    warehouses=[warehouse1],\n",
    "    trucks=[truck1],\n",
    "    stores=[store1, store2]\n",
    ")\n",
    "\n",
    "# Run for 5 time steps\n",
    "sim.run_simulation(steps=10)\n",
    "\n",
    "# Plot Demand & Inventory together\n",
    "# e.g. focusing on Warehouse_1's inventory and all demands from Store_1\n",
    "sim.plot_demand_and_inventory(store_location=\"Store_1\", warehouse_location=\"Warehouse_1\", item=\"WidgetA\")"
   ]
  },
  {
   "cell_type": "code",
   "execution_count": null,
   "metadata": {},
   "outputs": [],
   "source": []
  }
 ],
 "metadata": {
  "kernelspec": {
   "display_name": "portfolio",
   "language": "python",
   "name": "python3"
  },
  "language_info": {
   "codemirror_mode": {
    "name": "ipython",
    "version": 3
   },
   "file_extension": ".py",
   "mimetype": "text/x-python",
   "name": "python",
   "nbconvert_exporter": "python",
   "pygments_lexer": "ipython3",
   "version": "3.9.21"
  }
 },
 "nbformat": 4,
 "nbformat_minor": 2
}
