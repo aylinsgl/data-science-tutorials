{
 "cells": [
  {
   "cell_type": "code",
   "execution_count": 1,
   "metadata": {},
   "outputs": [
    {
     "ename": "FileNotFoundError",
     "evalue": "[Errno 2] No such file or directory: 'Data/final_report.csv'",
     "output_type": "error",
     "traceback": [
      "\u001b[0;31m---------------------------------------------------------------------------\u001b[0m",
      "\u001b[0;31mFileNotFoundError\u001b[0m                         Traceback (most recent call last)",
      "Cell \u001b[0;32mIn[1], line 4\u001b[0m\n\u001b[1;32m      1\u001b[0m \u001b[38;5;28;01mimport\u001b[39;00m \u001b[38;5;21;01mplotly\u001b[39;00m\u001b[38;5;21;01m.\u001b[39;00m\u001b[38;5;21;01mexpress\u001b[39;00m \u001b[38;5;28;01mas\u001b[39;00m \u001b[38;5;21;01mpx\u001b[39;00m\n\u001b[1;32m      2\u001b[0m \u001b[38;5;28;01mimport\u001b[39;00m \u001b[38;5;21;01mpandas\u001b[39;00m \u001b[38;5;28;01mas\u001b[39;00m \u001b[38;5;21;01mpd\u001b[39;00m\n\u001b[0;32m----> 4\u001b[0m df \u001b[38;5;241m=\u001b[39m \u001b[43mpd\u001b[49m\u001b[38;5;241;43m.\u001b[39;49m\u001b[43mread_csv\u001b[49m\u001b[43m(\u001b[49m\u001b[38;5;124;43m\"\u001b[39;49m\u001b[38;5;124;43mData/final_report.csv\u001b[39;49m\u001b[38;5;124;43m\"\u001b[39;49m\u001b[43m)\u001b[49m\n\u001b[1;32m      6\u001b[0m fig \u001b[38;5;241m=\u001b[39m px\u001b[38;5;241m.\u001b[39mscatter_mapbox(\n\u001b[1;32m      7\u001b[0m     df,\n\u001b[1;32m      8\u001b[0m     lat\u001b[38;5;241m=\u001b[39m\u001b[38;5;124m'\u001b[39m\u001b[38;5;124mGPS 1\u001b[39m\u001b[38;5;124m'\u001b[39m,             \u001b[38;5;66;03m# Latitude column\u001b[39;00m\n\u001b[0;32m   (...)\u001b[0m\n\u001b[1;32m     15\u001b[0m     height\u001b[38;5;241m=\u001b[39m\u001b[38;5;241m600\u001b[39m                \u001b[38;5;66;03m# Figure height in pixels\u001b[39;00m\n\u001b[1;32m     16\u001b[0m )\n\u001b[1;32m     18\u001b[0m \u001b[38;5;66;03m# Use an open-source map style so no token is needed:\u001b[39;00m\n",
      "File \u001b[0;32m~/anaconda3/envs/data-science/lib/python3.9/site-packages/pandas/io/parsers/readers.py:1026\u001b[0m, in \u001b[0;36mread_csv\u001b[0;34m(filepath_or_buffer, sep, delimiter, header, names, index_col, usecols, dtype, engine, converters, true_values, false_values, skipinitialspace, skiprows, skipfooter, nrows, na_values, keep_default_na, na_filter, verbose, skip_blank_lines, parse_dates, infer_datetime_format, keep_date_col, date_parser, date_format, dayfirst, cache_dates, iterator, chunksize, compression, thousands, decimal, lineterminator, quotechar, quoting, doublequote, escapechar, comment, encoding, encoding_errors, dialect, on_bad_lines, delim_whitespace, low_memory, memory_map, float_precision, storage_options, dtype_backend)\u001b[0m\n\u001b[1;32m   1013\u001b[0m kwds_defaults \u001b[38;5;241m=\u001b[39m _refine_defaults_read(\n\u001b[1;32m   1014\u001b[0m     dialect,\n\u001b[1;32m   1015\u001b[0m     delimiter,\n\u001b[0;32m   (...)\u001b[0m\n\u001b[1;32m   1022\u001b[0m     dtype_backend\u001b[38;5;241m=\u001b[39mdtype_backend,\n\u001b[1;32m   1023\u001b[0m )\n\u001b[1;32m   1024\u001b[0m kwds\u001b[38;5;241m.\u001b[39mupdate(kwds_defaults)\n\u001b[0;32m-> 1026\u001b[0m \u001b[38;5;28;01mreturn\u001b[39;00m \u001b[43m_read\u001b[49m\u001b[43m(\u001b[49m\u001b[43mfilepath_or_buffer\u001b[49m\u001b[43m,\u001b[49m\u001b[43m \u001b[49m\u001b[43mkwds\u001b[49m\u001b[43m)\u001b[49m\n",
      "File \u001b[0;32m~/anaconda3/envs/data-science/lib/python3.9/site-packages/pandas/io/parsers/readers.py:620\u001b[0m, in \u001b[0;36m_read\u001b[0;34m(filepath_or_buffer, kwds)\u001b[0m\n\u001b[1;32m    617\u001b[0m _validate_names(kwds\u001b[38;5;241m.\u001b[39mget(\u001b[38;5;124m\"\u001b[39m\u001b[38;5;124mnames\u001b[39m\u001b[38;5;124m\"\u001b[39m, \u001b[38;5;28;01mNone\u001b[39;00m))\n\u001b[1;32m    619\u001b[0m \u001b[38;5;66;03m# Create the parser.\u001b[39;00m\n\u001b[0;32m--> 620\u001b[0m parser \u001b[38;5;241m=\u001b[39m \u001b[43mTextFileReader\u001b[49m\u001b[43m(\u001b[49m\u001b[43mfilepath_or_buffer\u001b[49m\u001b[43m,\u001b[49m\u001b[43m \u001b[49m\u001b[38;5;241;43m*\u001b[39;49m\u001b[38;5;241;43m*\u001b[39;49m\u001b[43mkwds\u001b[49m\u001b[43m)\u001b[49m\n\u001b[1;32m    622\u001b[0m \u001b[38;5;28;01mif\u001b[39;00m chunksize \u001b[38;5;129;01mor\u001b[39;00m iterator:\n\u001b[1;32m    623\u001b[0m     \u001b[38;5;28;01mreturn\u001b[39;00m parser\n",
      "File \u001b[0;32m~/anaconda3/envs/data-science/lib/python3.9/site-packages/pandas/io/parsers/readers.py:1620\u001b[0m, in \u001b[0;36mTextFileReader.__init__\u001b[0;34m(self, f, engine, **kwds)\u001b[0m\n\u001b[1;32m   1617\u001b[0m     \u001b[38;5;28mself\u001b[39m\u001b[38;5;241m.\u001b[39moptions[\u001b[38;5;124m\"\u001b[39m\u001b[38;5;124mhas_index_names\u001b[39m\u001b[38;5;124m\"\u001b[39m] \u001b[38;5;241m=\u001b[39m kwds[\u001b[38;5;124m\"\u001b[39m\u001b[38;5;124mhas_index_names\u001b[39m\u001b[38;5;124m\"\u001b[39m]\n\u001b[1;32m   1619\u001b[0m \u001b[38;5;28mself\u001b[39m\u001b[38;5;241m.\u001b[39mhandles: IOHandles \u001b[38;5;241m|\u001b[39m \u001b[38;5;28;01mNone\u001b[39;00m \u001b[38;5;241m=\u001b[39m \u001b[38;5;28;01mNone\u001b[39;00m\n\u001b[0;32m-> 1620\u001b[0m \u001b[38;5;28mself\u001b[39m\u001b[38;5;241m.\u001b[39m_engine \u001b[38;5;241m=\u001b[39m \u001b[38;5;28;43mself\u001b[39;49m\u001b[38;5;241;43m.\u001b[39;49m\u001b[43m_make_engine\u001b[49m\u001b[43m(\u001b[49m\u001b[43mf\u001b[49m\u001b[43m,\u001b[49m\u001b[43m \u001b[49m\u001b[38;5;28;43mself\u001b[39;49m\u001b[38;5;241;43m.\u001b[39;49m\u001b[43mengine\u001b[49m\u001b[43m)\u001b[49m\n",
      "File \u001b[0;32m~/anaconda3/envs/data-science/lib/python3.9/site-packages/pandas/io/parsers/readers.py:1880\u001b[0m, in \u001b[0;36mTextFileReader._make_engine\u001b[0;34m(self, f, engine)\u001b[0m\n\u001b[1;32m   1878\u001b[0m     \u001b[38;5;28;01mif\u001b[39;00m \u001b[38;5;124m\"\u001b[39m\u001b[38;5;124mb\u001b[39m\u001b[38;5;124m\"\u001b[39m \u001b[38;5;129;01mnot\u001b[39;00m \u001b[38;5;129;01min\u001b[39;00m mode:\n\u001b[1;32m   1879\u001b[0m         mode \u001b[38;5;241m+\u001b[39m\u001b[38;5;241m=\u001b[39m \u001b[38;5;124m\"\u001b[39m\u001b[38;5;124mb\u001b[39m\u001b[38;5;124m\"\u001b[39m\n\u001b[0;32m-> 1880\u001b[0m \u001b[38;5;28mself\u001b[39m\u001b[38;5;241m.\u001b[39mhandles \u001b[38;5;241m=\u001b[39m \u001b[43mget_handle\u001b[49m\u001b[43m(\u001b[49m\n\u001b[1;32m   1881\u001b[0m \u001b[43m    \u001b[49m\u001b[43mf\u001b[49m\u001b[43m,\u001b[49m\n\u001b[1;32m   1882\u001b[0m \u001b[43m    \u001b[49m\u001b[43mmode\u001b[49m\u001b[43m,\u001b[49m\n\u001b[1;32m   1883\u001b[0m \u001b[43m    \u001b[49m\u001b[43mencoding\u001b[49m\u001b[38;5;241;43m=\u001b[39;49m\u001b[38;5;28;43mself\u001b[39;49m\u001b[38;5;241;43m.\u001b[39;49m\u001b[43moptions\u001b[49m\u001b[38;5;241;43m.\u001b[39;49m\u001b[43mget\u001b[49m\u001b[43m(\u001b[49m\u001b[38;5;124;43m\"\u001b[39;49m\u001b[38;5;124;43mencoding\u001b[39;49m\u001b[38;5;124;43m\"\u001b[39;49m\u001b[43m,\u001b[49m\u001b[43m \u001b[49m\u001b[38;5;28;43;01mNone\u001b[39;49;00m\u001b[43m)\u001b[49m\u001b[43m,\u001b[49m\n\u001b[1;32m   1884\u001b[0m \u001b[43m    \u001b[49m\u001b[43mcompression\u001b[49m\u001b[38;5;241;43m=\u001b[39;49m\u001b[38;5;28;43mself\u001b[39;49m\u001b[38;5;241;43m.\u001b[39;49m\u001b[43moptions\u001b[49m\u001b[38;5;241;43m.\u001b[39;49m\u001b[43mget\u001b[49m\u001b[43m(\u001b[49m\u001b[38;5;124;43m\"\u001b[39;49m\u001b[38;5;124;43mcompression\u001b[39;49m\u001b[38;5;124;43m\"\u001b[39;49m\u001b[43m,\u001b[49m\u001b[43m \u001b[49m\u001b[38;5;28;43;01mNone\u001b[39;49;00m\u001b[43m)\u001b[49m\u001b[43m,\u001b[49m\n\u001b[1;32m   1885\u001b[0m \u001b[43m    \u001b[49m\u001b[43mmemory_map\u001b[49m\u001b[38;5;241;43m=\u001b[39;49m\u001b[38;5;28;43mself\u001b[39;49m\u001b[38;5;241;43m.\u001b[39;49m\u001b[43moptions\u001b[49m\u001b[38;5;241;43m.\u001b[39;49m\u001b[43mget\u001b[49m\u001b[43m(\u001b[49m\u001b[38;5;124;43m\"\u001b[39;49m\u001b[38;5;124;43mmemory_map\u001b[39;49m\u001b[38;5;124;43m\"\u001b[39;49m\u001b[43m,\u001b[49m\u001b[43m \u001b[49m\u001b[38;5;28;43;01mFalse\u001b[39;49;00m\u001b[43m)\u001b[49m\u001b[43m,\u001b[49m\n\u001b[1;32m   1886\u001b[0m \u001b[43m    \u001b[49m\u001b[43mis_text\u001b[49m\u001b[38;5;241;43m=\u001b[39;49m\u001b[43mis_text\u001b[49m\u001b[43m,\u001b[49m\n\u001b[1;32m   1887\u001b[0m \u001b[43m    \u001b[49m\u001b[43merrors\u001b[49m\u001b[38;5;241;43m=\u001b[39;49m\u001b[38;5;28;43mself\u001b[39;49m\u001b[38;5;241;43m.\u001b[39;49m\u001b[43moptions\u001b[49m\u001b[38;5;241;43m.\u001b[39;49m\u001b[43mget\u001b[49m\u001b[43m(\u001b[49m\u001b[38;5;124;43m\"\u001b[39;49m\u001b[38;5;124;43mencoding_errors\u001b[39;49m\u001b[38;5;124;43m\"\u001b[39;49m\u001b[43m,\u001b[49m\u001b[43m \u001b[49m\u001b[38;5;124;43m\"\u001b[39;49m\u001b[38;5;124;43mstrict\u001b[39;49m\u001b[38;5;124;43m\"\u001b[39;49m\u001b[43m)\u001b[49m\u001b[43m,\u001b[49m\n\u001b[1;32m   1888\u001b[0m \u001b[43m    \u001b[49m\u001b[43mstorage_options\u001b[49m\u001b[38;5;241;43m=\u001b[39;49m\u001b[38;5;28;43mself\u001b[39;49m\u001b[38;5;241;43m.\u001b[39;49m\u001b[43moptions\u001b[49m\u001b[38;5;241;43m.\u001b[39;49m\u001b[43mget\u001b[49m\u001b[43m(\u001b[49m\u001b[38;5;124;43m\"\u001b[39;49m\u001b[38;5;124;43mstorage_options\u001b[39;49m\u001b[38;5;124;43m\"\u001b[39;49m\u001b[43m,\u001b[49m\u001b[43m \u001b[49m\u001b[38;5;28;43;01mNone\u001b[39;49;00m\u001b[43m)\u001b[49m\u001b[43m,\u001b[49m\n\u001b[1;32m   1889\u001b[0m \u001b[43m\u001b[49m\u001b[43m)\u001b[49m\n\u001b[1;32m   1890\u001b[0m \u001b[38;5;28;01massert\u001b[39;00m \u001b[38;5;28mself\u001b[39m\u001b[38;5;241m.\u001b[39mhandles \u001b[38;5;129;01mis\u001b[39;00m \u001b[38;5;129;01mnot\u001b[39;00m \u001b[38;5;28;01mNone\u001b[39;00m\n\u001b[1;32m   1891\u001b[0m f \u001b[38;5;241m=\u001b[39m \u001b[38;5;28mself\u001b[39m\u001b[38;5;241m.\u001b[39mhandles\u001b[38;5;241m.\u001b[39mhandle\n",
      "File \u001b[0;32m~/anaconda3/envs/data-science/lib/python3.9/site-packages/pandas/io/common.py:873\u001b[0m, in \u001b[0;36mget_handle\u001b[0;34m(path_or_buf, mode, encoding, compression, memory_map, is_text, errors, storage_options)\u001b[0m\n\u001b[1;32m    868\u001b[0m \u001b[38;5;28;01melif\u001b[39;00m \u001b[38;5;28misinstance\u001b[39m(handle, \u001b[38;5;28mstr\u001b[39m):\n\u001b[1;32m    869\u001b[0m     \u001b[38;5;66;03m# Check whether the filename is to be opened in binary mode.\u001b[39;00m\n\u001b[1;32m    870\u001b[0m     \u001b[38;5;66;03m# Binary mode does not support 'encoding' and 'newline'.\u001b[39;00m\n\u001b[1;32m    871\u001b[0m     \u001b[38;5;28;01mif\u001b[39;00m ioargs\u001b[38;5;241m.\u001b[39mencoding \u001b[38;5;129;01mand\u001b[39;00m \u001b[38;5;124m\"\u001b[39m\u001b[38;5;124mb\u001b[39m\u001b[38;5;124m\"\u001b[39m \u001b[38;5;129;01mnot\u001b[39;00m \u001b[38;5;129;01min\u001b[39;00m ioargs\u001b[38;5;241m.\u001b[39mmode:\n\u001b[1;32m    872\u001b[0m         \u001b[38;5;66;03m# Encoding\u001b[39;00m\n\u001b[0;32m--> 873\u001b[0m         handle \u001b[38;5;241m=\u001b[39m \u001b[38;5;28;43mopen\u001b[39;49m\u001b[43m(\u001b[49m\n\u001b[1;32m    874\u001b[0m \u001b[43m            \u001b[49m\u001b[43mhandle\u001b[49m\u001b[43m,\u001b[49m\n\u001b[1;32m    875\u001b[0m \u001b[43m            \u001b[49m\u001b[43mioargs\u001b[49m\u001b[38;5;241;43m.\u001b[39;49m\u001b[43mmode\u001b[49m\u001b[43m,\u001b[49m\n\u001b[1;32m    876\u001b[0m \u001b[43m            \u001b[49m\u001b[43mencoding\u001b[49m\u001b[38;5;241;43m=\u001b[39;49m\u001b[43mioargs\u001b[49m\u001b[38;5;241;43m.\u001b[39;49m\u001b[43mencoding\u001b[49m\u001b[43m,\u001b[49m\n\u001b[1;32m    877\u001b[0m \u001b[43m            \u001b[49m\u001b[43merrors\u001b[49m\u001b[38;5;241;43m=\u001b[39;49m\u001b[43merrors\u001b[49m\u001b[43m,\u001b[49m\n\u001b[1;32m    878\u001b[0m \u001b[43m            \u001b[49m\u001b[43mnewline\u001b[49m\u001b[38;5;241;43m=\u001b[39;49m\u001b[38;5;124;43m\"\u001b[39;49m\u001b[38;5;124;43m\"\u001b[39;49m\u001b[43m,\u001b[49m\n\u001b[1;32m    879\u001b[0m \u001b[43m        \u001b[49m\u001b[43m)\u001b[49m\n\u001b[1;32m    880\u001b[0m     \u001b[38;5;28;01melse\u001b[39;00m:\n\u001b[1;32m    881\u001b[0m         \u001b[38;5;66;03m# Binary mode\u001b[39;00m\n\u001b[1;32m    882\u001b[0m         handle \u001b[38;5;241m=\u001b[39m \u001b[38;5;28mopen\u001b[39m(handle, ioargs\u001b[38;5;241m.\u001b[39mmode)\n",
      "\u001b[0;31mFileNotFoundError\u001b[0m: [Errno 2] No such file or directory: 'Data/final_report.csv'"
     ]
    }
   ],
   "source": [
    "import plotly.express as px\n",
    "import pandas as pd\n",
    "\n",
    "df = pd.read_csv(\"Data/final_report.csv\")\n",
    "\n",
    "fig = px.scatter_mapbox(\n",
    "    df,\n",
    "    lat='GPS 1',             # Latitude column\n",
    "    lon='GPS 2',             # Longitude column\n",
    "    color='Delivery Mode',    # Color bubbles by transport mode\n",
    "    size='CO2 Total',         # Bubble size by total CO2\n",
    "    hover_name='Location',    # What shows up when hovering over a point\n",
    "    hover_data=['CO2 Total'], # Additional info in the hover tooltip\n",
    "    zoom=4,                   # Map zoom level\n",
    "    height=600                # Figure height in pixels\n",
    ")\n",
    "\n",
    "# Use an open-source map style so no token is needed:\n",
    "fig.update_layout(mapbox_style=\"carto-positron\")\n",
    "fig.update_layout(title=\"CO₂ Emissions by Delivery Mode\")\n",
    "\n",
    "fig.show()\n"
   ]
  },
  {
   "cell_type": "markdown",
   "metadata": {},
   "source": [
    "You can observe where you have the majority of CO2 emissions (large bubbles) with a colour coding by transportation mode."
   ]
  },
  {
   "cell_type": "code",
   "execution_count": 18,
   "metadata": {},
   "outputs": [
    {
     "data": {
      "application/vnd.plotly.v1+json": {
       "config": {
        "plotlyServerURL": "https://plot.ly"
       },
       "data": [
        {
         "alignmentgroup": "True",
         "customdata": [
          [
           "995096-96"
          ]
         ],
         "hovertemplate": "Item Code=%{customdata[0]}<br>CO2 Total=%{x}<br>Customer Country=%{y}<extra></extra>",
         "legendgroup": "995096-96",
         "marker": {
          "color": "#636efa",
          "pattern": {
           "shape": ""
          }
         },
         "name": "995096-96",
         "offsetgroup": "995096-96",
         "orientation": "h",
         "showlegend": true,
         "textposition": "auto",
         "type": "bar",
         "x": [
          150.75244800000002
         ],
         "xaxis": "x",
         "y": [
          "BULGARIA"
         ],
         "yaxis": "y"
        },
        {
         "alignmentgroup": "True",
         "customdata": [
          [
           "995097-97"
          ]
         ],
         "hovertemplate": "Item Code=%{customdata[0]}<br>CO2 Total=%{x}<br>Customer Country=%{y}<extra></extra>",
         "legendgroup": "995097-97",
         "marker": {
          "color": "#EF553B",
          "pattern": {
           "shape": ""
          }
         },
         "name": "995097-97",
         "offsetgroup": "995097-97",
         "orientation": "h",
         "showlegend": true,
         "textposition": "auto",
         "type": "bar",
         "x": [
          201.003264
         ],
         "xaxis": "x",
         "y": [
          "BULGARIA"
         ],
         "yaxis": "y"
        },
        {
         "alignmentgroup": "True",
         "customdata": [
          [
           "1199000701-01"
          ]
         ],
         "hovertemplate": "Item Code=%{customdata[0]}<br>CO2 Total=%{x}<br>Customer Country=%{y}<extra></extra>",
         "legendgroup": "1199000701-01",
         "marker": {
          "color": "#00cc96",
          "pattern": {
           "shape": ""
          }
         },
         "name": "1199000701-01",
         "offsetgroup": "1199000701-01",
         "orientation": "h",
         "showlegend": true,
         "textposition": "auto",
         "type": "bar",
         "x": [
          0.8203703500799998
         ],
         "xaxis": "x",
         "y": [
          "FRANCE"
         ],
         "yaxis": "y"
        },
        {
         "alignmentgroup": "True",
         "customdata": [
          [
           "1199001724-24"
          ]
         ],
         "hovertemplate": "Item Code=%{customdata[0]}<br>CO2 Total=%{x}<br>Customer Country=%{y}<extra></extra>",
         "legendgroup": "1199001724-24",
         "marker": {
          "color": "#ab63fa",
          "pattern": {
           "shape": ""
          }
         },
         "name": "1199001724-24",
         "offsetgroup": "1199001724-24",
         "orientation": "h",
         "showlegend": true,
         "textposition": "auto",
         "type": "bar",
         "x": [
          0.0102859488
         ],
         "xaxis": "x",
         "y": [
          "FRANCE"
         ],
         "yaxis": "y"
        },
        {
         "alignmentgroup": "True",
         "customdata": [
          [
           "1199005728-28"
          ]
         ],
         "hovertemplate": "Item Code=%{customdata[0]}<br>CO2 Total=%{x}<br>Customer Country=%{y}<extra></extra>",
         "legendgroup": "1199005728-28",
         "marker": {
          "color": "#FFA15A",
          "pattern": {
           "shape": ""
          }
         },
         "name": "1199005728-28",
         "offsetgroup": "1199005728-28",
         "orientation": "h",
         "showlegend": true,
         "textposition": "auto",
         "type": "bar",
         "x": [
          17.826021029375998
         ],
         "xaxis": "x",
         "y": [
          "FRANCE"
         ],
         "yaxis": "y"
        },
        {
         "alignmentgroup": "True",
         "customdata": [
          [
           "1199024513-13"
          ]
         ],
         "hovertemplate": "Item Code=%{customdata[0]}<br>CO2 Total=%{x}<br>Customer Country=%{y}<extra></extra>",
         "legendgroup": "1199024513-13",
         "marker": {
          "color": "#19d3f3",
          "pattern": {
           "shape": ""
          }
         },
         "name": "1199024513-13",
         "offsetgroup": "1199024513-13",
         "orientation": "h",
         "showlegend": true,
         "textposition": "auto",
         "type": "bar",
         "x": [
          4.5765063936
         ],
         "xaxis": "x",
         "y": [
          "FRANCE"
         ],
         "yaxis": "y"
        },
        {
         "alignmentgroup": "True",
         "customdata": [
          [
           "500811-11"
          ]
         ],
         "hovertemplate": "Item Code=%{customdata[0]}<br>CO2 Total=%{x}<br>Customer Country=%{y}<extra></extra>",
         "legendgroup": "500811-11",
         "marker": {
          "color": "#FF6692",
          "pattern": {
           "shape": ""
          }
         },
         "name": "500811-11",
         "offsetgroup": "500811-11",
         "orientation": "h",
         "showlegend": true,
         "textposition": "auto",
         "type": "bar",
         "x": [
          0
         ],
         "xaxis": "x",
         "y": [
          "FRANCE"
         ],
         "yaxis": "y"
        },
        {
         "alignmentgroup": "True",
         "customdata": [
          [
           "501167-67"
          ]
         ],
         "hovertemplate": "Item Code=%{customdata[0]}<br>CO2 Total=%{x}<br>Customer Country=%{y}<extra></extra>",
         "legendgroup": "501167-67",
         "marker": {
          "color": "#B6E880",
          "pattern": {
           "shape": ""
          }
         },
         "name": "501167-67",
         "offsetgroup": "501167-67",
         "orientation": "h",
         "showlegend": true,
         "textposition": "auto",
         "type": "bar",
         "x": [
          0.0480010944
         ],
         "xaxis": "x",
         "y": [
          "FRANCE"
         ],
         "yaxis": "y"
        },
        {
         "alignmentgroup": "True",
         "customdata": [
          [
           "501393-93"
          ],
          [
           "501393-93"
          ]
         ],
         "hovertemplate": "Item Code=%{customdata[0]}<br>CO2 Total=%{x}<br>Customer Country=%{y}<extra></extra>",
         "legendgroup": "501393-93",
         "marker": {
          "color": "#FF97FF",
          "pattern": {
           "shape": ""
          }
         },
         "name": "501393-93",
         "offsetgroup": "501393-93",
         "orientation": "h",
         "showlegend": true,
         "textposition": "auto",
         "type": "bar",
         "x": [
          22.6512356578848,
          406.0284604416
         ],
         "xaxis": "x",
         "y": [
          "FRANCE",
          "GERMANY"
         ],
         "yaxis": "y"
        },
        {
         "alignmentgroup": "True",
         "customdata": [
          [
           "802051-51"
          ]
         ],
         "hovertemplate": "Item Code=%{customdata[0]}<br>CO2 Total=%{x}<br>Customer Country=%{y}<extra></extra>",
         "legendgroup": "802051-51",
         "marker": {
          "color": "#FECB52",
          "pattern": {
           "shape": ""
          }
         },
         "name": "802051-51",
         "offsetgroup": "802051-51",
         "orientation": "h",
         "showlegend": true,
         "textposition": "auto",
         "type": "bar",
         "x": [
          19.4933470983168
         ],
         "xaxis": "x",
         "y": [
          "FRANCE"
         ],
         "yaxis": "y"
        },
        {
         "alignmentgroup": "True",
         "customdata": [
          [
           "802052-52"
          ]
         ],
         "hovertemplate": "Item Code=%{customdata[0]}<br>CO2 Total=%{x}<br>Customer Country=%{y}<extra></extra>",
         "legendgroup": "802052-52",
         "marker": {
          "color": "#636efa",
          "pattern": {
           "shape": ""
          }
         },
         "name": "802052-52",
         "offsetgroup": "802052-52",
         "orientation": "h",
         "showlegend": true,
         "textposition": "auto",
         "type": "bar",
         "x": [
          26.0670404050176
         ],
         "xaxis": "x",
         "y": [
          "FRANCE"
         ],
         "yaxis": "y"
        },
        {
         "alignmentgroup": "True",
         "customdata": [
          [
           "802054-54"
          ]
         ],
         "hovertemplate": "Item Code=%{customdata[0]}<br>CO2 Total=%{x}<br>Customer Country=%{y}<extra></extra>",
         "legendgroup": "802054-54",
         "marker": {
          "color": "#EF553B",
          "pattern": {
           "shape": ""
          }
         },
         "name": "802054-54",
         "offsetgroup": "802054-54",
         "orientation": "h",
         "showlegend": true,
         "textposition": "auto",
         "type": "bar",
         "x": [
          24.1549561734432
         ],
         "xaxis": "x",
         "y": [
          "FRANCE"
         ],
         "yaxis": "y"
        },
        {
         "alignmentgroup": "True",
         "customdata": [
          [
           "802063-63"
          ]
         ],
         "hovertemplate": "Item Code=%{customdata[0]}<br>CO2 Total=%{x}<br>Customer Country=%{y}<extra></extra>",
         "legendgroup": "802063-63",
         "marker": {
          "color": "#00cc96",
          "pattern": {
           "shape": ""
          }
         },
         "name": "802063-63",
         "offsetgroup": "802063-63",
         "orientation": "h",
         "showlegend": true,
         "textposition": "auto",
         "type": "bar",
         "x": [
          15.14396222592
         ],
         "xaxis": "x",
         "y": [
          "FRANCE"
         ],
         "yaxis": "y"
        },
        {
         "alignmentgroup": "True",
         "customdata": [
          [
           "802064-64"
          ]
         ],
         "hovertemplate": "Item Code=%{customdata[0]}<br>CO2 Total=%{x}<br>Customer Country=%{y}<extra></extra>",
         "legendgroup": "802064-64",
         "marker": {
          "color": "#ab63fa",
          "pattern": {
           "shape": ""
          }
         },
         "name": "802064-64",
         "offsetgroup": "802064-64",
         "orientation": "h",
         "showlegend": true,
         "textposition": "auto",
         "type": "bar",
         "x": [
          9.971419499520001
         ],
         "xaxis": "x",
         "y": [
          "FRANCE"
         ],
         "yaxis": "y"
        },
        {
         "alignmentgroup": "True",
         "customdata": [
          [
           "802065-65"
          ]
         ],
         "hovertemplate": "Item Code=%{customdata[0]}<br>CO2 Total=%{x}<br>Customer Country=%{y}<extra></extra>",
         "legendgroup": "802065-65",
         "marker": {
          "color": "#FFA15A",
          "pattern": {
           "shape": ""
          }
         },
         "name": "802065-65",
         "offsetgroup": "802065-65",
         "orientation": "h",
         "showlegend": true,
         "textposition": "auto",
         "type": "bar",
         "x": [
          0.4925587814399997
         ],
         "xaxis": "x",
         "y": [
          "FRANCE"
         ],
         "yaxis": "y"
        },
        {
         "alignmentgroup": "True",
         "customdata": [
          [
           "802070-70"
          ]
         ],
         "hovertemplate": "Item Code=%{customdata[0]}<br>CO2 Total=%{x}<br>Customer Country=%{y}<extra></extra>",
         "legendgroup": "802070-70",
         "marker": {
          "color": "#19d3f3",
          "pattern": {
           "shape": ""
          }
         },
         "name": "802070-70",
         "offsetgroup": "802070-70",
         "orientation": "h",
         "showlegend": true,
         "textposition": "auto",
         "type": "bar",
         "x": [
          1.0800821759999997
         ],
         "xaxis": "x",
         "y": [
          "FRANCE"
         ],
         "yaxis": "y"
        },
        {
         "alignmentgroup": "True",
         "customdata": [
          [
           "802077-77"
          ],
          [
           "802077-77"
          ]
         ],
         "hovertemplate": "Item Code=%{customdata[0]}<br>CO2 Total=%{x}<br>Customer Country=%{y}<extra></extra>",
         "legendgroup": "802077-77",
         "marker": {
          "color": "#FF6692",
          "pattern": {
           "shape": ""
          }
         },
         "name": "802077-77",
         "offsetgroup": "802077-77",
         "orientation": "h",
         "showlegend": true,
         "textposition": "auto",
         "type": "bar",
         "x": [
          28.31989612416,
          0.12070016
         ],
         "xaxis": "x",
         "y": [
          "FRANCE",
          "UNITED KINGDOM"
         ],
         "yaxis": "y"
        },
        {
         "alignmentgroup": "True",
         "customdata": [
          [
           "802078-78"
          ]
         ],
         "hovertemplate": "Item Code=%{customdata[0]}<br>CO2 Total=%{x}<br>Customer Country=%{y}<extra></extra>",
         "legendgroup": "802078-78",
         "marker": {
          "color": "#B6E880",
          "pattern": {
           "shape": ""
          }
         },
         "name": "802078-78",
         "offsetgroup": "802078-78",
         "orientation": "h",
         "showlegend": true,
         "textposition": "auto",
         "type": "bar",
         "x": [
          7.191445839359999
         ],
         "xaxis": "x",
         "y": [
          "FRANCE"
         ],
         "yaxis": "y"
        },
        {
         "alignmentgroup": "True",
         "customdata": [
          [
           "8022921-21"
          ]
         ],
         "hovertemplate": "Item Code=%{customdata[0]}<br>CO2 Total=%{x}<br>Customer Country=%{y}<extra></extra>",
         "legendgroup": "8022921-21",
         "marker": {
          "color": "#FF97FF",
          "pattern": {
           "shape": ""
          }
         },
         "name": "8022921-21",
         "offsetgroup": "8022921-21",
         "orientation": "h",
         "showlegend": true,
         "textposition": "auto",
         "type": "bar",
         "x": [
          2.7057289420799995
         ],
         "xaxis": "x",
         "y": [
          "FRANCE"
         ],
         "yaxis": "y"
        },
        {
         "alignmentgroup": "True",
         "customdata": [
          [
           "8022922-22"
          ]
         ],
         "hovertemplate": "Item Code=%{customdata[0]}<br>CO2 Total=%{x}<br>Customer Country=%{y}<extra></extra>",
         "legendgroup": "8022922-22",
         "marker": {
          "color": "#FECB52",
          "pattern": {
           "shape": ""
          }
         },
         "name": "8022922-22",
         "offsetgroup": "8022922-22",
         "orientation": "h",
         "showlegend": true,
         "textposition": "auto",
         "type": "bar",
         "x": [
          1.9917416447999998
         ],
         "xaxis": "x",
         "y": [
          "FRANCE"
         ],
         "yaxis": "y"
        },
        {
         "alignmentgroup": "True",
         "customdata": [
          [
           "8022932-32"
          ]
         ],
         "hovertemplate": "Item Code=%{customdata[0]}<br>CO2 Total=%{x}<br>Customer Country=%{y}<extra></extra>",
         "legendgroup": "8022932-32",
         "marker": {
          "color": "#636efa",
          "pattern": {
           "shape": ""
          }
         },
         "name": "8022932-32",
         "offsetgroup": "8022932-32",
         "orientation": "h",
         "showlegend": true,
         "textposition": "auto",
         "type": "bar",
         "x": [
          20.59479841536
         ],
         "xaxis": "x",
         "y": [
          "FRANCE"
         ],
         "yaxis": "y"
        },
        {
         "alignmentgroup": "True",
         "customdata": [
          [
           "8022933-33"
          ]
         ],
         "hovertemplate": "Item Code=%{customdata[0]}<br>CO2 Total=%{x}<br>Customer Country=%{y}<extra></extra>",
         "legendgroup": "8022933-33",
         "marker": {
          "color": "#EF553B",
          "pattern": {
           "shape": ""
          }
         },
         "name": "8022933-33",
         "offsetgroup": "8022933-33",
         "orientation": "h",
         "showlegend": true,
         "textposition": "auto",
         "type": "bar",
         "x": [
          13.16992701312
         ],
         "xaxis": "x",
         "y": [
          "FRANCE"
         ],
         "yaxis": "y"
        },
        {
         "alignmentgroup": "True",
         "customdata": [
          [
           "8022988-88"
          ]
         ],
         "hovertemplate": "Item Code=%{customdata[0]}<br>CO2 Total=%{x}<br>Customer Country=%{y}<extra></extra>",
         "legendgroup": "8022988-88",
         "marker": {
          "color": "#00cc96",
          "pattern": {
           "shape": ""
          }
         },
         "name": "8022988-88",
         "offsetgroup": "8022988-88",
         "orientation": "h",
         "showlegend": true,
         "textposition": "auto",
         "type": "bar",
         "x": [
          0.3458924544
         ],
         "xaxis": "x",
         "y": [
          "FRANCE"
         ],
         "yaxis": "y"
        },
        {
         "alignmentgroup": "True",
         "customdata": [
          [
           "802305-05"
          ]
         ],
         "hovertemplate": "Item Code=%{customdata[0]}<br>CO2 Total=%{x}<br>Customer Country=%{y}<extra></extra>",
         "legendgroup": "802305-05",
         "marker": {
          "color": "#ab63fa",
          "pattern": {
           "shape": ""
          }
         },
         "name": "802305-05",
         "offsetgroup": "802305-05",
         "orientation": "h",
         "showlegend": true,
         "textposition": "auto",
         "type": "bar",
         "x": [
          0.02440196832
         ],
         "xaxis": "x",
         "y": [
          "FRANCE"
         ],
         "yaxis": "y"
        },
        {
         "alignmentgroup": "True",
         "customdata": [
          [
           "802308-08"
          ]
         ],
         "hovertemplate": "Item Code=%{customdata[0]}<br>CO2 Total=%{x}<br>Customer Country=%{y}<extra></extra>",
         "legendgroup": "802308-08",
         "marker": {
          "color": "#FFA15A",
          "pattern": {
           "shape": ""
          }
         },
         "name": "802308-08",
         "offsetgroup": "802308-08",
         "orientation": "h",
         "showlegend": true,
         "textposition": "auto",
         "type": "bar",
         "x": [
          0.02440196832
         ],
         "xaxis": "x",
         "y": [
          "FRANCE"
         ],
         "yaxis": "y"
        },
        {
         "alignmentgroup": "True",
         "customdata": [
          [
           "802796-96"
          ]
         ],
         "hovertemplate": "Item Code=%{customdata[0]}<br>CO2 Total=%{x}<br>Customer Country=%{y}<extra></extra>",
         "legendgroup": "802796-96",
         "marker": {
          "color": "#19d3f3",
          "pattern": {
           "shape": ""
          }
         },
         "name": "802796-96",
         "offsetgroup": "802796-96",
         "orientation": "h",
         "showlegend": true,
         "textposition": "auto",
         "type": "bar",
         "x": [
          0.3855108096
         ],
         "xaxis": "x",
         "y": [
          "FRANCE"
         ],
         "yaxis": "y"
        },
        {
         "alignmentgroup": "True",
         "customdata": [
          [
           "802797-97"
          ]
         ],
         "hovertemplate": "Item Code=%{customdata[0]}<br>CO2 Total=%{x}<br>Customer Country=%{y}<extra></extra>",
         "legendgroup": "802797-97",
         "marker": {
          "color": "#FF6692",
          "pattern": {
           "shape": ""
          }
         },
         "name": "802797-97",
         "offsetgroup": "802797-97",
         "orientation": "h",
         "showlegend": true,
         "textposition": "auto",
         "type": "bar",
         "x": [
          0.46987536383999995
         ],
         "xaxis": "x",
         "y": [
          "FRANCE"
         ],
         "yaxis": "y"
        },
        {
         "alignmentgroup": "True",
         "customdata": [
          [
           "802798-98"
          ]
         ],
         "hovertemplate": "Item Code=%{customdata[0]}<br>CO2 Total=%{x}<br>Customer Country=%{y}<extra></extra>",
         "legendgroup": "802798-98",
         "marker": {
          "color": "#B6E880",
          "pattern": {
           "shape": ""
          }
         },
         "name": "802798-98",
         "offsetgroup": "802798-98",
         "orientation": "h",
         "showlegend": true,
         "textposition": "auto",
         "type": "bar",
         "x": [
          0.61653202944
         ],
         "xaxis": "x",
         "y": [
          "FRANCE"
         ],
         "yaxis": "y"
        },
        {
         "alignmentgroup": "True",
         "customdata": [
          [
           "8031246-46"
          ]
         ],
         "hovertemplate": "Item Code=%{customdata[0]}<br>CO2 Total=%{x}<br>Customer Country=%{y}<extra></extra>",
         "legendgroup": "8031246-46",
         "marker": {
          "color": "#FF97FF",
          "pattern": {
           "shape": ""
          }
         },
         "name": "8031246-46",
         "offsetgroup": "8031246-46",
         "orientation": "h",
         "showlegend": true,
         "textposition": "auto",
         "type": "bar",
         "x": [
          0.20964618239999988
         ],
         "xaxis": "x",
         "y": [
          "FRANCE"
         ],
         "yaxis": "y"
        },
        {
         "alignmentgroup": "True",
         "customdata": [
          [
           "8031256-56"
          ],
          [
           "8031256-56"
          ]
         ],
         "hovertemplate": "Item Code=%{customdata[0]}<br>CO2 Total=%{x}<br>Customer Country=%{y}<extra></extra>",
         "legendgroup": "8031256-56",
         "marker": {
          "color": "#FECB52",
          "pattern": {
           "shape": ""
          }
         },
         "name": "8031256-56",
         "offsetgroup": "8031256-56",
         "orientation": "h",
         "showlegend": true,
         "textposition": "auto",
         "type": "bar",
         "x": [
          0.2434102828799998,
          0.01508752
         ],
         "xaxis": "x",
         "y": [
          "FRANCE",
          "UNITED KINGDOM"
         ],
         "yaxis": "y"
        },
        {
         "alignmentgroup": "True",
         "customdata": [
          [
           "8032232-32"
          ]
         ],
         "hovertemplate": "Item Code=%{customdata[0]}<br>CO2 Total=%{x}<br>Customer Country=%{y}<extra></extra>",
         "legendgroup": "8032232-32",
         "marker": {
          "color": "#636efa",
          "pattern": {
           "shape": ""
          }
         },
         "name": "8032232-32",
         "offsetgroup": "8032232-32",
         "orientation": "h",
         "showlegend": true,
         "textposition": "auto",
         "type": "bar",
         "x": [
          0.2053736447999998
         ],
         "xaxis": "x",
         "y": [
          "FRANCE"
         ],
         "yaxis": "y"
        },
        {
         "alignmentgroup": "True",
         "customdata": [
          [
           "807973-73"
          ]
         ],
         "hovertemplate": "Item Code=%{customdata[0]}<br>CO2 Total=%{x}<br>Customer Country=%{y}<extra></extra>",
         "legendgroup": "807973-73",
         "marker": {
          "color": "#EF553B",
          "pattern": {
           "shape": ""
          }
         },
         "name": "807973-73",
         "offsetgroup": "807973-73",
         "orientation": "h",
         "showlegend": true,
         "textposition": "auto",
         "type": "bar",
         "x": [
          1.9077279743999997
         ],
         "xaxis": "x",
         "y": [
          "FRANCE"
         ],
         "yaxis": "y"
        },
        {
         "alignmentgroup": "True",
         "customdata": [
          [
           "8104755-55"
          ]
         ],
         "hovertemplate": "Item Code=%{customdata[0]}<br>CO2 Total=%{x}<br>Customer Country=%{y}<extra></extra>",
         "legendgroup": "8104755-55",
         "marker": {
          "color": "#00cc96",
          "pattern": {
           "shape": ""
          }
         },
         "name": "8104755-55",
         "offsetgroup": "8104755-55",
         "orientation": "h",
         "showlegend": true,
         "textposition": "auto",
         "type": "bar",
         "x": [
          0.1290680756735999
         ],
         "xaxis": "x",
         "y": [
          "FRANCE"
         ],
         "yaxis": "y"
        },
        {
         "alignmentgroup": "True",
         "customdata": [
          [
           "812105-05"
          ]
         ],
         "hovertemplate": "Item Code=%{customdata[0]}<br>CO2 Total=%{x}<br>Customer Country=%{y}<extra></extra>",
         "legendgroup": "812105-05",
         "marker": {
          "color": "#ab63fa",
          "pattern": {
           "shape": ""
          }
         },
         "name": "812105-05",
         "offsetgroup": "812105-05",
         "orientation": "h",
         "showlegend": true,
         "textposition": "auto",
         "type": "bar",
         "x": [
          1.06736357376
         ],
         "xaxis": "x",
         "y": [
          "FRANCE"
         ],
         "yaxis": "y"
        },
        {
         "alignmentgroup": "True",
         "customdata": [
          [
           "8128704-04"
          ],
          [
           "8128704-04"
          ]
         ],
         "hovertemplate": "Item Code=%{customdata[0]}<br>CO2 Total=%{x}<br>Customer Country=%{y}<extra></extra>",
         "legendgroup": "8128704-04",
         "marker": {
          "color": "#FFA15A",
          "pattern": {
           "shape": ""
          }
         },
         "name": "8128704-04",
         "offsetgroup": "8128704-04",
         "orientation": "h",
         "showlegend": true,
         "textposition": "auto",
         "type": "bar",
         "x": [
          5.4957955153152,
          0.1162850752
         ],
         "xaxis": "x",
         "y": [
          "FRANCE",
          "UNITED KINGDOM"
         ],
         "yaxis": "y"
        },
        {
         "alignmentgroup": "True",
         "customdata": [
          [
           "8128741-41"
          ]
         ],
         "hovertemplate": "Item Code=%{customdata[0]}<br>CO2 Total=%{x}<br>Customer Country=%{y}<extra></extra>",
         "legendgroup": "8128741-41",
         "marker": {
          "color": "#19d3f3",
          "pattern": {
           "shape": ""
          }
         },
         "name": "8128741-41",
         "offsetgroup": "8128741-41",
         "orientation": "h",
         "showlegend": true,
         "textposition": "auto",
         "type": "bar",
         "x": [
          54.03470409216
         ],
         "xaxis": "x",
         "y": [
          "FRANCE"
         ],
         "yaxis": "y"
        },
        {
         "alignmentgroup": "True",
         "customdata": [
          [
           "8129221-21"
          ]
         ],
         "hovertemplate": "Item Code=%{customdata[0]}<br>CO2 Total=%{x}<br>Customer Country=%{y}<extra></extra>",
         "legendgroup": "8129221-21",
         "marker": {
          "color": "#FF6692",
          "pattern": {
           "shape": ""
          }
         },
         "name": "8129221-21",
         "offsetgroup": "8129221-21",
         "orientation": "h",
         "showlegend": true,
         "textposition": "auto",
         "type": "bar",
         "x": [
          1.1722768965599972
         ],
         "xaxis": "x",
         "y": [
          "FRANCE"
         ],
         "yaxis": "y"
        },
        {
         "alignmentgroup": "True",
         "customdata": [
          [
           "8155073-73"
          ]
         ],
         "hovertemplate": "Item Code=%{customdata[0]}<br>CO2 Total=%{x}<br>Customer Country=%{y}<extra></extra>",
         "legendgroup": "8155073-73",
         "marker": {
          "color": "#B6E880",
          "pattern": {
           "shape": ""
          }
         },
         "name": "8155073-73",
         "offsetgroup": "8155073-73",
         "orientation": "h",
         "showlegend": true,
         "textposition": "auto",
         "type": "bar",
         "x": [
          0.3775007232
         ],
         "xaxis": "x",
         "y": [
          "FRANCE"
         ],
         "yaxis": "y"
        },
        {
         "alignmentgroup": "True",
         "customdata": [
          [
           "8206444-44"
          ]
         ],
         "hovertemplate": "Item Code=%{customdata[0]}<br>CO2 Total=%{x}<br>Customer Country=%{y}<extra></extra>",
         "legendgroup": "8206444-44",
         "marker": {
          "color": "#FF97FF",
          "pattern": {
           "shape": ""
          }
         },
         "name": "8206444-44",
         "offsetgroup": "8206444-44",
         "orientation": "h",
         "showlegend": true,
         "textposition": "auto",
         "type": "bar",
         "x": [
          0.16879390847999998
         ],
         "xaxis": "x",
         "y": [
          "FRANCE"
         ],
         "yaxis": "y"
        },
        {
         "alignmentgroup": "True",
         "customdata": [
          [
           "8206472-72"
          ]
         ],
         "hovertemplate": "Item Code=%{customdata[0]}<br>CO2 Total=%{x}<br>Customer Country=%{y}<extra></extra>",
         "legendgroup": "8206472-72",
         "marker": {
          "color": "#FECB52",
          "pattern": {
           "shape": ""
          }
         },
         "name": "8206472-72",
         "offsetgroup": "8206472-72",
         "orientation": "h",
         "showlegend": true,
         "textposition": "auto",
         "type": "bar",
         "x": [
          0.18113816064
         ],
         "xaxis": "x",
         "y": [
          "FRANCE"
         ],
         "yaxis": "y"
        },
        {
         "alignmentgroup": "True",
         "customdata": [
          [
           "8209012-12"
          ]
         ],
         "hovertemplate": "Item Code=%{customdata[0]}<br>CO2 Total=%{x}<br>Customer Country=%{y}<extra></extra>",
         "legendgroup": "8209012-12",
         "marker": {
          "color": "#636efa",
          "pattern": {
           "shape": ""
          }
         },
         "name": "8209012-12",
         "offsetgroup": "8209012-12",
         "orientation": "h",
         "showlegend": true,
         "textposition": "auto",
         "type": "bar",
         "x": [
          0.0102859488
         ],
         "xaxis": "x",
         "y": [
          "FRANCE"
         ],
         "yaxis": "y"
        },
        {
         "alignmentgroup": "True",
         "customdata": [
          [
           "8209022-22"
          ]
         ],
         "hovertemplate": "Item Code=%{customdata[0]}<br>CO2 Total=%{x}<br>Customer Country=%{y}<extra></extra>",
         "legendgroup": "8209022-22",
         "marker": {
          "color": "#EF553B",
          "pattern": {
           "shape": ""
          }
         },
         "name": "8209022-22",
         "offsetgroup": "8209022-22",
         "orientation": "h",
         "showlegend": true,
         "textposition": "auto",
         "type": "bar",
         "x": [
          0.046872648
         ],
         "xaxis": "x",
         "y": [
          "FRANCE"
         ],
         "yaxis": "y"
        },
        {
         "alignmentgroup": "True",
         "customdata": [
          [
           "8209153-53"
          ]
         ],
         "hovertemplate": "Item Code=%{customdata[0]}<br>CO2 Total=%{x}<br>Customer Country=%{y}<extra></extra>",
         "legendgroup": "8209153-53",
         "marker": {
          "color": "#00cc96",
          "pattern": {
           "shape": ""
          }
         },
         "name": "8209153-53",
         "offsetgroup": "8209153-53",
         "orientation": "h",
         "showlegend": true,
         "textposition": "auto",
         "type": "bar",
         "x": [
          0.0925735392
         ],
         "xaxis": "x",
         "y": [
          "FRANCE"
         ],
         "yaxis": "y"
        },
        {
         "alignmentgroup": "True",
         "customdata": [
          [
           "8209263-63"
          ]
         ],
         "hovertemplate": "Item Code=%{customdata[0]}<br>CO2 Total=%{x}<br>Customer Country=%{y}<extra></extra>",
         "legendgroup": "8209263-63",
         "marker": {
          "color": "#ab63fa",
          "pattern": {
           "shape": ""
          }
         },
         "name": "8209263-63",
         "offsetgroup": "8209263-63",
         "orientation": "h",
         "showlegend": true,
         "textposition": "auto",
         "type": "bar",
         "x": [
          0.0925735392
         ],
         "xaxis": "x",
         "y": [
          "FRANCE"
         ],
         "yaxis": "y"
        },
        {
         "alignmentgroup": "True",
         "customdata": [
          [
           "820958-58"
          ]
         ],
         "hovertemplate": "Item Code=%{customdata[0]}<br>CO2 Total=%{x}<br>Customer Country=%{y}<extra></extra>",
         "legendgroup": "820958-58",
         "marker": {
          "color": "#FFA15A",
          "pattern": {
           "shape": ""
          }
         },
         "name": "820958-58",
         "offsetgroup": "820958-58",
         "orientation": "h",
         "showlegend": true,
         "textposition": "auto",
         "type": "bar",
         "x": [
          0.0331618989311999
         ],
         "xaxis": "x",
         "y": [
          "FRANCE"
         ],
         "yaxis": "y"
        },
        {
         "alignmentgroup": "True",
         "customdata": [
          [
           "8209591-91"
          ]
         ],
         "hovertemplate": "Item Code=%{customdata[0]}<br>CO2 Total=%{x}<br>Customer Country=%{y}<extra></extra>",
         "legendgroup": "8209591-91",
         "marker": {
          "color": "#19d3f3",
          "pattern": {
           "shape": ""
          }
         },
         "name": "8209591-91",
         "offsetgroup": "8209591-91",
         "orientation": "h",
         "showlegend": true,
         "textposition": "auto",
         "type": "bar",
         "x": [
          0.03291503616
         ],
         "xaxis": "x",
         "y": [
          "FRANCE"
         ],
         "yaxis": "y"
        },
        {
         "alignmentgroup": "True",
         "customdata": [
          [
           "8223161-61"
          ]
         ],
         "hovertemplate": "Item Code=%{customdata[0]}<br>CO2 Total=%{x}<br>Customer Country=%{y}<extra></extra>",
         "legendgroup": "8223161-61",
         "marker": {
          "color": "#FF6692",
          "pattern": {
           "shape": ""
          }
         },
         "name": "8223161-61",
         "offsetgroup": "8223161-61",
         "orientation": "h",
         "showlegend": true,
         "textposition": "auto",
         "type": "bar",
         "x": [
          0.08970897024
         ],
         "xaxis": "x",
         "y": [
          "FRANCE"
         ],
         "yaxis": "y"
        },
        {
         "alignmentgroup": "True",
         "customdata": [
          [
           "824755-55"
          ]
         ],
         "hovertemplate": "Item Code=%{customdata[0]}<br>CO2 Total=%{x}<br>Customer Country=%{y}<extra></extra>",
         "legendgroup": "824755-55",
         "marker": {
          "color": "#B6E880",
          "pattern": {
           "shape": ""
          }
         },
         "name": "824755-55",
         "offsetgroup": "824755-55",
         "orientation": "h",
         "showlegend": true,
         "textposition": "auto",
         "type": "bar",
         "x": [
          0.87336265728
         ],
         "xaxis": "x",
         "y": [
          "FRANCE"
         ],
         "yaxis": "y"
        },
        {
         "alignmentgroup": "True",
         "customdata": [
          [
           "824758-58"
          ]
         ],
         "hovertemplate": "Item Code=%{customdata[0]}<br>CO2 Total=%{x}<br>Customer Country=%{y}<extra></extra>",
         "legendgroup": "824758-58",
         "marker": {
          "color": "#FF97FF",
          "pattern": {
           "shape": ""
          }
         },
         "name": "824758-58",
         "offsetgroup": "824758-58",
         "orientation": "h",
         "showlegend": true,
         "textposition": "auto",
         "type": "bar",
         "x": [
          0.1423685222399999
         ],
         "xaxis": "x",
         "y": [
          "FRANCE"
         ],
         "yaxis": "y"
        },
        {
         "alignmentgroup": "True",
         "customdata": [
          [
           "8289641-41"
          ]
         ],
         "hovertemplate": "Item Code=%{customdata[0]}<br>CO2 Total=%{x}<br>Customer Country=%{y}<extra></extra>",
         "legendgroup": "8289641-41",
         "marker": {
          "color": "#FECB52",
          "pattern": {
           "shape": ""
          }
         },
         "name": "8289641-41",
         "offsetgroup": "8289641-41",
         "orientation": "h",
         "showlegend": true,
         "textposition": "auto",
         "type": "bar",
         "x": [
          3.9861087552
         ],
         "xaxis": "x",
         "y": [
          "FRANCE"
         ],
         "yaxis": "y"
        },
        {
         "alignmentgroup": "True",
         "customdata": [
          [
           "8289662-62"
          ]
         ],
         "hovertemplate": "Item Code=%{customdata[0]}<br>CO2 Total=%{x}<br>Customer Country=%{y}<extra></extra>",
         "legendgroup": "8289662-62",
         "marker": {
          "color": "#636efa",
          "pattern": {
           "shape": ""
          }
         },
         "name": "8289662-62",
         "offsetgroup": "8289662-62",
         "orientation": "h",
         "showlegend": true,
         "textposition": "auto",
         "type": "bar",
         "x": [
          8.369493931008
         ],
         "xaxis": "x",
         "y": [
          "FRANCE"
         ],
         "yaxis": "y"
        },
        {
         "alignmentgroup": "True",
         "customdata": [
          [
           "82902912-12"
          ]
         ],
         "hovertemplate": "Item Code=%{customdata[0]}<br>CO2 Total=%{x}<br>Customer Country=%{y}<extra></extra>",
         "legendgroup": "82902912-12",
         "marker": {
          "color": "#EF553B",
          "pattern": {
           "shape": ""
          }
         },
         "name": "82902912-12",
         "offsetgroup": "82902912-12",
         "orientation": "h",
         "showlegend": true,
         "textposition": "auto",
         "type": "bar",
         "x": [
          23.28659962011648
         ],
         "xaxis": "x",
         "y": [
          "FRANCE"
         ],
         "yaxis": "y"
        },
        {
         "alignmentgroup": "True",
         "customdata": [
          [
           "8290302-02"
          ]
         ],
         "hovertemplate": "Item Code=%{customdata[0]}<br>CO2 Total=%{x}<br>Customer Country=%{y}<extra></extra>",
         "legendgroup": "8290302-02",
         "marker": {
          "color": "#00cc96",
          "pattern": {
           "shape": ""
          }
         },
         "name": "8290302-02",
         "offsetgroup": "8290302-02",
         "orientation": "h",
         "showlegend": true,
         "textposition": "auto",
         "type": "bar",
         "x": [
          0.34601309568
         ],
         "xaxis": "x",
         "y": [
          "FRANCE"
         ],
         "yaxis": "y"
        },
        {
         "alignmentgroup": "True",
         "customdata": [
          [
           "8290801-01"
          ]
         ],
         "hovertemplate": "Item Code=%{customdata[0]}<br>CO2 Total=%{x}<br>Customer Country=%{y}<extra></extra>",
         "legendgroup": "8290801-01",
         "marker": {
          "color": "#ab63fa",
          "pattern": {
           "shape": ""
          }
         },
         "name": "8290801-01",
         "offsetgroup": "8290801-01",
         "orientation": "h",
         "showlegend": true,
         "textposition": "auto",
         "type": "bar",
         "x": [
          0.0394945152
         ],
         "xaxis": "x",
         "y": [
          "FRANCE"
         ],
         "yaxis": "y"
        },
        {
         "alignmentgroup": "True",
         "customdata": [
          [
           "8297356-56"
          ]
         ],
         "hovertemplate": "Item Code=%{customdata[0]}<br>CO2 Total=%{x}<br>Customer Country=%{y}<extra></extra>",
         "legendgroup": "8297356-56",
         "marker": {
          "color": "#FFA15A",
          "pattern": {
           "shape": ""
          }
         },
         "name": "8297356-56",
         "offsetgroup": "8297356-56",
         "orientation": "h",
         "showlegend": true,
         "textposition": "auto",
         "type": "bar",
         "x": [
          0.171443232
         ],
         "xaxis": "x",
         "y": [
          "FRANCE"
         ],
         "yaxis": "y"
        },
        {
         "alignmentgroup": "True",
         "customdata": [
          [
           "8297711-11"
          ]
         ],
         "hovertemplate": "Item Code=%{customdata[0]}<br>CO2 Total=%{x}<br>Customer Country=%{y}<extra></extra>",
         "legendgroup": "8297711-11",
         "marker": {
          "color": "#19d3f3",
          "pattern": {
           "shape": ""
          }
         },
         "name": "8297711-11",
         "offsetgroup": "8297711-11",
         "orientation": "h",
         "showlegend": true,
         "textposition": "auto",
         "type": "bar",
         "x": [
          3.3737285237760006
         ],
         "xaxis": "x",
         "y": [
          "FRANCE"
         ],
         "yaxis": "y"
        },
        {
         "alignmentgroup": "True",
         "customdata": [
          [
           "8297732-32"
          ]
         ],
         "hovertemplate": "Item Code=%{customdata[0]}<br>CO2 Total=%{x}<br>Customer Country=%{y}<extra></extra>",
         "legendgroup": "8297732-32",
         "marker": {
          "color": "#FF6692",
          "pattern": {
           "shape": ""
          }
         },
         "name": "8297732-32",
         "offsetgroup": "8297732-32",
         "orientation": "h",
         "showlegend": true,
         "textposition": "auto",
         "type": "bar",
         "x": [
          29.440570099968
         ],
         "xaxis": "x",
         "y": [
          "FRANCE"
         ],
         "yaxis": "y"
        },
        {
         "alignmentgroup": "True",
         "customdata": [
          [
           "8299892-92"
          ]
         ],
         "hovertemplate": "Item Code=%{customdata[0]}<br>CO2 Total=%{x}<br>Customer Country=%{y}<extra></extra>",
         "legendgroup": "8299892-92",
         "marker": {
          "color": "#B6E880",
          "pattern": {
           "shape": ""
          }
         },
         "name": "8299892-92",
         "offsetgroup": "8299892-92",
         "orientation": "h",
         "showlegend": true,
         "textposition": "auto",
         "type": "bar",
         "x": [
          0.128368641024
         ],
         "xaxis": "x",
         "y": [
          "FRANCE"
         ],
         "yaxis": "y"
        },
        {
         "alignmentgroup": "True",
         "customdata": [
          [
           "830622-22"
          ]
         ],
         "hovertemplate": "Item Code=%{customdata[0]}<br>CO2 Total=%{x}<br>Customer Country=%{y}<extra></extra>",
         "legendgroup": "830622-22",
         "marker": {
          "color": "#FF97FF",
          "pattern": {
           "shape": ""
          }
         },
         "name": "830622-22",
         "offsetgroup": "830622-22",
         "orientation": "h",
         "showlegend": true,
         "textposition": "auto",
         "type": "bar",
         "x": [
          44.51057649792
         ],
         "xaxis": "x",
         "y": [
          "FRANCE"
         ],
         "yaxis": "y"
        },
        {
         "alignmentgroup": "True",
         "customdata": [
          [
           "8308581-81"
          ]
         ],
         "hovertemplate": "Item Code=%{customdata[0]}<br>CO2 Total=%{x}<br>Customer Country=%{y}<extra></extra>",
         "legendgroup": "8308581-81",
         "marker": {
          "color": "#FECB52",
          "pattern": {
           "shape": ""
          }
         },
         "name": "8308581-81",
         "offsetgroup": "8308581-81",
         "orientation": "h",
         "showlegend": true,
         "textposition": "auto",
         "type": "bar",
         "x": [
          2.7822979643424004
         ],
         "xaxis": "x",
         "y": [
          "FRANCE"
         ],
         "yaxis": "y"
        },
        {
         "alignmentgroup": "True",
         "customdata": [
          [
           "8308591-91"
          ]
         ],
         "hovertemplate": "Item Code=%{customdata[0]}<br>CO2 Total=%{x}<br>Customer Country=%{y}<extra></extra>",
         "legendgroup": "8308591-91",
         "marker": {
          "color": "#636efa",
          "pattern": {
           "shape": ""
          }
         },
         "name": "8308591-91",
         "offsetgroup": "8308591-91",
         "orientation": "h",
         "showlegend": true,
         "textposition": "auto",
         "type": "bar",
         "x": [
          3.0483578679456
         ],
         "xaxis": "x",
         "y": [
          "FRANCE"
         ],
         "yaxis": "y"
        },
        {
         "alignmentgroup": "True",
         "customdata": [
          [
           "8308601-01"
          ]
         ],
         "hovertemplate": "Item Code=%{customdata[0]}<br>CO2 Total=%{x}<br>Customer Country=%{y}<extra></extra>",
         "legendgroup": "8308601-01",
         "marker": {
          "color": "#EF553B",
          "pattern": {
           "shape": ""
          }
         },
         "name": "8308601-01",
         "offsetgroup": "8308601-01",
         "orientation": "h",
         "showlegend": true,
         "textposition": "auto",
         "type": "bar",
         "x": [
          3.5306124207648
         ],
         "xaxis": "x",
         "y": [
          "FRANCE"
         ],
         "yaxis": "y"
        },
        {
         "alignmentgroup": "True",
         "customdata": [
          [
           "8308611-11"
          ]
         ],
         "hovertemplate": "Item Code=%{customdata[0]}<br>CO2 Total=%{x}<br>Customer Country=%{y}<extra></extra>",
         "legendgroup": "8308611-11",
         "marker": {
          "color": "#00cc96",
          "pattern": {
           "shape": ""
          }
         },
         "name": "8308611-11",
         "offsetgroup": "8308611-11",
         "orientation": "h",
         "showlegend": true,
         "textposition": "auto",
         "type": "bar",
         "x": [
          3.0345441562464006
         ],
         "xaxis": "x",
         "y": [
          "FRANCE"
         ],
         "yaxis": "y"
        },
        {
         "alignmentgroup": "True",
         "customdata": [
          [
           "8308621-21"
          ],
          [
           "8308621-21"
          ]
         ],
         "hovertemplate": "Item Code=%{customdata[0]}<br>CO2 Total=%{x}<br>Customer Country=%{y}<extra></extra>",
         "legendgroup": "8308621-21",
         "marker": {
          "color": "#ab63fa",
          "pattern": {
           "shape": ""
          }
         },
         "name": "8308621-21",
         "offsetgroup": "8308621-21",
         "orientation": "h",
         "showlegend": true,
         "textposition": "auto",
         "type": "bar",
         "x": [
          3.7736467519296,
          0.1409650816
         ],
         "xaxis": "x",
         "y": [
          "FRANCE",
          "UNITED KINGDOM"
         ],
         "yaxis": "y"
        },
        {
         "alignmentgroup": "True",
         "customdata": [
          [
           "830863-63"
          ],
          [
           "830863-63"
          ]
         ],
         "hovertemplate": "Item Code=%{customdata[0]}<br>CO2 Total=%{x}<br>Customer Country=%{y}<extra></extra>",
         "legendgroup": "830863-63",
         "marker": {
          "color": "#FFA15A",
          "pattern": {
           "shape": ""
          }
         },
         "name": "830863-63",
         "offsetgroup": "830863-63",
         "orientation": "h",
         "showlegend": true,
         "textposition": "auto",
         "type": "bar",
         "x": [
          13.061762228889574,
          0.0217419103999999
         ],
         "xaxis": "x",
         "y": [
          "FRANCE",
          "UNITED KINGDOM"
         ],
         "yaxis": "y"
        },
        {
         "alignmentgroup": "True",
         "customdata": [
          [
           "830864-64"
          ]
         ],
         "hovertemplate": "Item Code=%{customdata[0]}<br>CO2 Total=%{x}<br>Customer Country=%{y}<extra></extra>",
         "legendgroup": "830864-64",
         "marker": {
          "color": "#19d3f3",
          "pattern": {
           "shape": ""
          }
         },
         "name": "830864-64",
         "offsetgroup": "830864-64",
         "orientation": "h",
         "showlegend": true,
         "textposition": "auto",
         "type": "bar",
         "x": [
          9.055674727910382
         ],
         "xaxis": "x",
         "y": [
          "FRANCE"
         ],
         "yaxis": "y"
        },
        {
         "alignmentgroup": "True",
         "customdata": [
          [
           "830865-65"
          ],
          [
           "830865-65"
          ]
         ],
         "hovertemplate": "Item Code=%{customdata[0]}<br>CO2 Total=%{x}<br>Customer Country=%{y}<extra></extra>",
         "legendgroup": "830865-65",
         "marker": {
          "color": "#FF6692",
          "pattern": {
           "shape": ""
          }
         },
         "name": "830865-65",
         "offsetgroup": "830865-65",
         "orientation": "h",
         "showlegend": true,
         "textposition": "auto",
         "type": "bar",
         "x": [
          28.29567504380155,
          0.0217419103999999
         ],
         "xaxis": "x",
         "y": [
          "FRANCE",
          "UNITED KINGDOM"
         ],
         "yaxis": "y"
        },
        {
         "alignmentgroup": "True",
         "customdata": [
          [
           "83256610-10"
          ]
         ],
         "hovertemplate": "Item Code=%{customdata[0]}<br>CO2 Total=%{x}<br>Customer Country=%{y}<extra></extra>",
         "legendgroup": "83256610-10",
         "marker": {
          "color": "#B6E880",
          "pattern": {
           "shape": ""
          }
         },
         "name": "83256610-10",
         "offsetgroup": "83256610-10",
         "orientation": "h",
         "showlegend": true,
         "textposition": "auto",
         "type": "bar",
         "x": [
          7.4905143708672
         ],
         "xaxis": "x",
         "y": [
          "FRANCE"
         ],
         "yaxis": "y"
        },
        {
         "alignmentgroup": "True",
         "customdata": [
          [
           "8373609-09"
          ]
         ],
         "hovertemplate": "Item Code=%{customdata[0]}<br>CO2 Total=%{x}<br>Customer Country=%{y}<extra></extra>",
         "legendgroup": "8373609-09",
         "marker": {
          "color": "#FF97FF",
          "pattern": {
           "shape": ""
          }
         },
         "name": "8373609-09",
         "offsetgroup": "8373609-09",
         "orientation": "h",
         "showlegend": true,
         "textposition": "auto",
         "type": "bar",
         "x": [
          0.09891654096
         ],
         "xaxis": "x",
         "y": [
          "FRANCE"
         ],
         "yaxis": "y"
        },
        {
         "alignmentgroup": "True",
         "customdata": [
          [
           "8373619-19"
          ]
         ],
         "hovertemplate": "Item Code=%{customdata[0]}<br>CO2 Total=%{x}<br>Customer Country=%{y}<extra></extra>",
         "legendgroup": "8373619-19",
         "marker": {
          "color": "#FECB52",
          "pattern": {
           "shape": ""
          }
         },
         "name": "8373619-19",
         "offsetgroup": "8373619-19",
         "orientation": "h",
         "showlegend": true,
         "textposition": "auto",
         "type": "bar",
         "x": [
          0.19783308192
         ],
         "xaxis": "x",
         "y": [
          "FRANCE"
         ],
         "yaxis": "y"
        },
        {
         "alignmentgroup": "True",
         "customdata": [
          [
           "8373629-29"
          ]
         ],
         "hovertemplate": "Item Code=%{customdata[0]}<br>CO2 Total=%{x}<br>Customer Country=%{y}<extra></extra>",
         "legendgroup": "8373629-29",
         "marker": {
          "color": "#636efa",
          "pattern": {
           "shape": ""
          }
         },
         "name": "8373629-29",
         "offsetgroup": "8373629-29",
         "orientation": "h",
         "showlegend": true,
         "textposition": "auto",
         "type": "bar",
         "x": [
          0.09891654096
         ],
         "xaxis": "x",
         "y": [
          "FRANCE"
         ],
         "yaxis": "y"
        },
        {
         "alignmentgroup": "True",
         "customdata": [
          [
           "8373831-31"
          ]
         ],
         "hovertemplate": "Item Code=%{customdata[0]}<br>CO2 Total=%{x}<br>Customer Country=%{y}<extra></extra>",
         "legendgroup": "8373831-31",
         "marker": {
          "color": "#EF553B",
          "pattern": {
           "shape": ""
          }
         },
         "name": "8373831-31",
         "offsetgroup": "8373831-31",
         "orientation": "h",
         "showlegend": true,
         "textposition": "auto",
         "type": "bar",
         "x": [
          0.04704632832
         ],
         "xaxis": "x",
         "y": [
          "FRANCE"
         ],
         "yaxis": "y"
        },
        {
         "alignmentgroup": "True",
         "customdata": [
          [
           "837394-94"
          ]
         ],
         "hovertemplate": "Item Code=%{customdata[0]}<br>CO2 Total=%{x}<br>Customer Country=%{y}<extra></extra>",
         "legendgroup": "837394-94",
         "marker": {
          "color": "#00cc96",
          "pattern": {
           "shape": ""
          }
         },
         "name": "837394-94",
         "offsetgroup": "837394-94",
         "orientation": "h",
         "showlegend": true,
         "textposition": "auto",
         "type": "bar",
         "x": [
          0.12094564608
         ],
         "xaxis": "x",
         "y": [
          "FRANCE"
         ],
         "yaxis": "y"
        },
        {
         "alignmentgroup": "True",
         "customdata": [
          [
           "837395-95"
          ]
         ],
         "hovertemplate": "Item Code=%{customdata[0]}<br>CO2 Total=%{x}<br>Customer Country=%{y}<extra></extra>",
         "legendgroup": "837395-95",
         "marker": {
          "color": "#ab63fa",
          "pattern": {
           "shape": ""
          }
         },
         "name": "837395-95",
         "offsetgroup": "837395-95",
         "orientation": "h",
         "showlegend": true,
         "textposition": "auto",
         "type": "bar",
         "x": [
          0.14225505024
         ],
         "xaxis": "x",
         "y": [
          "FRANCE"
         ],
         "yaxis": "y"
        },
        {
         "alignmentgroup": "True",
         "customdata": [
          [
           "837396-96"
          ],
          [
           "837396-96"
          ]
         ],
         "hovertemplate": "Item Code=%{customdata[0]}<br>CO2 Total=%{x}<br>Customer Country=%{y}<extra></extra>",
         "legendgroup": "837396-96",
         "marker": {
          "color": "#FFA15A",
          "pattern": {
           "shape": ""
          }
         },
         "name": "837396-96",
         "offsetgroup": "837396-96",
         "orientation": "h",
         "showlegend": true,
         "textposition": "auto",
         "type": "bar",
         "x": [
          10.6797669888,
          33.363456000000006
         ],
         "xaxis": "x",
         "y": [
          "FRANCE",
          "GERMANY"
         ],
         "yaxis": "y"
        },
        {
         "alignmentgroup": "True",
         "customdata": [
          [
           "8373961-61"
          ],
          [
           "8373961-61"
          ]
         ],
         "hovertemplate": "Item Code=%{customdata[0]}<br>CO2 Total=%{x}<br>Customer Country=%{y}<extra></extra>",
         "legendgroup": "8373961-61",
         "marker": {
          "color": "#19d3f3",
          "pattern": {
           "shape": ""
          }
         },
         "name": "8373961-61",
         "offsetgroup": "8373961-61",
         "orientation": "h",
         "showlegend": true,
         "textposition": "auto",
         "type": "bar",
         "x": [
          0.8805748703231964,
          6.855845068799972
         ],
         "xaxis": "x",
         "y": [
          "FRANCE",
          "GERMANY"
         ],
         "yaxis": "y"
        },
        {
         "alignmentgroup": "True",
         "customdata": [
          [
           "8413542-42"
          ]
         ],
         "hovertemplate": "Item Code=%{customdata[0]}<br>CO2 Total=%{x}<br>Customer Country=%{y}<extra></extra>",
         "legendgroup": "8413542-42",
         "marker": {
          "color": "#FF6692",
          "pattern": {
           "shape": ""
          }
         },
         "name": "8413542-42",
         "offsetgroup": "8413542-42",
         "orientation": "h",
         "showlegend": true,
         "textposition": "auto",
         "type": "bar",
         "x": [
          3.72217317888
         ],
         "xaxis": "x",
         "y": [
          "FRANCE"
         ],
         "yaxis": "y"
        },
        {
         "alignmentgroup": "True",
         "customdata": [
          [
           "8413543-43"
          ]
         ],
         "hovertemplate": "Item Code=%{customdata[0]}<br>CO2 Total=%{x}<br>Customer Country=%{y}<extra></extra>",
         "legendgroup": "8413543-43",
         "marker": {
          "color": "#B6E880",
          "pattern": {
           "shape": ""
          }
         },
         "name": "8413543-43",
         "offsetgroup": "8413543-43",
         "orientation": "h",
         "showlegend": true,
         "textposition": "auto",
         "type": "bar",
         "x": [
          3.76183861248
         ],
         "xaxis": "x",
         "y": [
          "FRANCE"
         ],
         "yaxis": "y"
        },
        {
         "alignmentgroup": "True",
         "customdata": [
          [
           "841360-60"
          ]
         ],
         "hovertemplate": "Item Code=%{customdata[0]}<br>CO2 Total=%{x}<br>Customer Country=%{y}<extra></extra>",
         "legendgroup": "841360-60",
         "marker": {
          "color": "#FF97FF",
          "pattern": {
           "shape": ""
          }
         },
         "name": "841360-60",
         "offsetgroup": "841360-60",
         "orientation": "h",
         "showlegend": true,
         "textposition": "auto",
         "type": "bar",
         "x": [
          82.247821344
         ],
         "xaxis": "x",
         "y": [
          "FRANCE"
         ],
         "yaxis": "y"
        },
        {
         "alignmentgroup": "True",
         "customdata": [
          [
           "841362-62"
          ]
         ],
         "hovertemplate": "Item Code=%{customdata[0]}<br>CO2 Total=%{x}<br>Customer Country=%{y}<extra></extra>",
         "legendgroup": "841362-62",
         "marker": {
          "color": "#FECB52",
          "pattern": {
           "shape": ""
          }
         },
         "name": "841362-62",
         "offsetgroup": "841362-62",
         "orientation": "h",
         "showlegend": true,
         "textposition": "auto",
         "type": "bar",
         "x": [
          50.498427248640006
         ],
         "xaxis": "x",
         "y": [
          "FRANCE"
         ],
         "yaxis": "y"
        },
        {
         "alignmentgroup": "True",
         "customdata": [
          [
           "841369-69"
          ]
         ],
         "hovertemplate": "Item Code=%{customdata[0]}<br>CO2 Total=%{x}<br>Customer Country=%{y}<extra></extra>",
         "legendgroup": "841369-69",
         "marker": {
          "color": "#636efa",
          "pattern": {
           "shape": ""
          }
         },
         "name": "841369-69",
         "offsetgroup": "841369-69",
         "orientation": "h",
         "showlegend": true,
         "textposition": "auto",
         "type": "bar",
         "x": [
          0.094493582976
         ],
         "xaxis": "x",
         "y": [
          "FRANCE"
         ],
         "yaxis": "y"
        },
        {
         "alignmentgroup": "True",
         "customdata": [
          [
           "841800-00"
          ]
         ],
         "hovertemplate": "Item Code=%{customdata[0]}<br>CO2 Total=%{x}<br>Customer Country=%{y}<extra></extra>",
         "legendgroup": "841800-00",
         "marker": {
          "color": "#EF553B",
          "pattern": {
           "shape": ""
          }
         },
         "name": "841800-00",
         "offsetgroup": "841800-00",
         "orientation": "h",
         "showlegend": true,
         "textposition": "auto",
         "type": "bar",
         "x": [
          15.54150072
         ],
         "xaxis": "x",
         "y": [
          "FRANCE"
         ],
         "yaxis": "y"
        },
        {
         "alignmentgroup": "True",
         "customdata": [
          [
           "8418133-33"
          ]
         ],
         "hovertemplate": "Item Code=%{customdata[0]}<br>CO2 Total=%{x}<br>Customer Country=%{y}<extra></extra>",
         "legendgroup": "8418133-33",
         "marker": {
          "color": "#00cc96",
          "pattern": {
           "shape": ""
          }
         },
         "name": "8418133-33",
         "offsetgroup": "8418133-33",
         "orientation": "h",
         "showlegend": true,
         "textposition": "auto",
         "type": "bar",
         "x": [
          0.039523758264
         ],
         "xaxis": "x",
         "y": [
          "FRANCE"
         ],
         "yaxis": "y"
        },
        {
         "alignmentgroup": "True",
         "customdata": [
          [
           "8418203-03"
          ]
         ],
         "hovertemplate": "Item Code=%{customdata[0]}<br>CO2 Total=%{x}<br>Customer Country=%{y}<extra></extra>",
         "legendgroup": "8418203-03",
         "marker": {
          "color": "#ab63fa",
          "pattern": {
           "shape": ""
          }
         },
         "name": "8418203-03",
         "offsetgroup": "8418203-03",
         "orientation": "h",
         "showlegend": true,
         "textposition": "auto",
         "type": "bar",
         "x": [
          0.039523758264
         ],
         "xaxis": "x",
         "y": [
          "FRANCE"
         ],
         "yaxis": "y"
        },
        {
         "alignmentgroup": "True",
         "customdata": [
          [
           "8418361-61"
          ]
         ],
         "hovertemplate": "Item Code=%{customdata[0]}<br>CO2 Total=%{x}<br>Customer Country=%{y}<extra></extra>",
         "legendgroup": "8418361-61",
         "marker": {
          "color": "#FFA15A",
          "pattern": {
           "shape": ""
          }
         },
         "name": "8418361-61",
         "offsetgroup": "8418361-61",
         "orientation": "h",
         "showlegend": true,
         "textposition": "auto",
         "type": "bar",
         "x": [
          0.13935921792
         ],
         "xaxis": "x",
         "y": [
          "FRANCE"
         ],
         "yaxis": "y"
        },
        {
         "alignmentgroup": "True",
         "customdata": [
          [
           "841841-41"
          ]
         ],
         "hovertemplate": "Item Code=%{customdata[0]}<br>CO2 Total=%{x}<br>Customer Country=%{y}<extra></extra>",
         "legendgroup": "841841-41",
         "marker": {
          "color": "#19d3f3",
          "pattern": {
           "shape": ""
          }
         },
         "name": "841841-41",
         "offsetgroup": "841841-41",
         "orientation": "h",
         "showlegend": true,
         "textposition": "auto",
         "type": "bar",
         "x": [
          0.05760131328
         ],
         "xaxis": "x",
         "y": [
          "FRANCE"
         ],
         "yaxis": "y"
        },
        {
         "alignmentgroup": "True",
         "customdata": [
          [
           "841842-42"
          ]
         ],
         "hovertemplate": "Item Code=%{customdata[0]}<br>CO2 Total=%{x}<br>Customer Country=%{y}<extra></extra>",
         "legendgroup": "841842-42",
         "marker": {
          "color": "#FF6692",
          "pattern": {
           "shape": ""
          }
         },
         "name": "841842-42",
         "offsetgroup": "841842-42",
         "orientation": "h",
         "showlegend": true,
         "textposition": "auto",
         "type": "bar",
         "x": [
          0.02880065664
         ],
         "xaxis": "x",
         "y": [
          "FRANCE"
         ],
         "yaxis": "y"
        },
        {
         "alignmentgroup": "True",
         "customdata": [
          [
           "844345-45"
          ]
         ],
         "hovertemplate": "Item Code=%{customdata[0]}<br>CO2 Total=%{x}<br>Customer Country=%{y}<extra></extra>",
         "legendgroup": "844345-45",
         "marker": {
          "color": "#B6E880",
          "pattern": {
           "shape": ""
          }
         },
         "name": "844345-45",
         "offsetgroup": "844345-45",
         "orientation": "h",
         "showlegend": true,
         "textposition": "auto",
         "type": "bar",
         "x": [
          0.0112841472
         ],
         "xaxis": "x",
         "y": [
          "FRANCE"
         ],
         "yaxis": "y"
        },
        {
         "alignmentgroup": "True",
         "customdata": [
          [
           "8444743-43"
          ]
         ],
         "hovertemplate": "Item Code=%{customdata[0]}<br>CO2 Total=%{x}<br>Customer Country=%{y}<extra></extra>",
         "legendgroup": "8444743-43",
         "marker": {
          "color": "#FF97FF",
          "pattern": {
           "shape": ""
          }
         },
         "name": "8444743-43",
         "offsetgroup": "8444743-43",
         "orientation": "h",
         "showlegend": true,
         "textposition": "auto",
         "type": "bar",
         "x": [
          0.0361384704
         ],
         "xaxis": "x",
         "y": [
          "FRANCE"
         ],
         "yaxis": "y"
        },
        {
         "alignmentgroup": "True",
         "customdata": [
          [
           "847898-98"
          ]
         ],
         "hovertemplate": "Item Code=%{customdata[0]}<br>CO2 Total=%{x}<br>Customer Country=%{y}<extra></extra>",
         "legendgroup": "847898-98",
         "marker": {
          "color": "#FECB52",
          "pattern": {
           "shape": ""
          }
         },
         "name": "847898-98",
         "offsetgroup": "847898-98",
         "orientation": "h",
         "showlegend": true,
         "textposition": "auto",
         "type": "bar",
         "x": [
          0.0244160735039999
         ],
         "xaxis": "x",
         "y": [
          "FRANCE"
         ],
         "yaxis": "y"
        },
        {
         "alignmentgroup": "True",
         "customdata": [
          [
           "8479004-04"
          ]
         ],
         "hovertemplate": "Item Code=%{customdata[0]}<br>CO2 Total=%{x}<br>Customer Country=%{y}<extra></extra>",
         "legendgroup": "8479004-04",
         "marker": {
          "color": "#636efa",
          "pattern": {
           "shape": ""
          }
         },
         "name": "8479004-04",
         "offsetgroup": "8479004-04",
         "orientation": "h",
         "showlegend": true,
         "textposition": "auto",
         "type": "bar",
         "x": [
          4.6422878841215995
         ],
         "xaxis": "x",
         "y": [
          "FRANCE"
         ],
         "yaxis": "y"
        },
        {
         "alignmentgroup": "True",
         "customdata": [
          [
           "8481511-11"
          ]
         ],
         "hovertemplate": "Item Code=%{customdata[0]}<br>CO2 Total=%{x}<br>Customer Country=%{y}<extra></extra>",
         "legendgroup": "8481511-11",
         "marker": {
          "color": "#EF553B",
          "pattern": {
           "shape": ""
          }
         },
         "name": "8481511-11",
         "offsetgroup": "8481511-11",
         "orientation": "h",
         "showlegend": true,
         "textposition": "auto",
         "type": "bar",
         "x": [
          0.17257851648
         ],
         "xaxis": "x",
         "y": [
          "FRANCE"
         ],
         "yaxis": "y"
        },
        {
         "alignmentgroup": "True",
         "customdata": [
          [
           "8481541-41"
          ]
         ],
         "hovertemplate": "Item Code=%{customdata[0]}<br>CO2 Total=%{x}<br>Customer Country=%{y}<extra></extra>",
         "legendgroup": "8481541-41",
         "marker": {
          "color": "#00cc96",
          "pattern": {
           "shape": ""
          }
         },
         "name": "8481541-41",
         "offsetgroup": "8481541-41",
         "orientation": "h",
         "showlegend": true,
         "textposition": "auto",
         "type": "bar",
         "x": [
          0.23717038080000002
         ],
         "xaxis": "x",
         "y": [
          "FRANCE"
         ],
         "yaxis": "y"
        },
        {
         "alignmentgroup": "True",
         "customdata": [
          [
           "8481542-42"
          ]
         ],
         "hovertemplate": "Item Code=%{customdata[0]}<br>CO2 Total=%{x}<br>Customer Country=%{y}<extra></extra>",
         "legendgroup": "8481542-42",
         "marker": {
          "color": "#ab63fa",
          "pattern": {
           "shape": ""
          }
         },
         "name": "8481542-42",
         "offsetgroup": "8481542-42",
         "orientation": "h",
         "showlegend": true,
         "textposition": "auto",
         "type": "bar",
         "x": [
          0.033075072
         ],
         "xaxis": "x",
         "y": [
          "FRANCE"
         ],
         "yaxis": "y"
        },
        {
         "alignmentgroup": "True",
         "customdata": [
          [
           "848217-17"
          ]
         ],
         "hovertemplate": "Item Code=%{customdata[0]}<br>CO2 Total=%{x}<br>Customer Country=%{y}<extra></extra>",
         "legendgroup": "848217-17",
         "marker": {
          "color": "#FFA15A",
          "pattern": {
           "shape": ""
          }
         },
         "name": "848217-17",
         "offsetgroup": "848217-17",
         "orientation": "h",
         "showlegend": true,
         "textposition": "auto",
         "type": "bar",
         "x": [
          3.3061531368
         ],
         "xaxis": "x",
         "y": [
          "FRANCE"
         ],
         "yaxis": "y"
        },
        {
         "alignmentgroup": "True",
         "customdata": [
          [
           "848267-67"
          ]
         ],
         "hovertemplate": "Item Code=%{customdata[0]}<br>CO2 Total=%{x}<br>Customer Country=%{y}<extra></extra>",
         "legendgroup": "848267-67",
         "marker": {
          "color": "#19d3f3",
          "pattern": {
           "shape": ""
          }
         },
         "name": "848267-67",
         "offsetgroup": "848267-67",
         "orientation": "h",
         "showlegend": true,
         "textposition": "auto",
         "type": "bar",
         "x": [
          2.9960009971200003
         ],
         "xaxis": "x",
         "y": [
          "FRANCE"
         ],
         "yaxis": "y"
        },
        {
         "alignmentgroup": "True",
         "customdata": [
          [
           "8507322-22"
          ]
         ],
         "hovertemplate": "Item Code=%{customdata[0]}<br>CO2 Total=%{x}<br>Customer Country=%{y}<extra></extra>",
         "legendgroup": "8507322-22",
         "marker": {
          "color": "#FF6692",
          "pattern": {
           "shape": ""
          }
         },
         "name": "8507322-22",
         "offsetgroup": "8507322-22",
         "orientation": "h",
         "showlegend": true,
         "textposition": "auto",
         "type": "bar",
         "x": [
          0.0083502689279999
         ],
         "xaxis": "x",
         "y": [
          "FRANCE"
         ],
         "yaxis": "y"
        },
        {
         "alignmentgroup": "True",
         "customdata": [
          [
           "854235-35"
          ]
         ],
         "hovertemplate": "Item Code=%{customdata[0]}<br>CO2 Total=%{x}<br>Customer Country=%{y}<extra></extra>",
         "legendgroup": "854235-35",
         "marker": {
          "color": "#B6E880",
          "pattern": {
           "shape": ""
          }
         },
         "name": "854235-35",
         "offsetgroup": "854235-35",
         "orientation": "h",
         "showlegend": true,
         "textposition": "auto",
         "type": "bar",
         "x": [
          0.06985526016
         ],
         "xaxis": "x",
         "y": [
          "FRANCE"
         ],
         "yaxis": "y"
        },
        {
         "alignmentgroup": "True",
         "customdata": [
          [
           "854236-36"
          ]
         ],
         "hovertemplate": "Item Code=%{customdata[0]}<br>CO2 Total=%{x}<br>Customer Country=%{y}<extra></extra>",
         "legendgroup": "854236-36",
         "marker": {
          "color": "#FF97FF",
          "pattern": {
           "shape": ""
          }
         },
         "name": "854236-36",
         "offsetgroup": "854236-36",
         "orientation": "h",
         "showlegend": true,
         "textposition": "auto",
         "type": "bar",
         "x": [
          0.03492763008
         ],
         "xaxis": "x",
         "y": [
          "FRANCE"
         ],
         "yaxis": "y"
        },
        {
         "alignmentgroup": "True",
         "customdata": [
          [
           "8571482-82"
          ]
         ],
         "hovertemplate": "Item Code=%{customdata[0]}<br>CO2 Total=%{x}<br>Customer Country=%{y}<extra></extra>",
         "legendgroup": "8571482-82",
         "marker": {
          "color": "#FECB52",
          "pattern": {
           "shape": ""
          }
         },
         "name": "8571482-82",
         "offsetgroup": "8571482-82",
         "orientation": "h",
         "showlegend": true,
         "textposition": "auto",
         "type": "bar",
         "x": [
          3.4140997618559985
         ],
         "xaxis": "x",
         "y": [
          "FRANCE"
         ],
         "yaxis": "y"
        },
        {
         "alignmentgroup": "True",
         "customdata": [
          [
           "8575613-13"
          ]
         ],
         "hovertemplate": "Item Code=%{customdata[0]}<br>CO2 Total=%{x}<br>Customer Country=%{y}<extra></extra>",
         "legendgroup": "8575613-13",
         "marker": {
          "color": "#636efa",
          "pattern": {
           "shape": ""
          }
         },
         "name": "8575613-13",
         "offsetgroup": "8575613-13",
         "orientation": "h",
         "showlegend": true,
         "textposition": "auto",
         "type": "bar",
         "x": [
          0.05508487296
         ],
         "xaxis": "x",
         "y": [
          "FRANCE"
         ],
         "yaxis": "y"
        },
        {
         "alignmentgroup": "True",
         "customdata": [
          [
           "8575614-14"
          ]
         ],
         "hovertemplate": "Item Code=%{customdata[0]}<br>CO2 Total=%{x}<br>Customer Country=%{y}<extra></extra>",
         "legendgroup": "8575614-14",
         "marker": {
          "color": "#EF553B",
          "pattern": {
           "shape": ""
          }
         },
         "name": "8575614-14",
         "offsetgroup": "8575614-14",
         "orientation": "h",
         "showlegend": true,
         "textposition": "auto",
         "type": "bar",
         "x": [
          4.175038473984
         ],
         "xaxis": "x",
         "y": [
          "FRANCE"
         ],
         "yaxis": "y"
        },
        {
         "alignmentgroup": "True",
         "customdata": [
          [
           "8575624-24"
          ]
         ],
         "hovertemplate": "Item Code=%{customdata[0]}<br>CO2 Total=%{x}<br>Customer Country=%{y}<extra></extra>",
         "legendgroup": "8575624-24",
         "marker": {
          "color": "#00cc96",
          "pattern": {
           "shape": ""
          }
         },
         "name": "8575624-24",
         "offsetgroup": "8575624-24",
         "orientation": "h",
         "showlegend": true,
         "textposition": "auto",
         "type": "bar",
         "x": [
          0.795237714432
         ],
         "xaxis": "x",
         "y": [
          "FRANCE"
         ],
         "yaxis": "y"
        },
        {
         "alignmentgroup": "True",
         "customdata": [
          [
           "857595-95"
          ]
         ],
         "hovertemplate": "Item Code=%{customdata[0]}<br>CO2 Total=%{x}<br>Customer Country=%{y}<extra></extra>",
         "legendgroup": "857595-95",
         "marker": {
          "color": "#ab63fa",
          "pattern": {
           "shape": ""
          }
         },
         "name": "857595-95",
         "offsetgroup": "857595-95",
         "orientation": "h",
         "showlegend": true,
         "textposition": "auto",
         "type": "bar",
         "x": [
          0.0188575728
         ],
         "xaxis": "x",
         "y": [
          "FRANCE"
         ],
         "yaxis": "y"
        },
        {
         "alignmentgroup": "True",
         "customdata": [
          [
           "857600-00"
          ]
         ],
         "hovertemplate": "Item Code=%{customdata[0]}<br>CO2 Total=%{x}<br>Customer Country=%{y}<extra></extra>",
         "legendgroup": "857600-00",
         "marker": {
          "color": "#FFA15A",
          "pattern": {
           "shape": ""
          }
         },
         "name": "857600-00",
         "offsetgroup": "857600-00",
         "orientation": "h",
         "showlegend": true,
         "textposition": "auto",
         "type": "bar",
         "x": [
          0.02262908736
         ],
         "xaxis": "x",
         "y": [
          "FRANCE"
         ],
         "yaxis": "y"
        },
        {
         "alignmentgroup": "True",
         "customdata": [
          [
           "861126-26"
          ]
         ],
         "hovertemplate": "Item Code=%{customdata[0]}<br>CO2 Total=%{x}<br>Customer Country=%{y}<extra></extra>",
         "legendgroup": "861126-26",
         "marker": {
          "color": "#19d3f3",
          "pattern": {
           "shape": ""
          }
         },
         "name": "861126-26",
         "offsetgroup": "861126-26",
         "orientation": "h",
         "showlegend": true,
         "textposition": "auto",
         "type": "bar",
         "x": [
          0.438814764
         ],
         "xaxis": "x",
         "y": [
          "FRANCE"
         ],
         "yaxis": "y"
        },
        {
         "alignmentgroup": "True",
         "customdata": [
          [
           "861127-27"
          ]
         ],
         "hovertemplate": "Item Code=%{customdata[0]}<br>CO2 Total=%{x}<br>Customer Country=%{y}<extra></extra>",
         "legendgroup": "861127-27",
         "marker": {
          "color": "#FF6692",
          "pattern": {
           "shape": ""
          }
         },
         "name": "861127-27",
         "offsetgroup": "861127-27",
         "orientation": "h",
         "showlegend": true,
         "textposition": "auto",
         "type": "bar",
         "x": [
          0.156105
         ],
         "xaxis": "x",
         "y": [
          "FRANCE"
         ],
         "yaxis": "y"
        },
        {
         "alignmentgroup": "True",
         "customdata": [
          [
           "861128-28"
          ]
         ],
         "hovertemplate": "Item Code=%{customdata[0]}<br>CO2 Total=%{x}<br>Customer Country=%{y}<extra></extra>",
         "legendgroup": "861128-28",
         "marker": {
          "color": "#B6E880",
          "pattern": {
           "shape": ""
          }
         },
         "name": "861128-28",
         "offsetgroup": "861128-28",
         "orientation": "h",
         "showlegend": true,
         "textposition": "auto",
         "type": "bar",
         "x": [
          0.546818508
         ],
         "xaxis": "x",
         "y": [
          "FRANCE"
         ],
         "yaxis": "y"
        },
        {
         "alignmentgroup": "True",
         "customdata": [
          [
           "861129-29"
          ]
         ],
         "hovertemplate": "Item Code=%{customdata[0]}<br>CO2 Total=%{x}<br>Customer Country=%{y}<extra></extra>",
         "legendgroup": "861129-29",
         "marker": {
          "color": "#FF97FF",
          "pattern": {
           "shape": ""
          }
         },
         "name": "861129-29",
         "offsetgroup": "861129-29",
         "orientation": "h",
         "showlegend": true,
         "textposition": "auto",
         "type": "bar",
         "x": [
          0.154307484
         ],
         "xaxis": "x",
         "y": [
          "FRANCE"
         ],
         "yaxis": "y"
        },
        {
         "alignmentgroup": "True",
         "customdata": [
          [
           "861130-30"
          ]
         ],
         "hovertemplate": "Item Code=%{customdata[0]}<br>CO2 Total=%{x}<br>Customer Country=%{y}<extra></extra>",
         "legendgroup": "861130-30",
         "marker": {
          "color": "#FECB52",
          "pattern": {
           "shape": ""
          }
         },
         "name": "861130-30",
         "offsetgroup": "861130-30",
         "orientation": "h",
         "showlegend": true,
         "textposition": "auto",
         "type": "bar",
         "x": [
          1.343240712
         ],
         "xaxis": "x",
         "y": [
          "FRANCE"
         ],
         "yaxis": "y"
        },
        {
         "alignmentgroup": "True",
         "customdata": [
          [
           "861131-31"
          ]
         ],
         "hovertemplate": "Item Code=%{customdata[0]}<br>CO2 Total=%{x}<br>Customer Country=%{y}<extra></extra>",
         "legendgroup": "861131-31",
         "marker": {
          "color": "#636efa",
          "pattern": {
           "shape": ""
          }
         },
         "name": "861131-31",
         "offsetgroup": "861131-31",
         "orientation": "h",
         "showlegend": true,
         "textposition": "auto",
         "type": "bar",
         "x": [
          0.13035654
         ],
         "xaxis": "x",
         "y": [
          "FRANCE"
         ],
         "yaxis": "y"
        },
        {
         "alignmentgroup": "True",
         "customdata": [
          [
           "861132-32"
          ]
         ],
         "hovertemplate": "Item Code=%{customdata[0]}<br>CO2 Total=%{x}<br>Customer Country=%{y}<extra></extra>",
         "legendgroup": "861132-32",
         "marker": {
          "color": "#EF553B",
          "pattern": {
           "shape": ""
          }
         },
         "name": "861132-32",
         "offsetgroup": "861132-32",
         "orientation": "h",
         "showlegend": true,
         "textposition": "auto",
         "type": "bar",
         "x": [
          0.061934435999999995
         ],
         "xaxis": "x",
         "y": [
          "FRANCE"
         ],
         "yaxis": "y"
        },
        {
         "alignmentgroup": "True",
         "customdata": [
          [
           "861133-33"
          ]
         ],
         "hovertemplate": "Item Code=%{customdata[0]}<br>CO2 Total=%{x}<br>Customer Country=%{y}<extra></extra>",
         "legendgroup": "861133-33",
         "marker": {
          "color": "#00cc96",
          "pattern": {
           "shape": ""
          }
         },
         "name": "861133-33",
         "offsetgroup": "861133-33",
         "orientation": "h",
         "showlegend": true,
         "textposition": "auto",
         "type": "bar",
         "x": [
          0.527751864
         ],
         "xaxis": "x",
         "y": [
          "FRANCE"
         ],
         "yaxis": "y"
        },
        {
         "alignmentgroup": "True",
         "customdata": [
          [
           "861134-34"
          ]
         ],
         "hovertemplate": "Item Code=%{customdata[0]}<br>CO2 Total=%{x}<br>Customer Country=%{y}<extra></extra>",
         "legendgroup": "861134-34",
         "marker": {
          "color": "#ab63fa",
          "pattern": {
           "shape": ""
          }
         },
         "name": "861134-34",
         "offsetgroup": "861134-34",
         "orientation": "h",
         "showlegend": true,
         "textposition": "auto",
         "type": "bar",
         "x": [
          0.041262516
         ],
         "xaxis": "x",
         "y": [
          "FRANCE"
         ],
         "yaxis": "y"
        },
        {
         "alignmentgroup": "True",
         "customdata": [
          [
           "862154-54"
          ]
         ],
         "hovertemplate": "Item Code=%{customdata[0]}<br>CO2 Total=%{x}<br>Customer Country=%{y}<extra></extra>",
         "legendgroup": "862154-54",
         "marker": {
          "color": "#FFA15A",
          "pattern": {
           "shape": ""
          }
         },
         "name": "862154-54",
         "offsetgroup": "862154-54",
         "orientation": "h",
         "showlegend": true,
         "textposition": "auto",
         "type": "bar",
         "x": [
          0.00036754944
         ],
         "xaxis": "x",
         "y": [
          "FRANCE"
         ],
         "yaxis": "y"
        },
        {
         "alignmentgroup": "True",
         "customdata": [
          [
           "8622242-42"
          ]
         ],
         "hovertemplate": "Item Code=%{customdata[0]}<br>CO2 Total=%{x}<br>Customer Country=%{y}<extra></extra>",
         "legendgroup": "8622242-42",
         "marker": {
          "color": "#19d3f3",
          "pattern": {
           "shape": ""
          }
         },
         "name": "8622242-42",
         "offsetgroup": "8622242-42",
         "orientation": "h",
         "showlegend": true,
         "textposition": "auto",
         "type": "bar",
         "x": [
          0.5687904767999999
         ],
         "xaxis": "x",
         "y": [
          "FRANCE"
         ],
         "yaxis": "y"
        },
        {
         "alignmentgroup": "True",
         "customdata": [
          [
           "862261-61"
          ]
         ],
         "hovertemplate": "Item Code=%{customdata[0]}<br>CO2 Total=%{x}<br>Customer Country=%{y}<extra></extra>",
         "legendgroup": "862261-61",
         "marker": {
          "color": "#FF6692",
          "pattern": {
           "shape": ""
          }
         },
         "name": "862261-61",
         "offsetgroup": "862261-61",
         "orientation": "h",
         "showlegend": true,
         "textposition": "auto",
         "type": "bar",
         "x": [
          0.0817306543872
         ],
         "xaxis": "x",
         "y": [
          "FRANCE"
         ],
         "yaxis": "y"
        },
        {
         "alignmentgroup": "True",
         "customdata": [
          [
           "862275-75"
          ]
         ],
         "hovertemplate": "Item Code=%{customdata[0]}<br>CO2 Total=%{x}<br>Customer Country=%{y}<extra></extra>",
         "legendgroup": "862275-75",
         "marker": {
          "color": "#B6E880",
          "pattern": {
           "shape": ""
          }
         },
         "name": "862275-75",
         "offsetgroup": "862275-75",
         "orientation": "h",
         "showlegend": true,
         "textposition": "auto",
         "type": "bar",
         "x": [
          0.785496511872
         ],
         "xaxis": "x",
         "y": [
          "FRANCE"
         ],
         "yaxis": "y"
        },
        {
         "alignmentgroup": "True",
         "customdata": [
          [
           "862286-86"
          ]
         ],
         "hovertemplate": "Item Code=%{customdata[0]}<br>CO2 Total=%{x}<br>Customer Country=%{y}<extra></extra>",
         "legendgroup": "862286-86",
         "marker": {
          "color": "#FF97FF",
          "pattern": {
           "shape": ""
          }
         },
         "name": "862286-86",
         "offsetgroup": "862286-86",
         "orientation": "h",
         "showlegend": true,
         "textposition": "auto",
         "type": "bar",
         "x": [
          0.1826181
         ],
         "xaxis": "x",
         "y": [
          "FRANCE"
         ],
         "yaxis": "y"
        },
        {
         "alignmentgroup": "True",
         "customdata": [
          [
           "866370-70"
          ]
         ],
         "hovertemplate": "Item Code=%{customdata[0]}<br>CO2 Total=%{x}<br>Customer Country=%{y}<extra></extra>",
         "legendgroup": "866370-70",
         "marker": {
          "color": "#FECB52",
          "pattern": {
           "shape": ""
          }
         },
         "name": "866370-70",
         "offsetgroup": "866370-70",
         "orientation": "h",
         "showlegend": true,
         "textposition": "auto",
         "type": "bar",
         "x": [
          9.0224645376
         ],
         "xaxis": "x",
         "y": [
          "FRANCE"
         ],
         "yaxis": "y"
        },
        {
         "alignmentgroup": "True",
         "customdata": [
          [
           "8695976-76"
          ]
         ],
         "hovertemplate": "Item Code=%{customdata[0]}<br>CO2 Total=%{x}<br>Customer Country=%{y}<extra></extra>",
         "legendgroup": "8695976-76",
         "marker": {
          "color": "#636efa",
          "pattern": {
           "shape": ""
          }
         },
         "name": "8695976-76",
         "offsetgroup": "8695976-76",
         "orientation": "h",
         "showlegend": true,
         "textposition": "auto",
         "type": "bar",
         "x": [
          0.851793854688
         ],
         "xaxis": "x",
         "y": [
          "FRANCE"
         ],
         "yaxis": "y"
        },
        {
         "alignmentgroup": "True",
         "customdata": [
          [
           "8705001-01"
          ]
         ],
         "hovertemplate": "Item Code=%{customdata[0]}<br>CO2 Total=%{x}<br>Customer Country=%{y}<extra></extra>",
         "legendgroup": "8705001-01",
         "marker": {
          "color": "#EF553B",
          "pattern": {
           "shape": ""
          }
         },
         "name": "8705001-01",
         "offsetgroup": "8705001-01",
         "orientation": "h",
         "showlegend": true,
         "textposition": "auto",
         "type": "bar",
         "x": [
          0.3724244029439998
         ],
         "xaxis": "x",
         "y": [
          "FRANCE"
         ],
         "yaxis": "y"
        },
        {
         "alignmentgroup": "True",
         "customdata": [
          [
           "872720-20"
          ]
         ],
         "hovertemplate": "Item Code=%{customdata[0]}<br>CO2 Total=%{x}<br>Customer Country=%{y}<extra></extra>",
         "legendgroup": "872720-20",
         "marker": {
          "color": "#00cc96",
          "pattern": {
           "shape": ""
          }
         },
         "name": "872720-20",
         "offsetgroup": "872720-20",
         "orientation": "h",
         "showlegend": true,
         "textposition": "auto",
         "type": "bar",
         "x": [
          0.04945827048
         ],
         "xaxis": "x",
         "y": [
          "FRANCE"
         ],
         "yaxis": "y"
        },
        {
         "alignmentgroup": "True",
         "customdata": [
          [
           "872721-21"
          ]
         ],
         "hovertemplate": "Item Code=%{customdata[0]}<br>CO2 Total=%{x}<br>Customer Country=%{y}<extra></extra>",
         "legendgroup": "872721-21",
         "marker": {
          "color": "#ab63fa",
          "pattern": {
           "shape": ""
          }
         },
         "name": "872721-21",
         "offsetgroup": "872721-21",
         "orientation": "h",
         "showlegend": true,
         "textposition": "auto",
         "type": "bar",
         "x": [
          2.0455648133088
         ],
         "xaxis": "x",
         "y": [
          "FRANCE"
         ],
         "yaxis": "y"
        },
        {
         "alignmentgroup": "True",
         "customdata": [
          [
           "872723-23"
          ]
         ],
         "hovertemplate": "Item Code=%{customdata[0]}<br>CO2 Total=%{x}<br>Customer Country=%{y}<extra></extra>",
         "legendgroup": "872723-23",
         "marker": {
          "color": "#FFA15A",
          "pattern": {
           "shape": ""
          }
         },
         "name": "872723-23",
         "offsetgroup": "872723-23",
         "orientation": "h",
         "showlegend": true,
         "textposition": "auto",
         "type": "bar",
         "x": [
          9.230595340646381
         ],
         "xaxis": "x",
         "y": [
          "FRANCE"
         ],
         "yaxis": "y"
        },
        {
         "alignmentgroup": "True",
         "customdata": [
          [
           "872725-25"
          ]
         ],
         "hovertemplate": "Item Code=%{customdata[0]}<br>CO2 Total=%{x}<br>Customer Country=%{y}<extra></extra>",
         "legendgroup": "872725-25",
         "marker": {
          "color": "#19d3f3",
          "pattern": {
           "shape": ""
          }
         },
         "name": "872725-25",
         "offsetgroup": "872725-25",
         "orientation": "h",
         "showlegend": true,
         "textposition": "auto",
         "type": "bar",
         "x": [
          3.6161779199616
         ],
         "xaxis": "x",
         "y": [
          "FRANCE"
         ],
         "yaxis": "y"
        },
        {
         "alignmentgroup": "True",
         "customdata": [
          [
           "872726-26"
          ]
         ],
         "hovertemplate": "Item Code=%{customdata[0]}<br>CO2 Total=%{x}<br>Customer Country=%{y}<extra></extra>",
         "legendgroup": "872726-26",
         "marker": {
          "color": "#FF6692",
          "pattern": {
           "shape": ""
          }
         },
         "name": "872726-26",
         "offsetgroup": "872726-26",
         "orientation": "h",
         "showlegend": true,
         "textposition": "auto",
         "type": "bar",
         "x": [
          2.1648216557856
         ],
         "xaxis": "x",
         "y": [
          "FRANCE"
         ],
         "yaxis": "y"
        },
        {
         "alignmentgroup": "True",
         "customdata": [
          [
           "872729-29"
          ]
         ],
         "hovertemplate": "Item Code=%{customdata[0]}<br>CO2 Total=%{x}<br>Customer Country=%{y}<extra></extra>",
         "legendgroup": "872729-29",
         "marker": {
          "color": "#B6E880",
          "pattern": {
           "shape": ""
          }
         },
         "name": "872729-29",
         "offsetgroup": "872729-29",
         "orientation": "h",
         "showlegend": true,
         "textposition": "auto",
         "type": "bar",
         "x": [
          0.04945827048
         ],
         "xaxis": "x",
         "y": [
          "FRANCE"
         ],
         "yaxis": "y"
        },
        {
         "alignmentgroup": "True",
         "customdata": [
          [
           "872730-30"
          ],
          [
           "872730-30"
          ]
         ],
         "hovertemplate": "Item Code=%{customdata[0]}<br>CO2 Total=%{x}<br>Customer Country=%{y}<extra></extra>",
         "legendgroup": "872730-30",
         "marker": {
          "color": "#FF97FF",
          "pattern": {
           "shape": ""
          }
         },
         "name": "872730-30",
         "offsetgroup": "872730-30",
         "orientation": "h",
         "showlegend": true,
         "textposition": "auto",
         "type": "bar",
         "x": [
          0.09891654096,
          1.9095815
         ],
         "xaxis": "x",
         "y": [
          "FRANCE",
          "MAURITANIA"
         ],
         "yaxis": "y"
        },
        {
         "alignmentgroup": "True",
         "customdata": [
          [
           "872731-31"
          ]
         ],
         "hovertemplate": "Item Code=%{customdata[0]}<br>CO2 Total=%{x}<br>Customer Country=%{y}<extra></extra>",
         "legendgroup": "872731-31",
         "marker": {
          "color": "#FECB52",
          "pattern": {
           "shape": ""
          }
         },
         "name": "872731-31",
         "offsetgroup": "872731-31",
         "orientation": "h",
         "showlegend": true,
         "textposition": "auto",
         "type": "bar",
         "x": [
          0.09891654096
         ],
         "xaxis": "x",
         "y": [
          "FRANCE"
         ],
         "yaxis": "y"
        },
        {
         "alignmentgroup": "True",
         "customdata": [
          [
           "8755731-31"
          ]
         ],
         "hovertemplate": "Item Code=%{customdata[0]}<br>CO2 Total=%{x}<br>Customer Country=%{y}<extra></extra>",
         "legendgroup": "8755731-31",
         "marker": {
          "color": "#636efa",
          "pattern": {
           "shape": ""
          }
         },
         "name": "8755731-31",
         "offsetgroup": "8755731-31",
         "orientation": "h",
         "showlegend": true,
         "textposition": "auto",
         "type": "bar",
         "x": [
          0.1053029145599999
         ],
         "xaxis": "x",
         "y": [
          "FRANCE"
         ],
         "yaxis": "y"
        },
        {
         "alignmentgroup": "True",
         "customdata": [
          [
           "8755761-61"
          ]
         ],
         "hovertemplate": "Item Code=%{customdata[0]}<br>CO2 Total=%{x}<br>Customer Country=%{y}<extra></extra>",
         "legendgroup": "8755761-61",
         "marker": {
          "color": "#EF553B",
          "pattern": {
           "shape": ""
          }
         },
         "name": "8755761-61",
         "offsetgroup": "8755761-61",
         "orientation": "h",
         "showlegend": true,
         "textposition": "auto",
         "type": "bar",
         "x": [
          3.769667942399999
         ],
         "xaxis": "x",
         "y": [
          "FRANCE"
         ],
         "yaxis": "y"
        },
        {
         "alignmentgroup": "True",
         "customdata": [
          [
           "875577-77"
          ]
         ],
         "hovertemplate": "Item Code=%{customdata[0]}<br>CO2 Total=%{x}<br>Customer Country=%{y}<extra></extra>",
         "legendgroup": "875577-77",
         "marker": {
          "color": "#00cc96",
          "pattern": {
           "shape": ""
          }
         },
         "name": "875577-77",
         "offsetgroup": "875577-77",
         "orientation": "h",
         "showlegend": true,
         "textposition": "auto",
         "type": "bar",
         "x": [
          8.356695782400001
         ],
         "xaxis": "x",
         "y": [
          "FRANCE"
         ],
         "yaxis": "y"
        },
        {
         "alignmentgroup": "True",
         "customdata": [
          [
           "875579-79"
          ]
         ],
         "hovertemplate": "Item Code=%{customdata[0]}<br>CO2 Total=%{x}<br>Customer Country=%{y}<extra></extra>",
         "legendgroup": "875579-79",
         "marker": {
          "color": "#ab63fa",
          "pattern": {
           "shape": ""
          }
         },
         "name": "875579-79",
         "offsetgroup": "875579-79",
         "orientation": "h",
         "showlegend": true,
         "textposition": "auto",
         "type": "bar",
         "x": [
          0.9091059839999998
         ],
         "xaxis": "x",
         "y": [
          "FRANCE"
         ],
         "yaxis": "y"
        },
        {
         "alignmentgroup": "True",
         "customdata": [
          [
           "8755811-11"
          ]
         ],
         "hovertemplate": "Item Code=%{customdata[0]}<br>CO2 Total=%{x}<br>Customer Country=%{y}<extra></extra>",
         "legendgroup": "8755811-11",
         "marker": {
          "color": "#FFA15A",
          "pattern": {
           "shape": ""
          }
         },
         "name": "8755811-11",
         "offsetgroup": "8755811-11",
         "orientation": "h",
         "showlegend": true,
         "textposition": "auto",
         "type": "bar",
         "x": [
          0.294472944
         ],
         "xaxis": "x",
         "y": [
          "FRANCE"
         ],
         "yaxis": "y"
        },
        {
         "alignmentgroup": "True",
         "customdata": [
          [
           "875582-82"
          ]
         ],
         "hovertemplate": "Item Code=%{customdata[0]}<br>CO2 Total=%{x}<br>Customer Country=%{y}<extra></extra>",
         "legendgroup": "875582-82",
         "marker": {
          "color": "#19d3f3",
          "pattern": {
           "shape": ""
          }
         },
         "name": "875582-82",
         "offsetgroup": "875582-82",
         "orientation": "h",
         "showlegend": true,
         "textposition": "auto",
         "type": "bar",
         "x": [
          4.9141464936000006
         ],
         "xaxis": "x",
         "y": [
          "FRANCE"
         ],
         "yaxis": "y"
        },
        {
         "alignmentgroup": "True",
         "customdata": [
          [
           "8755831-31"
          ]
         ],
         "hovertemplate": "Item Code=%{customdata[0]}<br>CO2 Total=%{x}<br>Customer Country=%{y}<extra></extra>",
         "legendgroup": "8755831-31",
         "marker": {
          "color": "#FF6692",
          "pattern": {
           "shape": ""
          }
         },
         "name": "8755831-31",
         "offsetgroup": "8755831-31",
         "orientation": "h",
         "showlegend": true,
         "textposition": "auto",
         "type": "bar",
         "x": [
          7.8988643064
         ],
         "xaxis": "x",
         "y": [
          "FRANCE"
         ],
         "yaxis": "y"
        },
        {
         "alignmentgroup": "True",
         "customdata": [
          [
           "875584-84"
          ]
         ],
         "hovertemplate": "Item Code=%{customdata[0]}<br>CO2 Total=%{x}<br>Customer Country=%{y}<extra></extra>",
         "legendgroup": "875584-84",
         "marker": {
          "color": "#B6E880",
          "pattern": {
           "shape": ""
          }
         },
         "name": "875584-84",
         "offsetgroup": "875584-84",
         "orientation": "h",
         "showlegend": true,
         "textposition": "auto",
         "type": "bar",
         "x": [
          0.208866330528
         ],
         "xaxis": "x",
         "y": [
          "FRANCE"
         ],
         "yaxis": "y"
        },
        {
         "alignmentgroup": "True",
         "customdata": [
          [
           "875586-86"
          ]
         ],
         "hovertemplate": "Item Code=%{customdata[0]}<br>CO2 Total=%{x}<br>Customer Country=%{y}<extra></extra>",
         "legendgroup": "875586-86",
         "marker": {
          "color": "#FF97FF",
          "pattern": {
           "shape": ""
          }
         },
         "name": "875586-86",
         "offsetgroup": "875586-86",
         "orientation": "h",
         "showlegend": true,
         "textposition": "auto",
         "type": "bar",
         "x": [
          18.0392748864
         ],
         "xaxis": "x",
         "y": [
          "FRANCE"
         ],
         "yaxis": "y"
        },
        {
         "alignmentgroup": "True",
         "customdata": [
          [
           "875588-88"
          ]
         ],
         "hovertemplate": "Item Code=%{customdata[0]}<br>CO2 Total=%{x}<br>Customer Country=%{y}<extra></extra>",
         "legendgroup": "875588-88",
         "marker": {
          "color": "#FECB52",
          "pattern": {
           "shape": ""
          }
         },
         "name": "875588-88",
         "offsetgroup": "875588-88",
         "orientation": "h",
         "showlegend": true,
         "textposition": "auto",
         "type": "bar",
         "x": [
          0.0413616672
         ],
         "xaxis": "x",
         "y": [
          "FRANCE"
         ],
         "yaxis": "y"
        },
        {
         "alignmentgroup": "True",
         "customdata": [
          [
           "8755911-11"
          ]
         ],
         "hovertemplate": "Item Code=%{customdata[0]}<br>CO2 Total=%{x}<br>Customer Country=%{y}<extra></extra>",
         "legendgroup": "8755911-11",
         "marker": {
          "color": "#636efa",
          "pattern": {
           "shape": ""
          }
         },
         "name": "8755911-11",
         "offsetgroup": "8755911-11",
         "orientation": "h",
         "showlegend": true,
         "textposition": "auto",
         "type": "bar",
         "x": [
          1.1851542359999998
         ],
         "xaxis": "x",
         "y": [
          "FRANCE"
         ],
         "yaxis": "y"
        },
        {
         "alignmentgroup": "True",
         "customdata": [
          [
           "8755921-21"
          ]
         ],
         "hovertemplate": "Item Code=%{customdata[0]}<br>CO2 Total=%{x}<br>Customer Country=%{y}<extra></extra>",
         "legendgroup": "8755921-21",
         "marker": {
          "color": "#EF553B",
          "pattern": {
           "shape": ""
          }
         },
         "name": "8755921-21",
         "offsetgroup": "8755921-21",
         "orientation": "h",
         "showlegend": true,
         "textposition": "auto",
         "type": "bar",
         "x": [
          4.828857551999998
         ],
         "xaxis": "x",
         "y": [
          "FRANCE"
         ],
         "yaxis": "y"
        },
        {
         "alignmentgroup": "True",
         "customdata": [
          [
           "875593-93"
          ]
         ],
         "hovertemplate": "Item Code=%{customdata[0]}<br>CO2 Total=%{x}<br>Customer Country=%{y}<extra></extra>",
         "legendgroup": "875593-93",
         "marker": {
          "color": "#00cc96",
          "pattern": {
           "shape": ""
          }
         },
         "name": "875593-93",
         "offsetgroup": "875593-93",
         "orientation": "h",
         "showlegend": true,
         "textposition": "auto",
         "type": "bar",
         "x": [
          27.852962611200002
         ],
         "xaxis": "x",
         "y": [
          "FRANCE"
         ],
         "yaxis": "y"
        },
        {
         "alignmentgroup": "True",
         "customdata": [
          [
           "875708-08"
          ]
         ],
         "hovertemplate": "Item Code=%{customdata[0]}<br>CO2 Total=%{x}<br>Customer Country=%{y}<extra></extra>",
         "legendgroup": "875708-08",
         "marker": {
          "color": "#ab63fa",
          "pattern": {
           "shape": ""
          }
         },
         "name": "875708-08",
         "offsetgroup": "875708-08",
         "orientation": "h",
         "showlegend": true,
         "textposition": "auto",
         "type": "bar",
         "x": [
          2.337266620799998
         ],
         "xaxis": "x",
         "y": [
          "FRANCE"
         ],
         "yaxis": "y"
        },
        {
         "alignmentgroup": "True",
         "customdata": [
          [
           "875709-09"
          ]
         ],
         "hovertemplate": "Item Code=%{customdata[0]}<br>CO2 Total=%{x}<br>Customer Country=%{y}<extra></extra>",
         "legendgroup": "875709-09",
         "marker": {
          "color": "#FFA15A",
          "pattern": {
           "shape": ""
          }
         },
         "name": "875709-09",
         "offsetgroup": "875709-09",
         "orientation": "h",
         "showlegend": true,
         "textposition": "auto",
         "type": "bar",
         "x": [
          1.2831529416000003
         ],
         "xaxis": "x",
         "y": [
          "FRANCE"
         ],
         "yaxis": "y"
        },
        {
         "alignmentgroup": "True",
         "customdata": [
          [
           "875710-10"
          ]
         ],
         "hovertemplate": "Item Code=%{customdata[0]}<br>CO2 Total=%{x}<br>Customer Country=%{y}<extra></extra>",
         "legendgroup": "875710-10",
         "marker": {
          "color": "#19d3f3",
          "pattern": {
           "shape": ""
          }
         },
         "name": "875710-10",
         "offsetgroup": "875710-10",
         "orientation": "h",
         "showlegend": true,
         "textposition": "auto",
         "type": "bar",
         "x": [
          5.9416282752
         ],
         "xaxis": "x",
         "y": [
          "FRANCE"
         ],
         "yaxis": "y"
        },
        {
         "alignmentgroup": "True",
         "customdata": [
          [
           "875711-11"
          ]
         ],
         "hovertemplate": "Item Code=%{customdata[0]}<br>CO2 Total=%{x}<br>Customer Country=%{y}<extra></extra>",
         "legendgroup": "875711-11",
         "marker": {
          "color": "#FF6692",
          "pattern": {
           "shape": ""
          }
         },
         "name": "875711-11",
         "offsetgroup": "875711-11",
         "orientation": "h",
         "showlegend": true,
         "textposition": "auto",
         "type": "bar",
         "x": [
          7.0757409792
         ],
         "xaxis": "x",
         "y": [
          "FRANCE"
         ],
         "yaxis": "y"
        },
        {
         "alignmentgroup": "True",
         "customdata": [
          [
           "8757121-21"
          ]
         ],
         "hovertemplate": "Item Code=%{customdata[0]}<br>CO2 Total=%{x}<br>Customer Country=%{y}<extra></extra>",
         "legendgroup": "8757121-21",
         "marker": {
          "color": "#B6E880",
          "pattern": {
           "shape": ""
          }
         },
         "name": "8757121-21",
         "offsetgroup": "8757121-21",
         "orientation": "h",
         "showlegend": true,
         "textposition": "auto",
         "type": "bar",
         "x": [
          0.2417564159999998
         ],
         "xaxis": "x",
         "y": [
          "FRANCE"
         ],
         "yaxis": "y"
        },
        {
         "alignmentgroup": "True",
         "customdata": [
          [
           "8757131-31"
          ]
         ],
         "hovertemplate": "Item Code=%{customdata[0]}<br>CO2 Total=%{x}<br>Customer Country=%{y}<extra></extra>",
         "legendgroup": "8757131-31",
         "marker": {
          "color": "#FF97FF",
          "pattern": {
           "shape": ""
          }
         },
         "name": "8757131-31",
         "offsetgroup": "8757131-31",
         "orientation": "h",
         "showlegend": true,
         "textposition": "auto",
         "type": "bar",
         "x": [
          0.2307255551999999
         ],
         "xaxis": "x",
         "y": [
          "FRANCE"
         ],
         "yaxis": "y"
        },
        {
         "alignmentgroup": "True",
         "customdata": [
          [
           "8757151-51"
          ]
         ],
         "hovertemplate": "Item Code=%{customdata[0]}<br>CO2 Total=%{x}<br>Customer Country=%{y}<extra></extra>",
         "legendgroup": "8757151-51",
         "marker": {
          "color": "#FECB52",
          "pattern": {
           "shape": ""
          }
         },
         "name": "8757151-51",
         "offsetgroup": "8757151-51",
         "orientation": "h",
         "showlegend": true,
         "textposition": "auto",
         "type": "bar",
         "x": [
          2.64752101296
         ],
         "xaxis": "x",
         "y": [
          "FRANCE"
         ],
         "yaxis": "y"
        },
        {
         "alignmentgroup": "True",
         "customdata": [
          [
           "8757852-52"
          ]
         ],
         "hovertemplate": "Item Code=%{customdata[0]}<br>CO2 Total=%{x}<br>Customer Country=%{y}<extra></extra>",
         "legendgroup": "8757852-52",
         "marker": {
          "color": "#636efa",
          "pattern": {
           "shape": ""
          }
         },
         "name": "8757852-52",
         "offsetgroup": "8757852-52",
         "orientation": "h",
         "showlegend": true,
         "textposition": "auto",
         "type": "bar",
         "x": [
          0.0301926883776
         ],
         "xaxis": "x",
         "y": [
          "FRANCE"
         ],
         "yaxis": "y"
        },
        {
         "alignmentgroup": "True",
         "customdata": [
          [
           "8757892-92"
          ]
         ],
         "hovertemplate": "Item Code=%{customdata[0]}<br>CO2 Total=%{x}<br>Customer Country=%{y}<extra></extra>",
         "legendgroup": "8757892-92",
         "marker": {
          "color": "#EF553B",
          "pattern": {
           "shape": ""
          }
         },
         "name": "8757892-92",
         "offsetgroup": "8757892-92",
         "orientation": "h",
         "showlegend": true,
         "textposition": "auto",
         "type": "bar",
         "x": [
          0.0301926883776
         ],
         "xaxis": "x",
         "y": [
          "FRANCE"
         ],
         "yaxis": "y"
        },
        {
         "alignmentgroup": "True",
         "customdata": [
          [
           "8794074-74"
          ]
         ],
         "hovertemplate": "Item Code=%{customdata[0]}<br>CO2 Total=%{x}<br>Customer Country=%{y}<extra></extra>",
         "legendgroup": "8794074-74",
         "marker": {
          "color": "#00cc96",
          "pattern": {
           "shape": ""
          }
         },
         "name": "8794074-74",
         "offsetgroup": "8794074-74",
         "orientation": "h",
         "showlegend": true,
         "textposition": "auto",
         "type": "bar",
         "x": [
          0.13642765132799992
         ],
         "xaxis": "x",
         "y": [
          "FRANCE"
         ],
         "yaxis": "y"
        },
        {
         "alignmentgroup": "True",
         "customdata": [
          [
           "8794084-84"
          ]
         ],
         "hovertemplate": "Item Code=%{customdata[0]}<br>CO2 Total=%{x}<br>Customer Country=%{y}<extra></extra>",
         "legendgroup": "8794084-84",
         "marker": {
          "color": "#ab63fa",
          "pattern": {
           "shape": ""
          }
         },
         "name": "8794084-84",
         "offsetgroup": "8794084-84",
         "orientation": "h",
         "showlegend": true,
         "textposition": "auto",
         "type": "bar",
         "x": [
          0.5024199751679996
         ],
         "xaxis": "x",
         "y": [
          "FRANCE"
         ],
         "yaxis": "y"
        },
        {
         "alignmentgroup": "True",
         "customdata": [
          [
           "8794095-95"
          ]
         ],
         "hovertemplate": "Item Code=%{customdata[0]}<br>CO2 Total=%{x}<br>Customer Country=%{y}<extra></extra>",
         "legendgroup": "8794095-95",
         "marker": {
          "color": "#FFA15A",
          "pattern": {
           "shape": ""
          }
         },
         "name": "8794095-95",
         "offsetgroup": "8794095-95",
         "orientation": "h",
         "showlegend": true,
         "textposition": "auto",
         "type": "bar",
         "x": [
          0.09805473528959979
         ],
         "xaxis": "x",
         "y": [
          "FRANCE"
         ],
         "yaxis": "y"
        },
        {
         "alignmentgroup": "True",
         "customdata": [
          [
           "8794115-15"
          ]
         ],
         "hovertemplate": "Item Code=%{customdata[0]}<br>CO2 Total=%{x}<br>Customer Country=%{y}<extra></extra>",
         "legendgroup": "8794115-15",
         "marker": {
          "color": "#19d3f3",
          "pattern": {
           "shape": ""
          }
         },
         "name": "8794115-15",
         "offsetgroup": "8794115-15",
         "orientation": "h",
         "showlegend": true,
         "textposition": "auto",
         "type": "bar",
         "x": [
          0.0621305573375998
         ],
         "xaxis": "x",
         "y": [
          "FRANCE"
         ],
         "yaxis": "y"
        },
        {
         "alignmentgroup": "True",
         "customdata": [
          [
           "8794311-11"
          ]
         ],
         "hovertemplate": "Item Code=%{customdata[0]}<br>CO2 Total=%{x}<br>Customer Country=%{y}<extra></extra>",
         "legendgroup": "8794311-11",
         "marker": {
          "color": "#FF6692",
          "pattern": {
           "shape": ""
          }
         },
         "name": "8794311-11",
         "offsetgroup": "8794311-11",
         "orientation": "h",
         "showlegend": true,
         "textposition": "auto",
         "type": "bar",
         "x": [
          0.8107969531199999
         ],
         "xaxis": "x",
         "y": [
          "FRANCE"
         ],
         "yaxis": "y"
        },
        {
         "alignmentgroup": "True",
         "customdata": [
          [
           "8795005-05"
          ]
         ],
         "hovertemplate": "Item Code=%{customdata[0]}<br>CO2 Total=%{x}<br>Customer Country=%{y}<extra></extra>",
         "legendgroup": "8795005-05",
         "marker": {
          "color": "#B6E880",
          "pattern": {
           "shape": ""
          }
         },
         "name": "8795005-05",
         "offsetgroup": "8795005-05",
         "orientation": "h",
         "showlegend": true,
         "textposition": "auto",
         "type": "bar",
         "x": [
          0.062680849344
         ],
         "xaxis": "x",
         "y": [
          "FRANCE"
         ],
         "yaxis": "y"
        },
        {
         "alignmentgroup": "True",
         "customdata": [
          [
           "8803112-12"
          ]
         ],
         "hovertemplate": "Item Code=%{customdata[0]}<br>CO2 Total=%{x}<br>Customer Country=%{y}<extra></extra>",
         "legendgroup": "8803112-12",
         "marker": {
          "color": "#FF97FF",
          "pattern": {
           "shape": ""
          }
         },
         "name": "8803112-12",
         "offsetgroup": "8803112-12",
         "orientation": "h",
         "showlegend": true,
         "textposition": "auto",
         "type": "bar",
         "x": [
          0.14811766272
         ],
         "xaxis": "x",
         "y": [
          "FRANCE"
         ],
         "yaxis": "y"
        },
        {
         "alignmentgroup": "True",
         "customdata": [
          [
           "8803232-32"
          ]
         ],
         "hovertemplate": "Item Code=%{customdata[0]}<br>CO2 Total=%{x}<br>Customer Country=%{y}<extra></extra>",
         "legendgroup": "8803232-32",
         "marker": {
          "color": "#FECB52",
          "pattern": {
           "shape": ""
          }
         },
         "name": "8803232-32",
         "offsetgroup": "8803232-32",
         "orientation": "h",
         "showlegend": true,
         "textposition": "auto",
         "type": "bar",
         "x": [
          0.3812931481679998
         ],
         "xaxis": "x",
         "y": [
          "FRANCE"
         ],
         "yaxis": "y"
        },
        {
         "alignmentgroup": "True",
         "customdata": [
          [
           "8803251-51"
          ]
         ],
         "hovertemplate": "Item Code=%{customdata[0]}<br>CO2 Total=%{x}<br>Customer Country=%{y}<extra></extra>",
         "legendgroup": "8803251-51",
         "marker": {
          "color": "#636efa",
          "pattern": {
           "shape": ""
          }
         },
         "name": "8803251-51",
         "offsetgroup": "8803251-51",
         "orientation": "h",
         "showlegend": true,
         "textposition": "auto",
         "type": "bar",
         "x": [
          0.9202926585599994
         ],
         "xaxis": "x",
         "y": [
          "FRANCE"
         ],
         "yaxis": "y"
        },
        {
         "alignmentgroup": "True",
         "customdata": [
          [
           "8803261-61"
          ]
         ],
         "hovertemplate": "Item Code=%{customdata[0]}<br>CO2 Total=%{x}<br>Customer Country=%{y}<extra></extra>",
         "legendgroup": "8803261-61",
         "marker": {
          "color": "#EF553B",
          "pattern": {
           "shape": ""
          }
         },
         "name": "8803261-61",
         "offsetgroup": "8803261-61",
         "orientation": "h",
         "showlegend": true,
         "textposition": "auto",
         "type": "bar",
         "x": [
          0.1935922175999998
         ],
         "xaxis": "x",
         "y": [
          "FRANCE"
         ],
         "yaxis": "y"
        },
        {
         "alignmentgroup": "True",
         "customdata": [
          [
           "8803271-71"
          ]
         ],
         "hovertemplate": "Item Code=%{customdata[0]}<br>CO2 Total=%{x}<br>Customer Country=%{y}<extra></extra>",
         "legendgroup": "8803271-71",
         "marker": {
          "color": "#00cc96",
          "pattern": {
           "shape": ""
          }
         },
         "name": "8803271-71",
         "offsetgroup": "8803271-71",
         "orientation": "h",
         "showlegend": true,
         "textposition": "auto",
         "type": "bar",
         "x": [
          16.549366636800002
         ],
         "xaxis": "x",
         "y": [
          "FRANCE"
         ],
         "yaxis": "y"
        },
        {
         "alignmentgroup": "True",
         "customdata": [
          [
           "8803312-12"
          ]
         ],
         "hovertemplate": "Item Code=%{customdata[0]}<br>CO2 Total=%{x}<br>Customer Country=%{y}<extra></extra>",
         "legendgroup": "8803312-12",
         "marker": {
          "color": "#ab63fa",
          "pattern": {
           "shape": ""
          }
         },
         "name": "8803312-12",
         "offsetgroup": "8803312-12",
         "orientation": "h",
         "showlegend": true,
         "textposition": "auto",
         "type": "bar",
         "x": [
          11.531738098944
         ],
         "xaxis": "x",
         "y": [
          "FRANCE"
         ],
         "yaxis": "y"
        },
        {
         "alignmentgroup": "True",
         "customdata": [
          [
           "8803323-23"
          ]
         ],
         "hovertemplate": "Item Code=%{customdata[0]}<br>CO2 Total=%{x}<br>Customer Country=%{y}<extra></extra>",
         "legendgroup": "8803323-23",
         "marker": {
          "color": "#FFA15A",
          "pattern": {
           "shape": ""
          }
         },
         "name": "8803323-23",
         "offsetgroup": "8803323-23",
         "orientation": "h",
         "showlegend": true,
         "textposition": "auto",
         "type": "bar",
         "x": [
          0.015840361152
         ],
         "xaxis": "x",
         "y": [
          "FRANCE"
         ],
         "yaxis": "y"
        },
        {
         "alignmentgroup": "True",
         "customdata": [
          [
           "880336-36"
          ]
         ],
         "hovertemplate": "Item Code=%{customdata[0]}<br>CO2 Total=%{x}<br>Customer Country=%{y}<extra></extra>",
         "legendgroup": "880336-36",
         "marker": {
          "color": "#19d3f3",
          "pattern": {
           "shape": ""
          }
         },
         "name": "880336-36",
         "offsetgroup": "880336-36",
         "orientation": "h",
         "showlegend": true,
         "textposition": "auto",
         "type": "bar",
         "x": [
          0.7347911496
         ],
         "xaxis": "x",
         "y": [
          "FRANCE"
         ],
         "yaxis": "y"
        },
        {
         "alignmentgroup": "True",
         "customdata": [
          [
           "8804012-12"
          ]
         ],
         "hovertemplate": "Item Code=%{customdata[0]}<br>CO2 Total=%{x}<br>Customer Country=%{y}<extra></extra>",
         "legendgroup": "8804012-12",
         "marker": {
          "color": "#FF6692",
          "pattern": {
           "shape": ""
          }
         },
         "name": "8804012-12",
         "offsetgroup": "8804012-12",
         "orientation": "h",
         "showlegend": true,
         "textposition": "auto",
         "type": "bar",
         "x": [
          22.725076520448003
         ],
         "xaxis": "x",
         "y": [
          "FRANCE"
         ],
         "yaxis": "y"
        },
        {
         "alignmentgroup": "True",
         "customdata": [
          [
           "880409-09"
          ]
         ],
         "hovertemplate": "Item Code=%{customdata[0]}<br>CO2 Total=%{x}<br>Customer Country=%{y}<extra></extra>",
         "legendgroup": "880409-09",
         "marker": {
          "color": "#B6E880",
          "pattern": {
           "shape": ""
          }
         },
         "name": "880409-09",
         "offsetgroup": "880409-09",
         "orientation": "h",
         "showlegend": true,
         "textposition": "auto",
         "type": "bar",
         "x": [
          10.503324467999999
         ],
         "xaxis": "x",
         "y": [
          "FRANCE"
         ],
         "yaxis": "y"
        },
        {
         "alignmentgroup": "True",
         "customdata": [
          [
           "880410-10"
          ]
         ],
         "hovertemplate": "Item Code=%{customdata[0]}<br>CO2 Total=%{x}<br>Customer Country=%{y}<extra></extra>",
         "legendgroup": "880410-10",
         "marker": {
          "color": "#FF97FF",
          "pattern": {
           "shape": ""
          }
         },
         "name": "880410-10",
         "offsetgroup": "880410-10",
         "orientation": "h",
         "showlegend": true,
         "textposition": "auto",
         "type": "bar",
         "x": [
          9.1928575752
         ],
         "xaxis": "x",
         "y": [
          "FRANCE"
         ],
         "yaxis": "y"
        },
        {
         "alignmentgroup": "True",
         "customdata": [
          [
           "8805374-74"
          ],
          [
           "8805374-74"
          ]
         ],
         "hovertemplate": "Item Code=%{customdata[0]}<br>CO2 Total=%{x}<br>Customer Country=%{y}<extra></extra>",
         "legendgroup": "8805374-74",
         "marker": {
          "color": "#FECB52",
          "pattern": {
           "shape": ""
          }
         },
         "name": "8805374-74",
         "offsetgroup": "8805374-74",
         "orientation": "h",
         "showlegend": true,
         "textposition": "auto",
         "type": "bar",
         "x": [
          20.402199502848,
          41.42853734399999
         ],
         "xaxis": "x",
         "y": [
          "FRANCE",
          "GERMANY"
         ],
         "yaxis": "y"
        },
        {
         "alignmentgroup": "True",
         "customdata": [
          [
           "8805376-76"
          ],
          [
           "8805376-76"
          ]
         ],
         "hovertemplate": "Item Code=%{customdata[0]}<br>CO2 Total=%{x}<br>Customer Country=%{y}<extra></extra>",
         "legendgroup": "8805376-76",
         "marker": {
          "color": "#636efa",
          "pattern": {
           "shape": ""
          }
         },
         "name": "8805376-76",
         "offsetgroup": "8805376-76",
         "orientation": "h",
         "showlegend": true,
         "textposition": "auto",
         "type": "bar",
         "x": [
          20.402199502848,
          96.66658713599999
         ],
         "xaxis": "x",
         "y": [
          "FRANCE",
          "GERMANY"
         ],
         "yaxis": "y"
        },
        {
         "alignmentgroup": "True",
         "customdata": [
          [
           "882426-26"
          ]
         ],
         "hovertemplate": "Item Code=%{customdata[0]}<br>CO2 Total=%{x}<br>Customer Country=%{y}<extra></extra>",
         "legendgroup": "882426-26",
         "marker": {
          "color": "#EF553B",
          "pattern": {
           "shape": ""
          }
         },
         "name": "882426-26",
         "offsetgroup": "882426-26",
         "orientation": "h",
         "showlegend": true,
         "textposition": "auto",
         "type": "bar",
         "x": [
          0.095544476928
         ],
         "xaxis": "x",
         "y": [
          "FRANCE"
         ],
         "yaxis": "y"
        },
        {
         "alignmentgroup": "True",
         "customdata": [
          [
           "8828361-61"
          ]
         ],
         "hovertemplate": "Item Code=%{customdata[0]}<br>CO2 Total=%{x}<br>Customer Country=%{y}<extra></extra>",
         "legendgroup": "8828361-61",
         "marker": {
          "color": "#00cc96",
          "pattern": {
           "shape": ""
          }
         },
         "name": "8828361-61",
         "offsetgroup": "8828361-61",
         "orientation": "h",
         "showlegend": true,
         "textposition": "auto",
         "type": "bar",
         "x": [
          6.656090928192001
         ],
         "xaxis": "x",
         "y": [
          "FRANCE"
         ],
         "yaxis": "y"
        },
        {
         "alignmentgroup": "True",
         "customdata": [
          [
           "8828381-81"
          ]
         ],
         "hovertemplate": "Item Code=%{customdata[0]}<br>CO2 Total=%{x}<br>Customer Country=%{y}<extra></extra>",
         "legendgroup": "8828381-81",
         "marker": {
          "color": "#ab63fa",
          "pattern": {
           "shape": ""
          }
         },
         "name": "8828381-81",
         "offsetgroup": "8828381-81",
         "orientation": "h",
         "showlegend": true,
         "textposition": "auto",
         "type": "bar",
         "x": [
          4.377023852256
         ],
         "xaxis": "x",
         "y": [
          "FRANCE"
         ],
         "yaxis": "y"
        },
        {
         "alignmentgroup": "True",
         "customdata": [
          [
           "8828391-91"
          ]
         ],
         "hovertemplate": "Item Code=%{customdata[0]}<br>CO2 Total=%{x}<br>Customer Country=%{y}<extra></extra>",
         "legendgroup": "8828391-91",
         "marker": {
          "color": "#FFA15A",
          "pattern": {
           "shape": ""
          }
         },
         "name": "8828391-91",
         "offsetgroup": "8828391-91",
         "orientation": "h",
         "showlegend": true,
         "textposition": "auto",
         "type": "bar",
         "x": [
          0.992840184672
         ],
         "xaxis": "x",
         "y": [
          "FRANCE"
         ],
         "yaxis": "y"
        },
        {
         "alignmentgroup": "True",
         "customdata": [
          [
           "882840-40"
          ]
         ],
         "hovertemplate": "Item Code=%{customdata[0]}<br>CO2 Total=%{x}<br>Customer Country=%{y}<extra></extra>",
         "legendgroup": "882840-40",
         "marker": {
          "color": "#19d3f3",
          "pattern": {
           "shape": ""
          }
         },
         "name": "882840-40",
         "offsetgroup": "882840-40",
         "orientation": "h",
         "showlegend": true,
         "textposition": "auto",
         "type": "bar",
         "x": [
          3.912383249568
         ],
         "xaxis": "x",
         "y": [
          "FRANCE"
         ],
         "yaxis": "y"
        },
        {
         "alignmentgroup": "True",
         "customdata": [
          [
           "8828421-21"
          ]
         ],
         "hovertemplate": "Item Code=%{customdata[0]}<br>CO2 Total=%{x}<br>Customer Country=%{y}<extra></extra>",
         "legendgroup": "8828421-21",
         "marker": {
          "color": "#FF6692",
          "pattern": {
           "shape": ""
          }
         },
         "name": "8828421-21",
         "offsetgroup": "8828421-21",
         "orientation": "h",
         "showlegend": true,
         "textposition": "auto",
         "type": "bar",
         "x": [
          0.9047870435520002
         ],
         "xaxis": "x",
         "y": [
          "FRANCE"
         ],
         "yaxis": "y"
        },
        {
         "alignmentgroup": "True",
         "customdata": [
          [
           "882864-64"
          ]
         ],
         "hovertemplate": "Item Code=%{customdata[0]}<br>CO2 Total=%{x}<br>Customer Country=%{y}<extra></extra>",
         "legendgroup": "882864-64",
         "marker": {
          "color": "#B6E880",
          "pattern": {
           "shape": ""
          }
         },
         "name": "882864-64",
         "offsetgroup": "882864-64",
         "orientation": "h",
         "showlegend": true,
         "textposition": "auto",
         "type": "bar",
         "x": [
          0.9558810028799997
         ],
         "xaxis": "x",
         "y": [
          "FRANCE"
         ],
         "yaxis": "y"
        },
        {
         "alignmentgroup": "True",
         "customdata": [
          [
           "8830132-32"
          ]
         ],
         "hovertemplate": "Item Code=%{customdata[0]}<br>CO2 Total=%{x}<br>Customer Country=%{y}<extra></extra>",
         "legendgroup": "8830132-32",
         "marker": {
          "color": "#FF97FF",
          "pattern": {
           "shape": ""
          }
         },
         "name": "8830132-32",
         "offsetgroup": "8830132-32",
         "orientation": "h",
         "showlegend": true,
         "textposition": "auto",
         "type": "bar",
         "x": [
          0.4993892880076798
         ],
         "xaxis": "x",
         "y": [
          "FRANCE"
         ],
         "yaxis": "y"
        },
        {
         "alignmentgroup": "True",
         "customdata": [
          [
           "8859933-33"
          ]
         ],
         "hovertemplate": "Item Code=%{customdata[0]}<br>CO2 Total=%{x}<br>Customer Country=%{y}<extra></extra>",
         "legendgroup": "8859933-33",
         "marker": {
          "color": "#FECB52",
          "pattern": {
           "shape": ""
          }
         },
         "name": "8859933-33",
         "offsetgroup": "8859933-33",
         "orientation": "h",
         "showlegend": true,
         "textposition": "auto",
         "type": "bar",
         "x": [
          0.0137145984
         ],
         "xaxis": "x",
         "y": [
          "FRANCE"
         ],
         "yaxis": "y"
        },
        {
         "alignmentgroup": "True",
         "customdata": [
          [
           "8871292-92"
          ]
         ],
         "hovertemplate": "Item Code=%{customdata[0]}<br>CO2 Total=%{x}<br>Customer Country=%{y}<extra></extra>",
         "legendgroup": "8871292-92",
         "marker": {
          "color": "#636efa",
          "pattern": {
           "shape": ""
          }
         },
         "name": "8871292-92",
         "offsetgroup": "8871292-92",
         "orientation": "h",
         "showlegend": true,
         "textposition": "auto",
         "type": "bar",
         "x": [
          11.6003016493056
         ],
         "xaxis": "x",
         "y": [
          "FRANCE"
         ],
         "yaxis": "y"
        },
        {
         "alignmentgroup": "True",
         "customdata": [
          [
           "8871561-61"
          ]
         ],
         "hovertemplate": "Item Code=%{customdata[0]}<br>CO2 Total=%{x}<br>Customer Country=%{y}<extra></extra>",
         "legendgroup": "8871561-61",
         "marker": {
          "color": "#EF553B",
          "pattern": {
           "shape": ""
          }
         },
         "name": "8871561-61",
         "offsetgroup": "8871561-61",
         "orientation": "h",
         "showlegend": true,
         "textposition": "auto",
         "type": "bar",
         "x": [
          26.4304368756
         ],
         "xaxis": "x",
         "y": [
          "FRANCE"
         ],
         "yaxis": "y"
        },
        {
         "alignmentgroup": "True",
         "customdata": [
          [
           "8871562-62"
          ]
         ],
         "hovertemplate": "Item Code=%{customdata[0]}<br>CO2 Total=%{x}<br>Customer Country=%{y}<extra></extra>",
         "legendgroup": "8871562-62",
         "marker": {
          "color": "#00cc96",
          "pattern": {
           "shape": ""
          }
         },
         "name": "8871562-62",
         "offsetgroup": "8871562-62",
         "orientation": "h",
         "showlegend": true,
         "textposition": "auto",
         "type": "bar",
         "x": [
          9.015339905568002
         ],
         "xaxis": "x",
         "y": [
          "FRANCE"
         ],
         "yaxis": "y"
        },
        {
         "alignmentgroup": "True",
         "customdata": [
          [
           "8871631-31"
          ]
         ],
         "hovertemplate": "Item Code=%{customdata[0]}<br>CO2 Total=%{x}<br>Customer Country=%{y}<extra></extra>",
         "legendgroup": "8871631-31",
         "marker": {
          "color": "#ab63fa",
          "pattern": {
           "shape": ""
          }
         },
         "name": "8871631-31",
         "offsetgroup": "8871631-31",
         "orientation": "h",
         "showlegend": true,
         "textposition": "auto",
         "type": "bar",
         "x": [
          1.5173259779519999
         ],
         "xaxis": "x",
         "y": [
          "FRANCE"
         ],
         "yaxis": "y"
        },
        {
         "alignmentgroup": "True",
         "customdata": [
          [
           "8871632-32"
          ]
         ],
         "hovertemplate": "Item Code=%{customdata[0]}<br>CO2 Total=%{x}<br>Customer Country=%{y}<extra></extra>",
         "legendgroup": "8871632-32",
         "marker": {
          "color": "#FFA15A",
          "pattern": {
           "shape": ""
          }
         },
         "name": "8871632-32",
         "offsetgroup": "8871632-32",
         "orientation": "h",
         "showlegend": true,
         "textposition": "auto",
         "type": "bar",
         "x": [
          0.7903556411519997
         ],
         "xaxis": "x",
         "y": [
          "FRANCE"
         ],
         "yaxis": "y"
        },
        {
         "alignmentgroup": "True",
         "customdata": [
          [
           "887776-76"
          ]
         ],
         "hovertemplate": "Item Code=%{customdata[0]}<br>CO2 Total=%{x}<br>Customer Country=%{y}<extra></extra>",
         "legendgroup": "887776-76",
         "marker": {
          "color": "#19d3f3",
          "pattern": {
           "shape": ""
          }
         },
         "name": "887776-76",
         "offsetgroup": "887776-76",
         "orientation": "h",
         "showlegend": true,
         "textposition": "auto",
         "type": "bar",
         "x": [
          1.2583509331199998
         ],
         "xaxis": "x",
         "y": [
          "FRANCE"
         ],
         "yaxis": "y"
        },
        {
         "alignmentgroup": "True",
         "customdata": [
          [
           "888681-81"
          ]
         ],
         "hovertemplate": "Item Code=%{customdata[0]}<br>CO2 Total=%{x}<br>Customer Country=%{y}<extra></extra>",
         "legendgroup": "888681-81",
         "marker": {
          "color": "#FF6692",
          "pattern": {
           "shape": ""
          }
         },
         "name": "888681-81",
         "offsetgroup": "888681-81",
         "orientation": "h",
         "showlegend": true,
         "textposition": "auto",
         "type": "bar",
         "x": [
          28.20175218432
         ],
         "xaxis": "x",
         "y": [
          "FRANCE"
         ],
         "yaxis": "y"
        },
        {
         "alignmentgroup": "True",
         "customdata": [
          [
           "888695-95"
          ]
         ],
         "hovertemplate": "Item Code=%{customdata[0]}<br>CO2 Total=%{x}<br>Customer Country=%{y}<extra></extra>",
         "legendgroup": "888695-95",
         "marker": {
          "color": "#B6E880",
          "pattern": {
           "shape": ""
          }
         },
         "name": "888695-95",
         "offsetgroup": "888695-95",
         "orientation": "h",
         "showlegend": true,
         "textposition": "auto",
         "type": "bar",
         "x": [
          9.392402208
         ],
         "xaxis": "x",
         "y": [
          "FRANCE"
         ],
         "yaxis": "y"
        },
        {
         "alignmentgroup": "True",
         "customdata": [
          [
           "888751-51"
          ]
         ],
         "hovertemplate": "Item Code=%{customdata[0]}<br>CO2 Total=%{x}<br>Customer Country=%{y}<extra></extra>",
         "legendgroup": "888751-51",
         "marker": {
          "color": "#FF97FF",
          "pattern": {
           "shape": ""
          }
         },
         "name": "888751-51",
         "offsetgroup": "888751-51",
         "orientation": "h",
         "showlegend": true,
         "textposition": "auto",
         "type": "bar",
         "x": [
          1.2984845974732797
         ],
         "xaxis": "x",
         "y": [
          "FRANCE"
         ],
         "yaxis": "y"
        },
        {
         "alignmentgroup": "True",
         "customdata": [
          [
           "889228-28"
          ]
         ],
         "hovertemplate": "Item Code=%{customdata[0]}<br>CO2 Total=%{x}<br>Customer Country=%{y}<extra></extra>",
         "legendgroup": "889228-28",
         "marker": {
          "color": "#FECB52",
          "pattern": {
           "shape": ""
          }
         },
         "name": "889228-28",
         "offsetgroup": "889228-28",
         "orientation": "h",
         "showlegend": true,
         "textposition": "auto",
         "type": "bar",
         "x": [
          0.2735714022911998
         ],
         "xaxis": "x",
         "y": [
          "FRANCE"
         ],
         "yaxis": "y"
        },
        {
         "alignmentgroup": "True",
         "customdata": [
          [
           "889973-73"
          ]
         ],
         "hovertemplate": "Item Code=%{customdata[0]}<br>CO2 Total=%{x}<br>Customer Country=%{y}<extra></extra>",
         "legendgroup": "889973-73",
         "marker": {
          "color": "#636efa",
          "pattern": {
           "shape": ""
          }
         },
         "name": "889973-73",
         "offsetgroup": "889973-73",
         "orientation": "h",
         "showlegend": true,
         "textposition": "auto",
         "type": "bar",
         "x": [
          0.023748808320000002
         ],
         "xaxis": "x",
         "y": [
          "FRANCE"
         ],
         "yaxis": "y"
        },
        {
         "alignmentgroup": "True",
         "customdata": [
          [
           "889987-87"
          ]
         ],
         "hovertemplate": "Item Code=%{customdata[0]}<br>CO2 Total=%{x}<br>Customer Country=%{y}<extra></extra>",
         "legendgroup": "889987-87",
         "marker": {
          "color": "#EF553B",
          "pattern": {
           "shape": ""
          }
         },
         "name": "889987-87",
         "offsetgroup": "889987-87",
         "orientation": "h",
         "showlegend": true,
         "textposition": "auto",
         "type": "bar",
         "x": [
          0.03117409344
         ],
         "xaxis": "x",
         "y": [
          "FRANCE"
         ],
         "yaxis": "y"
        },
        {
         "alignmentgroup": "True",
         "customdata": [
          [
           "8902742-42"
          ]
         ],
         "hovertemplate": "Item Code=%{customdata[0]}<br>CO2 Total=%{x}<br>Customer Country=%{y}<extra></extra>",
         "legendgroup": "8902742-42",
         "marker": {
          "color": "#00cc96",
          "pattern": {
           "shape": ""
          }
         },
         "name": "8902742-42",
         "offsetgroup": "8902742-42",
         "orientation": "h",
         "showlegend": true,
         "textposition": "auto",
         "type": "bar",
         "x": [
          20.366141112
         ],
         "xaxis": "x",
         "y": [
          "FRANCE"
         ],
         "yaxis": "y"
        },
        {
         "alignmentgroup": "True",
         "customdata": [
          [
           "8902753-53"
          ]
         ],
         "hovertemplate": "Item Code=%{customdata[0]}<br>CO2 Total=%{x}<br>Customer Country=%{y}<extra></extra>",
         "legendgroup": "8902753-53",
         "marker": {
          "color": "#ab63fa",
          "pattern": {
           "shape": ""
          }
         },
         "name": "8902753-53",
         "offsetgroup": "8902753-53",
         "orientation": "h",
         "showlegend": true,
         "textposition": "auto",
         "type": "bar",
         "x": [
          8.0694998016
         ],
         "xaxis": "x",
         "y": [
          "FRANCE"
         ],
         "yaxis": "y"
        },
        {
         "alignmentgroup": "True",
         "customdata": [
          [
           "8902764-64"
          ]
         ],
         "hovertemplate": "Item Code=%{customdata[0]}<br>CO2 Total=%{x}<br>Customer Country=%{y}<extra></extra>",
         "legendgroup": "8902764-64",
         "marker": {
          "color": "#FFA15A",
          "pattern": {
           "shape": ""
          }
         },
         "name": "8902764-64",
         "offsetgroup": "8902764-64",
         "orientation": "h",
         "showlegend": true,
         "textposition": "auto",
         "type": "bar",
         "x": [
          12.4536002472
         ],
         "xaxis": "x",
         "y": [
          "FRANCE"
         ],
         "yaxis": "y"
        },
        {
         "alignmentgroup": "True",
         "customdata": [
          [
           "8902772-72"
          ]
         ],
         "hovertemplate": "Item Code=%{customdata[0]}<br>CO2 Total=%{x}<br>Customer Country=%{y}<extra></extra>",
         "legendgroup": "8902772-72",
         "marker": {
          "color": "#19d3f3",
          "pattern": {
           "shape": ""
          }
         },
         "name": "8902772-72",
         "offsetgroup": "8902772-72",
         "orientation": "h",
         "showlegend": true,
         "textposition": "auto",
         "type": "bar",
         "x": [
          18.981627302400003
         ],
         "xaxis": "x",
         "y": [
          "FRANCE"
         ],
         "yaxis": "y"
        },
        {
         "alignmentgroup": "True",
         "customdata": [
          [
           "8902781-81"
          ]
         ],
         "hovertemplate": "Item Code=%{customdata[0]}<br>CO2 Total=%{x}<br>Customer Country=%{y}<extra></extra>",
         "legendgroup": "8902781-81",
         "marker": {
          "color": "#FF6692",
          "pattern": {
           "shape": ""
          }
         },
         "name": "8902781-81",
         "offsetgroup": "8902781-81",
         "orientation": "h",
         "showlegend": true,
         "textposition": "auto",
         "type": "bar",
         "x": [
          1.1482610508000002
         ],
         "xaxis": "x",
         "y": [
          "FRANCE"
         ],
         "yaxis": "y"
        },
        {
         "alignmentgroup": "True",
         "customdata": [
          [
           "8902871-71"
          ]
         ],
         "hovertemplate": "Item Code=%{customdata[0]}<br>CO2 Total=%{x}<br>Customer Country=%{y}<extra></extra>",
         "legendgroup": "8902871-71",
         "marker": {
          "color": "#B6E880",
          "pattern": {
           "shape": ""
          }
         },
         "name": "8902871-71",
         "offsetgroup": "8902871-71",
         "orientation": "h",
         "showlegend": true,
         "textposition": "auto",
         "type": "bar",
         "x": [
          1.5262721183999999
         ],
         "xaxis": "x",
         "y": [
          "FRANCE"
         ],
         "yaxis": "y"
        },
        {
         "alignmentgroup": "True",
         "customdata": [
          [
           "8902881-81"
          ]
         ],
         "hovertemplate": "Item Code=%{customdata[0]}<br>CO2 Total=%{x}<br>Customer Country=%{y}<extra></extra>",
         "legendgroup": "8902881-81",
         "marker": {
          "color": "#FF97FF",
          "pattern": {
           "shape": ""
          }
         },
         "name": "8902881-81",
         "offsetgroup": "8902881-81",
         "orientation": "h",
         "showlegend": true,
         "textposition": "auto",
         "type": "bar",
         "x": [
          0.4338063359999999
         ],
         "xaxis": "x",
         "y": [
          "FRANCE"
         ],
         "yaxis": "y"
        },
        {
         "alignmentgroup": "True",
         "customdata": [
          [
           "890614-14"
          ]
         ],
         "hovertemplate": "Item Code=%{customdata[0]}<br>CO2 Total=%{x}<br>Customer Country=%{y}<extra></extra>",
         "legendgroup": "890614-14",
         "marker": {
          "color": "#FECB52",
          "pattern": {
           "shape": ""
          }
         },
         "name": "890614-14",
         "offsetgroup": "890614-14",
         "orientation": "h",
         "showlegend": true,
         "textposition": "auto",
         "type": "bar",
         "x": [
          0.179386947072
         ],
         "xaxis": "x",
         "y": [
          "FRANCE"
         ],
         "yaxis": "y"
        },
        {
         "alignmentgroup": "True",
         "customdata": [
          [
           "8922231-31"
          ],
          [
           "8922231-31"
          ]
         ],
         "hovertemplate": "Item Code=%{customdata[0]}<br>CO2 Total=%{x}<br>Customer Country=%{y}<extra></extra>",
         "legendgroup": "8922231-31",
         "marker": {
          "color": "#636efa",
          "pattern": {
           "shape": ""
          }
         },
         "name": "8922231-31",
         "offsetgroup": "8922231-31",
         "orientation": "h",
         "showlegend": true,
         "textposition": "auto",
         "type": "bar",
         "x": [
          1.57500446976,
          1.50595488
         ],
         "xaxis": "x",
         "y": [
          "FRANCE",
          "MAURITANIA"
         ],
         "yaxis": "y"
        },
        {
         "alignmentgroup": "True",
         "customdata": [
          [
           "892273-73"
          ]
         ],
         "hovertemplate": "Item Code=%{customdata[0]}<br>CO2 Total=%{x}<br>Customer Country=%{y}<extra></extra>",
         "legendgroup": "892273-73",
         "marker": {
          "color": "#EF553B",
          "pattern": {
           "shape": ""
          }
         },
         "name": "892273-73",
         "offsetgroup": "892273-73",
         "orientation": "h",
         "showlegend": true,
         "textposition": "auto",
         "type": "bar",
         "x": [
          14.0873862096
         ],
         "xaxis": "x",
         "y": [
          "FRANCE"
         ],
         "yaxis": "y"
        },
        {
         "alignmentgroup": "True",
         "customdata": [
          [
           "892278-78"
          ]
         ],
         "hovertemplate": "Item Code=%{customdata[0]}<br>CO2 Total=%{x}<br>Customer Country=%{y}<extra></extra>",
         "legendgroup": "892278-78",
         "marker": {
          "color": "#00cc96",
          "pattern": {
           "shape": ""
          }
         },
         "name": "892278-78",
         "offsetgroup": "892278-78",
         "orientation": "h",
         "showlegend": true,
         "textposition": "auto",
         "type": "bar",
         "x": [
          0.07498008576
         ],
         "xaxis": "x",
         "y": [
          "FRANCE"
         ],
         "yaxis": "y"
        },
        {
         "alignmentgroup": "True",
         "customdata": [
          [
           "892279-79"
          ]
         ],
         "hovertemplate": "Item Code=%{customdata[0]}<br>CO2 Total=%{x}<br>Customer Country=%{y}<extra></extra>",
         "legendgroup": "892279-79",
         "marker": {
          "color": "#ab63fa",
          "pattern": {
           "shape": ""
          }
         },
         "name": "892279-79",
         "offsetgroup": "892279-79",
         "orientation": "h",
         "showlegend": true,
         "textposition": "auto",
         "type": "bar",
         "x": [
          1.1294134579200001
         ],
         "xaxis": "x",
         "y": [
          "FRANCE"
         ],
         "yaxis": "y"
        },
        {
         "alignmentgroup": "True",
         "customdata": [
          [
           "8922912-12"
          ]
         ],
         "hovertemplate": "Item Code=%{customdata[0]}<br>CO2 Total=%{x}<br>Customer Country=%{y}<extra></extra>",
         "legendgroup": "8922912-12",
         "marker": {
          "color": "#FFA15A",
          "pattern": {
           "shape": ""
          }
         },
         "name": "8922912-12",
         "offsetgroup": "8922912-12",
         "orientation": "h",
         "showlegend": true,
         "textposition": "auto",
         "type": "bar",
         "x": [
          0.2064898800384
         ],
         "xaxis": "x",
         "y": [
          "FRANCE"
         ],
         "yaxis": "y"
        },
        {
         "alignmentgroup": "True",
         "customdata": [
          [
           "8922931-31"
          ]
         ],
         "hovertemplate": "Item Code=%{customdata[0]}<br>CO2 Total=%{x}<br>Customer Country=%{y}<extra></extra>",
         "legendgroup": "8922931-31",
         "marker": {
          "color": "#19d3f3",
          "pattern": {
           "shape": ""
          }
         },
         "name": "8922931-31",
         "offsetgroup": "8922931-31",
         "orientation": "h",
         "showlegend": true,
         "textposition": "auto",
         "type": "bar",
         "x": [
          0.0366717681100798
         ],
         "xaxis": "x",
         "y": [
          "FRANCE"
         ],
         "yaxis": "y"
        },
        {
         "alignmentgroup": "True",
         "customdata": [
          [
           "893133-33"
          ]
         ],
         "hovertemplate": "Item Code=%{customdata[0]}<br>CO2 Total=%{x}<br>Customer Country=%{y}<extra></extra>",
         "legendgroup": "893133-33",
         "marker": {
          "color": "#FF6692",
          "pattern": {
           "shape": ""
          }
         },
         "name": "893133-33",
         "offsetgroup": "893133-33",
         "orientation": "h",
         "showlegend": true,
         "textposition": "auto",
         "type": "bar",
         "x": [
          17.29254158592
         ],
         "xaxis": "x",
         "y": [
          "FRANCE"
         ],
         "yaxis": "y"
        },
        {
         "alignmentgroup": "True",
         "customdata": [
          [
           "893210-10"
          ]
         ],
         "hovertemplate": "Item Code=%{customdata[0]}<br>CO2 Total=%{x}<br>Customer Country=%{y}<extra></extra>",
         "legendgroup": "893210-10",
         "marker": {
          "color": "#B6E880",
          "pattern": {
           "shape": ""
          }
         },
         "name": "893210-10",
         "offsetgroup": "893210-10",
         "orientation": "h",
         "showlegend": true,
         "textposition": "auto",
         "type": "bar",
         "x": [
          0.14126036352
         ],
         "xaxis": "x",
         "y": [
          "FRANCE"
         ],
         "yaxis": "y"
        },
        {
         "alignmentgroup": "True",
         "customdata": [
          [
           "8932331-31"
          ]
         ],
         "hovertemplate": "Item Code=%{customdata[0]}<br>CO2 Total=%{x}<br>Customer Country=%{y}<extra></extra>",
         "legendgroup": "8932331-31",
         "marker": {
          "color": "#FF97FF",
          "pattern": {
           "shape": ""
          }
         },
         "name": "8932331-31",
         "offsetgroup": "8932331-31",
         "orientation": "h",
         "showlegend": true,
         "textposition": "auto",
         "type": "bar",
         "x": [
          0.0300440419199998
         ],
         "xaxis": "x",
         "y": [
          "FRANCE"
         ],
         "yaxis": "y"
        },
        {
         "alignmentgroup": "True",
         "customdata": [
          [
           "8949591-91"
          ],
          [
           "8949591-91"
          ]
         ],
         "hovertemplate": "Item Code=%{customdata[0]}<br>CO2 Total=%{x}<br>Customer Country=%{y}<extra></extra>",
         "legendgroup": "8949591-91",
         "marker": {
          "color": "#FECB52",
          "pattern": {
           "shape": ""
          }
         },
         "name": "8949591-91",
         "offsetgroup": "8949591-91",
         "orientation": "h",
         "showlegend": true,
         "textposition": "auto",
         "type": "bar",
         "x": [
          25.896107980800004,
          116.854272
         ],
         "xaxis": "x",
         "y": [
          "FRANCE",
          "GERMANY"
         ],
         "yaxis": "y"
        },
        {
         "alignmentgroup": "True",
         "customdata": [
          [
           "8957894-94"
          ]
         ],
         "hovertemplate": "Item Code=%{customdata[0]}<br>CO2 Total=%{x}<br>Customer Country=%{y}<extra></extra>",
         "legendgroup": "8957894-94",
         "marker": {
          "color": "#636efa",
          "pattern": {
           "shape": ""
          }
         },
         "name": "8957894-94",
         "offsetgroup": "8957894-94",
         "orientation": "h",
         "showlegend": true,
         "textposition": "auto",
         "type": "bar",
         "x": [
          0.5840082966527999
         ],
         "xaxis": "x",
         "y": [
          "FRANCE"
         ],
         "yaxis": "y"
        },
        {
         "alignmentgroup": "True",
         "customdata": [
          [
           "8957921-21"
          ],
          [
           "8957921-21"
          ]
         ],
         "hovertemplate": "Item Code=%{customdata[0]}<br>CO2 Total=%{x}<br>Customer Country=%{y}<extra></extra>",
         "legendgroup": "8957921-21",
         "marker": {
          "color": "#EF553B",
          "pattern": {
           "shape": ""
          }
         },
         "name": "8957921-21",
         "offsetgroup": "8957921-21",
         "orientation": "h",
         "showlegend": true,
         "textposition": "auto",
         "type": "bar",
         "x": [
          0.289504996761598,
          0.0637805055999996
         ],
         "xaxis": "x",
         "y": [
          "FRANCE",
          "UNITED KINGDOM"
         ],
         "yaxis": "y"
        },
        {
         "alignmentgroup": "True",
         "customdata": [
          [
           "895933-33"
          ]
         ],
         "hovertemplate": "Item Code=%{customdata[0]}<br>CO2 Total=%{x}<br>Customer Country=%{y}<extra></extra>",
         "legendgroup": "895933-33",
         "marker": {
          "color": "#00cc96",
          "pattern": {
           "shape": ""
          }
         },
         "name": "895933-33",
         "offsetgroup": "895933-33",
         "orientation": "h",
         "showlegend": true,
         "textposition": "auto",
         "type": "bar",
         "x": [
          1.153635264
         ],
         "xaxis": "x",
         "y": [
          "FRANCE"
         ],
         "yaxis": "y"
        },
        {
         "alignmentgroup": "True",
         "customdata": [
          [
           "895956-56"
          ]
         ],
         "hovertemplate": "Item Code=%{customdata[0]}<br>CO2 Total=%{x}<br>Customer Country=%{y}<extra></extra>",
         "legendgroup": "895956-56",
         "marker": {
          "color": "#ab63fa",
          "pattern": {
           "shape": ""
          }
         },
         "name": "895956-56",
         "offsetgroup": "895956-56",
         "orientation": "h",
         "showlegend": true,
         "textposition": "auto",
         "type": "bar",
         "x": [
          9.336901962624
         ],
         "xaxis": "x",
         "y": [
          "FRANCE"
         ],
         "yaxis": "y"
        },
        {
         "alignmentgroup": "True",
         "customdata": [
          [
           "896016-16"
          ]
         ],
         "hovertemplate": "Item Code=%{customdata[0]}<br>CO2 Total=%{x}<br>Customer Country=%{y}<extra></extra>",
         "legendgroup": "896016-16",
         "marker": {
          "color": "#FFA15A",
          "pattern": {
           "shape": ""
          }
         },
         "name": "896016-16",
         "offsetgroup": "896016-16",
         "orientation": "h",
         "showlegend": true,
         "textposition": "auto",
         "type": "bar",
         "x": [
          0.1704728702399993
         ],
         "xaxis": "x",
         "y": [
          "FRANCE"
         ],
         "yaxis": "y"
        },
        {
         "alignmentgroup": "True",
         "customdata": [
          [
           "896049-49"
          ]
         ],
         "hovertemplate": "Item Code=%{customdata[0]}<br>CO2 Total=%{x}<br>Customer Country=%{y}<extra></extra>",
         "legendgroup": "896049-49",
         "marker": {
          "color": "#19d3f3",
          "pattern": {
           "shape": ""
          }
         },
         "name": "896049-49",
         "offsetgroup": "896049-49",
         "orientation": "h",
         "showlegend": true,
         "textposition": "auto",
         "type": "bar",
         "x": [
          1.9851010550399983
         ],
         "xaxis": "x",
         "y": [
          "FRANCE"
         ],
         "yaxis": "y"
        },
        {
         "alignmentgroup": "True",
         "customdata": [
          [
           "896996-96"
          ],
          [
           "896996-96"
          ]
         ],
         "hovertemplate": "Item Code=%{customdata[0]}<br>CO2 Total=%{x}<br>Customer Country=%{y}<extra></extra>",
         "legendgroup": "896996-96",
         "marker": {
          "color": "#FF6692",
          "pattern": {
           "shape": ""
          }
         },
         "name": "896996-96",
         "offsetgroup": "896996-96",
         "orientation": "h",
         "showlegend": true,
         "textposition": "auto",
         "type": "bar",
         "x": [
          22.61164459008,
          70.6384896
         ],
         "xaxis": "x",
         "y": [
          "FRANCE",
          "GERMANY"
         ],
         "yaxis": "y"
        },
        {
         "alignmentgroup": "True",
         "customdata": [
          [
           "8969961-61"
          ],
          [
           "8969961-61"
          ]
         ],
         "hovertemplate": "Item Code=%{customdata[0]}<br>CO2 Total=%{x}<br>Customer Country=%{y}<extra></extra>",
         "legendgroup": "8969961-61",
         "marker": {
          "color": "#B6E880",
          "pattern": {
           "shape": ""
          }
         },
         "name": "8969961-61",
         "offsetgroup": "8969961-61",
         "orientation": "h",
         "showlegend": true,
         "textposition": "auto",
         "type": "bar",
         "x": [
          53.92007556096,
          98.89388543999999
         ],
         "xaxis": "x",
         "y": [
          "FRANCE",
          "GERMANY"
         ],
         "yaxis": "y"
        },
        {
         "alignmentgroup": "True",
         "customdata": [
          [
           "897001-01"
          ]
         ],
         "hovertemplate": "Item Code=%{customdata[0]}<br>CO2 Total=%{x}<br>Customer Country=%{y}<extra></extra>",
         "legendgroup": "897001-01",
         "marker": {
          "color": "#FF97FF",
          "pattern": {
           "shape": ""
          }
         },
         "name": "897001-01",
         "offsetgroup": "897001-01",
         "orientation": "h",
         "showlegend": true,
         "textposition": "auto",
         "type": "bar",
         "x": [
          1.235728291968
         ],
         "xaxis": "x",
         "y": [
          "FRANCE"
         ],
         "yaxis": "y"
        },
        {
         "alignmentgroup": "True",
         "customdata": [
          [
           "897690-90"
          ]
         ],
         "hovertemplate": "Item Code=%{customdata[0]}<br>CO2 Total=%{x}<br>Customer Country=%{y}<extra></extra>",
         "legendgroup": "897690-90",
         "marker": {
          "color": "#FECB52",
          "pattern": {
           "shape": ""
          }
         },
         "name": "897690-90",
         "offsetgroup": "897690-90",
         "orientation": "h",
         "showlegend": true,
         "textposition": "auto",
         "type": "bar",
         "x": [
          0.06925872192
         ],
         "xaxis": "x",
         "y": [
          "FRANCE"
         ],
         "yaxis": "y"
        },
        {
         "alignmentgroup": "True",
         "customdata": [
          [
           "897785-85"
          ]
         ],
         "hovertemplate": "Item Code=%{customdata[0]}<br>CO2 Total=%{x}<br>Customer Country=%{y}<extra></extra>",
         "legendgroup": "897785-85",
         "marker": {
          "color": "#636efa",
          "pattern": {
           "shape": ""
          }
         },
         "name": "897785-85",
         "offsetgroup": "897785-85",
         "orientation": "h",
         "showlegend": true,
         "textposition": "auto",
         "type": "bar",
         "x": [
          6.53478708864
         ],
         "xaxis": "x",
         "y": [
          "FRANCE"
         ],
         "yaxis": "y"
        },
        {
         "alignmentgroup": "True",
         "customdata": [
          [
           "900338-38"
          ]
         ],
         "hovertemplate": "Item Code=%{customdata[0]}<br>CO2 Total=%{x}<br>Customer Country=%{y}<extra></extra>",
         "legendgroup": "900338-38",
         "marker": {
          "color": "#EF553B",
          "pattern": {
           "shape": ""
          }
         },
         "name": "900338-38",
         "offsetgroup": "900338-38",
         "orientation": "h",
         "showlegend": true,
         "textposition": "auto",
         "type": "bar",
         "x": [
          0.884940420672
         ],
         "xaxis": "x",
         "y": [
          "FRANCE"
         ],
         "yaxis": "y"
        },
        {
         "alignmentgroup": "True",
         "customdata": [
          [
           "9003561-61"
          ]
         ],
         "hovertemplate": "Item Code=%{customdata[0]}<br>CO2 Total=%{x}<br>Customer Country=%{y}<extra></extra>",
         "legendgroup": "9003561-61",
         "marker": {
          "color": "#00cc96",
          "pattern": {
           "shape": ""
          }
         },
         "name": "9003561-61",
         "offsetgroup": "9003561-61",
         "orientation": "h",
         "showlegend": true,
         "textposition": "auto",
         "type": "bar",
         "x": [
          0.5192660630399996
         ],
         "xaxis": "x",
         "y": [
          "FRANCE"
         ],
         "yaxis": "y"
        },
        {
         "alignmentgroup": "True",
         "customdata": [
          [
           "9003562-62"
          ]
         ],
         "hovertemplate": "Item Code=%{customdata[0]}<br>CO2 Total=%{x}<br>Customer Country=%{y}<extra></extra>",
         "legendgroup": "9003562-62",
         "marker": {
          "color": "#ab63fa",
          "pattern": {
           "shape": ""
          }
         },
         "name": "9003562-62",
         "offsetgroup": "9003562-62",
         "orientation": "h",
         "showlegend": true,
         "textposition": "auto",
         "type": "bar",
         "x": [
          0.1188215039999999
         ],
         "xaxis": "x",
         "y": [
          "FRANCE"
         ],
         "yaxis": "y"
        },
        {
         "alignmentgroup": "True",
         "customdata": [
          [
           "9017582-82"
          ]
         ],
         "hovertemplate": "Item Code=%{customdata[0]}<br>CO2 Total=%{x}<br>Customer Country=%{y}<extra></extra>",
         "legendgroup": "9017582-82",
         "marker": {
          "color": "#FFA15A",
          "pattern": {
           "shape": ""
          }
         },
         "name": "9017582-82",
         "offsetgroup": "9017582-82",
         "orientation": "h",
         "showlegend": true,
         "textposition": "auto",
         "type": "bar",
         "x": [
          0.157674617856
         ],
         "xaxis": "x",
         "y": [
          "FRANCE"
         ],
         "yaxis": "y"
        },
        {
         "alignmentgroup": "True",
         "customdata": [
          [
           "9020801-01"
          ]
         ],
         "hovertemplate": "Item Code=%{customdata[0]}<br>CO2 Total=%{x}<br>Customer Country=%{y}<extra></extra>",
         "legendgroup": "9020801-01",
         "marker": {
          "color": "#19d3f3",
          "pattern": {
           "shape": ""
          }
         },
         "name": "9020801-01",
         "offsetgroup": "9020801-01",
         "orientation": "h",
         "showlegend": true,
         "textposition": "auto",
         "type": "bar",
         "x": [
          0.8949455119871991
         ],
         "xaxis": "x",
         "y": [
          "FRANCE"
         ],
         "yaxis": "y"
        },
        {
         "alignmentgroup": "True",
         "customdata": [
          [
           "902126-26"
          ]
         ],
         "hovertemplate": "Item Code=%{customdata[0]}<br>CO2 Total=%{x}<br>Customer Country=%{y}<extra></extra>",
         "legendgroup": "902126-26",
         "marker": {
          "color": "#FF6692",
          "pattern": {
           "shape": ""
          }
         },
         "name": "902126-26",
         "offsetgroup": "902126-26",
         "orientation": "h",
         "showlegend": true,
         "textposition": "auto",
         "type": "bar",
         "x": [
          13.60709081664
         ],
         "xaxis": "x",
         "y": [
          "FRANCE"
         ],
         "yaxis": "y"
        },
        {
         "alignmentgroup": "True",
         "customdata": [
          [
           "9049263-63"
          ]
         ],
         "hovertemplate": "Item Code=%{customdata[0]}<br>CO2 Total=%{x}<br>Customer Country=%{y}<extra></extra>",
         "legendgroup": "9049263-63",
         "marker": {
          "color": "#B6E880",
          "pattern": {
           "shape": ""
          }
         },
         "name": "9049263-63",
         "offsetgroup": "9049263-63",
         "orientation": "h",
         "showlegend": true,
         "textposition": "auto",
         "type": "bar",
         "x": [
          11.51955538099199
         ],
         "xaxis": "x",
         "y": [
          "FRANCE"
         ],
         "yaxis": "y"
        },
        {
         "alignmentgroup": "True",
         "customdata": [
          [
           "905456-56"
          ]
         ],
         "hovertemplate": "Item Code=%{customdata[0]}<br>CO2 Total=%{x}<br>Customer Country=%{y}<extra></extra>",
         "legendgroup": "905456-56",
         "marker": {
          "color": "#FF97FF",
          "pattern": {
           "shape": ""
          }
         },
         "name": "905456-56",
         "offsetgroup": "905456-56",
         "orientation": "h",
         "showlegend": true,
         "textposition": "auto",
         "type": "bar",
         "x": [
          0.14849746944
         ],
         "xaxis": "x",
         "y": [
          "FRANCE"
         ],
         "yaxis": "y"
        },
        {
         "alignmentgroup": "True",
         "customdata": [
          [
           "905470-70"
          ]
         ],
         "hovertemplate": "Item Code=%{customdata[0]}<br>CO2 Total=%{x}<br>Customer Country=%{y}<extra></extra>",
         "legendgroup": "905470-70",
         "marker": {
          "color": "#FECB52",
          "pattern": {
           "shape": ""
          }
         },
         "name": "905470-70",
         "offsetgroup": "905470-70",
         "orientation": "h",
         "showlegend": true,
         "textposition": "auto",
         "type": "bar",
         "x": [
          13.428019584
         ],
         "xaxis": "x",
         "y": [
          "FRANCE"
         ],
         "yaxis": "y"
        },
        {
         "alignmentgroup": "True",
         "customdata": [
          [
           "905471-71"
          ]
         ],
         "hovertemplate": "Item Code=%{customdata[0]}<br>CO2 Total=%{x}<br>Customer Country=%{y}<extra></extra>",
         "legendgroup": "905471-71",
         "marker": {
          "color": "#636efa",
          "pattern": {
           "shape": ""
          }
         },
         "name": "905471-71",
         "offsetgroup": "905471-71",
         "orientation": "h",
         "showlegend": true,
         "textposition": "auto",
         "type": "bar",
         "x": [
          0.280998144
         ],
         "xaxis": "x",
         "y": [
          "FRANCE"
         ],
         "yaxis": "y"
        },
        {
         "alignmentgroup": "True",
         "customdata": [
          [
           "9078342-42"
          ]
         ],
         "hovertemplate": "Item Code=%{customdata[0]}<br>CO2 Total=%{x}<br>Customer Country=%{y}<extra></extra>",
         "legendgroup": "9078342-42",
         "marker": {
          "color": "#EF553B",
          "pattern": {
           "shape": ""
          }
         },
         "name": "9078342-42",
         "offsetgroup": "9078342-42",
         "orientation": "h",
         "showlegend": true,
         "textposition": "auto",
         "type": "bar",
         "x": [
          9.480517413120001
         ],
         "xaxis": "x",
         "y": [
          "FRANCE"
         ],
         "yaxis": "y"
        },
        {
         "alignmentgroup": "True",
         "customdata": [
          [
           "9117372-72"
          ]
         ],
         "hovertemplate": "Item Code=%{customdata[0]}<br>CO2 Total=%{x}<br>Customer Country=%{y}<extra></extra>",
         "legendgroup": "9117372-72",
         "marker": {
          "color": "#00cc96",
          "pattern": {
           "shape": ""
          }
         },
         "name": "9117372-72",
         "offsetgroup": "9117372-72",
         "orientation": "h",
         "showlegend": true,
         "textposition": "auto",
         "type": "bar",
         "x": [
          51.14679844800001
         ],
         "xaxis": "x",
         "y": [
          "FRANCE"
         ],
         "yaxis": "y"
        },
        {
         "alignmentgroup": "True",
         "customdata": [
          [
           "9117381-81"
          ]
         ],
         "hovertemplate": "Item Code=%{customdata[0]}<br>CO2 Total=%{x}<br>Customer Country=%{y}<extra></extra>",
         "legendgroup": "9117381-81",
         "marker": {
          "color": "#ab63fa",
          "pattern": {
           "shape": ""
          }
         },
         "name": "9117381-81",
         "offsetgroup": "9117381-81",
         "orientation": "h",
         "showlegend": true,
         "textposition": "auto",
         "type": "bar",
         "x": [
          10.68622483968
         ],
         "xaxis": "x",
         "y": [
          "FRANCE"
         ],
         "yaxis": "y"
        },
        {
         "alignmentgroup": "True",
         "customdata": [
          [
           "911748-48"
          ]
         ],
         "hovertemplate": "Item Code=%{customdata[0]}<br>CO2 Total=%{x}<br>Customer Country=%{y}<extra></extra>",
         "legendgroup": "911748-48",
         "marker": {
          "color": "#FFA15A",
          "pattern": {
           "shape": ""
          }
         },
         "name": "911748-48",
         "offsetgroup": "911748-48",
         "orientation": "h",
         "showlegend": true,
         "textposition": "auto",
         "type": "bar",
         "x": [
          5.655160368
         ],
         "xaxis": "x",
         "y": [
          "FRANCE"
         ],
         "yaxis": "y"
        },
        {
         "alignmentgroup": "True",
         "customdata": [
          [
           "9117494-94"
          ]
         ],
         "hovertemplate": "Item Code=%{customdata[0]}<br>CO2 Total=%{x}<br>Customer Country=%{y}<extra></extra>",
         "legendgroup": "9117494-94",
         "marker": {
          "color": "#19d3f3",
          "pattern": {
           "shape": ""
          }
         },
         "name": "9117494-94",
         "offsetgroup": "9117494-94",
         "orientation": "h",
         "showlegend": true,
         "textposition": "auto",
         "type": "bar",
         "x": [
          2.7459082917120003
         ],
         "xaxis": "x",
         "y": [
          "FRANCE"
         ],
         "yaxis": "y"
        },
        {
         "alignmentgroup": "True",
         "customdata": [
          [
           "911750-50"
          ]
         ],
         "hovertemplate": "Item Code=%{customdata[0]}<br>CO2 Total=%{x}<br>Customer Country=%{y}<extra></extra>",
         "legendgroup": "911750-50",
         "marker": {
          "color": "#FF6692",
          "pattern": {
           "shape": ""
          }
         },
         "name": "911750-50",
         "offsetgroup": "911750-50",
         "orientation": "h",
         "showlegend": true,
         "textposition": "auto",
         "type": "bar",
         "x": [
          1.6606630791360002
         ],
         "xaxis": "x",
         "y": [
          "FRANCE"
         ],
         "yaxis": "y"
        },
        {
         "alignmentgroup": "True",
         "customdata": [
          [
           "911752-52"
          ]
         ],
         "hovertemplate": "Item Code=%{customdata[0]}<br>CO2 Total=%{x}<br>Customer Country=%{y}<extra></extra>",
         "legendgroup": "911752-52",
         "marker": {
          "color": "#B6E880",
          "pattern": {
           "shape": ""
          }
         },
         "name": "911752-52",
         "offsetgroup": "911752-52",
         "orientation": "h",
         "showlegend": true,
         "textposition": "auto",
         "type": "bar",
         "x": [
          0.94725490944
         ],
         "xaxis": "x",
         "y": [
          "FRANCE"
         ],
         "yaxis": "y"
        },
        {
         "alignmentgroup": "True",
         "customdata": [
          [
           "9117533-33"
          ]
         ],
         "hovertemplate": "Item Code=%{customdata[0]}<br>CO2 Total=%{x}<br>Customer Country=%{y}<extra></extra>",
         "legendgroup": "9117533-33",
         "marker": {
          "color": "#FF97FF",
          "pattern": {
           "shape": ""
          }
         },
         "name": "9117533-33",
         "offsetgroup": "9117533-33",
         "orientation": "h",
         "showlegend": true,
         "textposition": "auto",
         "type": "bar",
         "x": [
          9.9938179872
         ],
         "xaxis": "x",
         "y": [
          "FRANCE"
         ],
         "yaxis": "y"
        },
        {
         "alignmentgroup": "True",
         "customdata": [
          [
           "9122721-21"
          ]
         ],
         "hovertemplate": "Item Code=%{customdata[0]}<br>CO2 Total=%{x}<br>Customer Country=%{y}<extra></extra>",
         "legendgroup": "9122721-21",
         "marker": {
          "color": "#FECB52",
          "pattern": {
           "shape": ""
          }
         },
         "name": "9122721-21",
         "offsetgroup": "9122721-21",
         "orientation": "h",
         "showlegend": true,
         "textposition": "auto",
         "type": "bar",
         "x": [
          9.481087326336
         ],
         "xaxis": "x",
         "y": [
          "FRANCE"
         ],
         "yaxis": "y"
        },
        {
         "alignmentgroup": "True",
         "customdata": [
          [
           "9122741-41"
          ]
         ],
         "hovertemplate": "Item Code=%{customdata[0]}<br>CO2 Total=%{x}<br>Customer Country=%{y}<extra></extra>",
         "legendgroup": "9122741-41",
         "marker": {
          "color": "#636efa",
          "pattern": {
           "shape": ""
          }
         },
         "name": "9122741-41",
         "offsetgroup": "9122741-41",
         "orientation": "h",
         "showlegend": true,
         "textposition": "auto",
         "type": "bar",
         "x": [
          10.26071870208
         ],
         "xaxis": "x",
         "y": [
          "FRANCE"
         ],
         "yaxis": "y"
        },
        {
         "alignmentgroup": "True",
         "customdata": [
          [
           "9122751-51"
          ]
         ],
         "hovertemplate": "Item Code=%{customdata[0]}<br>CO2 Total=%{x}<br>Customer Country=%{y}<extra></extra>",
         "legendgroup": "9122751-51",
         "marker": {
          "color": "#EF553B",
          "pattern": {
           "shape": ""
          }
         },
         "name": "9122751-51",
         "offsetgroup": "9122751-51",
         "orientation": "h",
         "showlegend": true,
         "textposition": "auto",
         "type": "bar",
         "x": [
          5.641920852480001
         ],
         "xaxis": "x",
         "y": [
          "FRANCE"
         ],
         "yaxis": "y"
        },
        {
         "alignmentgroup": "True",
         "customdata": [
          [
           "9122762-62"
          ]
         ],
         "hovertemplate": "Item Code=%{customdata[0]}<br>CO2 Total=%{x}<br>Customer Country=%{y}<extra></extra>",
         "legendgroup": "9122762-62",
         "marker": {
          "color": "#00cc96",
          "pattern": {
           "shape": ""
          }
         },
         "name": "9122762-62",
         "offsetgroup": "9122762-62",
         "orientation": "h",
         "showlegend": true,
         "textposition": "auto",
         "type": "bar",
         "x": [
          14.588511563520001
         ],
         "xaxis": "x",
         "y": [
          "FRANCE"
         ],
         "yaxis": "y"
        },
        {
         "alignmentgroup": "True",
         "customdata": [
          [
           "9122781-81"
          ]
         ],
         "hovertemplate": "Item Code=%{customdata[0]}<br>CO2 Total=%{x}<br>Customer Country=%{y}<extra></extra>",
         "legendgroup": "9122781-81",
         "marker": {
          "color": "#ab63fa",
          "pattern": {
           "shape": ""
          }
         },
         "name": "9122781-81",
         "offsetgroup": "9122781-81",
         "orientation": "h",
         "showlegend": true,
         "textposition": "auto",
         "type": "bar",
         "x": [
          0.36754944
         ],
         "xaxis": "x",
         "y": [
          "FRANCE"
         ],
         "yaxis": "y"
        },
        {
         "alignmentgroup": "True",
         "customdata": [
          [
           "9126352-52"
          ]
         ],
         "hovertemplate": "Item Code=%{customdata[0]}<br>CO2 Total=%{x}<br>Customer Country=%{y}<extra></extra>",
         "legendgroup": "9126352-52",
         "marker": {
          "color": "#FFA15A",
          "pattern": {
           "shape": ""
          }
         },
         "name": "9126352-52",
         "offsetgroup": "9126352-52",
         "orientation": "h",
         "showlegend": true,
         "textposition": "auto",
         "type": "bar",
         "x": [
          0.16987336079999998
         ],
         "xaxis": "x",
         "y": [
          "FRANCE"
         ],
         "yaxis": "y"
        },
        {
         "alignmentgroup": "True",
         "customdata": [
          [
           "9126353-53"
          ]
         ],
         "hovertemplate": "Item Code=%{customdata[0]}<br>CO2 Total=%{x}<br>Customer Country=%{y}<extra></extra>",
         "legendgroup": "9126353-53",
         "marker": {
          "color": "#19d3f3",
          "pattern": {
           "shape": ""
          }
         },
         "name": "9126353-53",
         "offsetgroup": "9126353-53",
         "orientation": "h",
         "showlegend": true,
         "textposition": "auto",
         "type": "bar",
         "x": [
          0.23782270512
         ],
         "xaxis": "x",
         "y": [
          "FRANCE"
         ],
         "yaxis": "y"
        },
        {
         "alignmentgroup": "True",
         "customdata": [
          [
           "9126363-63"
          ]
         ],
         "hovertemplate": "Item Code=%{customdata[0]}<br>CO2 Total=%{x}<br>Customer Country=%{y}<extra></extra>",
         "legendgroup": "9126363-63",
         "marker": {
          "color": "#FF6692",
          "pattern": {
           "shape": ""
          }
         },
         "name": "9126363-63",
         "offsetgroup": "9126363-63",
         "orientation": "h",
         "showlegend": true,
         "textposition": "auto",
         "type": "bar",
         "x": [
          0.17054294016
         ],
         "xaxis": "x",
         "y": [
          "FRANCE"
         ],
         "yaxis": "y"
        },
        {
         "alignmentgroup": "True",
         "customdata": [
          [
           "9126371-71"
          ]
         ],
         "hovertemplate": "Item Code=%{customdata[0]}<br>CO2 Total=%{x}<br>Customer Country=%{y}<extra></extra>",
         "legendgroup": "9126371-71",
         "marker": {
          "color": "#B6E880",
          "pattern": {
           "shape": ""
          }
         },
         "name": "9126371-71",
         "offsetgroup": "9126371-71",
         "orientation": "h",
         "showlegend": true,
         "textposition": "auto",
         "type": "bar",
         "x": [
          6.942199318560001
         ],
         "xaxis": "x",
         "y": [
          "FRANCE"
         ],
         "yaxis": "y"
        },
        {
         "alignmentgroup": "True",
         "customdata": [
          [
           "9126451-51"
          ]
         ],
         "hovertemplate": "Item Code=%{customdata[0]}<br>CO2 Total=%{x}<br>Customer Country=%{y}<extra></extra>",
         "legendgroup": "9126451-51",
         "marker": {
          "color": "#FF97FF",
          "pattern": {
           "shape": ""
          }
         },
         "name": "9126451-51",
         "offsetgroup": "9126451-51",
         "orientation": "h",
         "showlegend": true,
         "textposition": "auto",
         "type": "bar",
         "x": [
          12.5309305704
         ],
         "xaxis": "x",
         "y": [
          "FRANCE"
         ],
         "yaxis": "y"
        },
        {
         "alignmentgroup": "True",
         "customdata": [
          [
           "9126461-61"
          ]
         ],
         "hovertemplate": "Item Code=%{customdata[0]}<br>CO2 Total=%{x}<br>Customer Country=%{y}<extra></extra>",
         "legendgroup": "9126461-61",
         "marker": {
          "color": "#FECB52",
          "pattern": {
           "shape": ""
          }
         },
         "name": "9126461-61",
         "offsetgroup": "9126461-61",
         "orientation": "h",
         "showlegend": true,
         "textposition": "auto",
         "type": "bar",
         "x": [
          12.866957241600002
         ],
         "xaxis": "x",
         "y": [
          "FRANCE"
         ],
         "yaxis": "y"
        },
        {
         "alignmentgroup": "True",
         "customdata": [
          [
           "9126711-11"
          ]
         ],
         "hovertemplate": "Item Code=%{customdata[0]}<br>CO2 Total=%{x}<br>Customer Country=%{y}<extra></extra>",
         "legendgroup": "9126711-11",
         "marker": {
          "color": "#636efa",
          "pattern": {
           "shape": ""
          }
         },
         "name": "9126711-11",
         "offsetgroup": "9126711-11",
         "orientation": "h",
         "showlegend": true,
         "textposition": "auto",
         "type": "bar",
         "x": [
          14.51539605542399
         ],
         "xaxis": "x",
         "y": [
          "FRANCE"
         ],
         "yaxis": "y"
        },
        {
         "alignmentgroup": "True",
         "customdata": [
          [
           "918460-60"
          ]
         ],
         "hovertemplate": "Item Code=%{customdata[0]}<br>CO2 Total=%{x}<br>Customer Country=%{y}<extra></extra>",
         "legendgroup": "918460-60",
         "marker": {
          "color": "#EF553B",
          "pattern": {
           "shape": ""
          }
         },
         "name": "918460-60",
         "offsetgroup": "918460-60",
         "orientation": "h",
         "showlegend": true,
         "textposition": "auto",
         "type": "bar",
         "x": [
          0.06480929952
         ],
         "xaxis": "x",
         "y": [
          "FRANCE"
         ],
         "yaxis": "y"
        },
        {
         "alignmentgroup": "True",
         "customdata": [
          [
           "918463-63"
          ]
         ],
         "hovertemplate": "Item Code=%{customdata[0]}<br>CO2 Total=%{x}<br>Customer Country=%{y}<extra></extra>",
         "legendgroup": "918463-63",
         "marker": {
          "color": "#00cc96",
          "pattern": {
           "shape": ""
          }
         },
         "name": "918463-63",
         "offsetgroup": "918463-63",
         "orientation": "h",
         "showlegend": true,
         "textposition": "auto",
         "type": "bar",
         "x": [
          0.1514978239103998
         ],
         "xaxis": "x",
         "y": [
          "FRANCE"
         ],
         "yaxis": "y"
        },
        {
         "alignmentgroup": "True",
         "customdata": [
          [
           "918470-70"
          ]
         ],
         "hovertemplate": "Item Code=%{customdata[0]}<br>CO2 Total=%{x}<br>Customer Country=%{y}<extra></extra>",
         "legendgroup": "918470-70",
         "marker": {
          "color": "#ab63fa",
          "pattern": {
           "shape": ""
          }
         },
         "name": "918470-70",
         "offsetgroup": "918470-70",
         "orientation": "h",
         "showlegend": true,
         "textposition": "auto",
         "type": "bar",
         "x": [
          1.1704714639199998
         ],
         "xaxis": "x",
         "y": [
          "FRANCE"
         ],
         "yaxis": "y"
        },
        {
         "alignmentgroup": "True",
         "customdata": [
          [
           "9184701-01"
          ]
         ],
         "hovertemplate": "Item Code=%{customdata[0]}<br>CO2 Total=%{x}<br>Customer Country=%{y}<extra></extra>",
         "legendgroup": "9184701-01",
         "marker": {
          "color": "#FFA15A",
          "pattern": {
           "shape": ""
          }
         },
         "name": "9184701-01",
         "offsetgroup": "9184701-01",
         "orientation": "h",
         "showlegend": true,
         "textposition": "auto",
         "type": "bar",
         "x": [
          0.08377900703999999
         ],
         "xaxis": "x",
         "y": [
          "FRANCE"
         ],
         "yaxis": "y"
        },
        {
         "alignmentgroup": "True",
         "customdata": [
          [
           "918511-11"
          ]
         ],
         "hovertemplate": "Item Code=%{customdata[0]}<br>CO2 Total=%{x}<br>Customer Country=%{y}<extra></extra>",
         "legendgroup": "918511-11",
         "marker": {
          "color": "#19d3f3",
          "pattern": {
           "shape": ""
          }
         },
         "name": "918511-11",
         "offsetgroup": "918511-11",
         "orientation": "h",
         "showlegend": true,
         "textposition": "auto",
         "type": "bar",
         "x": [
          0.030262677119999998
         ],
         "xaxis": "x",
         "y": [
          "FRANCE"
         ],
         "yaxis": "y"
        },
        {
         "alignmentgroup": "True",
         "customdata": [
          [
           "918515-15"
          ]
         ],
         "hovertemplate": "Item Code=%{customdata[0]}<br>CO2 Total=%{x}<br>Customer Country=%{y}<extra></extra>",
         "legendgroup": "918515-15",
         "marker": {
          "color": "#FF6692",
          "pattern": {
           "shape": ""
          }
         },
         "name": "918515-15",
         "offsetgroup": "918515-15",
         "orientation": "h",
         "showlegend": true,
         "textposition": "auto",
         "type": "bar",
         "x": [
          0.01438728768
         ],
         "xaxis": "x",
         "y": [
          "FRANCE"
         ],
         "yaxis": "y"
        },
        {
         "alignmentgroup": "True",
         "customdata": [
          [
           "918526-26"
          ]
         ],
         "hovertemplate": "Item Code=%{customdata[0]}<br>CO2 Total=%{x}<br>Customer Country=%{y}<extra></extra>",
         "legendgroup": "918526-26",
         "marker": {
          "color": "#B6E880",
          "pattern": {
           "shape": ""
          }
         },
         "name": "918526-26",
         "offsetgroup": "918526-26",
         "orientation": "h",
         "showlegend": true,
         "textposition": "auto",
         "type": "bar",
         "x": [
          0.33962293555199996
         ],
         "xaxis": "x",
         "y": [
          "FRANCE"
         ],
         "yaxis": "y"
        },
        {
         "alignmentgroup": "True",
         "customdata": [
          [
           "918527-27"
          ]
         ],
         "hovertemplate": "Item Code=%{customdata[0]}<br>CO2 Total=%{x}<br>Customer Country=%{y}<extra></extra>",
         "legendgroup": "918527-27",
         "marker": {
          "color": "#FF97FF",
          "pattern": {
           "shape": ""
          }
         },
         "name": "918527-27",
         "offsetgroup": "918527-27",
         "orientation": "h",
         "showlegend": true,
         "textposition": "auto",
         "type": "bar",
         "x": [
          0.066452938752
         ],
         "xaxis": "x",
         "y": [
          "FRANCE"
         ],
         "yaxis": "y"
        },
        {
         "alignmentgroup": "True",
         "customdata": [
          [
           "918533-33"
          ]
         ],
         "hovertemplate": "Item Code=%{customdata[0]}<br>CO2 Total=%{x}<br>Customer Country=%{y}<extra></extra>",
         "legendgroup": "918533-33",
         "marker": {
          "color": "#FECB52",
          "pattern": {
           "shape": ""
          }
         },
         "name": "918533-33",
         "offsetgroup": "918533-33",
         "orientation": "h",
         "showlegend": true,
         "textposition": "auto",
         "type": "bar",
         "x": [
          0.063109582848
         ],
         "xaxis": "x",
         "y": [
          "FRANCE"
         ],
         "yaxis": "y"
        },
        {
         "alignmentgroup": "True",
         "customdata": [
          [
           "918777-77"
          ]
         ],
         "hovertemplate": "Item Code=%{customdata[0]}<br>CO2 Total=%{x}<br>Customer Country=%{y}<extra></extra>",
         "legendgroup": "918777-77",
         "marker": {
          "color": "#636efa",
          "pattern": {
           "shape": ""
          }
         },
         "name": "918777-77",
         "offsetgroup": "918777-77",
         "orientation": "h",
         "showlegend": true,
         "textposition": "auto",
         "type": "bar",
         "x": [
          35.254655569152
         ],
         "xaxis": "x",
         "y": [
          "FRANCE"
         ],
         "yaxis": "y"
        },
        {
         "alignmentgroup": "True",
         "customdata": [
          [
           "918779-79"
          ]
         ],
         "hovertemplate": "Item Code=%{customdata[0]}<br>CO2 Total=%{x}<br>Customer Country=%{y}<extra></extra>",
         "legendgroup": "918779-79",
         "marker": {
          "color": "#EF553B",
          "pattern": {
           "shape": ""
          }
         },
         "name": "918779-79",
         "offsetgroup": "918779-79",
         "orientation": "h",
         "showlegend": true,
         "textposition": "auto",
         "type": "bar",
         "x": [
          3.514360725503999
         ],
         "xaxis": "x",
         "y": [
          "FRANCE"
         ],
         "yaxis": "y"
        },
        {
         "alignmentgroup": "True",
         "customdata": [
          [
           "918780-80"
          ]
         ],
         "hovertemplate": "Item Code=%{customdata[0]}<br>CO2 Total=%{x}<br>Customer Country=%{y}<extra></extra>",
         "legendgroup": "918780-80",
         "marker": {
          "color": "#00cc96",
          "pattern": {
           "shape": ""
          }
         },
         "name": "918780-80",
         "offsetgroup": "918780-80",
         "orientation": "h",
         "showlegend": true,
         "textposition": "auto",
         "type": "bar",
         "x": [
          2.8751775473664
         ],
         "xaxis": "x",
         "y": [
          "FRANCE"
         ],
         "yaxis": "y"
        },
        {
         "alignmentgroup": "True",
         "customdata": [
          [
           "919261-61"
          ]
         ],
         "hovertemplate": "Item Code=%{customdata[0]}<br>CO2 Total=%{x}<br>Customer Country=%{y}<extra></extra>",
         "legendgroup": "919261-61",
         "marker": {
          "color": "#ab63fa",
          "pattern": {
           "shape": ""
          }
         },
         "name": "919261-61",
         "offsetgroup": "919261-61",
         "orientation": "h",
         "showlegend": true,
         "textposition": "auto",
         "type": "bar",
         "x": [
          0.0249051500543999
         ],
         "xaxis": "x",
         "y": [
          "FRANCE"
         ],
         "yaxis": "y"
        },
        {
         "alignmentgroup": "True",
         "customdata": [
          [
           "919266-66"
          ]
         ],
         "hovertemplate": "Item Code=%{customdata[0]}<br>CO2 Total=%{x}<br>Customer Country=%{y}<extra></extra>",
         "legendgroup": "919266-66",
         "marker": {
          "color": "#FFA15A",
          "pattern": {
           "shape": ""
          }
         },
         "name": "919266-66",
         "offsetgroup": "919266-66",
         "orientation": "h",
         "showlegend": true,
         "textposition": "auto",
         "type": "bar",
         "x": [
          0.00437531136
         ],
         "xaxis": "x",
         "y": [
          "FRANCE"
         ],
         "yaxis": "y"
        },
        {
         "alignmentgroup": "True",
         "customdata": [
          [
           "919289-89"
          ]
         ],
         "hovertemplate": "Item Code=%{customdata[0]}<br>CO2 Total=%{x}<br>Customer Country=%{y}<extra></extra>",
         "legendgroup": "919289-89",
         "marker": {
          "color": "#19d3f3",
          "pattern": {
           "shape": ""
          }
         },
         "name": "919289-89",
         "offsetgroup": "919289-89",
         "orientation": "h",
         "showlegend": true,
         "textposition": "auto",
         "type": "bar",
         "x": [
          0.8470587637055998
         ],
         "xaxis": "x",
         "y": [
          "FRANCE"
         ],
         "yaxis": "y"
        },
        {
         "alignmentgroup": "True",
         "customdata": [
          [
           "919390-90"
          ]
         ],
         "hovertemplate": "Item Code=%{customdata[0]}<br>CO2 Total=%{x}<br>Customer Country=%{y}<extra></extra>",
         "legendgroup": "919390-90",
         "marker": {
          "color": "#FF6692",
          "pattern": {
           "shape": ""
          }
         },
         "name": "919390-90",
         "offsetgroup": "919390-90",
         "orientation": "h",
         "showlegend": true,
         "textposition": "auto",
         "type": "bar",
         "x": [
          0.3609631872
         ],
         "xaxis": "x",
         "y": [
          "FRANCE"
         ],
         "yaxis": "y"
        },
        {
         "alignmentgroup": "True",
         "customdata": [
          [
           "920289-89"
          ]
         ],
         "hovertemplate": "Item Code=%{customdata[0]}<br>CO2 Total=%{x}<br>Customer Country=%{y}<extra></extra>",
         "legendgroup": "920289-89",
         "marker": {
          "color": "#B6E880",
          "pattern": {
           "shape": ""
          }
         },
         "name": "920289-89",
         "offsetgroup": "920289-89",
         "orientation": "h",
         "showlegend": true,
         "textposition": "auto",
         "type": "bar",
         "x": [
          0.0394679375999999
         ],
         "xaxis": "x",
         "y": [
          "FRANCE"
         ],
         "yaxis": "y"
        },
        {
         "alignmentgroup": "True",
         "customdata": [
          [
           "9202911-11"
          ]
         ],
         "hovertemplate": "Item Code=%{customdata[0]}<br>CO2 Total=%{x}<br>Customer Country=%{y}<extra></extra>",
         "legendgroup": "9202911-11",
         "marker": {
          "color": "#FF97FF",
          "pattern": {
           "shape": ""
          }
         },
         "name": "9202911-11",
         "offsetgroup": "9202911-11",
         "orientation": "h",
         "showlegend": true,
         "textposition": "auto",
         "type": "bar",
         "x": [
          1.014007008
         ],
         "xaxis": "x",
         "y": [
          "FRANCE"
         ],
         "yaxis": "y"
        },
        {
         "alignmentgroup": "True",
         "customdata": [
          [
           "920292-92"
          ]
         ],
         "hovertemplate": "Item Code=%{customdata[0]}<br>CO2 Total=%{x}<br>Customer Country=%{y}<extra></extra>",
         "legendgroup": "920292-92",
         "marker": {
          "color": "#FECB52",
          "pattern": {
           "shape": ""
          }
         },
         "name": "920292-92",
         "offsetgroup": "920292-92",
         "orientation": "h",
         "showlegend": true,
         "textposition": "auto",
         "type": "bar",
         "x": [
          0.1549015872
         ],
         "xaxis": "x",
         "y": [
          "FRANCE"
         ],
         "yaxis": "y"
        },
        {
         "alignmentgroup": "True",
         "customdata": [
          [
           "920293-93"
          ]
         ],
         "hovertemplate": "Item Code=%{customdata[0]}<br>CO2 Total=%{x}<br>Customer Country=%{y}<extra></extra>",
         "legendgroup": "920293-93",
         "marker": {
          "color": "#636efa",
          "pattern": {
           "shape": ""
          }
         },
         "name": "920293-93",
         "offsetgroup": "920293-93",
         "orientation": "h",
         "showlegend": true,
         "textposition": "auto",
         "type": "bar",
         "x": [
          24.9176494404
         ],
         "xaxis": "x",
         "y": [
          "FRANCE"
         ],
         "yaxis": "y"
        },
        {
         "alignmentgroup": "True",
         "customdata": [
          [
           "9202962-62"
          ]
         ],
         "hovertemplate": "Item Code=%{customdata[0]}<br>CO2 Total=%{x}<br>Customer Country=%{y}<extra></extra>",
         "legendgroup": "9202962-62",
         "marker": {
          "color": "#EF553B",
          "pattern": {
           "shape": ""
          }
         },
         "name": "9202962-62",
         "offsetgroup": "9202962-62",
         "orientation": "h",
         "showlegend": true,
         "textposition": "auto",
         "type": "bar",
         "x": [
          10.112190649200002
         ],
         "xaxis": "x",
         "y": [
          "FRANCE"
         ],
         "yaxis": "y"
        },
        {
         "alignmentgroup": "True",
         "customdata": [
          [
           "9203822-22"
          ]
         ],
         "hovertemplate": "Item Code=%{customdata[0]}<br>CO2 Total=%{x}<br>Customer Country=%{y}<extra></extra>",
         "legendgroup": "9203822-22",
         "marker": {
          "color": "#00cc96",
          "pattern": {
           "shape": ""
          }
         },
         "name": "9203822-22",
         "offsetgroup": "9203822-22",
         "orientation": "h",
         "showlegend": true,
         "textposition": "auto",
         "type": "bar",
         "x": [
          0.0756566927999998
         ],
         "xaxis": "x",
         "y": [
          "FRANCE"
         ],
         "yaxis": "y"
        },
        {
         "alignmentgroup": "True",
         "customdata": [
          [
           "920397-97"
          ]
         ],
         "hovertemplate": "Item Code=%{customdata[0]}<br>CO2 Total=%{x}<br>Customer Country=%{y}<extra></extra>",
         "legendgroup": "920397-97",
         "marker": {
          "color": "#ab63fa",
          "pattern": {
           "shape": ""
          }
         },
         "name": "920397-97",
         "offsetgroup": "920397-97",
         "orientation": "h",
         "showlegend": true,
         "textposition": "auto",
         "type": "bar",
         "x": [
          0.2113115240447994
         ],
         "xaxis": "x",
         "y": [
          "FRANCE"
         ],
         "yaxis": "y"
        },
        {
         "alignmentgroup": "True",
         "customdata": [
          [
           "920400-00"
          ]
         ],
         "hovertemplate": "Item Code=%{customdata[0]}<br>CO2 Total=%{x}<br>Customer Country=%{y}<extra></extra>",
         "legendgroup": "920400-00",
         "marker": {
          "color": "#FFA15A",
          "pattern": {
           "shape": ""
          }
         },
         "name": "920400-00",
         "offsetgroup": "920400-00",
         "orientation": "h",
         "showlegend": true,
         "textposition": "auto",
         "type": "bar",
         "x": [
          0.38565930719999997
         ],
         "xaxis": "x",
         "y": [
          "FRANCE"
         ],
         "yaxis": "y"
        },
        {
         "alignmentgroup": "True",
         "customdata": [
          [
           "921215-15"
          ]
         ],
         "hovertemplate": "Item Code=%{customdata[0]}<br>CO2 Total=%{x}<br>Customer Country=%{y}<extra></extra>",
         "legendgroup": "921215-15",
         "marker": {
          "color": "#19d3f3",
          "pattern": {
           "shape": ""
          }
         },
         "name": "921215-15",
         "offsetgroup": "921215-15",
         "orientation": "h",
         "showlegend": true,
         "textposition": "auto",
         "type": "bar",
         "x": [
          1.126791984
         ],
         "xaxis": "x",
         "y": [
          "FRANCE"
         ],
         "yaxis": "y"
        },
        {
         "alignmentgroup": "True",
         "customdata": [
          [
           "921216-16"
          ]
         ],
         "hovertemplate": "Item Code=%{customdata[0]}<br>CO2 Total=%{x}<br>Customer Country=%{y}<extra></extra>",
         "legendgroup": "921216-16",
         "marker": {
          "color": "#FF6692",
          "pattern": {
           "shape": ""
          }
         },
         "name": "921216-16",
         "offsetgroup": "921216-16",
         "orientation": "h",
         "showlegend": true,
         "textposition": "auto",
         "type": "bar",
         "x": [
          11.336926987200002
         ],
         "xaxis": "x",
         "y": [
          "FRANCE"
         ],
         "yaxis": "y"
        },
        {
         "alignmentgroup": "True",
         "customdata": [
          [
           "921218-18"
          ]
         ],
         "hovertemplate": "Item Code=%{customdata[0]}<br>CO2 Total=%{x}<br>Customer Country=%{y}<extra></extra>",
         "legendgroup": "921218-18",
         "marker": {
          "color": "#B6E880",
          "pattern": {
           "shape": ""
          }
         },
         "name": "921218-18",
         "offsetgroup": "921218-18",
         "orientation": "h",
         "showlegend": true,
         "textposition": "auto",
         "type": "bar",
         "x": [
          0.2545635193919994
         ],
         "xaxis": "x",
         "y": [
          "FRANCE"
         ],
         "yaxis": "y"
        },
        {
         "alignmentgroup": "True",
         "customdata": [
          [
           "921258-58"
          ]
         ],
         "hovertemplate": "Item Code=%{customdata[0]}<br>CO2 Total=%{x}<br>Customer Country=%{y}<extra></extra>",
         "legendgroup": "921258-58",
         "marker": {
          "color": "#FF97FF",
          "pattern": {
           "shape": ""
          }
         },
         "name": "921258-58",
         "offsetgroup": "921258-58",
         "orientation": "h",
         "showlegend": true,
         "textposition": "auto",
         "type": "bar",
         "x": [
          0.63316880815104
         ],
         "xaxis": "x",
         "y": [
          "FRANCE"
         ],
         "yaxis": "y"
        },
        {
         "alignmentgroup": "True",
         "customdata": [
          [
           "9213361-61"
          ]
         ],
         "hovertemplate": "Item Code=%{customdata[0]}<br>CO2 Total=%{x}<br>Customer Country=%{y}<extra></extra>",
         "legendgroup": "9213361-61",
         "marker": {
          "color": "#FECB52",
          "pattern": {
           "shape": ""
          }
         },
         "name": "9213361-61",
         "offsetgroup": "9213361-61",
         "orientation": "h",
         "showlegend": true,
         "textposition": "auto",
         "type": "bar",
         "x": [
          0.02679153672
         ],
         "xaxis": "x",
         "y": [
          "FRANCE"
         ],
         "yaxis": "y"
        },
        {
         "alignmentgroup": "True",
         "customdata": [
          [
           "921342-42"
          ]
         ],
         "hovertemplate": "Item Code=%{customdata[0]}<br>CO2 Total=%{x}<br>Customer Country=%{y}<extra></extra>",
         "legendgroup": "921342-42",
         "marker": {
          "color": "#636efa",
          "pattern": {
           "shape": ""
          }
         },
         "name": "921342-42",
         "offsetgroup": "921342-42",
         "orientation": "h",
         "showlegend": true,
         "textposition": "auto",
         "type": "bar",
         "x": [
          0.063109582848
         ],
         "xaxis": "x",
         "y": [
          "FRANCE"
         ],
         "yaxis": "y"
        },
        {
         "alignmentgroup": "True",
         "customdata": [
          [
           "922586-86"
          ]
         ],
         "hovertemplate": "Item Code=%{customdata[0]}<br>CO2 Total=%{x}<br>Customer Country=%{y}<extra></extra>",
         "legendgroup": "922586-86",
         "marker": {
          "color": "#EF553B",
          "pattern": {
           "shape": ""
          }
         },
         "name": "922586-86",
         "offsetgroup": "922586-86",
         "orientation": "h",
         "showlegend": true,
         "textposition": "auto",
         "type": "bar",
         "x": [
          1.8817318830182406
         ],
         "xaxis": "x",
         "y": [
          "FRANCE"
         ],
         "yaxis": "y"
        },
        {
         "alignmentgroup": "True",
         "customdata": [
          [
           "9225881-81"
          ]
         ],
         "hovertemplate": "Item Code=%{customdata[0]}<br>CO2 Total=%{x}<br>Customer Country=%{y}<extra></extra>",
         "legendgroup": "9225881-81",
         "marker": {
          "color": "#00cc96",
          "pattern": {
           "shape": ""
          }
         },
         "name": "9225881-81",
         "offsetgroup": "9225881-81",
         "orientation": "h",
         "showlegend": true,
         "textposition": "auto",
         "type": "bar",
         "x": [
          1.70206558912512
         ],
         "xaxis": "x",
         "y": [
          "FRANCE"
         ],
         "yaxis": "y"
        },
        {
         "alignmentgroup": "True",
         "customdata": [
          [
           "9226011-11"
          ]
         ],
         "hovertemplate": "Item Code=%{customdata[0]}<br>CO2 Total=%{x}<br>Customer Country=%{y}<extra></extra>",
         "legendgroup": "9226011-11",
         "marker": {
          "color": "#ab63fa",
          "pattern": {
           "shape": ""
          }
         },
         "name": "9226011-11",
         "offsetgroup": "9226011-11",
         "orientation": "h",
         "showlegend": true,
         "textposition": "auto",
         "type": "bar",
         "x": [
          10.8922396176
         ],
         "xaxis": "x",
         "y": [
          "FRANCE"
         ],
         "yaxis": "y"
        },
        {
         "alignmentgroup": "True",
         "customdata": [
          [
           "9226021-21"
          ]
         ],
         "hovertemplate": "Item Code=%{customdata[0]}<br>CO2 Total=%{x}<br>Customer Country=%{y}<extra></extra>",
         "legendgroup": "9226021-21",
         "marker": {
          "color": "#FFA15A",
          "pattern": {
           "shape": ""
          }
         },
         "name": "9226021-21",
         "offsetgroup": "9226021-21",
         "orientation": "h",
         "showlegend": true,
         "textposition": "auto",
         "type": "bar",
         "x": [
          1.323441408
         ],
         "xaxis": "x",
         "y": [
          "FRANCE"
         ],
         "yaxis": "y"
        },
        {
         "alignmentgroup": "True",
         "customdata": [
          [
           "9226031-31"
          ]
         ],
         "hovertemplate": "Item Code=%{customdata[0]}<br>CO2 Total=%{x}<br>Customer Country=%{y}<extra></extra>",
         "legendgroup": "9226031-31",
         "marker": {
          "color": "#19d3f3",
          "pattern": {
           "shape": ""
          }
         },
         "name": "9226031-31",
         "offsetgroup": "9226031-31",
         "orientation": "h",
         "showlegend": true,
         "textposition": "auto",
         "type": "bar",
         "x": [
          3.030190368
         ],
         "xaxis": "x",
         "y": [
          "FRANCE"
         ],
         "yaxis": "y"
        },
        {
         "alignmentgroup": "True",
         "customdata": [
          [
           "9226051-51"
          ]
         ],
         "hovertemplate": "Item Code=%{customdata[0]}<br>CO2 Total=%{x}<br>Customer Country=%{y}<extra></extra>",
         "legendgroup": "9226051-51",
         "marker": {
          "color": "#FF6692",
          "pattern": {
           "shape": ""
          }
         },
         "name": "9226051-51",
         "offsetgroup": "9226051-51",
         "orientation": "h",
         "showlegend": true,
         "textposition": "auto",
         "type": "bar",
         "x": [
          4.585262544000001
         ],
         "xaxis": "x",
         "y": [
          "FRANCE"
         ],
         "yaxis": "y"
        },
        {
         "alignmentgroup": "True",
         "customdata": [
          [
           "9226071-71"
          ]
         ],
         "hovertemplate": "Item Code=%{customdata[0]}<br>CO2 Total=%{x}<br>Customer Country=%{y}<extra></extra>",
         "legendgroup": "9226071-71",
         "marker": {
          "color": "#B6E880",
          "pattern": {
           "shape": ""
          }
         },
         "name": "9226071-71",
         "offsetgroup": "9226071-71",
         "orientation": "h",
         "showlegend": true,
         "textposition": "auto",
         "type": "bar",
         "x": [
          11.10566214144
         ],
         "xaxis": "x",
         "y": [
          "FRANCE"
         ],
         "yaxis": "y"
        },
        {
         "alignmentgroup": "True",
         "customdata": [
          [
           "922648-48"
          ]
         ],
         "hovertemplate": "Item Code=%{customdata[0]}<br>CO2 Total=%{x}<br>Customer Country=%{y}<extra></extra>",
         "legendgroup": "922648-48",
         "marker": {
          "color": "#FF97FF",
          "pattern": {
           "shape": ""
          }
         },
         "name": "922648-48",
         "offsetgroup": "922648-48",
         "orientation": "h",
         "showlegend": true,
         "textposition": "auto",
         "type": "bar",
         "x": [
          0.102310904064
         ],
         "xaxis": "x",
         "y": [
          "FRANCE"
         ],
         "yaxis": "y"
        },
        {
         "alignmentgroup": "True",
         "customdata": [
          [
           "9226841-41"
          ]
         ],
         "hovertemplate": "Item Code=%{customdata[0]}<br>CO2 Total=%{x}<br>Customer Country=%{y}<extra></extra>",
         "legendgroup": "9226841-41",
         "marker": {
          "color": "#FECB52",
          "pattern": {
           "shape": ""
          }
         },
         "name": "9226841-41",
         "offsetgroup": "9226841-41",
         "orientation": "h",
         "showlegend": true,
         "textposition": "auto",
         "type": "bar",
         "x": [
          2.699895257472
         ],
         "xaxis": "x",
         "y": [
          "FRANCE"
         ],
         "yaxis": "y"
        },
        {
         "alignmentgroup": "True",
         "customdata": [
          [
           "9240111-11"
          ],
          [
           "9240111-11"
          ]
         ],
         "hovertemplate": "Item Code=%{customdata[0]}<br>CO2 Total=%{x}<br>Customer Country=%{y}<extra></extra>",
         "legendgroup": "9240111-11",
         "marker": {
          "color": "#636efa",
          "pattern": {
           "shape": ""
          }
         },
         "name": "9240111-11",
         "offsetgroup": "9240111-11",
         "orientation": "h",
         "showlegend": true,
         "textposition": "auto",
         "type": "bar",
         "x": [
          16.599733014528002,
          107.86329722880001
         ],
         "xaxis": "x",
         "y": [
          "FRANCE",
          "GERMANY"
         ],
         "yaxis": "y"
        },
        {
         "alignmentgroup": "True",
         "customdata": [
          [
           "9245611-11"
          ]
         ],
         "hovertemplate": "Item Code=%{customdata[0]}<br>CO2 Total=%{x}<br>Customer Country=%{y}<extra></extra>",
         "legendgroup": "9245611-11",
         "marker": {
          "color": "#EF553B",
          "pattern": {
           "shape": ""
          }
         },
         "name": "9245611-11",
         "offsetgroup": "9245611-11",
         "orientation": "h",
         "showlegend": true,
         "textposition": "auto",
         "type": "bar",
         "x": [
          0.921616513152
         ],
         "xaxis": "x",
         "y": [
          "FRANCE"
         ],
         "yaxis": "y"
        },
        {
         "alignmentgroup": "True",
         "customdata": [
          [
           "9245921-21"
          ]
         ],
         "hovertemplate": "Item Code=%{customdata[0]}<br>CO2 Total=%{x}<br>Customer Country=%{y}<extra></extra>",
         "legendgroup": "9245921-21",
         "marker": {
          "color": "#00cc96",
          "pattern": {
           "shape": ""
          }
         },
         "name": "9245921-21",
         "offsetgroup": "9245921-21",
         "orientation": "h",
         "showlegend": true,
         "textposition": "auto",
         "type": "bar",
         "x": [
          10.244937020371202
         ],
         "xaxis": "x",
         "y": [
          "FRANCE"
         ],
         "yaxis": "y"
        },
        {
         "alignmentgroup": "True",
         "customdata": [
          [
           "924593-93"
          ]
         ],
         "hovertemplate": "Item Code=%{customdata[0]}<br>CO2 Total=%{x}<br>Customer Country=%{y}<extra></extra>",
         "legendgroup": "924593-93",
         "marker": {
          "color": "#ab63fa",
          "pattern": {
           "shape": ""
          }
         },
         "name": "924593-93",
         "offsetgroup": "924593-93",
         "orientation": "h",
         "showlegend": true,
         "textposition": "auto",
         "type": "bar",
         "x": [
          0.831690907008
         ],
         "xaxis": "x",
         "y": [
          "FRANCE"
         ],
         "yaxis": "y"
        },
        {
         "alignmentgroup": "True",
         "customdata": [
          [
           "9245941-41"
          ]
         ],
         "hovertemplate": "Item Code=%{customdata[0]}<br>CO2 Total=%{x}<br>Customer Country=%{y}<extra></extra>",
         "legendgroup": "9245941-41",
         "marker": {
          "color": "#FFA15A",
          "pattern": {
           "shape": ""
          }
         },
         "name": "9245941-41",
         "offsetgroup": "9245941-41",
         "orientation": "h",
         "showlegend": true,
         "textposition": "auto",
         "type": "bar",
         "x": [
          0.7055057443200001
         ],
         "xaxis": "x",
         "y": [
          "FRANCE"
         ],
         "yaxis": "y"
        },
        {
         "alignmentgroup": "True",
         "customdata": [
          [
           "924628-28"
          ]
         ],
         "hovertemplate": "Item Code=%{customdata[0]}<br>CO2 Total=%{x}<br>Customer Country=%{y}<extra></extra>",
         "legendgroup": "924628-28",
         "marker": {
          "color": "#19d3f3",
          "pattern": {
           "shape": ""
          }
         },
         "name": "924628-28",
         "offsetgroup": "924628-28",
         "orientation": "h",
         "showlegend": true,
         "textposition": "auto",
         "type": "bar",
         "x": [
          0.10541765808
         ],
         "xaxis": "x",
         "y": [
          "FRANCE"
         ],
         "yaxis": "y"
        },
        {
         "alignmentgroup": "True",
         "customdata": [
          [
           "924629-29"
          ]
         ],
         "hovertemplate": "Item Code=%{customdata[0]}<br>CO2 Total=%{x}<br>Customer Country=%{y}<extra></extra>",
         "legendgroup": "924629-29",
         "marker": {
          "color": "#FF6692",
          "pattern": {
           "shape": ""
          }
         },
         "name": "924629-29",
         "offsetgroup": "924629-29",
         "orientation": "h",
         "showlegend": true,
         "textposition": "auto",
         "type": "bar",
         "x": [
          2.396968877376
         ],
         "xaxis": "x",
         "y": [
          "FRANCE"
         ],
         "yaxis": "y"
        },
        {
         "alignmentgroup": "True",
         "customdata": [
          [
           "924630-30"
          ]
         ],
         "hovertemplate": "Item Code=%{customdata[0]}<br>CO2 Total=%{x}<br>Customer Country=%{y}<extra></extra>",
         "legendgroup": "924630-30",
         "marker": {
          "color": "#B6E880",
          "pattern": {
           "shape": ""
          }
         },
         "name": "924630-30",
         "offsetgroup": "924630-30",
         "orientation": "h",
         "showlegend": true,
         "textposition": "auto",
         "type": "bar",
         "x": [
          0.23921116128
         ],
         "xaxis": "x",
         "y": [
          "FRANCE"
         ],
         "yaxis": "y"
        },
        {
         "alignmentgroup": "True",
         "customdata": [
          [
           "9246351-51"
          ]
         ],
         "hovertemplate": "Item Code=%{customdata[0]}<br>CO2 Total=%{x}<br>Customer Country=%{y}<extra></extra>",
         "legendgroup": "9246351-51",
         "marker": {
          "color": "#FF97FF",
          "pattern": {
           "shape": ""
          }
         },
         "name": "9246351-51",
         "offsetgroup": "9246351-51",
         "orientation": "h",
         "showlegend": true,
         "textposition": "auto",
         "type": "bar",
         "x": [
          18.7477899768
         ],
         "xaxis": "x",
         "y": [
          "FRANCE"
         ],
         "yaxis": "y"
        },
        {
         "alignmentgroup": "True",
         "customdata": [
          [
           "924637-37"
          ]
         ],
         "hovertemplate": "Item Code=%{customdata[0]}<br>CO2 Total=%{x}<br>Customer Country=%{y}<extra></extra>",
         "legendgroup": "924637-37",
         "marker": {
          "color": "#FECB52",
          "pattern": {
           "shape": ""
          }
         },
         "name": "924637-37",
         "offsetgroup": "924637-37",
         "orientation": "h",
         "showlegend": true,
         "textposition": "auto",
         "type": "bar",
         "x": [
          0.4793995430400001
         ],
         "xaxis": "x",
         "y": [
          "FRANCE"
         ],
         "yaxis": "y"
        },
        {
         "alignmentgroup": "True",
         "customdata": [
          [
           "924638-38"
          ]
         ],
         "hovertemplate": "Item Code=%{customdata[0]}<br>CO2 Total=%{x}<br>Customer Country=%{y}<extra></extra>",
         "legendgroup": "924638-38",
         "marker": {
          "color": "#636efa",
          "pattern": {
           "shape": ""
          }
         },
         "name": "924638-38",
         "offsetgroup": "924638-38",
         "orientation": "h",
         "showlegend": true,
         "textposition": "auto",
         "type": "bar",
         "x": [
          0.2303929579392
         ],
         "xaxis": "x",
         "y": [
          "FRANCE"
         ],
         "yaxis": "y"
        },
        {
         "alignmentgroup": "True",
         "customdata": [
          [
           "924643-43"
          ]
         ],
         "hovertemplate": "Item Code=%{customdata[0]}<br>CO2 Total=%{x}<br>Customer Country=%{y}<extra></extra>",
         "legendgroup": "924643-43",
         "marker": {
          "color": "#EF553B",
          "pattern": {
           "shape": ""
          }
         },
         "name": "924643-43",
         "offsetgroup": "924643-43",
         "orientation": "h",
         "showlegend": true,
         "textposition": "auto",
         "type": "bar",
         "x": [
          0.845664247008
         ],
         "xaxis": "x",
         "y": [
          "FRANCE"
         ],
         "yaxis": "y"
        },
        {
         "alignmentgroup": "True",
         "customdata": [
          [
           "9246491-91"
          ]
         ],
         "hovertemplate": "Item Code=%{customdata[0]}<br>CO2 Total=%{x}<br>Customer Country=%{y}<extra></extra>",
         "legendgroup": "9246491-91",
         "marker": {
          "color": "#00cc96",
          "pattern": {
           "shape": ""
          }
         },
         "name": "9246491-91",
         "offsetgroup": "9246491-91",
         "orientation": "h",
         "showlegend": true,
         "textposition": "auto",
         "type": "bar",
         "x": [
          0.137083974048
         ],
         "xaxis": "x",
         "y": [
          "FRANCE"
         ],
         "yaxis": "y"
        },
        {
         "alignmentgroup": "True",
         "customdata": [
          [
           "9246502-02"
          ]
         ],
         "hovertemplate": "Item Code=%{customdata[0]}<br>CO2 Total=%{x}<br>Customer Country=%{y}<extra></extra>",
         "legendgroup": "9246502-02",
         "marker": {
          "color": "#ab63fa",
          "pattern": {
           "shape": ""
          }
         },
         "name": "9246502-02",
         "offsetgroup": "9246502-02",
         "orientation": "h",
         "showlegend": true,
         "textposition": "auto",
         "type": "bar",
         "x": [
          2.01125351808
         ],
         "xaxis": "x",
         "y": [
          "FRANCE"
         ],
         "yaxis": "y"
        },
        {
         "alignmentgroup": "True",
         "customdata": [
          [
           "9246522-22"
          ]
         ],
         "hovertemplate": "Item Code=%{customdata[0]}<br>CO2 Total=%{x}<br>Customer Country=%{y}<extra></extra>",
         "legendgroup": "9246522-22",
         "marker": {
          "color": "#FFA15A",
          "pattern": {
           "shape": ""
          }
         },
         "name": "9246522-22",
         "offsetgroup": "9246522-22",
         "orientation": "h",
         "showlegend": true,
         "textposition": "auto",
         "type": "bar",
         "x": [
          2.8340419104
         ],
         "xaxis": "x",
         "y": [
          "FRANCE"
         ],
         "yaxis": "y"
        },
        {
         "alignmentgroup": "True",
         "customdata": [
          [
           "9246621-21"
          ]
         ],
         "hovertemplate": "Item Code=%{customdata[0]}<br>CO2 Total=%{x}<br>Customer Country=%{y}<extra></extra>",
         "legendgroup": "9246621-21",
         "marker": {
          "color": "#19d3f3",
          "pattern": {
           "shape": ""
          }
         },
         "name": "9246621-21",
         "offsetgroup": "9246621-21",
         "orientation": "h",
         "showlegend": true,
         "textposition": "auto",
         "type": "bar",
         "x": [
          26.5031888904
         ],
         "xaxis": "x",
         "y": [
          "FRANCE"
         ],
         "yaxis": "y"
        },
        {
         "alignmentgroup": "True",
         "customdata": [
          [
           "924710-10"
          ]
         ],
         "hovertemplate": "Item Code=%{customdata[0]}<br>CO2 Total=%{x}<br>Customer Country=%{y}<extra></extra>",
         "legendgroup": "924710-10",
         "marker": {
          "color": "#FF6692",
          "pattern": {
           "shape": ""
          }
         },
         "name": "924710-10",
         "offsetgroup": "924710-10",
         "orientation": "h",
         "showlegend": true,
         "textposition": "auto",
         "type": "bar",
         "x": [
          0.1804815936
         ],
         "xaxis": "x",
         "y": [
          "FRANCE"
         ],
         "yaxis": "y"
        },
        {
         "alignmentgroup": "True",
         "customdata": [
          [
           "9262711-11"
          ]
         ],
         "hovertemplate": "Item Code=%{customdata[0]}<br>CO2 Total=%{x}<br>Customer Country=%{y}<extra></extra>",
         "legendgroup": "9262711-11",
         "marker": {
          "color": "#B6E880",
          "pattern": {
           "shape": ""
          }
         },
         "name": "9262711-11",
         "offsetgroup": "9262711-11",
         "orientation": "h",
         "showlegend": true,
         "textposition": "auto",
         "type": "bar",
         "x": [
          0.4059341913599999
         ],
         "xaxis": "x",
         "y": [
          "FRANCE"
         ],
         "yaxis": "y"
        },
        {
         "alignmentgroup": "True",
         "customdata": [
          [
           "9262741-41"
          ]
         ],
         "hovertemplate": "Item Code=%{customdata[0]}<br>CO2 Total=%{x}<br>Customer Country=%{y}<extra></extra>",
         "legendgroup": "9262741-41",
         "marker": {
          "color": "#FF97FF",
          "pattern": {
           "shape": ""
          }
         },
         "name": "9262741-41",
         "offsetgroup": "9262741-41",
         "orientation": "h",
         "showlegend": true,
         "textposition": "auto",
         "type": "bar",
         "x": [
          0.4137361612799998
         ],
         "xaxis": "x",
         "y": [
          "FRANCE"
         ],
         "yaxis": "y"
        },
        {
         "alignmentgroup": "True",
         "customdata": [
          [
           "926275-75"
          ]
         ],
         "hovertemplate": "Item Code=%{customdata[0]}<br>CO2 Total=%{x}<br>Customer Country=%{y}<extra></extra>",
         "legendgroup": "926275-75",
         "marker": {
          "color": "#FECB52",
          "pattern": {
           "shape": ""
          }
         },
         "name": "926275-75",
         "offsetgroup": "926275-75",
         "orientation": "h",
         "showlegend": true,
         "textposition": "auto",
         "type": "bar",
         "x": [
          0.027345696
         ],
         "xaxis": "x",
         "y": [
          "FRANCE"
         ],
         "yaxis": "y"
        },
        {
         "alignmentgroup": "True",
         "customdata": [
          [
           "9262751-51"
          ]
         ],
         "hovertemplate": "Item Code=%{customdata[0]}<br>CO2 Total=%{x}<br>Customer Country=%{y}<extra></extra>",
         "legendgroup": "9262751-51",
         "marker": {
          "color": "#636efa",
          "pattern": {
           "shape": ""
          }
         },
         "name": "9262751-51",
         "offsetgroup": "9262751-51",
         "orientation": "h",
         "showlegend": true,
         "textposition": "auto",
         "type": "bar",
         "x": [
          0.280985856
         ],
         "xaxis": "x",
         "y": [
          "FRANCE"
         ],
         "yaxis": "y"
        },
        {
         "alignmentgroup": "True",
         "customdata": [
          [
           "9262781-81"
          ]
         ],
         "hovertemplate": "Item Code=%{customdata[0]}<br>CO2 Total=%{x}<br>Customer Country=%{y}<extra></extra>",
         "legendgroup": "9262781-81",
         "marker": {
          "color": "#EF553B",
          "pattern": {
           "shape": ""
          }
         },
         "name": "9262781-81",
         "offsetgroup": "9262781-81",
         "orientation": "h",
         "showlegend": true,
         "textposition": "auto",
         "type": "bar",
         "x": [
          0.2341737907199995
         ],
         "xaxis": "x",
         "y": [
          "FRANCE"
         ],
         "yaxis": "y"
        },
        {
         "alignmentgroup": "True",
         "customdata": [
          [
           "926279-79"
          ]
         ],
         "hovertemplate": "Item Code=%{customdata[0]}<br>CO2 Total=%{x}<br>Customer Country=%{y}<extra></extra>",
         "legendgroup": "926279-79",
         "marker": {
          "color": "#00cc96",
          "pattern": {
           "shape": ""
          }
         },
         "name": "926279-79",
         "offsetgroup": "926279-79",
         "orientation": "h",
         "showlegend": true,
         "textposition": "auto",
         "type": "bar",
         "x": [
          0.20837295360000002
         ],
         "xaxis": "x",
         "y": [
          "FRANCE"
         ],
         "yaxis": "y"
        },
        {
         "alignmentgroup": "True",
         "customdata": [
          [
           "9262801-01"
          ]
         ],
         "hovertemplate": "Item Code=%{customdata[0]}<br>CO2 Total=%{x}<br>Customer Country=%{y}<extra></extra>",
         "legendgroup": "9262801-01",
         "marker": {
          "color": "#ab63fa",
          "pattern": {
           "shape": ""
          }
         },
         "name": "9262801-01",
         "offsetgroup": "9262801-01",
         "orientation": "h",
         "showlegend": true,
         "textposition": "auto",
         "type": "bar",
         "x": [
          0.2116874649599999
         ],
         "xaxis": "x",
         "y": [
          "FRANCE"
         ],
         "yaxis": "y"
        },
        {
         "alignmentgroup": "True",
         "customdata": [
          [
           "9262811-11"
          ]
         ],
         "hovertemplate": "Item Code=%{customdata[0]}<br>CO2 Total=%{x}<br>Customer Country=%{y}<extra></extra>",
         "legendgroup": "9262811-11",
         "marker": {
          "color": "#FFA15A",
          "pattern": {
           "shape": ""
          }
         },
         "name": "9262811-11",
         "offsetgroup": "9262811-11",
         "orientation": "h",
         "showlegend": true,
         "textposition": "auto",
         "type": "bar",
         "x": [
          0.5309185305599998
         ],
         "xaxis": "x",
         "y": [
          "FRANCE"
         ],
         "yaxis": "y"
        },
        {
         "alignmentgroup": "True",
         "customdata": [
          [
           "9262822-22"
          ]
         ],
         "hovertemplate": "Item Code=%{customdata[0]}<br>CO2 Total=%{x}<br>Customer Country=%{y}<extra></extra>",
         "legendgroup": "9262822-22",
         "marker": {
          "color": "#19d3f3",
          "pattern": {
           "shape": ""
          }
         },
         "name": "9262822-22",
         "offsetgroup": "9262822-22",
         "orientation": "h",
         "showlegend": true,
         "textposition": "auto",
         "type": "bar",
         "x": [
          0.31257518975999976
         ],
         "xaxis": "x",
         "y": [
          "FRANCE"
         ],
         "yaxis": "y"
        },
        {
         "alignmentgroup": "True",
         "customdata": [
          [
           "9263501-01"
          ]
         ],
         "hovertemplate": "Item Code=%{customdata[0]}<br>CO2 Total=%{x}<br>Customer Country=%{y}<extra></extra>",
         "legendgroup": "9263501-01",
         "marker": {
          "color": "#FF6692",
          "pattern": {
           "shape": ""
          }
         },
         "name": "9263501-01",
         "offsetgroup": "9263501-01",
         "orientation": "h",
         "showlegend": true,
         "textposition": "auto",
         "type": "bar",
         "x": [
          5.6178050544
         ],
         "xaxis": "x",
         "y": [
          "FRANCE"
         ],
         "yaxis": "y"
        },
        {
         "alignmentgroup": "True",
         "customdata": [
          [
           "926403-03"
          ]
         ],
         "hovertemplate": "Item Code=%{customdata[0]}<br>CO2 Total=%{x}<br>Customer Country=%{y}<extra></extra>",
         "legendgroup": "926403-03",
         "marker": {
          "color": "#B6E880",
          "pattern": {
           "shape": ""
          }
         },
         "name": "926403-03",
         "offsetgroup": "926403-03",
         "orientation": "h",
         "showlegend": true,
         "textposition": "auto",
         "type": "bar",
         "x": [
          0.0261206088192
         ],
         "xaxis": "x",
         "y": [
          "FRANCE"
         ],
         "yaxis": "y"
        },
        {
         "alignmentgroup": "True",
         "customdata": [
          [
           "926446-46"
          ]
         ],
         "hovertemplate": "Item Code=%{customdata[0]}<br>CO2 Total=%{x}<br>Customer Country=%{y}<extra></extra>",
         "legendgroup": "926446-46",
         "marker": {
          "color": "#FF97FF",
          "pattern": {
           "shape": ""
          }
         },
         "name": "926446-46",
         "offsetgroup": "926446-46",
         "orientation": "h",
         "showlegend": true,
         "textposition": "auto",
         "type": "bar",
         "x": [
          0.2372031710784
         ],
         "xaxis": "x",
         "y": [
          "FRANCE"
         ],
         "yaxis": "y"
        },
        {
         "alignmentgroup": "True",
         "customdata": [
          [
           "927156-56"
          ]
         ],
         "hovertemplate": "Item Code=%{customdata[0]}<br>CO2 Total=%{x}<br>Customer Country=%{y}<extra></extra>",
         "legendgroup": "927156-56",
         "marker": {
          "color": "#FECB52",
          "pattern": {
           "shape": ""
          }
         },
         "name": "927156-56",
         "offsetgroup": "927156-56",
         "orientation": "h",
         "showlegend": true,
         "textposition": "auto",
         "type": "bar",
         "x": [
          0.18818531328
         ],
         "xaxis": "x",
         "y": [
          "FRANCE"
         ],
         "yaxis": "y"
        },
        {
         "alignmentgroup": "True",
         "customdata": [
          [
           "9271951-51"
          ]
         ],
         "hovertemplate": "Item Code=%{customdata[0]}<br>CO2 Total=%{x}<br>Customer Country=%{y}<extra></extra>",
         "legendgroup": "9271951-51",
         "marker": {
          "color": "#636efa",
          "pattern": {
           "shape": ""
          }
         },
         "name": "9271951-51",
         "offsetgroup": "9271951-51",
         "orientation": "h",
         "showlegend": true,
         "textposition": "auto",
         "type": "bar",
         "x": [
          0.7868277881855998
         ],
         "xaxis": "x",
         "y": [
          "FRANCE"
         ],
         "yaxis": "y"
        },
        {
         "alignmentgroup": "True",
         "customdata": [
          [
           "927818-18"
          ]
         ],
         "hovertemplate": "Item Code=%{customdata[0]}<br>CO2 Total=%{x}<br>Customer Country=%{y}<extra></extra>",
         "legendgroup": "927818-18",
         "marker": {
          "color": "#EF553B",
          "pattern": {
           "shape": ""
          }
         },
         "name": "927818-18",
         "offsetgroup": "927818-18",
         "orientation": "h",
         "showlegend": true,
         "textposition": "auto",
         "type": "bar",
         "x": [
          24.056751183004803
         ],
         "xaxis": "x",
         "y": [
          "FRANCE"
         ],
         "yaxis": "y"
        },
        {
         "alignmentgroup": "True",
         "customdata": [
          [
           "927858-58"
          ]
         ],
         "hovertemplate": "Item Code=%{customdata[0]}<br>CO2 Total=%{x}<br>Customer Country=%{y}<extra></extra>",
         "legendgroup": "927858-58",
         "marker": {
          "color": "#00cc96",
          "pattern": {
           "shape": ""
          }
         },
         "name": "927858-58",
         "offsetgroup": "927858-58",
         "orientation": "h",
         "showlegend": true,
         "textposition": "auto",
         "type": "bar",
         "x": [
          0.68272152384
         ],
         "xaxis": "x",
         "y": [
          "FRANCE"
         ],
         "yaxis": "y"
        },
        {
         "alignmentgroup": "True",
         "customdata": [
          [
           "927866-66"
          ]
         ],
         "hovertemplate": "Item Code=%{customdata[0]}<br>CO2 Total=%{x}<br>Customer Country=%{y}<extra></extra>",
         "legendgroup": "927866-66",
         "marker": {
          "color": "#ab63fa",
          "pattern": {
           "shape": ""
          }
         },
         "name": "927866-66",
         "offsetgroup": "927866-66",
         "orientation": "h",
         "showlegend": true,
         "textposition": "auto",
         "type": "bar",
         "x": [
          0.05280120384
         ],
         "xaxis": "x",
         "y": [
          "FRANCE"
         ],
         "yaxis": "y"
        },
        {
         "alignmentgroup": "True",
         "customdata": [
          [
           "927868-68"
          ]
         ],
         "hovertemplate": "Item Code=%{customdata[0]}<br>CO2 Total=%{x}<br>Customer Country=%{y}<extra></extra>",
         "legendgroup": "927868-68",
         "marker": {
          "color": "#FFA15A",
          "pattern": {
           "shape": ""
          }
         },
         "name": "927868-68",
         "offsetgroup": "927868-68",
         "orientation": "h",
         "showlegend": true,
         "textposition": "auto",
         "type": "bar",
         "x": [
          0.55563034704
         ],
         "xaxis": "x",
         "y": [
          "FRANCE"
         ],
         "yaxis": "y"
        },
        {
         "alignmentgroup": "True",
         "customdata": [
          [
           "927870-70"
          ]
         ],
         "hovertemplate": "Item Code=%{customdata[0]}<br>CO2 Total=%{x}<br>Customer Country=%{y}<extra></extra>",
         "legendgroup": "927870-70",
         "marker": {
          "color": "#19d3f3",
          "pattern": {
           "shape": ""
          }
         },
         "name": "927870-70",
         "offsetgroup": "927870-70",
         "orientation": "h",
         "showlegend": true,
         "textposition": "auto",
         "type": "bar",
         "x": [
          0.0627583723199998
         ],
         "xaxis": "x",
         "y": [
          "FRANCE"
         ],
         "yaxis": "y"
        },
        {
         "alignmentgroup": "True",
         "customdata": [
          [
           "927871-71"
          ]
         ],
         "hovertemplate": "Item Code=%{customdata[0]}<br>CO2 Total=%{x}<br>Customer Country=%{y}<extra></extra>",
         "legendgroup": "927871-71",
         "marker": {
          "color": "#FF6692",
          "pattern": {
           "shape": ""
          }
         },
         "name": "927871-71",
         "offsetgroup": "927871-71",
         "orientation": "h",
         "showlegend": true,
         "textposition": "auto",
         "type": "bar",
         "x": [
          0.6053281545599989
         ],
         "xaxis": "x",
         "y": [
          "FRANCE"
         ],
         "yaxis": "y"
        },
        {
         "alignmentgroup": "True",
         "customdata": [
          [
           "927881-81"
          ]
         ],
         "hovertemplate": "Item Code=%{customdata[0]}<br>CO2 Total=%{x}<br>Customer Country=%{y}<extra></extra>",
         "legendgroup": "927881-81",
         "marker": {
          "color": "#B6E880",
          "pattern": {
           "shape": ""
          }
         },
         "name": "927881-81",
         "offsetgroup": "927881-81",
         "orientation": "h",
         "showlegend": true,
         "textposition": "auto",
         "type": "bar",
         "x": [
          1.82046796572672
         ],
         "xaxis": "x",
         "y": [
          "FRANCE"
         ],
         "yaxis": "y"
        },
        {
         "alignmentgroup": "True",
         "customdata": [
          [
           "929055-55"
          ]
         ],
         "hovertemplate": "Item Code=%{customdata[0]}<br>CO2 Total=%{x}<br>Customer Country=%{y}<extra></extra>",
         "legendgroup": "929055-55",
         "marker": {
          "color": "#FF97FF",
          "pattern": {
           "shape": ""
          }
         },
         "name": "929055-55",
         "offsetgroup": "929055-55",
         "orientation": "h",
         "showlegend": true,
         "textposition": "auto",
         "type": "bar",
         "x": [
          0.0041795238624
         ],
         "xaxis": "x",
         "y": [
          "FRANCE"
         ],
         "yaxis": "y"
        },
        {
         "alignmentgroup": "True",
         "customdata": [
          [
           "929120-20"
          ]
         ],
         "hovertemplate": "Item Code=%{customdata[0]}<br>CO2 Total=%{x}<br>Customer Country=%{y}<extra></extra>",
         "legendgroup": "929120-20",
         "marker": {
          "color": "#FECB52",
          "pattern": {
           "shape": ""
          }
         },
         "name": "929120-20",
         "offsetgroup": "929120-20",
         "orientation": "h",
         "showlegend": true,
         "textposition": "auto",
         "type": "bar",
         "x": [
          1.4997258432
         ],
         "xaxis": "x",
         "y": [
          "FRANCE"
         ],
         "yaxis": "y"
        },
        {
         "alignmentgroup": "True",
         "customdata": [
          [
           "9291741-41"
          ]
         ],
         "hovertemplate": "Item Code=%{customdata[0]}<br>CO2 Total=%{x}<br>Customer Country=%{y}<extra></extra>",
         "legendgroup": "9291741-41",
         "marker": {
          "color": "#636efa",
          "pattern": {
           "shape": ""
          }
         },
         "name": "9291741-41",
         "offsetgroup": "9291741-41",
         "orientation": "h",
         "showlegend": true,
         "textposition": "auto",
         "type": "bar",
         "x": [
          1.070805456
         ],
         "xaxis": "x",
         "y": [
          "FRANCE"
         ],
         "yaxis": "y"
        },
        {
         "alignmentgroup": "True",
         "customdata": [
          [
           "9291861-61"
          ]
         ],
         "hovertemplate": "Item Code=%{customdata[0]}<br>CO2 Total=%{x}<br>Customer Country=%{y}<extra></extra>",
         "legendgroup": "9291861-61",
         "marker": {
          "color": "#EF553B",
          "pattern": {
           "shape": ""
          }
         },
         "name": "9291861-61",
         "offsetgroup": "9291861-61",
         "orientation": "h",
         "showlegend": true,
         "textposition": "auto",
         "type": "bar",
         "x": [
          13.411009944
         ],
         "xaxis": "x",
         "y": [
          "FRANCE"
         ],
         "yaxis": "y"
        },
        {
         "alignmentgroup": "True",
         "customdata": [
          [
           "9292031-31"
          ]
         ],
         "hovertemplate": "Item Code=%{customdata[0]}<br>CO2 Total=%{x}<br>Customer Country=%{y}<extra></extra>",
         "legendgroup": "9292031-31",
         "marker": {
          "color": "#00cc96",
          "pattern": {
           "shape": ""
          }
         },
         "name": "9292031-31",
         "offsetgroup": "9292031-31",
         "orientation": "h",
         "showlegend": true,
         "textposition": "auto",
         "type": "bar",
         "x": [
          11.709463240627201
         ],
         "xaxis": "x",
         "y": [
          "FRANCE"
         ],
         "yaxis": "y"
        },
        {
         "alignmentgroup": "True",
         "customdata": [
          [
           "9317812-12"
          ]
         ],
         "hovertemplate": "Item Code=%{customdata[0]}<br>CO2 Total=%{x}<br>Customer Country=%{y}<extra></extra>",
         "legendgroup": "9317812-12",
         "marker": {
          "color": "#ab63fa",
          "pattern": {
           "shape": ""
          }
         },
         "name": "9317812-12",
         "offsetgroup": "9317812-12",
         "orientation": "h",
         "showlegend": true,
         "textposition": "auto",
         "type": "bar",
         "x": [
          1.0128741840000002
         ],
         "xaxis": "x",
         "y": [
          "FRANCE"
         ],
         "yaxis": "y"
        },
        {
         "alignmentgroup": "True",
         "customdata": [
          [
           "9319421-21"
          ]
         ],
         "hovertemplate": "Item Code=%{customdata[0]}<br>CO2 Total=%{x}<br>Customer Country=%{y}<extra></extra>",
         "legendgroup": "9319421-21",
         "marker": {
          "color": "#FFA15A",
          "pattern": {
           "shape": ""
          }
         },
         "name": "9319421-21",
         "offsetgroup": "9319421-21",
         "orientation": "h",
         "showlegend": true,
         "textposition": "auto",
         "type": "bar",
         "x": [
          0.3420946569600001
         ],
         "xaxis": "x",
         "y": [
          "FRANCE"
         ],
         "yaxis": "y"
        },
        {
         "alignmentgroup": "True",
         "customdata": [
          [
           "9319431-31"
          ]
         ],
         "hovertemplate": "Item Code=%{customdata[0]}<br>CO2 Total=%{x}<br>Customer Country=%{y}<extra></extra>",
         "legendgroup": "9319431-31",
         "marker": {
          "color": "#19d3f3",
          "pattern": {
           "shape": ""
          }
         },
         "name": "9319431-31",
         "offsetgroup": "9319431-31",
         "orientation": "h",
         "showlegend": true,
         "textposition": "auto",
         "type": "bar",
         "x": [
          0.4934995296
         ],
         "xaxis": "x",
         "y": [
          "FRANCE"
         ],
         "yaxis": "y"
        },
        {
         "alignmentgroup": "True",
         "customdata": [
          [
           "932210-10"
          ]
         ],
         "hovertemplate": "Item Code=%{customdata[0]}<br>CO2 Total=%{x}<br>Customer Country=%{y}<extra></extra>",
         "legendgroup": "932210-10",
         "marker": {
          "color": "#FF6692",
          "pattern": {
           "shape": ""
          }
         },
         "name": "932210-10",
         "offsetgroup": "932210-10",
         "orientation": "h",
         "showlegend": true,
         "textposition": "auto",
         "type": "bar",
         "x": [
          0.19177696512
         ],
         "xaxis": "x",
         "y": [
          "FRANCE"
         ],
         "yaxis": "y"
        },
        {
         "alignmentgroup": "True",
         "customdata": [
          [
           "9329251-51"
          ]
         ],
         "hovertemplate": "Item Code=%{customdata[0]}<br>CO2 Total=%{x}<br>Customer Country=%{y}<extra></extra>",
         "legendgroup": "9329251-51",
         "marker": {
          "color": "#B6E880",
          "pattern": {
           "shape": ""
          }
         },
         "name": "9329251-51",
         "offsetgroup": "9329251-51",
         "orientation": "h",
         "showlegend": true,
         "textposition": "auto",
         "type": "bar",
         "x": [
          0.201263804352
         ],
         "xaxis": "x",
         "y": [
          "FRANCE"
         ],
         "yaxis": "y"
        },
        {
         "alignmentgroup": "True",
         "customdata": [
          [
           "933872-72"
          ]
         ],
         "hovertemplate": "Item Code=%{customdata[0]}<br>CO2 Total=%{x}<br>Customer Country=%{y}<extra></extra>",
         "legendgroup": "933872-72",
         "marker": {
          "color": "#FF97FF",
          "pattern": {
           "shape": ""
          }
         },
         "name": "933872-72",
         "offsetgroup": "933872-72",
         "orientation": "h",
         "showlegend": true,
         "textposition": "auto",
         "type": "bar",
         "x": [
          1.2429823709184
         ],
         "xaxis": "x",
         "y": [
          "FRANCE"
         ],
         "yaxis": "y"
        },
        {
         "alignmentgroup": "True",
         "customdata": [
          [
           "933949-49"
          ]
         ],
         "hovertemplate": "Item Code=%{customdata[0]}<br>CO2 Total=%{x}<br>Customer Country=%{y}<extra></extra>",
         "legendgroup": "933949-49",
         "marker": {
          "color": "#FECB52",
          "pattern": {
           "shape": ""
          }
         },
         "name": "933949-49",
         "offsetgroup": "933949-49",
         "orientation": "h",
         "showlegend": true,
         "textposition": "auto",
         "type": "bar",
         "x": [
          0.0344342015999999
         ],
         "xaxis": "x",
         "y": [
          "FRANCE"
         ],
         "yaxis": "y"
        },
        {
         "alignmentgroup": "True",
         "customdata": [
          [
           "935588-88"
          ]
         ],
         "hovertemplate": "Item Code=%{customdata[0]}<br>CO2 Total=%{x}<br>Customer Country=%{y}<extra></extra>",
         "legendgroup": "935588-88",
         "marker": {
          "color": "#636efa",
          "pattern": {
           "shape": ""
          }
         },
         "name": "935588-88",
         "offsetgroup": "935588-88",
         "orientation": "h",
         "showlegend": true,
         "textposition": "auto",
         "type": "bar",
         "x": [
          12.714865534156802
         ],
         "xaxis": "x",
         "y": [
          "FRANCE"
         ],
         "yaxis": "y"
        },
        {
         "alignmentgroup": "True",
         "customdata": [
          [
           "9357081-81"
          ]
         ],
         "hovertemplate": "Item Code=%{customdata[0]}<br>CO2 Total=%{x}<br>Customer Country=%{y}<extra></extra>",
         "legendgroup": "9357081-81",
         "marker": {
          "color": "#EF553B",
          "pattern": {
           "shape": ""
          }
         },
         "name": "9357081-81",
         "offsetgroup": "9357081-81",
         "orientation": "h",
         "showlegend": true,
         "textposition": "auto",
         "type": "bar",
         "x": [
          0.4107358367999996
         ],
         "xaxis": "x",
         "y": [
          "FRANCE"
         ],
         "yaxis": "y"
        },
        {
         "alignmentgroup": "True",
         "customdata": [
          [
           "9357091-91"
          ]
         ],
         "hovertemplate": "Item Code=%{customdata[0]}<br>CO2 Total=%{x}<br>Customer Country=%{y}<extra></extra>",
         "legendgroup": "9357091-91",
         "marker": {
          "color": "#00cc96",
          "pattern": {
           "shape": ""
          }
         },
         "name": "9357091-91",
         "offsetgroup": "9357091-91",
         "orientation": "h",
         "showlegend": true,
         "textposition": "auto",
         "type": "bar",
         "x": [
          0.052368864
         ],
         "xaxis": "x",
         "y": [
          "FRANCE"
         ],
         "yaxis": "y"
        },
        {
         "alignmentgroup": "True",
         "customdata": [
          [
           "9357101-01"
          ]
         ],
         "hovertemplate": "Item Code=%{customdata[0]}<br>CO2 Total=%{x}<br>Customer Country=%{y}<extra></extra>",
         "legendgroup": "9357101-01",
         "marker": {
          "color": "#ab63fa",
          "pattern": {
           "shape": ""
          }
         },
         "name": "9357101-01",
         "offsetgroup": "9357101-01",
         "orientation": "h",
         "showlegend": true,
         "textposition": "auto",
         "type": "bar",
         "x": [
          0.42493491555839996
         ],
         "xaxis": "x",
         "y": [
          "FRANCE"
         ],
         "yaxis": "y"
        },
        {
         "alignmentgroup": "True",
         "customdata": [
          [
           "9357111-11"
          ]
         ],
         "hovertemplate": "Item Code=%{customdata[0]}<br>CO2 Total=%{x}<br>Customer Country=%{y}<extra></extra>",
         "legendgroup": "9357111-11",
         "marker": {
          "color": "#FFA15A",
          "pattern": {
           "shape": ""
          }
         },
         "name": "9357111-11",
         "offsetgroup": "9357111-11",
         "orientation": "h",
         "showlegend": true,
         "textposition": "auto",
         "type": "bar",
         "x": [
          0.36278484479999995
         ],
         "xaxis": "x",
         "y": [
          "FRANCE"
         ],
         "yaxis": "y"
        },
        {
         "alignmentgroup": "True",
         "customdata": [
          [
           "9357121-21"
          ]
         ],
         "hovertemplate": "Item Code=%{customdata[0]}<br>CO2 Total=%{x}<br>Customer Country=%{y}<extra></extra>",
         "legendgroup": "9357121-21",
         "marker": {
          "color": "#19d3f3",
          "pattern": {
           "shape": ""
          }
         },
         "name": "9357121-21",
         "offsetgroup": "9357121-21",
         "orientation": "h",
         "showlegend": true,
         "textposition": "auto",
         "type": "bar",
         "x": [
          1.1414145357849599
         ],
         "xaxis": "x",
         "y": [
          "FRANCE"
         ],
         "yaxis": "y"
        },
        {
         "alignmentgroup": "True",
         "customdata": [
          [
           "9357131-31"
          ]
         ],
         "hovertemplate": "Item Code=%{customdata[0]}<br>CO2 Total=%{x}<br>Customer Country=%{y}<extra></extra>",
         "legendgroup": "9357131-31",
         "marker": {
          "color": "#FF6692",
          "pattern": {
           "shape": ""
          }
         },
         "name": "9357131-31",
         "offsetgroup": "9357131-31",
         "orientation": "h",
         "showlegend": true,
         "textposition": "auto",
         "type": "bar",
         "x": [
          0.6503731566335998
         ],
         "xaxis": "x",
         "y": [
          "FRANCE"
         ],
         "yaxis": "y"
        },
        {
         "alignmentgroup": "True",
         "customdata": [
          [
           "9357392-92"
          ]
         ],
         "hovertemplate": "Item Code=%{customdata[0]}<br>CO2 Total=%{x}<br>Customer Country=%{y}<extra></extra>",
         "legendgroup": "9357392-92",
         "marker": {
          "color": "#B6E880",
          "pattern": {
           "shape": ""
          }
         },
         "name": "9357392-92",
         "offsetgroup": "9357392-92",
         "orientation": "h",
         "showlegend": true,
         "textposition": "auto",
         "type": "bar",
         "x": [
          4.704562944000001
         ],
         "xaxis": "x",
         "y": [
          "FRANCE"
         ],
         "yaxis": "y"
        },
        {
         "alignmentgroup": "True",
         "customdata": [
          [
           "9357393-93"
          ]
         ],
         "hovertemplate": "Item Code=%{customdata[0]}<br>CO2 Total=%{x}<br>Customer Country=%{y}<extra></extra>",
         "legendgroup": "9357393-93",
         "marker": {
          "color": "#FF97FF",
          "pattern": {
           "shape": ""
          }
         },
         "name": "9357393-93",
         "offsetgroup": "9357393-93",
         "orientation": "h",
         "showlegend": true,
         "textposition": "auto",
         "type": "bar",
         "x": [
          17.647294392
         ],
         "xaxis": "x",
         "y": [
          "FRANCE"
         ],
         "yaxis": "y"
        },
        {
         "alignmentgroup": "True",
         "customdata": [
          [
           "9373901-01"
          ]
         ],
         "hovertemplate": "Item Code=%{customdata[0]}<br>CO2 Total=%{x}<br>Customer Country=%{y}<extra></extra>",
         "legendgroup": "9373901-01",
         "marker": {
          "color": "#FECB52",
          "pattern": {
           "shape": ""
          }
         },
         "name": "9373901-01",
         "offsetgroup": "9373901-01",
         "orientation": "h",
         "showlegend": true,
         "textposition": "auto",
         "type": "bar",
         "x": [
          0.3284717567999999
         ],
         "xaxis": "x",
         "y": [
          "FRANCE"
         ],
         "yaxis": "y"
        },
        {
         "alignmentgroup": "True",
         "customdata": [
          [
           "9374012-12"
          ]
         ],
         "hovertemplate": "Item Code=%{customdata[0]}<br>CO2 Total=%{x}<br>Customer Country=%{y}<extra></extra>",
         "legendgroup": "9374012-12",
         "marker": {
          "color": "#636efa",
          "pattern": {
           "shape": ""
          }
         },
         "name": "9374012-12",
         "offsetgroup": "9374012-12",
         "orientation": "h",
         "showlegend": true,
         "textposition": "auto",
         "type": "bar",
         "x": [
          2.3785414525440003
         ],
         "xaxis": "x",
         "y": [
          "FRANCE"
         ],
         "yaxis": "y"
        },
        {
         "alignmentgroup": "True",
         "customdata": [
          [
           "937443-43"
          ]
         ],
         "hovertemplate": "Item Code=%{customdata[0]}<br>CO2 Total=%{x}<br>Customer Country=%{y}<extra></extra>",
         "legendgroup": "937443-43",
         "marker": {
          "color": "#EF553B",
          "pattern": {
           "shape": ""
          }
         },
         "name": "937443-43",
         "offsetgroup": "937443-43",
         "orientation": "h",
         "showlegend": true,
         "textposition": "auto",
         "type": "bar",
         "x": [
          4.282842960000001
         ],
         "xaxis": "x",
         "y": [
          "FRANCE"
         ],
         "yaxis": "y"
        },
        {
         "alignmentgroup": "True",
         "customdata": [
          [
           "9374971-71"
          ]
         ],
         "hovertemplate": "Item Code=%{customdata[0]}<br>CO2 Total=%{x}<br>Customer Country=%{y}<extra></extra>",
         "legendgroup": "9374971-71",
         "marker": {
          "color": "#00cc96",
          "pattern": {
           "shape": ""
          }
         },
         "name": "9374971-71",
         "offsetgroup": "9374971-71",
         "orientation": "h",
         "showlegend": true,
         "textposition": "auto",
         "type": "bar",
         "x": [
          0.3254784699263993
         ],
         "xaxis": "x",
         "y": [
          "FRANCE"
         ],
         "yaxis": "y"
        },
        {
         "alignmentgroup": "True",
         "customdata": [
          [
           "937508-08"
          ]
         ],
         "hovertemplate": "Item Code=%{customdata[0]}<br>CO2 Total=%{x}<br>Customer Country=%{y}<extra></extra>",
         "legendgroup": "937508-08",
         "marker": {
          "color": "#ab63fa",
          "pattern": {
           "shape": ""
          }
         },
         "name": "937508-08",
         "offsetgroup": "937508-08",
         "orientation": "h",
         "showlegend": true,
         "textposition": "auto",
         "type": "bar",
         "x": [
          37.081932952896004
         ],
         "xaxis": "x",
         "y": [
          "FRANCE"
         ],
         "yaxis": "y"
        },
        {
         "alignmentgroup": "True",
         "customdata": [
          [
           "9375091-91"
          ]
         ],
         "hovertemplate": "Item Code=%{customdata[0]}<br>CO2 Total=%{x}<br>Customer Country=%{y}<extra></extra>",
         "legendgroup": "9375091-91",
         "marker": {
          "color": "#FFA15A",
          "pattern": {
           "shape": ""
          }
         },
         "name": "9375091-91",
         "offsetgroup": "9375091-91",
         "orientation": "h",
         "showlegend": true,
         "textposition": "auto",
         "type": "bar",
         "x": [
          45.759801404928005
         ],
         "xaxis": "x",
         "y": [
          "FRANCE"
         ],
         "yaxis": "y"
        },
        {
         "alignmentgroup": "True",
         "customdata": [
          [
           "937513-13"
          ]
         ],
         "hovertemplate": "Item Code=%{customdata[0]}<br>CO2 Total=%{x}<br>Customer Country=%{y}<extra></extra>",
         "legendgroup": "937513-13",
         "marker": {
          "color": "#19d3f3",
          "pattern": {
           "shape": ""
          }
         },
         "name": "937513-13",
         "offsetgroup": "937513-13",
         "orientation": "h",
         "showlegend": true,
         "textposition": "auto",
         "type": "bar",
         "x": [
          7.379567069184
         ],
         "xaxis": "x",
         "y": [
          "FRANCE"
         ],
         "yaxis": "y"
        },
        {
         "alignmentgroup": "True",
         "customdata": [
          [
           "9375141-41"
          ]
         ],
         "hovertemplate": "Item Code=%{customdata[0]}<br>CO2 Total=%{x}<br>Customer Country=%{y}<extra></extra>",
         "legendgroup": "9375141-41",
         "marker": {
          "color": "#FF6692",
          "pattern": {
           "shape": ""
          }
         },
         "name": "9375141-41",
         "offsetgroup": "9375141-41",
         "orientation": "h",
         "showlegend": true,
         "textposition": "auto",
         "type": "bar",
         "x": [
          37.61957158041601
         ],
         "xaxis": "x",
         "y": [
          "FRANCE"
         ],
         "yaxis": "y"
        },
        {
         "alignmentgroup": "True",
         "customdata": [
          [
           "937515-15"
          ]
         ],
         "hovertemplate": "Item Code=%{customdata[0]}<br>CO2 Total=%{x}<br>Customer Country=%{y}<extra></extra>",
         "legendgroup": "937515-15",
         "marker": {
          "color": "#B6E880",
          "pattern": {
           "shape": ""
          }
         },
         "name": "937515-15",
         "offsetgroup": "937515-15",
         "orientation": "h",
         "showlegend": true,
         "textposition": "auto",
         "type": "bar",
         "x": [
          5.7575659238400005
         ],
         "xaxis": "x",
         "y": [
          "FRANCE"
         ],
         "yaxis": "y"
        },
        {
         "alignmentgroup": "True",
         "customdata": [
          [
           "9375161-61"
          ]
         ],
         "hovertemplate": "Item Code=%{customdata[0]}<br>CO2 Total=%{x}<br>Customer Country=%{y}<extra></extra>",
         "legendgroup": "9375161-61",
         "marker": {
          "color": "#FF97FF",
          "pattern": {
           "shape": ""
          }
         },
         "name": "9375161-61",
         "offsetgroup": "9375161-61",
         "orientation": "h",
         "showlegend": true,
         "textposition": "auto",
         "type": "bar",
         "x": [
          34.7097325824
         ],
         "xaxis": "x",
         "y": [
          "FRANCE"
         ],
         "yaxis": "y"
        },
        {
         "alignmentgroup": "True",
         "customdata": [
          [
           "9375172-72"
          ]
         ],
         "hovertemplate": "Item Code=%{customdata[0]}<br>CO2 Total=%{x}<br>Customer Country=%{y}<extra></extra>",
         "legendgroup": "9375172-72",
         "marker": {
          "color": "#FECB52",
          "pattern": {
           "shape": ""
          }
         },
         "name": "9375172-72",
         "offsetgroup": "9375172-72",
         "orientation": "h",
         "showlegend": true,
         "textposition": "auto",
         "type": "bar",
         "x": [
          17.71648580736
         ],
         "xaxis": "x",
         "y": [
          "FRANCE"
         ],
         "yaxis": "y"
        },
        {
         "alignmentgroup": "True",
         "customdata": [
          [
           "9375182-82"
          ]
         ],
         "hovertemplate": "Item Code=%{customdata[0]}<br>CO2 Total=%{x}<br>Customer Country=%{y}<extra></extra>",
         "legendgroup": "9375182-82",
         "marker": {
          "color": "#636efa",
          "pattern": {
           "shape": ""
          }
         },
         "name": "9375182-82",
         "offsetgroup": "9375182-82",
         "orientation": "h",
         "showlegend": true,
         "textposition": "auto",
         "type": "bar",
         "x": [
          20.53801706496
         ],
         "xaxis": "x",
         "y": [
          "FRANCE"
         ],
         "yaxis": "y"
        },
        {
         "alignmentgroup": "True",
         "customdata": [
          [
           "937554-54"
          ]
         ],
         "hovertemplate": "Item Code=%{customdata[0]}<br>CO2 Total=%{x}<br>Customer Country=%{y}<extra></extra>",
         "legendgroup": "937554-54",
         "marker": {
          "color": "#EF553B",
          "pattern": {
           "shape": ""
          }
         },
         "name": "937554-54",
         "offsetgroup": "937554-54",
         "orientation": "h",
         "showlegend": true,
         "textposition": "auto",
         "type": "bar",
         "x": [
          0.21119540928
         ],
         "xaxis": "x",
         "y": [
          "FRANCE"
         ],
         "yaxis": "y"
        },
        {
         "alignmentgroup": "True",
         "customdata": [
          [
           "937555-55"
          ],
          [
           "937555-55"
          ]
         ],
         "hovertemplate": "Item Code=%{customdata[0]}<br>CO2 Total=%{x}<br>Customer Country=%{y}<extra></extra>",
         "legendgroup": "937555-55",
         "marker": {
          "color": "#00cc96",
          "pattern": {
           "shape": ""
          }
         },
         "name": "937555-55",
         "offsetgroup": "937555-55",
         "orientation": "h",
         "showlegend": true,
         "textposition": "auto",
         "type": "bar",
         "x": [
          4.751681199360001,
          21.35261184
         ],
         "xaxis": "x",
         "y": [
          "FRANCE",
          "GERMANY"
         ],
         "yaxis": "y"
        },
        {
         "alignmentgroup": "True",
         "customdata": [
          [
           "937556-56"
          ]
         ],
         "hovertemplate": "Item Code=%{customdata[0]}<br>CO2 Total=%{x}<br>Customer Country=%{y}<extra></extra>",
         "legendgroup": "937556-56",
         "marker": {
          "color": "#ab63fa",
          "pattern": {
           "shape": ""
          }
         },
         "name": "937556-56",
         "offsetgroup": "937556-56",
         "orientation": "h",
         "showlegend": true,
         "textposition": "auto",
         "type": "bar",
         "x": [
          0.08542704
         ],
         "xaxis": "x",
         "y": [
          "FRANCE"
         ],
         "yaxis": "y"
        },
        {
         "alignmentgroup": "True",
         "customdata": [
          [
           "937946-46"
          ]
         ],
         "hovertemplate": "Item Code=%{customdata[0]}<br>CO2 Total=%{x}<br>Customer Country=%{y}<extra></extra>",
         "legendgroup": "937946-46",
         "marker": {
          "color": "#FFA15A",
          "pattern": {
           "shape": ""
          }
         },
         "name": "937946-46",
         "offsetgroup": "937946-46",
         "orientation": "h",
         "showlegend": true,
         "textposition": "auto",
         "type": "bar",
         "x": [
          2.568012804864
         ],
         "xaxis": "x",
         "y": [
          "FRANCE"
         ],
         "yaxis": "y"
        },
        {
         "alignmentgroup": "True",
         "customdata": [
          [
           "939387-87"
          ]
         ],
         "hovertemplate": "Item Code=%{customdata[0]}<br>CO2 Total=%{x}<br>Customer Country=%{y}<extra></extra>",
         "legendgroup": "939387-87",
         "marker": {
          "color": "#19d3f3",
          "pattern": {
           "shape": ""
          }
         },
         "name": "939387-87",
         "offsetgroup": "939387-87",
         "orientation": "h",
         "showlegend": true,
         "textposition": "auto",
         "type": "bar",
         "x": [
          0.2751496585824
         ],
         "xaxis": "x",
         "y": [
          "FRANCE"
         ],
         "yaxis": "y"
        },
        {
         "alignmentgroup": "True",
         "customdata": [
          [
           "942047-47"
          ]
         ],
         "hovertemplate": "Item Code=%{customdata[0]}<br>CO2 Total=%{x}<br>Customer Country=%{y}<extra></extra>",
         "legendgroup": "942047-47",
         "marker": {
          "color": "#FF6692",
          "pattern": {
           "shape": ""
          }
         },
         "name": "942047-47",
         "offsetgroup": "942047-47",
         "orientation": "h",
         "showlegend": true,
         "textposition": "auto",
         "type": "bar",
         "x": [
          0.47720705471999947
         ],
         "xaxis": "x",
         "y": [
          "FRANCE"
         ],
         "yaxis": "y"
        },
        {
         "alignmentgroup": "True",
         "customdata": [
          [
           "942053-53"
          ]
         ],
         "hovertemplate": "Item Code=%{customdata[0]}<br>CO2 Total=%{x}<br>Customer Country=%{y}<extra></extra>",
         "legendgroup": "942053-53",
         "marker": {
          "color": "#B6E880",
          "pattern": {
           "shape": ""
          }
         },
         "name": "942053-53",
         "offsetgroup": "942053-53",
         "orientation": "h",
         "showlegend": true,
         "textposition": "auto",
         "type": "bar",
         "x": [
          0.2615060460479998
         ],
         "xaxis": "x",
         "y": [
          "FRANCE"
         ],
         "yaxis": "y"
        },
        {
         "alignmentgroup": "True",
         "customdata": [
          [
           "942076-76"
          ]
         ],
         "hovertemplate": "Item Code=%{customdata[0]}<br>CO2 Total=%{x}<br>Customer Country=%{y}<extra></extra>",
         "legendgroup": "942076-76",
         "marker": {
          "color": "#FF97FF",
          "pattern": {
           "shape": ""
          }
         },
         "name": "942076-76",
         "offsetgroup": "942076-76",
         "orientation": "h",
         "showlegend": true,
         "textposition": "auto",
         "type": "bar",
         "x": [
          0.06877089791999999
         ],
         "xaxis": "x",
         "y": [
          "FRANCE"
         ],
         "yaxis": "y"
        },
        {
         "alignmentgroup": "True",
         "customdata": [
          [
           "942077-77"
          ],
          [
           "942077-77"
          ]
         ],
         "hovertemplate": "Item Code=%{customdata[0]}<br>CO2 Total=%{x}<br>Customer Country=%{y}<extra></extra>",
         "legendgroup": "942077-77",
         "marker": {
          "color": "#FECB52",
          "pattern": {
           "shape": ""
          }
         },
         "name": "942077-77",
         "offsetgroup": "942077-77",
         "orientation": "h",
         "showlegend": true,
         "textposition": "auto",
         "type": "bar",
         "x": [
          0.0476042112,
          0.06670272
         ],
         "xaxis": "x",
         "y": [
          "FRANCE",
          "UNITED KINGDOM"
         ],
         "yaxis": "y"
        },
        {
         "alignmentgroup": "True",
         "customdata": [
          [
           "942082-82"
          ]
         ],
         "hovertemplate": "Item Code=%{customdata[0]}<br>CO2 Total=%{x}<br>Customer Country=%{y}<extra></extra>",
         "legendgroup": "942082-82",
         "marker": {
          "color": "#636efa",
          "pattern": {
           "shape": ""
          }
         },
         "name": "942082-82",
         "offsetgroup": "942082-82",
         "orientation": "h",
         "showlegend": true,
         "textposition": "auto",
         "type": "bar",
         "x": [
          0.76182884352
         ],
         "xaxis": "x",
         "y": [
          "FRANCE"
         ],
         "yaxis": "y"
        },
        {
         "alignmentgroup": "True",
         "customdata": [
          [
           "942103-03"
          ]
         ],
         "hovertemplate": "Item Code=%{customdata[0]}<br>CO2 Total=%{x}<br>Customer Country=%{y}<extra></extra>",
         "legendgroup": "942103-03",
         "marker": {
          "color": "#EF553B",
          "pattern": {
           "shape": ""
          }
         },
         "name": "942103-03",
         "offsetgroup": "942103-03",
         "orientation": "h",
         "showlegend": true,
         "textposition": "auto",
         "type": "bar",
         "x": [
          4.6329825270144
         ],
         "xaxis": "x",
         "y": [
          "FRANCE"
         ],
         "yaxis": "y"
        },
        {
         "alignmentgroup": "True",
         "customdata": [
          [
           "942104-04"
          ]
         ],
         "hovertemplate": "Item Code=%{customdata[0]}<br>CO2 Total=%{x}<br>Customer Country=%{y}<extra></extra>",
         "legendgroup": "942104-04",
         "marker": {
          "color": "#00cc96",
          "pattern": {
           "shape": ""
          }
         },
         "name": "942104-04",
         "offsetgroup": "942104-04",
         "orientation": "h",
         "showlegend": true,
         "textposition": "auto",
         "type": "bar",
         "x": [
          0.0306674910528
         ],
         "xaxis": "x",
         "y": [
          "FRANCE"
         ],
         "yaxis": "y"
        },
        {
         "alignmentgroup": "True",
         "customdata": [
          [
           "942865-65"
          ]
         ],
         "hovertemplate": "Item Code=%{customdata[0]}<br>CO2 Total=%{x}<br>Customer Country=%{y}<extra></extra>",
         "legendgroup": "942865-65",
         "marker": {
          "color": "#ab63fa",
          "pattern": {
           "shape": ""
          }
         },
         "name": "942865-65",
         "offsetgroup": "942865-65",
         "orientation": "h",
         "showlegend": true,
         "textposition": "auto",
         "type": "bar",
         "x": [
          0.11475178439999989
         ],
         "xaxis": "x",
         "y": [
          "FRANCE"
         ],
         "yaxis": "y"
        },
        {
         "alignmentgroup": "True",
         "customdata": [
          [
           "9430251-51"
          ]
         ],
         "hovertemplate": "Item Code=%{customdata[0]}<br>CO2 Total=%{x}<br>Customer Country=%{y}<extra></extra>",
         "legendgroup": "9430251-51",
         "marker": {
          "color": "#FFA15A",
          "pattern": {
           "shape": ""
          }
         },
         "name": "9430251-51",
         "offsetgroup": "9430251-51",
         "orientation": "h",
         "showlegend": true,
         "textposition": "auto",
         "type": "bar",
         "x": [
          0.017143248
         ],
         "xaxis": "x",
         "y": [
          "FRANCE"
         ],
         "yaxis": "y"
        },
        {
         "alignmentgroup": "True",
         "customdata": [
          [
           "9430291-91"
          ]
         ],
         "hovertemplate": "Item Code=%{customdata[0]}<br>CO2 Total=%{x}<br>Customer Country=%{y}<extra></extra>",
         "legendgroup": "9430291-91",
         "marker": {
          "color": "#19d3f3",
          "pattern": {
           "shape": ""
          }
         },
         "name": "9430291-91",
         "offsetgroup": "9430291-91",
         "orientation": "h",
         "showlegend": true,
         "textposition": "auto",
         "type": "bar",
         "x": [
          0.017143248
         ],
         "xaxis": "x",
         "y": [
          "FRANCE"
         ],
         "yaxis": "y"
        },
        {
         "alignmentgroup": "True",
         "customdata": [
          [
           "9430301-01"
          ]
         ],
         "hovertemplate": "Item Code=%{customdata[0]}<br>CO2 Total=%{x}<br>Customer Country=%{y}<extra></extra>",
         "legendgroup": "9430301-01",
         "marker": {
          "color": "#FF6692",
          "pattern": {
           "shape": ""
          }
         },
         "name": "9430301-01",
         "offsetgroup": "9430301-01",
         "orientation": "h",
         "showlegend": true,
         "textposition": "auto",
         "type": "bar",
         "x": [
          0.017143248
         ],
         "xaxis": "x",
         "y": [
          "FRANCE"
         ],
         "yaxis": "y"
        },
        {
         "alignmentgroup": "True",
         "customdata": [
          [
           "9430311-11"
          ]
         ],
         "hovertemplate": "Item Code=%{customdata[0]}<br>CO2 Total=%{x}<br>Customer Country=%{y}<extra></extra>",
         "legendgroup": "9430311-11",
         "marker": {
          "color": "#B6E880",
          "pattern": {
           "shape": ""
          }
         },
         "name": "9430311-11",
         "offsetgroup": "9430311-11",
         "orientation": "h",
         "showlegend": true,
         "textposition": "auto",
         "type": "bar",
         "x": [
          0.017143248
         ],
         "xaxis": "x",
         "y": [
          "FRANCE"
         ],
         "yaxis": "y"
        },
        {
         "alignmentgroup": "True",
         "customdata": [
          [
           "9431931-31"
          ]
         ],
         "hovertemplate": "Item Code=%{customdata[0]}<br>CO2 Total=%{x}<br>Customer Country=%{y}<extra></extra>",
         "legendgroup": "9431931-31",
         "marker": {
          "color": "#FF97FF",
          "pattern": {
           "shape": ""
          }
         },
         "name": "9431931-31",
         "offsetgroup": "9431931-31",
         "orientation": "h",
         "showlegend": true,
         "textposition": "auto",
         "type": "bar",
         "x": [
          0.01775560481856
         ],
         "xaxis": "x",
         "y": [
          "FRANCE"
         ],
         "yaxis": "y"
        },
        {
         "alignmentgroup": "True",
         "customdata": [
          [
           "9431941-41"
          ]
         ],
         "hovertemplate": "Item Code=%{customdata[0]}<br>CO2 Total=%{x}<br>Customer Country=%{y}<extra></extra>",
         "legendgroup": "9431941-41",
         "marker": {
          "color": "#FECB52",
          "pattern": {
           "shape": ""
          }
         },
         "name": "9431941-41",
         "offsetgroup": "9431941-41",
         "orientation": "h",
         "showlegend": true,
         "textposition": "auto",
         "type": "bar",
         "x": [
          0.01775560481856
         ],
         "xaxis": "x",
         "y": [
          "FRANCE"
         ],
         "yaxis": "y"
        },
        {
         "alignmentgroup": "True",
         "customdata": [
          [
           "9431971-71"
          ]
         ],
         "hovertemplate": "Item Code=%{customdata[0]}<br>CO2 Total=%{x}<br>Customer Country=%{y}<extra></extra>",
         "legendgroup": "9431971-71",
         "marker": {
          "color": "#636efa",
          "pattern": {
           "shape": ""
          }
         },
         "name": "9431971-71",
         "offsetgroup": "9431971-71",
         "orientation": "h",
         "showlegend": true,
         "textposition": "auto",
         "type": "bar",
         "x": [
          0.01775560481856
         ],
         "xaxis": "x",
         "y": [
          "FRANCE"
         ],
         "yaxis": "y"
        },
        {
         "alignmentgroup": "True",
         "customdata": [
          [
           "9431981-81"
          ]
         ],
         "hovertemplate": "Item Code=%{customdata[0]}<br>CO2 Total=%{x}<br>Customer Country=%{y}<extra></extra>",
         "legendgroup": "9431981-81",
         "marker": {
          "color": "#EF553B",
          "pattern": {
           "shape": ""
          }
         },
         "name": "9431981-81",
         "offsetgroup": "9431981-81",
         "orientation": "h",
         "showlegend": true,
         "textposition": "auto",
         "type": "bar",
         "x": [
          0.01775560481856
         ],
         "xaxis": "x",
         "y": [
          "FRANCE"
         ],
         "yaxis": "y"
        },
        {
         "alignmentgroup": "True",
         "customdata": [
          [
           "943437-37"
          ]
         ],
         "hovertemplate": "Item Code=%{customdata[0]}<br>CO2 Total=%{x}<br>Customer Country=%{y}<extra></extra>",
         "legendgroup": "943437-37",
         "marker": {
          "color": "#00cc96",
          "pattern": {
           "shape": ""
          }
         },
         "name": "943437-37",
         "offsetgroup": "943437-37",
         "orientation": "h",
         "showlegend": true,
         "textposition": "auto",
         "type": "bar",
         "x": [
          0.4471038074879998
         ],
         "xaxis": "x",
         "y": [
          "FRANCE"
         ],
         "yaxis": "y"
        },
        {
         "alignmentgroup": "True",
         "customdata": [
          [
           "943452-52"
          ]
         ],
         "hovertemplate": "Item Code=%{customdata[0]}<br>CO2 Total=%{x}<br>Customer Country=%{y}<extra></extra>",
         "legendgroup": "943452-52",
         "marker": {
          "color": "#ab63fa",
          "pattern": {
           "shape": ""
          }
         },
         "name": "943452-52",
         "offsetgroup": "943452-52",
         "orientation": "h",
         "showlegend": true,
         "textposition": "auto",
         "type": "bar",
         "x": [
          0.3714535485503998
         ],
         "xaxis": "x",
         "y": [
          "FRANCE"
         ],
         "yaxis": "y"
        },
        {
         "alignmentgroup": "True",
         "customdata": [
          [
           "943453-53"
          ]
         ],
         "hovertemplate": "Item Code=%{customdata[0]}<br>CO2 Total=%{x}<br>Customer Country=%{y}<extra></extra>",
         "legendgroup": "943453-53",
         "marker": {
          "color": "#FFA15A",
          "pattern": {
           "shape": ""
          }
         },
         "name": "943453-53",
         "offsetgroup": "943453-53",
         "orientation": "h",
         "showlegend": true,
         "textposition": "auto",
         "type": "bar",
         "x": [
          0.1796663460671998
         ],
         "xaxis": "x",
         "y": [
          "FRANCE"
         ],
         "yaxis": "y"
        },
        {
         "alignmentgroup": "True",
         "customdata": [
          [
           "943457-57"
          ]
         ],
         "hovertemplate": "Item Code=%{customdata[0]}<br>CO2 Total=%{x}<br>Customer Country=%{y}<extra></extra>",
         "legendgroup": "943457-57",
         "marker": {
          "color": "#19d3f3",
          "pattern": {
           "shape": ""
          }
         },
         "name": "943457-57",
         "offsetgroup": "943457-57",
         "orientation": "h",
         "showlegend": true,
         "textposition": "auto",
         "type": "bar",
         "x": [
          5.703594504902401
         ],
         "xaxis": "x",
         "y": [
          "FRANCE"
         ],
         "yaxis": "y"
        },
        {
         "alignmentgroup": "True",
         "customdata": [
          [
           "943832-32"
          ]
         ],
         "hovertemplate": "Item Code=%{customdata[0]}<br>CO2 Total=%{x}<br>Customer Country=%{y}<extra></extra>",
         "legendgroup": "943832-32",
         "marker": {
          "color": "#FF6692",
          "pattern": {
           "shape": ""
          }
         },
         "name": "943832-32",
         "offsetgroup": "943832-32",
         "orientation": "h",
         "showlegend": true,
         "textposition": "auto",
         "type": "bar",
         "x": [
          0.3307944959999999
         ],
         "xaxis": "x",
         "y": [
          "FRANCE"
         ],
         "yaxis": "y"
        },
        {
         "alignmentgroup": "True",
         "customdata": [
          [
           "944017-17"
          ]
         ],
         "hovertemplate": "Item Code=%{customdata[0]}<br>CO2 Total=%{x}<br>Customer Country=%{y}<extra></extra>",
         "legendgroup": "944017-17",
         "marker": {
          "color": "#B6E880",
          "pattern": {
           "shape": ""
          }
         },
         "name": "944017-17",
         "offsetgroup": "944017-17",
         "orientation": "h",
         "showlegend": true,
         "textposition": "auto",
         "type": "bar",
         "x": [
          4.204453266432
         ],
         "xaxis": "x",
         "y": [
          "FRANCE"
         ],
         "yaxis": "y"
        },
        {
         "alignmentgroup": "True",
         "customdata": [
          [
           "944021-21"
          ]
         ],
         "hovertemplate": "Item Code=%{customdata[0]}<br>CO2 Total=%{x}<br>Customer Country=%{y}<extra></extra>",
         "legendgroup": "944021-21",
         "marker": {
          "color": "#FF97FF",
          "pattern": {
           "shape": ""
          }
         },
         "name": "944021-21",
         "offsetgroup": "944021-21",
         "orientation": "h",
         "showlegend": true,
         "textposition": "auto",
         "type": "bar",
         "x": [
          0.17989133235839982
         ],
         "xaxis": "x",
         "y": [
          "FRANCE"
         ],
         "yaxis": "y"
        },
        {
         "alignmentgroup": "True",
         "customdata": [
          [
           "944022-22"
          ]
         ],
         "hovertemplate": "Item Code=%{customdata[0]}<br>CO2 Total=%{x}<br>Customer Country=%{y}<extra></extra>",
         "legendgroup": "944022-22",
         "marker": {
          "color": "#FECB52",
          "pattern": {
           "shape": ""
          }
         },
         "name": "944022-22",
         "offsetgroup": "944022-22",
         "orientation": "h",
         "showlegend": true,
         "textposition": "auto",
         "type": "bar",
         "x": [
          0.0522222427583997
         ],
         "xaxis": "x",
         "y": [
          "FRANCE"
         ],
         "yaxis": "y"
        },
        {
         "alignmentgroup": "True",
         "customdata": [
          [
           "944023-23"
          ]
         ],
         "hovertemplate": "Item Code=%{customdata[0]}<br>CO2 Total=%{x}<br>Customer Country=%{y}<extra></extra>",
         "legendgroup": "944023-23",
         "marker": {
          "color": "#636efa",
          "pattern": {
           "shape": ""
          }
         },
         "name": "944023-23",
         "offsetgroup": "944023-23",
         "orientation": "h",
         "showlegend": true,
         "textposition": "auto",
         "type": "bar",
         "x": [
          0.0071487411839999
         ],
         "xaxis": "x",
         "y": [
          "FRANCE"
         ],
         "yaxis": "y"
        },
        {
         "alignmentgroup": "True",
         "customdata": [
          [
           "944033-33"
          ]
         ],
         "hovertemplate": "Item Code=%{customdata[0]}<br>CO2 Total=%{x}<br>Customer Country=%{y}<extra></extra>",
         "legendgroup": "944033-33",
         "marker": {
          "color": "#EF553B",
          "pattern": {
           "shape": ""
          }
         },
         "name": "944033-33",
         "offsetgroup": "944033-33",
         "orientation": "h",
         "showlegend": true,
         "textposition": "auto",
         "type": "bar",
         "x": [
          0.4090830428159997
         ],
         "xaxis": "x",
         "y": [
          "FRANCE"
         ],
         "yaxis": "y"
        },
        {
         "alignmentgroup": "True",
         "customdata": [
          [
           "9440761-61"
          ]
         ],
         "hovertemplate": "Item Code=%{customdata[0]}<br>CO2 Total=%{x}<br>Customer Country=%{y}<extra></extra>",
         "legendgroup": "9440761-61",
         "marker": {
          "color": "#00cc96",
          "pattern": {
           "shape": ""
          }
         },
         "name": "9440761-61",
         "offsetgroup": "9440761-61",
         "orientation": "h",
         "showlegend": true,
         "textposition": "auto",
         "type": "bar",
         "x": [
          0.18034696896
         ],
         "xaxis": "x",
         "y": [
          "FRANCE"
         ],
         "yaxis": "y"
        },
        {
         "alignmentgroup": "True",
         "customdata": [
          [
           "944107-07"
          ]
         ],
         "hovertemplate": "Item Code=%{customdata[0]}<br>CO2 Total=%{x}<br>Customer Country=%{y}<extra></extra>",
         "legendgroup": "944107-07",
         "marker": {
          "color": "#ab63fa",
          "pattern": {
           "shape": ""
          }
         },
         "name": "944107-07",
         "offsetgroup": "944107-07",
         "orientation": "h",
         "showlegend": true,
         "textposition": "auto",
         "type": "bar",
         "x": [
          0.049578273216
         ],
         "xaxis": "x",
         "y": [
          "FRANCE"
         ],
         "yaxis": "y"
        },
        {
         "alignmentgroup": "True",
         "customdata": [
          [
           "944191-91"
          ]
         ],
         "hovertemplate": "Item Code=%{customdata[0]}<br>CO2 Total=%{x}<br>Customer Country=%{y}<extra></extra>",
         "legendgroup": "944191-91",
         "marker": {
          "color": "#FFA15A",
          "pattern": {
           "shape": ""
          }
         },
         "name": "944191-91",
         "offsetgroup": "944191-91",
         "orientation": "h",
         "showlegend": true,
         "textposition": "auto",
         "type": "bar",
         "x": [
          0.103133779968
         ],
         "xaxis": "x",
         "y": [
          "FRANCE"
         ],
         "yaxis": "y"
        },
        {
         "alignmentgroup": "True",
         "customdata": [
          [
           "945764-64"
          ]
         ],
         "hovertemplate": "Item Code=%{customdata[0]}<br>CO2 Total=%{x}<br>Customer Country=%{y}<extra></extra>",
         "legendgroup": "945764-64",
         "marker": {
          "color": "#19d3f3",
          "pattern": {
           "shape": ""
          }
         },
         "name": "945764-64",
         "offsetgroup": "945764-64",
         "orientation": "h",
         "showlegend": true,
         "textposition": "auto",
         "type": "bar",
         "x": [
          0.4725637023744
         ],
         "xaxis": "x",
         "y": [
          "FRANCE"
         ],
         "yaxis": "y"
        },
        {
         "alignmentgroup": "True",
         "customdata": [
          [
           "9460071-71"
          ]
         ],
         "hovertemplate": "Item Code=%{customdata[0]}<br>CO2 Total=%{x}<br>Customer Country=%{y}<extra></extra>",
         "legendgroup": "9460071-71",
         "marker": {
          "color": "#FF6692",
          "pattern": {
           "shape": ""
          }
         },
         "name": "9460071-71",
         "offsetgroup": "9460071-71",
         "orientation": "h",
         "showlegend": true,
         "textposition": "auto",
         "type": "bar",
         "x": [
          6.634505471136
         ],
         "xaxis": "x",
         "y": [
          "FRANCE"
         ],
         "yaxis": "y"
        },
        {
         "alignmentgroup": "True",
         "customdata": [
          [
           "9460451-51"
          ]
         ],
         "hovertemplate": "Item Code=%{customdata[0]}<br>CO2 Total=%{x}<br>Customer Country=%{y}<extra></extra>",
         "legendgroup": "9460451-51",
         "marker": {
          "color": "#B6E880",
          "pattern": {
           "shape": ""
          }
         },
         "name": "9460451-51",
         "offsetgroup": "9460451-51",
         "orientation": "h",
         "showlegend": true,
         "textposition": "auto",
         "type": "bar",
         "x": [
          2.27471763456
         ],
         "xaxis": "x",
         "y": [
          "FRANCE"
         ],
         "yaxis": "y"
        },
        {
         "alignmentgroup": "True",
         "customdata": [
          [
           "946050-50"
          ]
         ],
         "hovertemplate": "Item Code=%{customdata[0]}<br>CO2 Total=%{x}<br>Customer Country=%{y}<extra></extra>",
         "legendgroup": "946050-50",
         "marker": {
          "color": "#FF97FF",
          "pattern": {
           "shape": ""
          }
         },
         "name": "946050-50",
         "offsetgroup": "946050-50",
         "orientation": "h",
         "showlegend": true,
         "textposition": "auto",
         "type": "bar",
         "x": [
          0.016693973952
         ],
         "xaxis": "x",
         "y": [
          "FRANCE"
         ],
         "yaxis": "y"
        },
        {
         "alignmentgroup": "True",
         "customdata": [
          [
           "946442-42"
          ]
         ],
         "hovertemplate": "Item Code=%{customdata[0]}<br>CO2 Total=%{x}<br>Customer Country=%{y}<extra></extra>",
         "legendgroup": "946442-42",
         "marker": {
          "color": "#FECB52",
          "pattern": {
           "shape": ""
          }
         },
         "name": "946442-42",
         "offsetgroup": "946442-42",
         "orientation": "h",
         "showlegend": true,
         "textposition": "auto",
         "type": "bar",
         "x": [
          0.5397820343999999
         ],
         "xaxis": "x",
         "y": [
          "FRANCE"
         ],
         "yaxis": "y"
        },
        {
         "alignmentgroup": "True",
         "customdata": [
          [
           "946468-68"
          ]
         ],
         "hovertemplate": "Item Code=%{customdata[0]}<br>CO2 Total=%{x}<br>Customer Country=%{y}<extra></extra>",
         "legendgroup": "946468-68",
         "marker": {
          "color": "#636efa",
          "pattern": {
           "shape": ""
          }
         },
         "name": "946468-68",
         "offsetgroup": "946468-68",
         "orientation": "h",
         "showlegend": true,
         "textposition": "auto",
         "type": "bar",
         "x": [
          0.63353803248
         ],
         "xaxis": "x",
         "y": [
          "FRANCE"
         ],
         "yaxis": "y"
        },
        {
         "alignmentgroup": "True",
         "customdata": [
          [
           "946718-18"
          ]
         ],
         "hovertemplate": "Item Code=%{customdata[0]}<br>CO2 Total=%{x}<br>Customer Country=%{y}<extra></extra>",
         "legendgroup": "946718-18",
         "marker": {
          "color": "#EF553B",
          "pattern": {
           "shape": ""
          }
         },
         "name": "946718-18",
         "offsetgroup": "946718-18",
         "orientation": "h",
         "showlegend": true,
         "textposition": "auto",
         "type": "bar",
         "x": [
          2.2222102656
         ],
         "xaxis": "x",
         "y": [
          "FRANCE"
         ],
         "yaxis": "y"
        },
        {
         "alignmentgroup": "True",
         "customdata": [
          [
           "946800-00"
          ]
         ],
         "hovertemplate": "Item Code=%{customdata[0]}<br>CO2 Total=%{x}<br>Customer Country=%{y}<extra></extra>",
         "legendgroup": "946800-00",
         "marker": {
          "color": "#00cc96",
          "pattern": {
           "shape": ""
          }
         },
         "name": "946800-00",
         "offsetgroup": "946800-00",
         "orientation": "h",
         "showlegend": true,
         "textposition": "auto",
         "type": "bar",
         "x": [
          1.17815838260736
         ],
         "xaxis": "x",
         "y": [
          "FRANCE"
         ],
         "yaxis": "y"
        },
        {
         "alignmentgroup": "True",
         "customdata": [
          [
           "946804-04"
          ]
         ],
         "hovertemplate": "Item Code=%{customdata[0]}<br>CO2 Total=%{x}<br>Customer Country=%{y}<extra></extra>",
         "legendgroup": "946804-04",
         "marker": {
          "color": "#ab63fa",
          "pattern": {
           "shape": ""
          }
         },
         "name": "946804-04",
         "offsetgroup": "946804-04",
         "orientation": "h",
         "showlegend": true,
         "textposition": "auto",
         "type": "bar",
         "x": [
          1.11031283244288
         ],
         "xaxis": "x",
         "y": [
          "FRANCE"
         ],
         "yaxis": "y"
        },
        {
         "alignmentgroup": "True",
         "customdata": [
          [
           "946826-26"
          ]
         ],
         "hovertemplate": "Item Code=%{customdata[0]}<br>CO2 Total=%{x}<br>Customer Country=%{y}<extra></extra>",
         "legendgroup": "946826-26",
         "marker": {
          "color": "#FFA15A",
          "pattern": {
           "shape": ""
          }
         },
         "name": "946826-26",
         "offsetgroup": "946826-26",
         "orientation": "h",
         "showlegend": true,
         "textposition": "auto",
         "type": "bar",
         "x": [
          0.04448089985568
         ],
         "xaxis": "x",
         "y": [
          "FRANCE"
         ],
         "yaxis": "y"
        },
        {
         "alignmentgroup": "True",
         "customdata": [
          [
           "947652-52"
          ]
         ],
         "hovertemplate": "Item Code=%{customdata[0]}<br>CO2 Total=%{x}<br>Customer Country=%{y}<extra></extra>",
         "legendgroup": "947652-52",
         "marker": {
          "color": "#19d3f3",
          "pattern": {
           "shape": ""
          }
         },
         "name": "947652-52",
         "offsetgroup": "947652-52",
         "orientation": "h",
         "showlegend": true,
         "textposition": "auto",
         "type": "bar",
         "x": [
          0.30716318208
         ],
         "xaxis": "x",
         "y": [
          "FRANCE"
         ],
         "yaxis": "y"
        },
        {
         "alignmentgroup": "True",
         "customdata": [
          [
           "947708-08"
          ]
         ],
         "hovertemplate": "Item Code=%{customdata[0]}<br>CO2 Total=%{x}<br>Customer Country=%{y}<extra></extra>",
         "legendgroup": "947708-08",
         "marker": {
          "color": "#FF6692",
          "pattern": {
           "shape": ""
          }
         },
         "name": "947708-08",
         "offsetgroup": "947708-08",
         "orientation": "h",
         "showlegend": true,
         "textposition": "auto",
         "type": "bar",
         "x": [
          0.6307148390399998
         ],
         "xaxis": "x",
         "y": [
          "FRANCE"
         ],
         "yaxis": "y"
        },
        {
         "alignmentgroup": "True",
         "customdata": [
          [
           "948543-43"
          ]
         ],
         "hovertemplate": "Item Code=%{customdata[0]}<br>CO2 Total=%{x}<br>Customer Country=%{y}<extra></extra>",
         "legendgroup": "948543-43",
         "marker": {
          "color": "#B6E880",
          "pattern": {
           "shape": ""
          }
         },
         "name": "948543-43",
         "offsetgroup": "948543-43",
         "orientation": "h",
         "showlegend": true,
         "textposition": "auto",
         "type": "bar",
         "x": [
          0.1964764955519998
         ],
         "xaxis": "x",
         "y": [
          "FRANCE"
         ],
         "yaxis": "y"
        },
        {
         "alignmentgroup": "True",
         "customdata": [
          [
           "948726-26"
          ],
          [
           "948726-26"
          ]
         ],
         "hovertemplate": "Item Code=%{customdata[0]}<br>CO2 Total=%{x}<br>Customer Country=%{y}<extra></extra>",
         "legendgroup": "948726-26",
         "marker": {
          "color": "#FF97FF",
          "pattern": {
           "shape": ""
          }
         },
         "name": "948726-26",
         "offsetgroup": "948726-26",
         "orientation": "h",
         "showlegend": true,
         "textposition": "auto",
         "type": "bar",
         "x": [
          0.0506657696639999,
          0.1481554759999999
         ],
         "xaxis": "x",
         "y": [
          "FRANCE",
          "UNITED KINGDOM"
         ],
         "yaxis": "y"
        },
        {
         "alignmentgroup": "True",
         "customdata": [
          [
           "949869-69"
          ]
         ],
         "hovertemplate": "Item Code=%{customdata[0]}<br>CO2 Total=%{x}<br>Customer Country=%{y}<extra></extra>",
         "legendgroup": "949869-69",
         "marker": {
          "color": "#FECB52",
          "pattern": {
           "shape": ""
          }
         },
         "name": "949869-69",
         "offsetgroup": "949869-69",
         "orientation": "h",
         "showlegend": true,
         "textposition": "auto",
         "type": "bar",
         "x": [
          0.9926331279359996
         ],
         "xaxis": "x",
         "y": [
          "FRANCE"
         ],
         "yaxis": "y"
        },
        {
         "alignmentgroup": "True",
         "customdata": [
          [
           "949871-71"
          ]
         ],
         "hovertemplate": "Item Code=%{customdata[0]}<br>CO2 Total=%{x}<br>Customer Country=%{y}<extra></extra>",
         "legendgroup": "949871-71",
         "marker": {
          "color": "#636efa",
          "pattern": {
           "shape": ""
          }
         },
         "name": "949871-71",
         "offsetgroup": "949871-71",
         "orientation": "h",
         "showlegend": true,
         "textposition": "auto",
         "type": "bar",
         "x": [
          0.4173389575679996
         ],
         "xaxis": "x",
         "y": [
          "FRANCE"
         ],
         "yaxis": "y"
        },
        {
         "alignmentgroup": "True",
         "customdata": [
          [
           "949875-75"
          ]
         ],
         "hovertemplate": "Item Code=%{customdata[0]}<br>CO2 Total=%{x}<br>Customer Country=%{y}<extra></extra>",
         "legendgroup": "949875-75",
         "marker": {
          "color": "#EF553B",
          "pattern": {
           "shape": ""
          }
         },
         "name": "949875-75",
         "offsetgroup": "949875-75",
         "orientation": "h",
         "showlegend": true,
         "textposition": "auto",
         "type": "bar",
         "x": [
          0.2834246757119997
         ],
         "xaxis": "x",
         "y": [
          "FRANCE"
         ],
         "yaxis": "y"
        },
        {
         "alignmentgroup": "True",
         "customdata": [
          [
           "949898-98"
          ]
         ],
         "hovertemplate": "Item Code=%{customdata[0]}<br>CO2 Total=%{x}<br>Customer Country=%{y}<extra></extra>",
         "legendgroup": "949898-98",
         "marker": {
          "color": "#00cc96",
          "pattern": {
           "shape": ""
          }
         },
         "name": "949898-98",
         "offsetgroup": "949898-98",
         "orientation": "h",
         "showlegend": true,
         "textposition": "auto",
         "type": "bar",
         "x": [
          0.1859483060159999
         ],
         "xaxis": "x",
         "y": [
          "FRANCE"
         ],
         "yaxis": "y"
        },
        {
         "alignmentgroup": "True",
         "customdata": [
          [
           "950359-59"
          ]
         ],
         "hovertemplate": "Item Code=%{customdata[0]}<br>CO2 Total=%{x}<br>Customer Country=%{y}<extra></extra>",
         "legendgroup": "950359-59",
         "marker": {
          "color": "#ab63fa",
          "pattern": {
           "shape": ""
          }
         },
         "name": "950359-59",
         "offsetgroup": "950359-59",
         "orientation": "h",
         "showlegend": true,
         "textposition": "auto",
         "type": "bar",
         "x": [
          40.95450969480001
         ],
         "xaxis": "x",
         "y": [
          "FRANCE"
         ],
         "yaxis": "y"
        },
        {
         "alignmentgroup": "True",
         "customdata": [
          [
           "9505181-81"
          ]
         ],
         "hovertemplate": "Item Code=%{customdata[0]}<br>CO2 Total=%{x}<br>Customer Country=%{y}<extra></extra>",
         "legendgroup": "9505181-81",
         "marker": {
          "color": "#FFA15A",
          "pattern": {
           "shape": ""
          }
         },
         "name": "9505181-81",
         "offsetgroup": "9505181-81",
         "orientation": "h",
         "showlegend": true,
         "textposition": "auto",
         "type": "bar",
         "x": [
          0.3394430207999999
         ],
         "xaxis": "x",
         "y": [
          "FRANCE"
         ],
         "yaxis": "y"
        },
        {
         "alignmentgroup": "True",
         "customdata": [
          [
           "9505272-72"
          ]
         ],
         "hovertemplate": "Item Code=%{customdata[0]}<br>CO2 Total=%{x}<br>Customer Country=%{y}<extra></extra>",
         "legendgroup": "9505272-72",
         "marker": {
          "color": "#19d3f3",
          "pattern": {
           "shape": ""
          }
         },
         "name": "9505272-72",
         "offsetgroup": "9505272-72",
         "orientation": "h",
         "showlegend": true,
         "textposition": "auto",
         "type": "bar",
         "x": [
          0.051464812032
         ],
         "xaxis": "x",
         "y": [
          "FRANCE"
         ],
         "yaxis": "y"
        },
        {
         "alignmentgroup": "True",
         "customdata": [
          [
           "950635-35"
          ]
         ],
         "hovertemplate": "Item Code=%{customdata[0]}<br>CO2 Total=%{x}<br>Customer Country=%{y}<extra></extra>",
         "legendgroup": "950635-35",
         "marker": {
          "color": "#FF6692",
          "pattern": {
           "shape": ""
          }
         },
         "name": "950635-35",
         "offsetgroup": "950635-35",
         "orientation": "h",
         "showlegend": true,
         "textposition": "auto",
         "type": "bar",
         "x": [
          0.93215375904
         ],
         "xaxis": "x",
         "y": [
          "FRANCE"
         ],
         "yaxis": "y"
        },
        {
         "alignmentgroup": "True",
         "customdata": [
          [
           "950639-39"
          ]
         ],
         "hovertemplate": "Item Code=%{customdata[0]}<br>CO2 Total=%{x}<br>Customer Country=%{y}<extra></extra>",
         "legendgroup": "950639-39",
         "marker": {
          "color": "#B6E880",
          "pattern": {
           "shape": ""
          }
         },
         "name": "950639-39",
         "offsetgroup": "950639-39",
         "orientation": "h",
         "showlegend": true,
         "textposition": "auto",
         "type": "bar",
         "x": [
          0.24975193152
         ],
         "xaxis": "x",
         "y": [
          "FRANCE"
         ],
         "yaxis": "y"
        },
        {
         "alignmentgroup": "True",
         "customdata": [
          [
           "950640-40"
          ]
         ],
         "hovertemplate": "Item Code=%{customdata[0]}<br>CO2 Total=%{x}<br>Customer Country=%{y}<extra></extra>",
         "legendgroup": "950640-40",
         "marker": {
          "color": "#FF97FF",
          "pattern": {
           "shape": ""
          }
         },
         "name": "950640-40",
         "offsetgroup": "950640-40",
         "orientation": "h",
         "showlegend": true,
         "textposition": "auto",
         "type": "bar",
         "x": [
          0.2019745933632
         ],
         "xaxis": "x",
         "y": [
          "FRANCE"
         ],
         "yaxis": "y"
        },
        {
         "alignmentgroup": "True",
         "customdata": [
          [
           "951341-41"
          ]
         ],
         "hovertemplate": "Item Code=%{customdata[0]}<br>CO2 Total=%{x}<br>Customer Country=%{y}<extra></extra>",
         "legendgroup": "951341-41",
         "marker": {
          "color": "#FECB52",
          "pattern": {
           "shape": ""
          }
         },
         "name": "951341-41",
         "offsetgroup": "951341-41",
         "orientation": "h",
         "showlegend": true,
         "textposition": "auto",
         "type": "bar",
         "x": [
          1.11325802976
         ],
         "xaxis": "x",
         "y": [
          "FRANCE"
         ],
         "yaxis": "y"
        },
        {
         "alignmentgroup": "True",
         "customdata": [
          [
           "951344-44"
          ]
         ],
         "hovertemplate": "Item Code=%{customdata[0]}<br>CO2 Total=%{x}<br>Customer Country=%{y}<extra></extra>",
         "legendgroup": "951344-44",
         "marker": {
          "color": "#636efa",
          "pattern": {
           "shape": ""
          }
         },
         "name": "951344-44",
         "offsetgroup": "951344-44",
         "orientation": "h",
         "showlegend": true,
         "textposition": "auto",
         "type": "bar",
         "x": [
          0.18852864000000003
         ],
         "xaxis": "x",
         "y": [
          "FRANCE"
         ],
         "yaxis": "y"
        },
        {
         "alignmentgroup": "True",
         "customdata": [
          [
           "951345-45"
          ]
         ],
         "hovertemplate": "Item Code=%{customdata[0]}<br>CO2 Total=%{x}<br>Customer Country=%{y}<extra></extra>",
         "legendgroup": "951345-45",
         "marker": {
          "color": "#EF553B",
          "pattern": {
           "shape": ""
          }
         },
         "name": "951345-45",
         "offsetgroup": "951345-45",
         "orientation": "h",
         "showlegend": true,
         "textposition": "auto",
         "type": "bar",
         "x": [
          0.26072506368
         ],
         "xaxis": "x",
         "y": [
          "FRANCE"
         ],
         "yaxis": "y"
        },
        {
         "alignmentgroup": "True",
         "customdata": [
          [
           "951365-65"
          ]
         ],
         "hovertemplate": "Item Code=%{customdata[0]}<br>CO2 Total=%{x}<br>Customer Country=%{y}<extra></extra>",
         "legendgroup": "951365-65",
         "marker": {
          "color": "#00cc96",
          "pattern": {
           "shape": ""
          }
         },
         "name": "951365-65",
         "offsetgroup": "951365-65",
         "orientation": "h",
         "showlegend": true,
         "textposition": "auto",
         "type": "bar",
         "x": [
          0.762104690496
         ],
         "xaxis": "x",
         "y": [
          "FRANCE"
         ],
         "yaxis": "y"
        },
        {
         "alignmentgroup": "True",
         "customdata": [
          [
           "951367-67"
          ]
         ],
         "hovertemplate": "Item Code=%{customdata[0]}<br>CO2 Total=%{x}<br>Customer Country=%{y}<extra></extra>",
         "legendgroup": "951367-67",
         "marker": {
          "color": "#ab63fa",
          "pattern": {
           "shape": ""
          }
         },
         "name": "951367-67",
         "offsetgroup": "951367-67",
         "orientation": "h",
         "showlegend": true,
         "textposition": "auto",
         "type": "bar",
         "x": [
          1.838480149632
         ],
         "xaxis": "x",
         "y": [
          "FRANCE"
         ],
         "yaxis": "y"
        },
        {
         "alignmentgroup": "True",
         "customdata": [
          [
           "951444-44"
          ]
         ],
         "hovertemplate": "Item Code=%{customdata[0]}<br>CO2 Total=%{x}<br>Customer Country=%{y}<extra></extra>",
         "legendgroup": "951444-44",
         "marker": {
          "color": "#FFA15A",
          "pattern": {
           "shape": ""
          }
         },
         "name": "951444-44",
         "offsetgroup": "951444-44",
         "orientation": "h",
         "showlegend": true,
         "textposition": "auto",
         "type": "bar",
         "x": [
          0.5540783270399999
         ],
         "xaxis": "x",
         "y": [
          "FRANCE"
         ],
         "yaxis": "y"
        },
        {
         "alignmentgroup": "True",
         "customdata": [
          [
           "951469-69"
          ]
         ],
         "hovertemplate": "Item Code=%{customdata[0]}<br>CO2 Total=%{x}<br>Customer Country=%{y}<extra></extra>",
         "legendgroup": "951469-69",
         "marker": {
          "color": "#19d3f3",
          "pattern": {
           "shape": ""
          }
         },
         "name": "951469-69",
         "offsetgroup": "951469-69",
         "orientation": "h",
         "showlegend": true,
         "textposition": "auto",
         "type": "bar",
         "x": [
          0.8674528824
         ],
         "xaxis": "x",
         "y": [
          "FRANCE"
         ],
         "yaxis": "y"
        },
        {
         "alignmentgroup": "True",
         "customdata": [
          [
           "951473-73"
          ]
         ],
         "hovertemplate": "Item Code=%{customdata[0]}<br>CO2 Total=%{x}<br>Customer Country=%{y}<extra></extra>",
         "legendgroup": "951473-73",
         "marker": {
          "color": "#FF6692",
          "pattern": {
           "shape": ""
          }
         },
         "name": "951473-73",
         "offsetgroup": "951473-73",
         "orientation": "h",
         "showlegend": true,
         "textposition": "auto",
         "type": "bar",
         "x": [
          0.03702941568
         ],
         "xaxis": "x",
         "y": [
          "FRANCE"
         ],
         "yaxis": "y"
        },
        {
         "alignmentgroup": "True",
         "customdata": [
          [
           "951476-76"
          ]
         ],
         "hovertemplate": "Item Code=%{customdata[0]}<br>CO2 Total=%{x}<br>Customer Country=%{y}<extra></extra>",
         "legendgroup": "951476-76",
         "marker": {
          "color": "#B6E880",
          "pattern": {
           "shape": ""
          }
         },
         "name": "951476-76",
         "offsetgroup": "951476-76",
         "orientation": "h",
         "showlegend": true,
         "textposition": "auto",
         "type": "bar",
         "x": [
          0.31590874367999977
         ],
         "xaxis": "x",
         "y": [
          "FRANCE"
         ],
         "yaxis": "y"
        },
        {
         "alignmentgroup": "True",
         "customdata": [
          [
           "951482-82"
          ]
         ],
         "hovertemplate": "Item Code=%{customdata[0]}<br>CO2 Total=%{x}<br>Customer Country=%{y}<extra></extra>",
         "legendgroup": "951482-82",
         "marker": {
          "color": "#FF97FF",
          "pattern": {
           "shape": ""
          }
         },
         "name": "951482-82",
         "offsetgroup": "951482-82",
         "orientation": "h",
         "showlegend": true,
         "textposition": "auto",
         "type": "bar",
         "x": [
          0.603189828
         ],
         "xaxis": "x",
         "y": [
          "FRANCE"
         ],
         "yaxis": "y"
        },
        {
         "alignmentgroup": "True",
         "customdata": [
          [
           "951737-37"
          ]
         ],
         "hovertemplate": "Item Code=%{customdata[0]}<br>CO2 Total=%{x}<br>Customer Country=%{y}<extra></extra>",
         "legendgroup": "951737-37",
         "marker": {
          "color": "#FECB52",
          "pattern": {
           "shape": ""
          }
         },
         "name": "951737-37",
         "offsetgroup": "951737-37",
         "orientation": "h",
         "showlegend": true,
         "textposition": "auto",
         "type": "bar",
         "x": [
          0.011108824704
         ],
         "xaxis": "x",
         "y": [
          "FRANCE"
         ],
         "yaxis": "y"
        },
        {
         "alignmentgroup": "True",
         "customdata": [
          [
           "951862-62"
          ]
         ],
         "hovertemplate": "Item Code=%{customdata[0]}<br>CO2 Total=%{x}<br>Customer Country=%{y}<extra></extra>",
         "legendgroup": "951862-62",
         "marker": {
          "color": "#636efa",
          "pattern": {
           "shape": ""
          }
         },
         "name": "951862-62",
         "offsetgroup": "951862-62",
         "orientation": "h",
         "showlegend": true,
         "textposition": "auto",
         "type": "bar",
         "x": [
          0.8255527971839999
         ],
         "xaxis": "x",
         "y": [
          "FRANCE"
         ],
         "yaxis": "y"
        },
        {
         "alignmentgroup": "True",
         "customdata": [
          [
           "952494-94"
          ]
         ],
         "hovertemplate": "Item Code=%{customdata[0]}<br>CO2 Total=%{x}<br>Customer Country=%{y}<extra></extra>",
         "legendgroup": "952494-94",
         "marker": {
          "color": "#EF553B",
          "pattern": {
           "shape": ""
          }
         },
         "name": "952494-94",
         "offsetgroup": "952494-94",
         "orientation": "h",
         "showlegend": true,
         "textposition": "auto",
         "type": "bar",
         "x": [
          3.3165094567679994
         ],
         "xaxis": "x",
         "y": [
          "FRANCE"
         ],
         "yaxis": "y"
        },
        {
         "alignmentgroup": "True",
         "customdata": [
          [
           "952530-30"
          ]
         ],
         "hovertemplate": "Item Code=%{customdata[0]}<br>CO2 Total=%{x}<br>Customer Country=%{y}<extra></extra>",
         "legendgroup": "952530-30",
         "marker": {
          "color": "#00cc96",
          "pattern": {
           "shape": ""
          }
         },
         "name": "952530-30",
         "offsetgroup": "952530-30",
         "orientation": "h",
         "showlegend": true,
         "textposition": "auto",
         "type": "bar",
         "x": [
          83.83117894271999
         ],
         "xaxis": "x",
         "y": [
          "FRANCE"
         ],
         "yaxis": "y"
        },
        {
         "alignmentgroup": "True",
         "customdata": [
          [
           "952547-47"
          ],
          [
           "952547-47"
          ]
         ],
         "hovertemplate": "Item Code=%{customdata[0]}<br>CO2 Total=%{x}<br>Customer Country=%{y}<extra></extra>",
         "legendgroup": "952547-47",
         "marker": {
          "color": "#ab63fa",
          "pattern": {
           "shape": ""
          }
         },
         "name": "952547-47",
         "offsetgroup": "952547-47",
         "orientation": "h",
         "showlegend": true,
         "textposition": "auto",
         "type": "bar",
         "x": [
          14.07349665792,
          76.20673536
         ],
         "xaxis": "x",
         "y": [
          "FRANCE",
          "GERMANY"
         ],
         "yaxis": "y"
        },
        {
         "alignmentgroup": "True",
         "customdata": [
          [
           "953017-17"
          ]
         ],
         "hovertemplate": "Item Code=%{customdata[0]}<br>CO2 Total=%{x}<br>Customer Country=%{y}<extra></extra>",
         "legendgroup": "953017-17",
         "marker": {
          "color": "#FFA15A",
          "pattern": {
           "shape": ""
          }
         },
         "name": "953017-17",
         "offsetgroup": "953017-17",
         "orientation": "h",
         "showlegend": true,
         "textposition": "auto",
         "type": "bar",
         "x": [
          19.305212544000003
         ],
         "xaxis": "x",
         "y": [
          "FRANCE"
         ],
         "yaxis": "y"
        },
        {
         "alignmentgroup": "True",
         "customdata": [
          [
           "956471-71"
          ]
         ],
         "hovertemplate": "Item Code=%{customdata[0]}<br>CO2 Total=%{x}<br>Customer Country=%{y}<extra></extra>",
         "legendgroup": "956471-71",
         "marker": {
          "color": "#19d3f3",
          "pattern": {
           "shape": ""
          }
         },
         "name": "956471-71",
         "offsetgroup": "956471-71",
         "orientation": "h",
         "showlegend": true,
         "textposition": "auto",
         "type": "bar",
         "x": [
          8.673580224e-05
         ],
         "xaxis": "x",
         "y": [
          "FRANCE"
         ],
         "yaxis": "y"
        },
        {
         "alignmentgroup": "True",
         "customdata": [
          [
           "956472-72"
          ]
         ],
         "hovertemplate": "Item Code=%{customdata[0]}<br>CO2 Total=%{x}<br>Customer Country=%{y}<extra></extra>",
         "legendgroup": "956472-72",
         "marker": {
          "color": "#FF6692",
          "pattern": {
           "shape": ""
          }
         },
         "name": "956472-72",
         "offsetgroup": "956472-72",
         "orientation": "h",
         "showlegend": true,
         "textposition": "auto",
         "type": "bar",
         "x": [
          8.371013472e-05
         ],
         "xaxis": "x",
         "y": [
          "FRANCE"
         ],
         "yaxis": "y"
        },
        {
         "alignmentgroup": "True",
         "customdata": [
          [
           "956473-73"
          ]
         ],
         "hovertemplate": "Item Code=%{customdata[0]}<br>CO2 Total=%{x}<br>Customer Country=%{y}<extra></extra>",
         "legendgroup": "956473-73",
         "marker": {
          "color": "#B6E880",
          "pattern": {
           "shape": ""
          }
         },
         "name": "956473-73",
         "offsetgroup": "956473-73",
         "orientation": "h",
         "showlegend": true,
         "textposition": "auto",
         "type": "bar",
         "x": [
          2.433766944e-05
         ],
         "xaxis": "x",
         "y": [
          "FRANCE"
         ],
         "yaxis": "y"
        },
        {
         "alignmentgroup": "True",
         "customdata": [
          [
           "956474-74"
          ]
         ],
         "hovertemplate": "Item Code=%{customdata[0]}<br>CO2 Total=%{x}<br>Customer Country=%{y}<extra></extra>",
         "legendgroup": "956474-74",
         "marker": {
          "color": "#FF97FF",
          "pattern": {
           "shape": ""
          }
         },
         "name": "956474-74",
         "offsetgroup": "956474-74",
         "orientation": "h",
         "showlegend": true,
         "textposition": "auto",
         "type": "bar",
         "x": [
          8.875291392e-05
         ],
         "xaxis": "x",
         "y": [
          "FRANCE"
         ],
         "yaxis": "y"
        },
        {
         "alignmentgroup": "True",
         "customdata": [
          [
           "958062-62"
          ]
         ],
         "hovertemplate": "Item Code=%{customdata[0]}<br>CO2 Total=%{x}<br>Customer Country=%{y}<extra></extra>",
         "legendgroup": "958062-62",
         "marker": {
          "color": "#FECB52",
          "pattern": {
           "shape": ""
          }
         },
         "name": "958062-62",
         "offsetgroup": "958062-62",
         "orientation": "h",
         "showlegend": true,
         "textposition": "auto",
         "type": "bar",
         "x": [
          0.3990851472
         ],
         "xaxis": "x",
         "y": [
          "FRANCE"
         ],
         "yaxis": "y"
        },
        {
         "alignmentgroup": "True",
         "customdata": [
          [
           "9581501-01"
          ]
         ],
         "hovertemplate": "Item Code=%{customdata[0]}<br>CO2 Total=%{x}<br>Customer Country=%{y}<extra></extra>",
         "legendgroup": "9581501-01",
         "marker": {
          "color": "#636efa",
          "pattern": {
           "shape": ""
          }
         },
         "name": "9581501-01",
         "offsetgroup": "9581501-01",
         "orientation": "h",
         "showlegend": true,
         "textposition": "auto",
         "type": "bar",
         "x": [
          0.023863401216
         ],
         "xaxis": "x",
         "y": [
          "FRANCE"
         ],
         "yaxis": "y"
        },
        {
         "alignmentgroup": "True",
         "customdata": [
          [
           "958158-58"
          ]
         ],
         "hovertemplate": "Item Code=%{customdata[0]}<br>CO2 Total=%{x}<br>Customer Country=%{y}<extra></extra>",
         "legendgroup": "958158-58",
         "marker": {
          "color": "#EF553B",
          "pattern": {
           "shape": ""
          }
         },
         "name": "958158-58",
         "offsetgroup": "958158-58",
         "orientation": "h",
         "showlegend": true,
         "textposition": "auto",
         "type": "bar",
         "x": [
          1.75216542336
         ],
         "xaxis": "x",
         "y": [
          "FRANCE"
         ],
         "yaxis": "y"
        },
        {
         "alignmentgroup": "True",
         "customdata": [
          [
           "958159-59"
          ]
         ],
         "hovertemplate": "Item Code=%{customdata[0]}<br>CO2 Total=%{x}<br>Customer Country=%{y}<extra></extra>",
         "legendgroup": "958159-59",
         "marker": {
          "color": "#00cc96",
          "pattern": {
           "shape": ""
          }
         },
         "name": "958159-59",
         "offsetgroup": "958159-59",
         "orientation": "h",
         "showlegend": true,
         "textposition": "auto",
         "type": "bar",
         "x": [
          1.58740695168
         ],
         "xaxis": "x",
         "y": [
          "FRANCE"
         ],
         "yaxis": "y"
        },
        {
         "alignmentgroup": "True",
         "customdata": [
          [
           "958160-60"
          ]
         ],
         "hovertemplate": "Item Code=%{customdata[0]}<br>CO2 Total=%{x}<br>Customer Country=%{y}<extra></extra>",
         "legendgroup": "958160-60",
         "marker": {
          "color": "#ab63fa",
          "pattern": {
           "shape": ""
          }
         },
         "name": "958160-60",
         "offsetgroup": "958160-60",
         "orientation": "h",
         "showlegend": true,
         "textposition": "auto",
         "type": "bar",
         "x": [
          0.6927338880000001
         ],
         "xaxis": "x",
         "y": [
          "FRANCE"
         ],
         "yaxis": "y"
        },
        {
         "alignmentgroup": "True",
         "customdata": [
          [
           "958161-61"
          ]
         ],
         "hovertemplate": "Item Code=%{customdata[0]}<br>CO2 Total=%{x}<br>Customer Country=%{y}<extra></extra>",
         "legendgroup": "958161-61",
         "marker": {
          "color": "#FFA15A",
          "pattern": {
           "shape": ""
          }
         },
         "name": "958161-61",
         "offsetgroup": "958161-61",
         "orientation": "h",
         "showlegend": true,
         "textposition": "auto",
         "type": "bar",
         "x": [
          0.5647364351999999
         ],
         "xaxis": "x",
         "y": [
          "FRANCE"
         ],
         "yaxis": "y"
        },
        {
         "alignmentgroup": "True",
         "customdata": [
          [
           "9581661-61"
          ]
         ],
         "hovertemplate": "Item Code=%{customdata[0]}<br>CO2 Total=%{x}<br>Customer Country=%{y}<extra></extra>",
         "legendgroup": "9581661-61",
         "marker": {
          "color": "#19d3f3",
          "pattern": {
           "shape": ""
          }
         },
         "name": "9581661-61",
         "offsetgroup": "9581661-61",
         "orientation": "h",
         "showlegend": true,
         "textposition": "auto",
         "type": "bar",
         "x": [
          6.324933995135999
         ],
         "xaxis": "x",
         "y": [
          "FRANCE"
         ],
         "yaxis": "y"
        },
        {
         "alignmentgroup": "True",
         "customdata": [
          [
           "9581671-71"
          ]
         ],
         "hovertemplate": "Item Code=%{customdata[0]}<br>CO2 Total=%{x}<br>Customer Country=%{y}<extra></extra>",
         "legendgroup": "9581671-71",
         "marker": {
          "color": "#FF6692",
          "pattern": {
           "shape": ""
          }
         },
         "name": "9581671-71",
         "offsetgroup": "9581671-71",
         "orientation": "h",
         "showlegend": true,
         "textposition": "auto",
         "type": "bar",
         "x": [
          0.1631360735999999
         ],
         "xaxis": "x",
         "y": [
          "FRANCE"
         ],
         "yaxis": "y"
        },
        {
         "alignmentgroup": "True",
         "customdata": [
          [
           "9581681-81"
          ]
         ],
         "hovertemplate": "Item Code=%{customdata[0]}<br>CO2 Total=%{x}<br>Customer Country=%{y}<extra></extra>",
         "legendgroup": "9581681-81",
         "marker": {
          "color": "#B6E880",
          "pattern": {
           "shape": ""
          }
         },
         "name": "9581681-81",
         "offsetgroup": "9581681-81",
         "orientation": "h",
         "showlegend": true,
         "textposition": "auto",
         "type": "bar",
         "x": [
          0.0117945546239999
         ],
         "xaxis": "x",
         "y": [
          "FRANCE"
         ],
         "yaxis": "y"
        },
        {
         "alignmentgroup": "True",
         "customdata": [
          [
           "9581691-91"
          ]
         ],
         "hovertemplate": "Item Code=%{customdata[0]}<br>CO2 Total=%{x}<br>Customer Country=%{y}<extra></extra>",
         "legendgroup": "9581691-91",
         "marker": {
          "color": "#FF97FF",
          "pattern": {
           "shape": ""
          }
         },
         "name": "9581691-91",
         "offsetgroup": "9581691-91",
         "orientation": "h",
         "showlegend": true,
         "textposition": "auto",
         "type": "bar",
         "x": [
          0.0117945546239999
         ],
         "xaxis": "x",
         "y": [
          "FRANCE"
         ],
         "yaxis": "y"
        },
        {
         "alignmentgroup": "True",
         "customdata": [
          [
           "9581701-01"
          ],
          [
           "9581701-01"
          ]
         ],
         "hovertemplate": "Item Code=%{customdata[0]}<br>CO2 Total=%{x}<br>Customer Country=%{y}<extra></extra>",
         "legendgroup": "9581701-01",
         "marker": {
          "color": "#FECB52",
          "pattern": {
           "shape": ""
          }
         },
         "name": "9581701-01",
         "offsetgroup": "9581701-01",
         "orientation": "h",
         "showlegend": true,
         "textposition": "auto",
         "type": "bar",
         "x": [
          0.08845915968,
          1.8215487999999995
         ],
         "xaxis": "x",
         "y": [
          "FRANCE",
          "MAURITANIA"
         ],
         "yaxis": "y"
        },
        {
         "alignmentgroup": "True",
         "customdata": [
          [
           "9581711-11"
          ]
         ],
         "hovertemplate": "Item Code=%{customdata[0]}<br>CO2 Total=%{x}<br>Customer Country=%{y}<extra></extra>",
         "legendgroup": "9581711-11",
         "marker": {
          "color": "#636efa",
          "pattern": {
           "shape": ""
          }
         },
         "name": "9581711-11",
         "offsetgroup": "9581711-11",
         "orientation": "h",
         "showlegend": true,
         "textposition": "auto",
         "type": "bar",
         "x": [
          0.0117945546239999
         ],
         "xaxis": "x",
         "y": [
          "FRANCE"
         ],
         "yaxis": "y"
        },
        {
         "alignmentgroup": "True",
         "customdata": [
          [
           "963543-43"
          ]
         ],
         "hovertemplate": "Item Code=%{customdata[0]}<br>CO2 Total=%{x}<br>Customer Country=%{y}<extra></extra>",
         "legendgroup": "963543-43",
         "marker": {
          "color": "#EF553B",
          "pattern": {
           "shape": ""
          }
         },
         "name": "963543-43",
         "offsetgroup": "963543-43",
         "orientation": "h",
         "showlegend": true,
         "textposition": "auto",
         "type": "bar",
         "x": [
          8.318967005184
         ],
         "xaxis": "x",
         "y": [
          "FRANCE"
         ],
         "yaxis": "y"
        },
        {
         "alignmentgroup": "True",
         "customdata": [
          [
           "9646491-91"
          ]
         ],
         "hovertemplate": "Item Code=%{customdata[0]}<br>CO2 Total=%{x}<br>Customer Country=%{y}<extra></extra>",
         "legendgroup": "9646491-91",
         "marker": {
          "color": "#00cc96",
          "pattern": {
           "shape": ""
          }
         },
         "name": "9646491-91",
         "offsetgroup": "9646491-91",
         "orientation": "h",
         "showlegend": true,
         "textposition": "auto",
         "type": "bar",
         "x": [
          6.0846413104128
         ],
         "xaxis": "x",
         "y": [
          "FRANCE"
         ],
         "yaxis": "y"
        },
        {
         "alignmentgroup": "True",
         "customdata": [
          [
           "964764-64"
          ]
         ],
         "hovertemplate": "Item Code=%{customdata[0]}<br>CO2 Total=%{x}<br>Customer Country=%{y}<extra></extra>",
         "legendgroup": "964764-64",
         "marker": {
          "color": "#ab63fa",
          "pattern": {
           "shape": ""
          }
         },
         "name": "964764-64",
         "offsetgroup": "964764-64",
         "orientation": "h",
         "showlegend": true,
         "textposition": "auto",
         "type": "bar",
         "x": [
          0.0876825944063997
         ],
         "xaxis": "x",
         "y": [
          "FRANCE"
         ],
         "yaxis": "y"
        },
        {
         "alignmentgroup": "True",
         "customdata": [
          [
           "964765-65"
          ]
         ],
         "hovertemplate": "Item Code=%{customdata[0]}<br>CO2 Total=%{x}<br>Customer Country=%{y}<extra></extra>",
         "legendgroup": "964765-65",
         "marker": {
          "color": "#FFA15A",
          "pattern": {
           "shape": ""
          }
         },
         "name": "964765-65",
         "offsetgroup": "964765-65",
         "orientation": "h",
         "showlegend": true,
         "textposition": "auto",
         "type": "bar",
         "x": [
          1.9080552486912
         ],
         "xaxis": "x",
         "y": [
          "FRANCE"
         ],
         "yaxis": "y"
        },
        {
         "alignmentgroup": "True",
         "customdata": [
          [
           "964768-68"
          ]
         ],
         "hovertemplate": "Item Code=%{customdata[0]}<br>CO2 Total=%{x}<br>Customer Country=%{y}<extra></extra>",
         "legendgroup": "964768-68",
         "marker": {
          "color": "#19d3f3",
          "pattern": {
           "shape": ""
          }
         },
         "name": "964768-68",
         "offsetgroup": "964768-68",
         "orientation": "h",
         "showlegend": true,
         "textposition": "auto",
         "type": "bar",
         "x": [
          0.0842129276927999
         ],
         "xaxis": "x",
         "y": [
          "FRANCE"
         ],
         "yaxis": "y"
        },
        {
         "alignmentgroup": "True",
         "customdata": [
          [
           "964787-87"
          ]
         ],
         "hovertemplate": "Item Code=%{customdata[0]}<br>CO2 Total=%{x}<br>Customer Country=%{y}<extra></extra>",
         "legendgroup": "964787-87",
         "marker": {
          "color": "#FF6692",
          "pattern": {
           "shape": ""
          }
         },
         "name": "964787-87",
         "offsetgroup": "964787-87",
         "orientation": "h",
         "showlegend": true,
         "textposition": "auto",
         "type": "bar",
         "x": [
          7.855947043545599
         ],
         "xaxis": "x",
         "y": [
          "FRANCE"
         ],
         "yaxis": "y"
        },
        {
         "alignmentgroup": "True",
         "customdata": [
          [
           "964796-96"
          ]
         ],
         "hovertemplate": "Item Code=%{customdata[0]}<br>CO2 Total=%{x}<br>Customer Country=%{y}<extra></extra>",
         "legendgroup": "964796-96",
         "marker": {
          "color": "#B6E880",
          "pattern": {
           "shape": ""
          }
         },
         "name": "964796-96",
         "offsetgroup": "964796-96",
         "orientation": "h",
         "showlegend": true,
         "textposition": "auto",
         "type": "bar",
         "x": [
          0.0493523712
         ],
         "xaxis": "x",
         "y": [
          "FRANCE"
         ],
         "yaxis": "y"
        },
        {
         "alignmentgroup": "True",
         "customdata": [
          [
           "964800-00"
          ]
         ],
         "hovertemplate": "Item Code=%{customdata[0]}<br>CO2 Total=%{x}<br>Customer Country=%{y}<extra></extra>",
         "legendgroup": "964800-00",
         "marker": {
          "color": "#FF97FF",
          "pattern": {
           "shape": ""
          }
         },
         "name": "964800-00",
         "offsetgroup": "964800-00",
         "orientation": "h",
         "showlegend": true,
         "textposition": "auto",
         "type": "bar",
         "x": [
          0.0578199702528
         ],
         "xaxis": "x",
         "y": [
          "FRANCE"
         ],
         "yaxis": "y"
        },
        {
         "alignmentgroup": "True",
         "customdata": [
          [
           "964805-05"
          ]
         ],
         "hovertemplate": "Item Code=%{customdata[0]}<br>CO2 Total=%{x}<br>Customer Country=%{y}<extra></extra>",
         "legendgroup": "964805-05",
         "marker": {
          "color": "#FECB52",
          "pattern": {
           "shape": ""
          }
         },
         "name": "964805-05",
         "offsetgroup": "964805-05",
         "orientation": "h",
         "showlegend": true,
         "textposition": "auto",
         "type": "bar",
         "x": [
          0.1205223010559995
         ],
         "xaxis": "x",
         "y": [
          "FRANCE"
         ],
         "yaxis": "y"
        },
        {
         "alignmentgroup": "True",
         "customdata": [
          [
           "964806-06"
          ]
         ],
         "hovertemplate": "Item Code=%{customdata[0]}<br>CO2 Total=%{x}<br>Customer Country=%{y}<extra></extra>",
         "legendgroup": "964806-06",
         "marker": {
          "color": "#636efa",
          "pattern": {
           "shape": ""
          }
         },
         "name": "964806-06",
         "offsetgroup": "964806-06",
         "orientation": "h",
         "showlegend": true,
         "textposition": "auto",
         "type": "bar",
         "x": [
          0.0715647156479997
         ],
         "xaxis": "x",
         "y": [
          "FRANCE"
         ],
         "yaxis": "y"
        },
        {
         "alignmentgroup": "True",
         "customdata": [
          [
           "964809-09"
          ]
         ],
         "hovertemplate": "Item Code=%{customdata[0]}<br>CO2 Total=%{x}<br>Customer Country=%{y}<extra></extra>",
         "legendgroup": "964809-09",
         "marker": {
          "color": "#EF553B",
          "pattern": {
           "shape": ""
          }
         },
         "name": "964809-09",
         "offsetgroup": "964809-09",
         "orientation": "h",
         "showlegend": true,
         "textposition": "auto",
         "type": "bar",
         "x": [
          2.4879421872
         ],
         "xaxis": "x",
         "y": [
          "FRANCE"
         ],
         "yaxis": "y"
        },
        {
         "alignmentgroup": "True",
         "customdata": [
          [
           "964823-23"
          ]
         ],
         "hovertemplate": "Item Code=%{customdata[0]}<br>CO2 Total=%{x}<br>Customer Country=%{y}<extra></extra>",
         "legendgroup": "964823-23",
         "marker": {
          "color": "#00cc96",
          "pattern": {
           "shape": ""
          }
         },
         "name": "964823-23",
         "offsetgroup": "964823-23",
         "orientation": "h",
         "showlegend": true,
         "textposition": "auto",
         "type": "bar",
         "x": [
          0.10533651072
         ],
         "xaxis": "x",
         "y": [
          "FRANCE"
         ],
         "yaxis": "y"
        },
        {
         "alignmentgroup": "True",
         "customdata": [
          [
           "964824-24"
          ]
         ],
         "hovertemplate": "Item Code=%{customdata[0]}<br>CO2 Total=%{x}<br>Customer Country=%{y}<extra></extra>",
         "legendgroup": "964824-24",
         "marker": {
          "color": "#ab63fa",
          "pattern": {
           "shape": ""
          }
         },
         "name": "964824-24",
         "offsetgroup": "964824-24",
         "orientation": "h",
         "showlegend": true,
         "textposition": "auto",
         "type": "bar",
         "x": [
          0.2053563494399999
         ],
         "xaxis": "x",
         "y": [
          "FRANCE"
         ],
         "yaxis": "y"
        },
        {
         "alignmentgroup": "True",
         "customdata": [
          [
           "964848-48"
          ]
         ],
         "hovertemplate": "Item Code=%{customdata[0]}<br>CO2 Total=%{x}<br>Customer Country=%{y}<extra></extra>",
         "legendgroup": "964848-48",
         "marker": {
          "color": "#FFA15A",
          "pattern": {
           "shape": ""
          }
         },
         "name": "964848-48",
         "offsetgroup": "964848-48",
         "orientation": "h",
         "showlegend": true,
         "textposition": "auto",
         "type": "bar",
         "x": [
          0.271363869
         ],
         "xaxis": "x",
         "y": [
          "FRANCE"
         ],
         "yaxis": "y"
        },
        {
         "alignmentgroup": "True",
         "customdata": [
          [
           "964859-59"
          ]
         ],
         "hovertemplate": "Item Code=%{customdata[0]}<br>CO2 Total=%{x}<br>Customer Country=%{y}<extra></extra>",
         "legendgroup": "964859-59",
         "marker": {
          "color": "#19d3f3",
          "pattern": {
           "shape": ""
          }
         },
         "name": "964859-59",
         "offsetgroup": "964859-59",
         "orientation": "h",
         "showlegend": true,
         "textposition": "auto",
         "type": "bar",
         "x": [
          13.458849989375974
         ],
         "xaxis": "x",
         "y": [
          "FRANCE"
         ],
         "yaxis": "y"
        },
        {
         "alignmentgroup": "True",
         "customdata": [
          [
           "964899-99"
          ]
         ],
         "hovertemplate": "Item Code=%{customdata[0]}<br>CO2 Total=%{x}<br>Customer Country=%{y}<extra></extra>",
         "legendgroup": "964899-99",
         "marker": {
          "color": "#FF6692",
          "pattern": {
           "shape": ""
          }
         },
         "name": "964899-99",
         "offsetgroup": "964899-99",
         "orientation": "h",
         "showlegend": true,
         "textposition": "auto",
         "type": "bar",
         "x": [
          8.18736500736
         ],
         "xaxis": "x",
         "y": [
          "FRANCE"
         ],
         "yaxis": "y"
        },
        {
         "alignmentgroup": "True",
         "customdata": [
          [
           "9649051-51"
          ]
         ],
         "hovertemplate": "Item Code=%{customdata[0]}<br>CO2 Total=%{x}<br>Customer Country=%{y}<extra></extra>",
         "legendgroup": "9649051-51",
         "marker": {
          "color": "#B6E880",
          "pattern": {
           "shape": ""
          }
         },
         "name": "9649051-51",
         "offsetgroup": "9649051-51",
         "orientation": "h",
         "showlegend": true,
         "textposition": "auto",
         "type": "bar",
         "x": [
          1.3293640684799999
         ],
         "xaxis": "x",
         "y": [
          "FRANCE"
         ],
         "yaxis": "y"
        },
        {
         "alignmentgroup": "True",
         "customdata": [
          [
           "964912-12"
          ]
         ],
         "hovertemplate": "Item Code=%{customdata[0]}<br>CO2 Total=%{x}<br>Customer Country=%{y}<extra></extra>",
         "legendgroup": "964912-12",
         "marker": {
          "color": "#FF97FF",
          "pattern": {
           "shape": ""
          }
         },
         "name": "964912-12",
         "offsetgroup": "964912-12",
         "orientation": "h",
         "showlegend": true,
         "textposition": "auto",
         "type": "bar",
         "x": [
          0.1526485478399996
         ],
         "xaxis": "x",
         "y": [
          "FRANCE"
         ],
         "yaxis": "y"
        },
        {
         "alignmentgroup": "True",
         "customdata": [
          [
           "967263-63"
          ]
         ],
         "hovertemplate": "Item Code=%{customdata[0]}<br>CO2 Total=%{x}<br>Customer Country=%{y}<extra></extra>",
         "legendgroup": "967263-63",
         "marker": {
          "color": "#FECB52",
          "pattern": {
           "shape": ""
          }
         },
         "name": "967263-63",
         "offsetgroup": "967263-63",
         "orientation": "h",
         "showlegend": true,
         "textposition": "auto",
         "type": "bar",
         "x": [
          0.02058276864
         ],
         "xaxis": "x",
         "y": [
          "FRANCE"
         ],
         "yaxis": "y"
        },
        {
         "alignmentgroup": "True",
         "customdata": [
          [
           "9672961-61"
          ]
         ],
         "hovertemplate": "Item Code=%{customdata[0]}<br>CO2 Total=%{x}<br>Customer Country=%{y}<extra></extra>",
         "legendgroup": "9672961-61",
         "marker": {
          "color": "#636efa",
          "pattern": {
           "shape": ""
          }
         },
         "name": "9672961-61",
         "offsetgroup": "9672961-61",
         "orientation": "h",
         "showlegend": true,
         "textposition": "auto",
         "type": "bar",
         "x": [
          14.422961306880003
         ],
         "xaxis": "x",
         "y": [
          "FRANCE"
         ],
         "yaxis": "y"
        },
        {
         "alignmentgroup": "True",
         "customdata": [
          [
           "967378-78"
          ]
         ],
         "hovertemplate": "Item Code=%{customdata[0]}<br>CO2 Total=%{x}<br>Customer Country=%{y}<extra></extra>",
         "legendgroup": "967378-78",
         "marker": {
          "color": "#EF553B",
          "pattern": {
           "shape": ""
          }
         },
         "name": "967378-78",
         "offsetgroup": "967378-78",
         "orientation": "h",
         "showlegend": true,
         "textposition": "auto",
         "type": "bar",
         "x": [
          0.04116553728
         ],
         "xaxis": "x",
         "y": [
          "FRANCE"
         ],
         "yaxis": "y"
        },
        {
         "alignmentgroup": "True",
         "customdata": [
          [
           "967982-82"
          ]
         ],
         "hovertemplate": "Item Code=%{customdata[0]}<br>CO2 Total=%{x}<br>Customer Country=%{y}<extra></extra>",
         "legendgroup": "967982-82",
         "marker": {
          "color": "#00cc96",
          "pattern": {
           "shape": ""
          }
         },
         "name": "967982-82",
         "offsetgroup": "967982-82",
         "orientation": "h",
         "showlegend": true,
         "textposition": "auto",
         "type": "bar",
         "x": [
          1.5211552359168001
         ],
         "xaxis": "x",
         "y": [
          "FRANCE"
         ],
         "yaxis": "y"
        },
        {
         "alignmentgroup": "True",
         "customdata": [
          [
           "968391-91"
          ]
         ],
         "hovertemplate": "Item Code=%{customdata[0]}<br>CO2 Total=%{x}<br>Customer Country=%{y}<extra></extra>",
         "legendgroup": "968391-91",
         "marker": {
          "color": "#ab63fa",
          "pattern": {
           "shape": ""
          }
         },
         "name": "968391-91",
         "offsetgroup": "968391-91",
         "orientation": "h",
         "showlegend": true,
         "textposition": "auto",
         "type": "bar",
         "x": [
          0.06663513407999999
         ],
         "xaxis": "x",
         "y": [
          "FRANCE"
         ],
         "yaxis": "y"
        },
        {
         "alignmentgroup": "True",
         "customdata": [
          [
           "968422-22"
          ]
         ],
         "hovertemplate": "Item Code=%{customdata[0]}<br>CO2 Total=%{x}<br>Customer Country=%{y}<extra></extra>",
         "legendgroup": "968422-22",
         "marker": {
          "color": "#FFA15A",
          "pattern": {
           "shape": ""
          }
         },
         "name": "968422-22",
         "offsetgroup": "968422-22",
         "orientation": "h",
         "showlegend": true,
         "textposition": "auto",
         "type": "bar",
         "x": [
          0.0128864961023999
         ],
         "xaxis": "x",
         "y": [
          "FRANCE"
         ],
         "yaxis": "y"
        },
        {
         "alignmentgroup": "True",
         "customdata": [
          [
           "968467-67"
          ]
         ],
         "hovertemplate": "Item Code=%{customdata[0]}<br>CO2 Total=%{x}<br>Customer Country=%{y}<extra></extra>",
         "legendgroup": "968467-67",
         "marker": {
          "color": "#19d3f3",
          "pattern": {
           "shape": ""
          }
         },
         "name": "968467-67",
         "offsetgroup": "968467-67",
         "orientation": "h",
         "showlegend": true,
         "textposition": "auto",
         "type": "bar",
         "x": [
          7.232330949072001
         ],
         "xaxis": "x",
         "y": [
          "FRANCE"
         ],
         "yaxis": "y"
        },
        {
         "alignmentgroup": "True",
         "customdata": [
          [
           "968471-71"
          ]
         ],
         "hovertemplate": "Item Code=%{customdata[0]}<br>CO2 Total=%{x}<br>Customer Country=%{y}<extra></extra>",
         "legendgroup": "968471-71",
         "marker": {
          "color": "#FF6692",
          "pattern": {
           "shape": ""
          }
         },
         "name": "968471-71",
         "offsetgroup": "968471-71",
         "orientation": "h",
         "showlegend": true,
         "textposition": "auto",
         "type": "bar",
         "x": [
          3.2732507514432
         ],
         "xaxis": "x",
         "y": [
          "FRANCE"
         ],
         "yaxis": "y"
        },
        {
         "alignmentgroup": "True",
         "customdata": [
          [
           "968483-83"
          ]
         ],
         "hovertemplate": "Item Code=%{customdata[0]}<br>CO2 Total=%{x}<br>Customer Country=%{y}<extra></extra>",
         "legendgroup": "968483-83",
         "marker": {
          "color": "#B6E880",
          "pattern": {
           "shape": ""
          }
         },
         "name": "968483-83",
         "offsetgroup": "968483-83",
         "orientation": "h",
         "showlegend": true,
         "textposition": "auto",
         "type": "bar",
         "x": [
          0.6252703130880001
         ],
         "xaxis": "x",
         "y": [
          "FRANCE"
         ],
         "yaxis": "y"
        },
        {
         "alignmentgroup": "True",
         "customdata": [
          [
           "968503-03"
          ]
         ],
         "hovertemplate": "Item Code=%{customdata[0]}<br>CO2 Total=%{x}<br>Customer Country=%{y}<extra></extra>",
         "legendgroup": "968503-03",
         "marker": {
          "color": "#FF97FF",
          "pattern": {
           "shape": ""
          }
         },
         "name": "968503-03",
         "offsetgroup": "968503-03",
         "orientation": "h",
         "showlegend": true,
         "textposition": "auto",
         "type": "bar",
         "x": [
          0.2483930380799999
         ],
         "xaxis": "x",
         "y": [
          "FRANCE"
         ],
         "yaxis": "y"
        },
        {
         "alignmentgroup": "True",
         "customdata": [
          [
           "968508-08"
          ]
         ],
         "hovertemplate": "Item Code=%{customdata[0]}<br>CO2 Total=%{x}<br>Customer Country=%{y}<extra></extra>",
         "legendgroup": "968508-08",
         "marker": {
          "color": "#FECB52",
          "pattern": {
           "shape": ""
          }
         },
         "name": "968508-08",
         "offsetgroup": "968508-08",
         "orientation": "h",
         "showlegend": true,
         "textposition": "auto",
         "type": "bar",
         "x": [
          0.44508635135999997
         ],
         "xaxis": "x",
         "y": [
          "FRANCE"
         ],
         "yaxis": "y"
        },
        {
         "alignmentgroup": "True",
         "customdata": [
          [
           "968531-31"
          ]
         ],
         "hovertemplate": "Item Code=%{customdata[0]}<br>CO2 Total=%{x}<br>Customer Country=%{y}<extra></extra>",
         "legendgroup": "968531-31",
         "marker": {
          "color": "#636efa",
          "pattern": {
           "shape": ""
          }
         },
         "name": "968531-31",
         "offsetgroup": "968531-31",
         "orientation": "h",
         "showlegend": true,
         "textposition": "auto",
         "type": "bar",
         "x": [
          0.0474891883776
         ],
         "xaxis": "x",
         "y": [
          "FRANCE"
         ],
         "yaxis": "y"
        },
        {
         "alignmentgroup": "True",
         "customdata": [
          [
           "968537-37"
          ]
         ],
         "hovertemplate": "Item Code=%{customdata[0]}<br>CO2 Total=%{x}<br>Customer Country=%{y}<extra></extra>",
         "legendgroup": "968537-37",
         "marker": {
          "color": "#EF553B",
          "pattern": {
           "shape": ""
          }
         },
         "name": "968537-37",
         "offsetgroup": "968537-37",
         "orientation": "h",
         "showlegend": true,
         "textposition": "auto",
         "type": "bar",
         "x": [
          0.0243048546048
         ],
         "xaxis": "x",
         "y": [
          "FRANCE"
         ],
         "yaxis": "y"
        },
        {
         "alignmentgroup": "True",
         "customdata": [
          [
           "968559-59"
          ]
         ],
         "hovertemplate": "Item Code=%{customdata[0]}<br>CO2 Total=%{x}<br>Customer Country=%{y}<extra></extra>",
         "legendgroup": "968559-59",
         "marker": {
          "color": "#00cc96",
          "pattern": {
           "shape": ""
          }
         },
         "name": "968559-59",
         "offsetgroup": "968559-59",
         "orientation": "h",
         "showlegend": true,
         "textposition": "auto",
         "type": "bar",
         "x": [
          0.0158680704
         ],
         "xaxis": "x",
         "y": [
          "FRANCE"
         ],
         "yaxis": "y"
        },
        {
         "alignmentgroup": "True",
         "customdata": [
          [
           "968570-70"
          ]
         ],
         "hovertemplate": "Item Code=%{customdata[0]}<br>CO2 Total=%{x}<br>Customer Country=%{y}<extra></extra>",
         "legendgroup": "968570-70",
         "marker": {
          "color": "#ab63fa",
          "pattern": {
           "shape": ""
          }
         },
         "name": "968570-70",
         "offsetgroup": "968570-70",
         "orientation": "h",
         "showlegend": true,
         "textposition": "auto",
         "type": "bar",
         "x": [
          2.8090345308480007
         ],
         "xaxis": "x",
         "y": [
          "FRANCE"
         ],
         "yaxis": "y"
        },
        {
         "alignmentgroup": "True",
         "customdata": [
          [
           "969399-99"
          ]
         ],
         "hovertemplate": "Item Code=%{customdata[0]}<br>CO2 Total=%{x}<br>Customer Country=%{y}<extra></extra>",
         "legendgroup": "969399-99",
         "marker": {
          "color": "#FFA15A",
          "pattern": {
           "shape": ""
          }
         },
         "name": "969399-99",
         "offsetgroup": "969399-99",
         "orientation": "h",
         "showlegend": true,
         "textposition": "auto",
         "type": "bar",
         "x": [
          0.074678208
         ],
         "xaxis": "x",
         "y": [
          "FRANCE"
         ],
         "yaxis": "y"
        },
        {
         "alignmentgroup": "True",
         "customdata": [
          [
           "969400-00"
          ]
         ],
         "hovertemplate": "Item Code=%{customdata[0]}<br>CO2 Total=%{x}<br>Customer Country=%{y}<extra></extra>",
         "legendgroup": "969400-00",
         "marker": {
          "color": "#19d3f3",
          "pattern": {
           "shape": ""
          }
         },
         "name": "969400-00",
         "offsetgroup": "969400-00",
         "orientation": "h",
         "showlegend": true,
         "textposition": "auto",
         "type": "bar",
         "x": [
          0.0814671359999999
         ],
         "xaxis": "x",
         "y": [
          "FRANCE"
         ],
         "yaxis": "y"
        },
        {
         "alignmentgroup": "True",
         "customdata": [
          [
           "969401-01"
          ]
         ],
         "hovertemplate": "Item Code=%{customdata[0]}<br>CO2 Total=%{x}<br>Customer Country=%{y}<extra></extra>",
         "legendgroup": "969401-01",
         "marker": {
          "color": "#FF6692",
          "pattern": {
           "shape": ""
          }
         },
         "name": "969401-01",
         "offsetgroup": "969401-01",
         "orientation": "h",
         "showlegend": true,
         "textposition": "auto",
         "type": "bar",
         "x": [
          0.074678208
         ],
         "xaxis": "x",
         "y": [
          "FRANCE"
         ],
         "yaxis": "y"
        },
        {
         "alignmentgroup": "True",
         "customdata": [
          [
           "969402-02"
          ]
         ],
         "hovertemplate": "Item Code=%{customdata[0]}<br>CO2 Total=%{x}<br>Customer Country=%{y}<extra></extra>",
         "legendgroup": "969402-02",
         "marker": {
          "color": "#B6E880",
          "pattern": {
           "shape": ""
          }
         },
         "name": "969402-02",
         "offsetgroup": "969402-02",
         "orientation": "h",
         "showlegend": true,
         "textposition": "auto",
         "type": "bar",
         "x": [
          0.037339104
         ],
         "xaxis": "x",
         "y": [
          "FRANCE"
         ],
         "yaxis": "y"
        },
        {
         "alignmentgroup": "True",
         "customdata": [
          [
           "9700921-21"
          ]
         ],
         "hovertemplate": "Item Code=%{customdata[0]}<br>CO2 Total=%{x}<br>Customer Country=%{y}<extra></extra>",
         "legendgroup": "9700921-21",
         "marker": {
          "color": "#FF97FF",
          "pattern": {
           "shape": ""
          }
         },
         "name": "9700921-21",
         "offsetgroup": "9700921-21",
         "orientation": "h",
         "showlegend": true,
         "textposition": "auto",
         "type": "bar",
         "x": [
          5.95812932296704
         ],
         "xaxis": "x",
         "y": [
          "FRANCE"
         ],
         "yaxis": "y"
        },
        {
         "alignmentgroup": "True",
         "customdata": [
          [
           "976883-83"
          ]
         ],
         "hovertemplate": "Item Code=%{customdata[0]}<br>CO2 Total=%{x}<br>Customer Country=%{y}<extra></extra>",
         "legendgroup": "976883-83",
         "marker": {
          "color": "#FECB52",
          "pattern": {
           "shape": ""
          }
         },
         "name": "976883-83",
         "offsetgroup": "976883-83",
         "orientation": "h",
         "showlegend": true,
         "textposition": "auto",
         "type": "bar",
         "x": [
          0.03870137664
         ],
         "xaxis": "x",
         "y": [
          "FRANCE"
         ],
         "yaxis": "y"
        },
        {
         "alignmentgroup": "True",
         "customdata": [
          [
           "978003-03"
          ]
         ],
         "hovertemplate": "Item Code=%{customdata[0]}<br>CO2 Total=%{x}<br>Customer Country=%{y}<extra></extra>",
         "legendgroup": "978003-03",
         "marker": {
          "color": "#636efa",
          "pattern": {
           "shape": ""
          }
         },
         "name": "978003-03",
         "offsetgroup": "978003-03",
         "orientation": "h",
         "showlegend": true,
         "textposition": "auto",
         "type": "bar",
         "x": [
          1.3364793633791998
         ],
         "xaxis": "x",
         "y": [
          "FRANCE"
         ],
         "yaxis": "y"
        },
        {
         "alignmentgroup": "True",
         "customdata": [
          [
           "978004-04"
          ]
         ],
         "hovertemplate": "Item Code=%{customdata[0]}<br>CO2 Total=%{x}<br>Customer Country=%{y}<extra></extra>",
         "legendgroup": "978004-04",
         "marker": {
          "color": "#EF553B",
          "pattern": {
           "shape": ""
          }
         },
         "name": "978004-04",
         "offsetgroup": "978004-04",
         "orientation": "h",
         "showlegend": true,
         "textposition": "auto",
         "type": "bar",
         "x": [
          0.3368396659507198
         ],
         "xaxis": "x",
         "y": [
          "FRANCE"
         ],
         "yaxis": "y"
        },
        {
         "alignmentgroup": "True",
         "customdata": [
          [
           "978035-35"
          ]
         ],
         "hovertemplate": "Item Code=%{customdata[0]}<br>CO2 Total=%{x}<br>Customer Country=%{y}<extra></extra>",
         "legendgroup": "978035-35",
         "marker": {
          "color": "#00cc96",
          "pattern": {
           "shape": ""
          }
         },
         "name": "978035-35",
         "offsetgroup": "978035-35",
         "orientation": "h",
         "showlegend": true,
         "textposition": "auto",
         "type": "bar",
         "x": [
          0.858837852288
         ],
         "xaxis": "x",
         "y": [
          "FRANCE"
         ],
         "yaxis": "y"
        },
        {
         "alignmentgroup": "True",
         "customdata": [
          [
           "978137-37"
          ]
         ],
         "hovertemplate": "Item Code=%{customdata[0]}<br>CO2 Total=%{x}<br>Customer Country=%{y}<extra></extra>",
         "legendgroup": "978137-37",
         "marker": {
          "color": "#ab63fa",
          "pattern": {
           "shape": ""
          }
         },
         "name": "978137-37",
         "offsetgroup": "978137-37",
         "orientation": "h",
         "showlegend": true,
         "textposition": "auto",
         "type": "bar",
         "x": [
          3.286333052928
         ],
         "xaxis": "x",
         "y": [
          "FRANCE"
         ],
         "yaxis": "y"
        },
        {
         "alignmentgroup": "True",
         "customdata": [
          [
           "982861-61"
          ]
         ],
         "hovertemplate": "Item Code=%{customdata[0]}<br>CO2 Total=%{x}<br>Customer Country=%{y}<extra></extra>",
         "legendgroup": "982861-61",
         "marker": {
          "color": "#FFA15A",
          "pattern": {
           "shape": ""
          }
         },
         "name": "982861-61",
         "offsetgroup": "982861-61",
         "orientation": "h",
         "showlegend": true,
         "textposition": "auto",
         "type": "bar",
         "x": [
          0.4558444438176
         ],
         "xaxis": "x",
         "y": [
          "FRANCE"
         ],
         "yaxis": "y"
        },
        {
         "alignmentgroup": "True",
         "customdata": [
          [
           "982862-62"
          ]
         ],
         "hovertemplate": "Item Code=%{customdata[0]}<br>CO2 Total=%{x}<br>Customer Country=%{y}<extra></extra>",
         "legendgroup": "982862-62",
         "marker": {
          "color": "#19d3f3",
          "pattern": {
           "shape": ""
          }
         },
         "name": "982862-62",
         "offsetgroup": "982862-62",
         "orientation": "h",
         "showlegend": true,
         "textposition": "auto",
         "type": "bar",
         "x": [
          0.3270599072352
         ],
         "xaxis": "x",
         "y": [
          "FRANCE"
         ],
         "yaxis": "y"
        },
        {
         "alignmentgroup": "True",
         "customdata": [
          [
           "982863-63"
          ]
         ],
         "hovertemplate": "Item Code=%{customdata[0]}<br>CO2 Total=%{x}<br>Customer Country=%{y}<extra></extra>",
         "legendgroup": "982863-63",
         "marker": {
          "color": "#FF6692",
          "pattern": {
           "shape": ""
          }
         },
         "name": "982863-63",
         "offsetgroup": "982863-63",
         "orientation": "h",
         "showlegend": true,
         "textposition": "auto",
         "type": "bar",
         "x": [
          0.15885071904
         ],
         "xaxis": "x",
         "y": [
          "FRANCE"
         ],
         "yaxis": "y"
        },
        {
         "alignmentgroup": "True",
         "customdata": [
          [
           "982866-66"
          ]
         ],
         "hovertemplate": "Item Code=%{customdata[0]}<br>CO2 Total=%{x}<br>Customer Country=%{y}<extra></extra>",
         "legendgroup": "982866-66",
         "marker": {
          "color": "#B6E880",
          "pattern": {
           "shape": ""
          }
         },
         "name": "982866-66",
         "offsetgroup": "982866-66",
         "orientation": "h",
         "showlegend": true,
         "textposition": "auto",
         "type": "bar",
         "x": [
          0.0257765876928
         ],
         "xaxis": "x",
         "y": [
          "FRANCE"
         ],
         "yaxis": "y"
        },
        {
         "alignmentgroup": "True",
         "customdata": [
          [
           "982867-67"
          ]
         ],
         "hovertemplate": "Item Code=%{customdata[0]}<br>CO2 Total=%{x}<br>Customer Country=%{y}<extra></extra>",
         "legendgroup": "982867-67",
         "marker": {
          "color": "#FF97FF",
          "pattern": {
           "shape": ""
          }
         },
         "name": "982867-67",
         "offsetgroup": "982867-67",
         "orientation": "h",
         "showlegend": true,
         "textposition": "auto",
         "type": "bar",
         "x": [
          0.01031063507712
         ],
         "xaxis": "x",
         "y": [
          "FRANCE"
         ],
         "yaxis": "y"
        },
        {
         "alignmentgroup": "True",
         "customdata": [
          [
           "982884-84"
          ],
          [
           "982884-84"
          ]
         ],
         "hovertemplate": "Item Code=%{customdata[0]}<br>CO2 Total=%{x}<br>Customer Country=%{y}<extra></extra>",
         "legendgroup": "982884-84",
         "marker": {
          "color": "#FECB52",
          "pattern": {
           "shape": ""
          }
         },
         "name": "982884-84",
         "offsetgroup": "982884-84",
         "orientation": "h",
         "showlegend": true,
         "textposition": "auto",
         "type": "bar",
         "x": [
          5.908472832000001,
          119.97695999999999
         ],
         "xaxis": "x",
         "y": [
          "FRANCE",
          "GERMANY"
         ],
         "yaxis": "y"
        },
        {
         "alignmentgroup": "True",
         "customdata": [
          [
           "982890-90"
          ]
         ],
         "hovertemplate": "Item Code=%{customdata[0]}<br>CO2 Total=%{x}<br>Customer Country=%{y}<extra></extra>",
         "legendgroup": "982890-90",
         "marker": {
          "color": "#636efa",
          "pattern": {
           "shape": ""
          }
         },
         "name": "982890-90",
         "offsetgroup": "982890-90",
         "orientation": "h",
         "showlegend": true,
         "textposition": "auto",
         "type": "bar",
         "x": [
          0.66895799475168
         ],
         "xaxis": "x",
         "y": [
          "FRANCE"
         ],
         "yaxis": "y"
        },
        {
         "alignmentgroup": "True",
         "customdata": [
          [
           "982898-98"
          ]
         ],
         "hovertemplate": "Item Code=%{customdata[0]}<br>CO2 Total=%{x}<br>Customer Country=%{y}<extra></extra>",
         "legendgroup": "982898-98",
         "marker": {
          "color": "#EF553B",
          "pattern": {
           "shape": ""
          }
         },
         "name": "982898-98",
         "offsetgroup": "982898-98",
         "orientation": "h",
         "showlegend": true,
         "textposition": "auto",
         "type": "bar",
         "x": [
          49.4450188600032
         ],
         "xaxis": "x",
         "y": [
          "FRANCE"
         ],
         "yaxis": "y"
        },
        {
         "alignmentgroup": "True",
         "customdata": [
          [
           "982899-99"
          ]
         ],
         "hovertemplate": "Item Code=%{customdata[0]}<br>CO2 Total=%{x}<br>Customer Country=%{y}<extra></extra>",
         "legendgroup": "982899-99",
         "marker": {
          "color": "#00cc96",
          "pattern": {
           "shape": ""
          }
         },
         "name": "982899-99",
         "offsetgroup": "982899-99",
         "orientation": "h",
         "showlegend": true,
         "textposition": "auto",
         "type": "bar",
         "x": [
          2.84085137006592
         ],
         "xaxis": "x",
         "y": [
          "FRANCE"
         ],
         "yaxis": "y"
        },
        {
         "alignmentgroup": "True",
         "customdata": [
          [
           "983347-47"
          ],
          [
           "983347-47"
          ]
         ],
         "hovertemplate": "Item Code=%{customdata[0]}<br>CO2 Total=%{x}<br>Customer Country=%{y}<extra></extra>",
         "legendgroup": "983347-47",
         "marker": {
          "color": "#ab63fa",
          "pattern": {
           "shape": ""
          }
         },
         "name": "983347-47",
         "offsetgroup": "983347-47",
         "orientation": "h",
         "showlegend": true,
         "textposition": "auto",
         "type": "bar",
         "x": [
          7.202468851200001,
          133.7167872
         ],
         "xaxis": "x",
         "y": [
          "FRANCE",
          "GERMANY"
         ],
         "yaxis": "y"
        },
        {
         "alignmentgroup": "True",
         "customdata": [
          [
           "986174-74"
          ]
         ],
         "hovertemplate": "Item Code=%{customdata[0]}<br>CO2 Total=%{x}<br>Customer Country=%{y}<extra></extra>",
         "legendgroup": "986174-74",
         "marker": {
          "color": "#FFA15A",
          "pattern": {
           "shape": ""
          }
         },
         "name": "986174-74",
         "offsetgroup": "986174-74",
         "orientation": "h",
         "showlegend": true,
         "textposition": "auto",
         "type": "bar",
         "x": [
          1.3921449609216
         ],
         "xaxis": "x",
         "y": [
          "FRANCE"
         ],
         "yaxis": "y"
        },
        {
         "alignmentgroup": "True",
         "customdata": [
          [
           "987868-68"
          ]
         ],
         "hovertemplate": "Item Code=%{customdata[0]}<br>CO2 Total=%{x}<br>Customer Country=%{y}<extra></extra>",
         "legendgroup": "987868-68",
         "marker": {
          "color": "#19d3f3",
          "pattern": {
           "shape": ""
          }
         },
         "name": "987868-68",
         "offsetgroup": "987868-68",
         "orientation": "h",
         "showlegend": true,
         "textposition": "auto",
         "type": "bar",
         "x": [
          0.1381808448
         ],
         "xaxis": "x",
         "y": [
          "FRANCE"
         ],
         "yaxis": "y"
        },
        {
         "alignmentgroup": "True",
         "customdata": [
          [
           "989668-68"
          ]
         ],
         "hovertemplate": "Item Code=%{customdata[0]}<br>CO2 Total=%{x}<br>Customer Country=%{y}<extra></extra>",
         "legendgroup": "989668-68",
         "marker": {
          "color": "#FF6692",
          "pattern": {
           "shape": ""
          }
         },
         "name": "989668-68",
         "offsetgroup": "989668-68",
         "orientation": "h",
         "showlegend": true,
         "textposition": "auto",
         "type": "bar",
         "x": [
          0.4323111277728
         ],
         "xaxis": "x",
         "y": [
          "FRANCE"
         ],
         "yaxis": "y"
        },
        {
         "alignmentgroup": "True",
         "customdata": [
          [
           "989694-94"
          ]
         ],
         "hovertemplate": "Item Code=%{customdata[0]}<br>CO2 Total=%{x}<br>Customer Country=%{y}<extra></extra>",
         "legendgroup": "989694-94",
         "marker": {
          "color": "#B6E880",
          "pattern": {
           "shape": ""
          }
         },
         "name": "989694-94",
         "offsetgroup": "989694-94",
         "orientation": "h",
         "showlegend": true,
         "textposition": "auto",
         "type": "bar",
         "x": [
          0.0408036096
         ],
         "xaxis": "x",
         "y": [
          "FRANCE"
         ],
         "yaxis": "y"
        },
        {
         "alignmentgroup": "True",
         "customdata": [
          [
           "990157-57"
          ]
         ],
         "hovertemplate": "Item Code=%{customdata[0]}<br>CO2 Total=%{x}<br>Customer Country=%{y}<extra></extra>",
         "legendgroup": "990157-57",
         "marker": {
          "color": "#FF97FF",
          "pattern": {
           "shape": ""
          }
         },
         "name": "990157-57",
         "offsetgroup": "990157-57",
         "orientation": "h",
         "showlegend": true,
         "textposition": "auto",
         "type": "bar",
         "x": [
          0.637119036456
         ],
         "xaxis": "x",
         "y": [
          "FRANCE"
         ],
         "yaxis": "y"
        },
        {
         "alignmentgroup": "True",
         "customdata": [
          [
           "990158-58"
          ]
         ],
         "hovertemplate": "Item Code=%{customdata[0]}<br>CO2 Total=%{x}<br>Customer Country=%{y}<extra></extra>",
         "legendgroup": "990158-58",
         "marker": {
          "color": "#FECB52",
          "pattern": {
           "shape": ""
          }
         },
         "name": "990158-58",
         "offsetgroup": "990158-58",
         "orientation": "h",
         "showlegend": true,
         "textposition": "auto",
         "type": "bar",
         "x": [
          0.4602027032063994
         ],
         "xaxis": "x",
         "y": [
          "FRANCE"
         ],
         "yaxis": "y"
        },
        {
         "alignmentgroup": "True",
         "customdata": [
          [
           "992561-61"
          ]
         ],
         "hovertemplate": "Item Code=%{customdata[0]}<br>CO2 Total=%{x}<br>Customer Country=%{y}<extra></extra>",
         "legendgroup": "992561-61",
         "marker": {
          "color": "#636efa",
          "pattern": {
           "shape": ""
          }
         },
         "name": "992561-61",
         "offsetgroup": "992561-61",
         "orientation": "h",
         "showlegend": true,
         "textposition": "auto",
         "type": "bar",
         "x": [
          4.58871034368
         ],
         "xaxis": "x",
         "y": [
          "FRANCE"
         ],
         "yaxis": "y"
        },
        {
         "alignmentgroup": "True",
         "customdata": [
          [
           "992579-79"
          ]
         ],
         "hovertemplate": "Item Code=%{customdata[0]}<br>CO2 Total=%{x}<br>Customer Country=%{y}<extra></extra>",
         "legendgroup": "992579-79",
         "marker": {
          "color": "#EF553B",
          "pattern": {
           "shape": ""
          }
         },
         "name": "992579-79",
         "offsetgroup": "992579-79",
         "orientation": "h",
         "showlegend": true,
         "textposition": "auto",
         "type": "bar",
         "x": [
          0.0884078208
         ],
         "xaxis": "x",
         "y": [
          "FRANCE"
         ],
         "yaxis": "y"
        },
        {
         "alignmentgroup": "True",
         "customdata": [
          [
           "992580-80"
          ]
         ],
         "hovertemplate": "Item Code=%{customdata[0]}<br>CO2 Total=%{x}<br>Customer Country=%{y}<extra></extra>",
         "legendgroup": "992580-80",
         "marker": {
          "color": "#00cc96",
          "pattern": {
           "shape": ""
          }
         },
         "name": "992580-80",
         "offsetgroup": "992580-80",
         "orientation": "h",
         "showlegend": true,
         "textposition": "auto",
         "type": "bar",
         "x": [
          0.1726966425599999
         ],
         "xaxis": "x",
         "y": [
          "FRANCE"
         ],
         "yaxis": "y"
        },
        {
         "alignmentgroup": "True",
         "customdata": [
          [
           "992652-52"
          ]
         ],
         "hovertemplate": "Item Code=%{customdata[0]}<br>CO2 Total=%{x}<br>Customer Country=%{y}<extra></extra>",
         "legendgroup": "992652-52",
         "marker": {
          "color": "#ab63fa",
          "pattern": {
           "shape": ""
          }
         },
         "name": "992652-52",
         "offsetgroup": "992652-52",
         "orientation": "h",
         "showlegend": true,
         "textposition": "auto",
         "type": "bar",
         "x": [
          0.3572580556799997
         ],
         "xaxis": "x",
         "y": [
          "FRANCE"
         ],
         "yaxis": "y"
        },
        {
         "alignmentgroup": "True",
         "customdata": [
          [
           "992654-54"
          ]
         ],
         "hovertemplate": "Item Code=%{customdata[0]}<br>CO2 Total=%{x}<br>Customer Country=%{y}<extra></extra>",
         "legendgroup": "992654-54",
         "marker": {
          "color": "#FFA15A",
          "pattern": {
           "shape": ""
          }
         },
         "name": "992654-54",
         "offsetgroup": "992654-54",
         "orientation": "h",
         "showlegend": true,
         "textposition": "auto",
         "type": "bar",
         "x": [
          0.6305949158399999
         ],
         "xaxis": "x",
         "y": [
          "FRANCE"
         ],
         "yaxis": "y"
        },
        {
         "alignmentgroup": "True",
         "customdata": [
          [
           "992655-55"
          ]
         ],
         "hovertemplate": "Item Code=%{customdata[0]}<br>CO2 Total=%{x}<br>Customer Country=%{y}<extra></extra>",
         "legendgroup": "992655-55",
         "marker": {
          "color": "#19d3f3",
          "pattern": {
           "shape": ""
          }
         },
         "name": "992655-55",
         "offsetgroup": "992655-55",
         "orientation": "h",
         "showlegend": true,
         "textposition": "auto",
         "type": "bar",
         "x": [
          0.21614731392
         ],
         "xaxis": "x",
         "y": [
          "FRANCE"
         ],
         "yaxis": "y"
        },
        {
         "alignmentgroup": "True",
         "customdata": [
          [
           "992656-56"
          ]
         ],
         "hovertemplate": "Item Code=%{customdata[0]}<br>CO2 Total=%{x}<br>Customer Country=%{y}<extra></extra>",
         "legendgroup": "992656-56",
         "marker": {
          "color": "#FF6692",
          "pattern": {
           "shape": ""
          }
         },
         "name": "992656-56",
         "offsetgroup": "992656-56",
         "orientation": "h",
         "showlegend": true,
         "textposition": "auto",
         "type": "bar",
         "x": [
          0.9020864386559999
         ],
         "xaxis": "x",
         "y": [
          "FRANCE"
         ],
         "yaxis": "y"
        },
        {
         "alignmentgroup": "True",
         "customdata": [
          [
           "992657-57"
          ]
         ],
         "hovertemplate": "Item Code=%{customdata[0]}<br>CO2 Total=%{x}<br>Customer Country=%{y}<extra></extra>",
         "legendgroup": "992657-57",
         "marker": {
          "color": "#B6E880",
          "pattern": {
           "shape": ""
          }
         },
         "name": "992657-57",
         "offsetgroup": "992657-57",
         "orientation": "h",
         "showlegend": true,
         "textposition": "auto",
         "type": "bar",
         "x": [
          0.6544994192639999
         ],
         "xaxis": "x",
         "y": [
          "FRANCE"
         ],
         "yaxis": "y"
        },
        {
         "alignmentgroup": "True",
         "customdata": [
          [
           "992658-58"
          ]
         ],
         "hovertemplate": "Item Code=%{customdata[0]}<br>CO2 Total=%{x}<br>Customer Country=%{y}<extra></extra>",
         "legendgroup": "992658-58",
         "marker": {
          "color": "#FF97FF",
          "pattern": {
           "shape": ""
          }
         },
         "name": "992658-58",
         "offsetgroup": "992658-58",
         "orientation": "h",
         "showlegend": true,
         "textposition": "auto",
         "type": "bar",
         "x": [
          0.1479130848
         ],
         "xaxis": "x",
         "y": [
          "FRANCE"
         ],
         "yaxis": "y"
        },
        {
         "alignmentgroup": "True",
         "customdata": [
          [
           "992668-68"
          ]
         ],
         "hovertemplate": "Item Code=%{customdata[0]}<br>CO2 Total=%{x}<br>Customer Country=%{y}<extra></extra>",
         "legendgroup": "992668-68",
         "marker": {
          "color": "#FECB52",
          "pattern": {
           "shape": ""
          }
         },
         "name": "992668-68",
         "offsetgroup": "992668-68",
         "orientation": "h",
         "showlegend": true,
         "textposition": "auto",
         "type": "bar",
         "x": [
          14.134044185999997
         ],
         "xaxis": "x",
         "y": [
          "FRANCE"
         ],
         "yaxis": "y"
        },
        {
         "alignmentgroup": "True",
         "customdata": [
          [
           "992669-69"
          ]
         ],
         "hovertemplate": "Item Code=%{customdata[0]}<br>CO2 Total=%{x}<br>Customer Country=%{y}<extra></extra>",
         "legendgroup": "992669-69",
         "marker": {
          "color": "#636efa",
          "pattern": {
           "shape": ""
          }
         },
         "name": "992669-69",
         "offsetgroup": "992669-69",
         "orientation": "h",
         "showlegend": true,
         "textposition": "auto",
         "type": "bar",
         "x": [
          0.6866002091520002
         ],
         "xaxis": "x",
         "y": [
          "FRANCE"
         ],
         "yaxis": "y"
        },
        {
         "alignmentgroup": "True",
         "customdata": [
          [
           "992711-11"
          ]
         ],
         "hovertemplate": "Item Code=%{customdata[0]}<br>CO2 Total=%{x}<br>Customer Country=%{y}<extra></extra>",
         "legendgroup": "992711-11",
         "marker": {
          "color": "#EF553B",
          "pattern": {
           "shape": ""
          }
         },
         "name": "992711-11",
         "offsetgroup": "992711-11",
         "orientation": "h",
         "showlegend": true,
         "textposition": "auto",
         "type": "bar",
         "x": [
          0.14472952991999968
         ],
         "xaxis": "x",
         "y": [
          "FRANCE"
         ],
         "yaxis": "y"
        },
        {
         "alignmentgroup": "True",
         "customdata": [
          [
           "992712-12"
          ]
         ],
         "hovertemplate": "Item Code=%{customdata[0]}<br>CO2 Total=%{x}<br>Customer Country=%{y}<extra></extra>",
         "legendgroup": "992712-12",
         "marker": {
          "color": "#00cc96",
          "pattern": {
           "shape": ""
          }
         },
         "name": "992712-12",
         "offsetgroup": "992712-12",
         "orientation": "h",
         "showlegend": true,
         "textposition": "auto",
         "type": "bar",
         "x": [
          1.3790905401599998
         ],
         "xaxis": "x",
         "y": [
          "FRANCE"
         ],
         "yaxis": "y"
        },
        {
         "alignmentgroup": "True",
         "customdata": [
          [
           "992725-25"
          ]
         ],
         "hovertemplate": "Item Code=%{customdata[0]}<br>CO2 Total=%{x}<br>Customer Country=%{y}<extra></extra>",
         "legendgroup": "992725-25",
         "marker": {
          "color": "#ab63fa",
          "pattern": {
           "shape": ""
          }
         },
         "name": "992725-25",
         "offsetgroup": "992725-25",
         "orientation": "h",
         "showlegend": true,
         "textposition": "auto",
         "type": "bar",
         "x": [
          4.042337965055999
         ],
         "xaxis": "x",
         "y": [
          "FRANCE"
         ],
         "yaxis": "y"
        },
        {
         "alignmentgroup": "True",
         "customdata": [
          [
           "992728-28"
          ]
         ],
         "hovertemplate": "Item Code=%{customdata[0]}<br>CO2 Total=%{x}<br>Customer Country=%{y}<extra></extra>",
         "legendgroup": "992728-28",
         "marker": {
          "color": "#FFA15A",
          "pattern": {
           "shape": ""
          }
         },
         "name": "992728-28",
         "offsetgroup": "992728-28",
         "orientation": "h",
         "showlegend": true,
         "textposition": "auto",
         "type": "bar",
         "x": [
          1.2581551987199995
         ],
         "xaxis": "x",
         "y": [
          "FRANCE"
         ],
         "yaxis": "y"
        },
        {
         "alignmentgroup": "True",
         "customdata": [
          [
           "993061-61"
          ]
         ],
         "hovertemplate": "Item Code=%{customdata[0]}<br>CO2 Total=%{x}<br>Customer Country=%{y}<extra></extra>",
         "legendgroup": "993061-61",
         "marker": {
          "color": "#19d3f3",
          "pattern": {
           "shape": ""
          }
         },
         "name": "993061-61",
         "offsetgroup": "993061-61",
         "orientation": "h",
         "showlegend": true,
         "textposition": "auto",
         "type": "bar",
         "x": [
          0.1588018768703996
         ],
         "xaxis": "x",
         "y": [
          "FRANCE"
         ],
         "yaxis": "y"
        },
        {
         "alignmentgroup": "True",
         "customdata": [
          [
           "993067-67"
          ]
         ],
         "hovertemplate": "Item Code=%{customdata[0]}<br>CO2 Total=%{x}<br>Customer Country=%{y}<extra></extra>",
         "legendgroup": "993067-67",
         "marker": {
          "color": "#FF6692",
          "pattern": {
           "shape": ""
          }
         },
         "name": "993067-67",
         "offsetgroup": "993067-67",
         "orientation": "h",
         "showlegend": true,
         "textposition": "auto",
         "type": "bar",
         "x": [
          1.1703803308032
         ],
         "xaxis": "x",
         "y": [
          "FRANCE"
         ],
         "yaxis": "y"
        },
        {
         "alignmentgroup": "True",
         "customdata": [
          [
           "993081-81"
          ],
          [
           "993081-81"
          ]
         ],
         "hovertemplate": "Item Code=%{customdata[0]}<br>CO2 Total=%{x}<br>Customer Country=%{y}<extra></extra>",
         "legendgroup": "993081-81",
         "marker": {
          "color": "#B6E880",
          "pattern": {
           "shape": ""
          }
         },
         "name": "993081-81",
         "offsetgroup": "993081-81",
         "orientation": "h",
         "showlegend": true,
         "textposition": "auto",
         "type": "bar",
         "x": [
          10.708464360407042,
          207.93196336896008
         ],
         "xaxis": "x",
         "y": [
          "FRANCE",
          "GERMANY"
         ],
         "yaxis": "y"
        },
        {
         "alignmentgroup": "True",
         "customdata": [
          [
           "995107-07"
          ]
         ],
         "hovertemplate": "Item Code=%{customdata[0]}<br>CO2 Total=%{x}<br>Customer Country=%{y}<extra></extra>",
         "legendgroup": "995107-07",
         "marker": {
          "color": "#FF97FF",
          "pattern": {
           "shape": ""
          }
         },
         "name": "995107-07",
         "offsetgroup": "995107-07",
         "orientation": "h",
         "showlegend": true,
         "textposition": "auto",
         "type": "bar",
         "x": [
          0.328148352
         ],
         "xaxis": "x",
         "y": [
          "FRANCE"
         ],
         "yaxis": "y"
        },
        {
         "alignmentgroup": "True",
         "customdata": [
          [
           "996674-74"
          ]
         ],
         "hovertemplate": "Item Code=%{customdata[0]}<br>CO2 Total=%{x}<br>Customer Country=%{y}<extra></extra>",
         "legendgroup": "996674-74",
         "marker": {
          "color": "#FECB52",
          "pattern": {
           "shape": ""
          }
         },
         "name": "996674-74",
         "offsetgroup": "996674-74",
         "orientation": "h",
         "showlegend": true,
         "textposition": "auto",
         "type": "bar",
         "x": [
          0.6974004360672
         ],
         "xaxis": "x",
         "y": [
          "FRANCE"
         ],
         "yaxis": "y"
        },
        {
         "alignmentgroup": "True",
         "customdata": [
          [
           "996713-13"
          ]
         ],
         "hovertemplate": "Item Code=%{customdata[0]}<br>CO2 Total=%{x}<br>Customer Country=%{y}<extra></extra>",
         "legendgroup": "996713-13",
         "marker": {
          "color": "#636efa",
          "pattern": {
           "shape": ""
          }
         },
         "name": "996713-13",
         "offsetgroup": "996713-13",
         "orientation": "h",
         "showlegend": true,
         "textposition": "auto",
         "type": "bar",
         "x": [
          0.49089370367999996
         ],
         "xaxis": "x",
         "y": [
          "FRANCE"
         ],
         "yaxis": "y"
        },
        {
         "alignmentgroup": "True",
         "customdata": [
          [
           "996714-14"
          ]
         ],
         "hovertemplate": "Item Code=%{customdata[0]}<br>CO2 Total=%{x}<br>Customer Country=%{y}<extra></extra>",
         "legendgroup": "996714-14",
         "marker": {
          "color": "#EF553B",
          "pattern": {
           "shape": ""
          }
         },
         "name": "996714-14",
         "offsetgroup": "996714-14",
         "orientation": "h",
         "showlegend": true,
         "textposition": "auto",
         "type": "bar",
         "x": [
          0.8547112863744
         ],
         "xaxis": "x",
         "y": [
          "FRANCE"
         ],
         "yaxis": "y"
        },
        {
         "alignmentgroup": "True",
         "customdata": [
          [
           "996715-15"
          ]
         ],
         "hovertemplate": "Item Code=%{customdata[0]}<br>CO2 Total=%{x}<br>Customer Country=%{y}<extra></extra>",
         "legendgroup": "996715-15",
         "marker": {
          "color": "#00cc96",
          "pattern": {
           "shape": ""
          }
         },
         "name": "996715-15",
         "offsetgroup": "996715-15",
         "orientation": "h",
         "showlegend": true,
         "textposition": "auto",
         "type": "bar",
         "x": [
          0.0918726580224
         ],
         "xaxis": "x",
         "y": [
          "FRANCE"
         ],
         "yaxis": "y"
        },
        {
         "alignmentgroup": "True",
         "customdata": [
          [
           "996720-20"
          ]
         ],
         "hovertemplate": "Item Code=%{customdata[0]}<br>CO2 Total=%{x}<br>Customer Country=%{y}<extra></extra>",
         "legendgroup": "996720-20",
         "marker": {
          "color": "#ab63fa",
          "pattern": {
           "shape": ""
          }
         },
         "name": "996720-20",
         "offsetgroup": "996720-20",
         "orientation": "h",
         "showlegend": true,
         "textposition": "auto",
         "type": "bar",
         "x": [
          0.8522001763161601
         ],
         "xaxis": "x",
         "y": [
          "FRANCE"
         ],
         "yaxis": "y"
        },
        {
         "alignmentgroup": "True",
         "customdata": [
          [
           "996774-74"
          ]
         ],
         "hovertemplate": "Item Code=%{customdata[0]}<br>CO2 Total=%{x}<br>Customer Country=%{y}<extra></extra>",
         "legendgroup": "996774-74",
         "marker": {
          "color": "#FFA15A",
          "pattern": {
           "shape": ""
          }
         },
         "name": "996774-74",
         "offsetgroup": "996774-74",
         "orientation": "h",
         "showlegend": true,
         "textposition": "auto",
         "type": "bar",
         "x": [
          0.10220727336959991
         ],
         "xaxis": "x",
         "y": [
          "FRANCE"
         ],
         "yaxis": "y"
        },
        {
         "alignmentgroup": "True",
         "customdata": [
          [
           "997201-01"
          ]
         ],
         "hovertemplate": "Item Code=%{customdata[0]}<br>CO2 Total=%{x}<br>Customer Country=%{y}<extra></extra>",
         "legendgroup": "997201-01",
         "marker": {
          "color": "#19d3f3",
          "pattern": {
           "shape": ""
          }
         },
         "name": "997201-01",
         "offsetgroup": "997201-01",
         "orientation": "h",
         "showlegend": true,
         "textposition": "auto",
         "type": "bar",
         "x": [
          1.5601283942399948
         ],
         "xaxis": "x",
         "y": [
          "FRANCE"
         ],
         "yaxis": "y"
        },
        {
         "alignmentgroup": "True",
         "customdata": [
          [
           "997202-02"
          ]
         ],
         "hovertemplate": "Item Code=%{customdata[0]}<br>CO2 Total=%{x}<br>Customer Country=%{y}<extra></extra>",
         "legendgroup": "997202-02",
         "marker": {
          "color": "#FF6692",
          "pattern": {
           "shape": ""
          }
         },
         "name": "997202-02",
         "offsetgroup": "997202-02",
         "orientation": "h",
         "showlegend": true,
         "textposition": "auto",
         "type": "bar",
         "x": [
          2.046995862201593
         ],
         "xaxis": "x",
         "y": [
          "FRANCE"
         ],
         "yaxis": "y"
        },
        {
         "alignmentgroup": "True",
         "customdata": [
          [
           "997928-28"
          ]
         ],
         "hovertemplate": "Item Code=%{customdata[0]}<br>CO2 Total=%{x}<br>Customer Country=%{y}<extra></extra>",
         "legendgroup": "997928-28",
         "marker": {
          "color": "#B6E880",
          "pattern": {
           "shape": ""
          }
         },
         "name": "997928-28",
         "offsetgroup": "997928-28",
         "orientation": "h",
         "showlegend": true,
         "textposition": "auto",
         "type": "bar",
         "x": [
          0.2177370539519998
         ],
         "xaxis": "x",
         "y": [
          "FRANCE"
         ],
         "yaxis": "y"
        },
        {
         "alignmentgroup": "True",
         "customdata": [
          [
           "997929-29"
          ]
         ],
         "hovertemplate": "Item Code=%{customdata[0]}<br>CO2 Total=%{x}<br>Customer Country=%{y}<extra></extra>",
         "legendgroup": "997929-29",
         "marker": {
          "color": "#FF97FF",
          "pattern": {
           "shape": ""
          }
         },
         "name": "997929-29",
         "offsetgroup": "997929-29",
         "orientation": "h",
         "showlegend": true,
         "textposition": "auto",
         "type": "bar",
         "x": [
          0.2567640848255997
         ],
         "xaxis": "x",
         "y": [
          "FRANCE"
         ],
         "yaxis": "y"
        },
        {
         "alignmentgroup": "True",
         "customdata": [
          [
           "997954-54"
          ]
         ],
         "hovertemplate": "Item Code=%{customdata[0]}<br>CO2 Total=%{x}<br>Customer Country=%{y}<extra></extra>",
         "legendgroup": "997954-54",
         "marker": {
          "color": "#FECB52",
          "pattern": {
           "shape": ""
          }
         },
         "name": "997954-54",
         "offsetgroup": "997954-54",
         "orientation": "h",
         "showlegend": true,
         "textposition": "auto",
         "type": "bar",
         "x": [
          0.026719145664
         ],
         "xaxis": "x",
         "y": [
          "FRANCE"
         ],
         "yaxis": "y"
        },
        {
         "alignmentgroup": "True",
         "customdata": [
          [
           "999916-16"
          ]
         ],
         "hovertemplate": "Item Code=%{customdata[0]}<br>CO2 Total=%{x}<br>Customer Country=%{y}<extra></extra>",
         "legendgroup": "999916-16",
         "marker": {
          "color": "#636efa",
          "pattern": {
           "shape": ""
          }
         },
         "name": "999916-16",
         "offsetgroup": "999916-16",
         "orientation": "h",
         "showlegend": true,
         "textposition": "auto",
         "type": "bar",
         "x": [
          8.250528352752
         ],
         "xaxis": "x",
         "y": [
          "FRANCE"
         ],
         "yaxis": "y"
        },
        {
         "alignmentgroup": "True",
         "customdata": [
          [
           "893626-26"
          ]
         ],
         "hovertemplate": "Item Code=%{customdata[0]}<br>CO2 Total=%{x}<br>Customer Country=%{y}<extra></extra>",
         "legendgroup": "893626-26",
         "marker": {
          "color": "#EF553B",
          "pattern": {
           "shape": ""
          }
         },
         "name": "893626-26",
         "offsetgroup": "893626-26",
         "orientation": "h",
         "showlegend": true,
         "textposition": "auto",
         "type": "bar",
         "x": [
          2.4876849600000006
         ],
         "xaxis": "x",
         "y": [
          "MAURITANIA"
         ],
         "yaxis": "y"
        },
        {
         "alignmentgroup": "True",
         "customdata": [
          [
           "950525-25"
          ]
         ],
         "hovertemplate": "Item Code=%{customdata[0]}<br>CO2 Total=%{x}<br>Customer Country=%{y}<extra></extra>",
         "legendgroup": "950525-25",
         "marker": {
          "color": "#00cc96",
          "pattern": {
           "shape": ""
          }
         },
         "name": "950525-25",
         "offsetgroup": "950525-25",
         "orientation": "h",
         "showlegend": true,
         "textposition": "auto",
         "type": "bar",
         "x": [
          1.932748
         ],
         "xaxis": "x",
         "y": [
          "MAURITANIA"
         ],
         "yaxis": "y"
        },
        {
         "alignmentgroup": "True",
         "customdata": [
          [
           "996725-25"
          ]
         ],
         "hovertemplate": "Item Code=%{customdata[0]}<br>CO2 Total=%{x}<br>Customer Country=%{y}<extra></extra>",
         "legendgroup": "996725-25",
         "marker": {
          "color": "#ab63fa",
          "pattern": {
           "shape": ""
          }
         },
         "name": "996725-25",
         "offsetgroup": "996725-25",
         "orientation": "h",
         "showlegend": true,
         "textposition": "auto",
         "type": "bar",
         "x": [
          1.4561799999999998
         ],
         "xaxis": "x",
         "y": [
          "MAURITANIA"
         ],
         "yaxis": "y"
        },
        {
         "alignmentgroup": "True",
         "customdata": [
          [
           "500449-49"
          ]
         ],
         "hovertemplate": "Item Code=%{customdata[0]}<br>CO2 Total=%{x}<br>Customer Country=%{y}<extra></extra>",
         "legendgroup": "500449-49",
         "marker": {
          "color": "#FFA15A",
          "pattern": {
           "shape": ""
          }
         },
         "name": "500449-49",
         "offsetgroup": "500449-49",
         "orientation": "h",
         "showlegend": true,
         "textposition": "auto",
         "type": "bar",
         "x": [
          87.635576028
         ],
         "xaxis": "x",
         "y": [
          "UNITED KINGDOM"
         ],
         "yaxis": "y"
        },
        {
         "alignmentgroup": "True",
         "customdata": [
          [
           "500450-50"
          ]
         ],
         "hovertemplate": "Item Code=%{customdata[0]}<br>CO2 Total=%{x}<br>Customer Country=%{y}<extra></extra>",
         "legendgroup": "500450-50",
         "marker": {
          "color": "#19d3f3",
          "pattern": {
           "shape": ""
          }
         },
         "name": "500450-50",
         "offsetgroup": "500450-50",
         "orientation": "h",
         "showlegend": true,
         "textposition": "auto",
         "type": "bar",
         "x": [
          22.74216448
         ],
         "xaxis": "x",
         "y": [
          "UNITED KINGDOM"
         ],
         "yaxis": "y"
        },
        {
         "alignmentgroup": "True",
         "customdata": [
          [
           "500818-18"
          ]
         ],
         "hovertemplate": "Item Code=%{customdata[0]}<br>CO2 Total=%{x}<br>Customer Country=%{y}<extra></extra>",
         "legendgroup": "500818-18",
         "marker": {
          "color": "#FF6692",
          "pattern": {
           "shape": ""
          }
         },
         "name": "500818-18",
         "offsetgroup": "500818-18",
         "orientation": "h",
         "showlegend": true,
         "textposition": "auto",
         "type": "bar",
         "x": [
          42.1496670784
         ],
         "xaxis": "x",
         "y": [
          "UNITED KINGDOM"
         ],
         "yaxis": "y"
        },
        {
         "alignmentgroup": "True",
         "customdata": [
          [
           "503087-87"
          ]
         ],
         "hovertemplate": "Item Code=%{customdata[0]}<br>CO2 Total=%{x}<br>Customer Country=%{y}<extra></extra>",
         "legendgroup": "503087-87",
         "marker": {
          "color": "#B6E880",
          "pattern": {
           "shape": ""
          }
         },
         "name": "503087-87",
         "offsetgroup": "503087-87",
         "orientation": "h",
         "showlegend": true,
         "textposition": "auto",
         "type": "bar",
         "x": [
          30.864642816
         ],
         "xaxis": "x",
         "y": [
          "UNITED KINGDOM"
         ],
         "yaxis": "y"
        },
        {
         "alignmentgroup": "True",
         "customdata": [
          [
           "503426-26"
          ]
         ],
         "hovertemplate": "Item Code=%{customdata[0]}<br>CO2 Total=%{x}<br>Customer Country=%{y}<extra></extra>",
         "legendgroup": "503426-26",
         "marker": {
          "color": "#FF97FF",
          "pattern": {
           "shape": ""
          }
         },
         "name": "503426-26",
         "offsetgroup": "503426-26",
         "orientation": "h",
         "showlegend": true,
         "textposition": "auto",
         "type": "bar",
         "x": [
          43.977103632
         ],
         "xaxis": "x",
         "y": [
          "UNITED KINGDOM"
         ],
         "yaxis": "y"
        },
        {
         "alignmentgroup": "True",
         "customdata": [
          [
           "828086-86"
          ]
         ],
         "hovertemplate": "Item Code=%{customdata[0]}<br>CO2 Total=%{x}<br>Customer Country=%{y}<extra></extra>",
         "legendgroup": "828086-86",
         "marker": {
          "color": "#FECB52",
          "pattern": {
           "shape": ""
          }
         },
         "name": "828086-86",
         "offsetgroup": "828086-86",
         "orientation": "h",
         "showlegend": true,
         "textposition": "auto",
         "type": "bar",
         "x": [
          1.1434752
         ],
         "xaxis": "x",
         "y": [
          "UNITED KINGDOM"
         ],
         "yaxis": "y"
        },
        {
         "alignmentgroup": "True",
         "customdata": [
          [
           "8729002-02"
          ]
         ],
         "hovertemplate": "Item Code=%{customdata[0]}<br>CO2 Total=%{x}<br>Customer Country=%{y}<extra></extra>",
         "legendgroup": "8729002-02",
         "marker": {
          "color": "#636efa",
          "pattern": {
           "shape": ""
          }
         },
         "name": "8729002-02",
         "offsetgroup": "8729002-02",
         "orientation": "h",
         "showlegend": true,
         "textposition": "auto",
         "type": "bar",
         "x": [
          0.0952896
         ],
         "xaxis": "x",
         "y": [
          "UNITED KINGDOM"
         ],
         "yaxis": "y"
        },
        {
         "alignmentgroup": "True",
         "customdata": [
          [
           "8871594-94"
          ]
         ],
         "hovertemplate": "Item Code=%{customdata[0]}<br>CO2 Total=%{x}<br>Customer Country=%{y}<extra></extra>",
         "legendgroup": "8871594-94",
         "marker": {
          "color": "#EF553B",
          "pattern": {
           "shape": ""
          }
         },
         "name": "8871594-94",
         "offsetgroup": "8871594-94",
         "orientation": "h",
         "showlegend": true,
         "textposition": "auto",
         "type": "bar",
         "x": [
          0.191948988
         ],
         "xaxis": "x",
         "y": [
          "UNITED KINGDOM"
         ],
         "yaxis": "y"
        },
        {
         "alignmentgroup": "True",
         "customdata": [
          [
           "8880283-83"
          ]
         ],
         "hovertemplate": "Item Code=%{customdata[0]}<br>CO2 Total=%{x}<br>Customer Country=%{y}<extra></extra>",
         "legendgroup": "8880283-83",
         "marker": {
          "color": "#00cc96",
          "pattern": {
           "shape": ""
          }
         },
         "name": "8880283-83",
         "offsetgroup": "8880283-83",
         "orientation": "h",
         "showlegend": true,
         "textposition": "auto",
         "type": "bar",
         "x": [
          0.2024904
         ],
         "xaxis": "x",
         "y": [
          "UNITED KINGDOM"
         ],
         "yaxis": "y"
        },
        {
         "alignmentgroup": "True",
         "customdata": [
          [
           "961522-22"
          ]
         ],
         "hovertemplate": "Item Code=%{customdata[0]}<br>CO2 Total=%{x}<br>Customer Country=%{y}<extra></extra>",
         "legendgroup": "961522-22",
         "marker": {
          "color": "#ab63fa",
          "pattern": {
           "shape": ""
          }
         },
         "name": "961522-22",
         "offsetgroup": "961522-22",
         "orientation": "h",
         "showlegend": true,
         "textposition": "auto",
         "type": "bar",
         "x": [
          0.1402702616
         ],
         "xaxis": "x",
         "y": [
          "UNITED KINGDOM"
         ],
         "yaxis": "y"
        },
        {
         "alignmentgroup": "True",
         "customdata": [
          [
           "9647621-21"
          ]
         ],
         "hovertemplate": "Item Code=%{customdata[0]}<br>CO2 Total=%{x}<br>Customer Country=%{y}<extra></extra>",
         "legendgroup": "9647621-21",
         "marker": {
          "color": "#FFA15A",
          "pattern": {
           "shape": ""
          }
         },
         "name": "9647621-21",
         "offsetgroup": "9647621-21",
         "orientation": "h",
         "showlegend": true,
         "textposition": "auto",
         "type": "bar",
         "x": [
          0.083537216
         ],
         "xaxis": "x",
         "y": [
          "UNITED KINGDOM"
         ],
         "yaxis": "y"
        },
        {
         "alignmentgroup": "True",
         "customdata": [
          [
           "964827-27"
          ]
         ],
         "hovertemplate": "Item Code=%{customdata[0]}<br>CO2 Total=%{x}<br>Customer Country=%{y}<extra></extra>",
         "legendgroup": "964827-27",
         "marker": {
          "color": "#19d3f3",
          "pattern": {
           "shape": ""
          }
         },
         "name": "964827-27",
         "offsetgroup": "964827-27",
         "orientation": "h",
         "showlegend": true,
         "textposition": "auto",
         "type": "bar",
         "x": [
          3.37484
         ],
         "xaxis": "x",
         "y": [
          "UNITED KINGDOM"
         ],
         "yaxis": "y"
        },
        {
         "alignmentgroup": "True",
         "customdata": [
          [
           "991319-19"
          ]
         ],
         "hovertemplate": "Item Code=%{customdata[0]}<br>CO2 Total=%{x}<br>Customer Country=%{y}<extra></extra>",
         "legendgroup": "991319-19",
         "marker": {
          "color": "#FF6692",
          "pattern": {
           "shape": ""
          }
         },
         "name": "991319-19",
         "offsetgroup": "991319-19",
         "orientation": "h",
         "showlegend": true,
         "textposition": "auto",
         "type": "bar",
         "x": [
          35.96322688000001
         ],
         "xaxis": "x",
         "y": [
          "UNITED KINGDOM"
         ],
         "yaxis": "y"
        },
        {
         "alignmentgroup": "True",
         "customdata": [
          [
           "999855-55"
          ]
         ],
         "hovertemplate": "Item Code=%{customdata[0]}<br>CO2 Total=%{x}<br>Customer Country=%{y}<extra></extra>",
         "legendgroup": "999855-55",
         "marker": {
          "color": "#B6E880",
          "pattern": {
           "shape": ""
          }
         },
         "name": "999855-55",
         "offsetgroup": "999855-55",
         "orientation": "h",
         "showlegend": true,
         "textposition": "auto",
         "type": "bar",
         "x": [
          0.1009633016
         ],
         "xaxis": "x",
         "y": [
          "UNITED KINGDOM"
         ],
         "yaxis": "y"
        }
       ],
       "layout": {
        "barmode": "stack",
        "legend": {
         "title": {
          "text": "Item Code"
         },
         "tracegroupgap": 0
        },
        "template": {
         "data": {
          "bar": [
           {
            "error_x": {
             "color": "#2a3f5f"
            },
            "error_y": {
             "color": "#2a3f5f"
            },
            "marker": {
             "line": {
              "color": "#E5ECF6",
              "width": 0.5
             },
             "pattern": {
              "fillmode": "overlay",
              "size": 10,
              "solidity": 0.2
             }
            },
            "type": "bar"
           }
          ],
          "barpolar": [
           {
            "marker": {
             "line": {
              "color": "#E5ECF6",
              "width": 0.5
             },
             "pattern": {
              "fillmode": "overlay",
              "size": 10,
              "solidity": 0.2
             }
            },
            "type": "barpolar"
           }
          ],
          "carpet": [
           {
            "aaxis": {
             "endlinecolor": "#2a3f5f",
             "gridcolor": "white",
             "linecolor": "white",
             "minorgridcolor": "white",
             "startlinecolor": "#2a3f5f"
            },
            "baxis": {
             "endlinecolor": "#2a3f5f",
             "gridcolor": "white",
             "linecolor": "white",
             "minorgridcolor": "white",
             "startlinecolor": "#2a3f5f"
            },
            "type": "carpet"
           }
          ],
          "choropleth": [
           {
            "colorbar": {
             "outlinewidth": 0,
             "ticks": ""
            },
            "type": "choropleth"
           }
          ],
          "contour": [
           {
            "colorbar": {
             "outlinewidth": 0,
             "ticks": ""
            },
            "colorscale": [
             [
              0,
              "#0d0887"
             ],
             [
              0.1111111111111111,
              "#46039f"
             ],
             [
              0.2222222222222222,
              "#7201a8"
             ],
             [
              0.3333333333333333,
              "#9c179e"
             ],
             [
              0.4444444444444444,
              "#bd3786"
             ],
             [
              0.5555555555555556,
              "#d8576b"
             ],
             [
              0.6666666666666666,
              "#ed7953"
             ],
             [
              0.7777777777777778,
              "#fb9f3a"
             ],
             [
              0.8888888888888888,
              "#fdca26"
             ],
             [
              1,
              "#f0f921"
             ]
            ],
            "type": "contour"
           }
          ],
          "contourcarpet": [
           {
            "colorbar": {
             "outlinewidth": 0,
             "ticks": ""
            },
            "type": "contourcarpet"
           }
          ],
          "heatmap": [
           {
            "colorbar": {
             "outlinewidth": 0,
             "ticks": ""
            },
            "colorscale": [
             [
              0,
              "#0d0887"
             ],
             [
              0.1111111111111111,
              "#46039f"
             ],
             [
              0.2222222222222222,
              "#7201a8"
             ],
             [
              0.3333333333333333,
              "#9c179e"
             ],
             [
              0.4444444444444444,
              "#bd3786"
             ],
             [
              0.5555555555555556,
              "#d8576b"
             ],
             [
              0.6666666666666666,
              "#ed7953"
             ],
             [
              0.7777777777777778,
              "#fb9f3a"
             ],
             [
              0.8888888888888888,
              "#fdca26"
             ],
             [
              1,
              "#f0f921"
             ]
            ],
            "type": "heatmap"
           }
          ],
          "heatmapgl": [
           {
            "colorbar": {
             "outlinewidth": 0,
             "ticks": ""
            },
            "colorscale": [
             [
              0,
              "#0d0887"
             ],
             [
              0.1111111111111111,
              "#46039f"
             ],
             [
              0.2222222222222222,
              "#7201a8"
             ],
             [
              0.3333333333333333,
              "#9c179e"
             ],
             [
              0.4444444444444444,
              "#bd3786"
             ],
             [
              0.5555555555555556,
              "#d8576b"
             ],
             [
              0.6666666666666666,
              "#ed7953"
             ],
             [
              0.7777777777777778,
              "#fb9f3a"
             ],
             [
              0.8888888888888888,
              "#fdca26"
             ],
             [
              1,
              "#f0f921"
             ]
            ],
            "type": "heatmapgl"
           }
          ],
          "histogram": [
           {
            "marker": {
             "pattern": {
              "fillmode": "overlay",
              "size": 10,
              "solidity": 0.2
             }
            },
            "type": "histogram"
           }
          ],
          "histogram2d": [
           {
            "colorbar": {
             "outlinewidth": 0,
             "ticks": ""
            },
            "colorscale": [
             [
              0,
              "#0d0887"
             ],
             [
              0.1111111111111111,
              "#46039f"
             ],
             [
              0.2222222222222222,
              "#7201a8"
             ],
             [
              0.3333333333333333,
              "#9c179e"
             ],
             [
              0.4444444444444444,
              "#bd3786"
             ],
             [
              0.5555555555555556,
              "#d8576b"
             ],
             [
              0.6666666666666666,
              "#ed7953"
             ],
             [
              0.7777777777777778,
              "#fb9f3a"
             ],
             [
              0.8888888888888888,
              "#fdca26"
             ],
             [
              1,
              "#f0f921"
             ]
            ],
            "type": "histogram2d"
           }
          ],
          "histogram2dcontour": [
           {
            "colorbar": {
             "outlinewidth": 0,
             "ticks": ""
            },
            "colorscale": [
             [
              0,
              "#0d0887"
             ],
             [
              0.1111111111111111,
              "#46039f"
             ],
             [
              0.2222222222222222,
              "#7201a8"
             ],
             [
              0.3333333333333333,
              "#9c179e"
             ],
             [
              0.4444444444444444,
              "#bd3786"
             ],
             [
              0.5555555555555556,
              "#d8576b"
             ],
             [
              0.6666666666666666,
              "#ed7953"
             ],
             [
              0.7777777777777778,
              "#fb9f3a"
             ],
             [
              0.8888888888888888,
              "#fdca26"
             ],
             [
              1,
              "#f0f921"
             ]
            ],
            "type": "histogram2dcontour"
           }
          ],
          "mesh3d": [
           {
            "colorbar": {
             "outlinewidth": 0,
             "ticks": ""
            },
            "type": "mesh3d"
           }
          ],
          "parcoords": [
           {
            "line": {
             "colorbar": {
              "outlinewidth": 0,
              "ticks": ""
             }
            },
            "type": "parcoords"
           }
          ],
          "pie": [
           {
            "automargin": true,
            "type": "pie"
           }
          ],
          "scatter": [
           {
            "fillpattern": {
             "fillmode": "overlay",
             "size": 10,
             "solidity": 0.2
            },
            "type": "scatter"
           }
          ],
          "scatter3d": [
           {
            "line": {
             "colorbar": {
              "outlinewidth": 0,
              "ticks": ""
             }
            },
            "marker": {
             "colorbar": {
              "outlinewidth": 0,
              "ticks": ""
             }
            },
            "type": "scatter3d"
           }
          ],
          "scattercarpet": [
           {
            "marker": {
             "colorbar": {
              "outlinewidth": 0,
              "ticks": ""
             }
            },
            "type": "scattercarpet"
           }
          ],
          "scattergeo": [
           {
            "marker": {
             "colorbar": {
              "outlinewidth": 0,
              "ticks": ""
             }
            },
            "type": "scattergeo"
           }
          ],
          "scattergl": [
           {
            "marker": {
             "colorbar": {
              "outlinewidth": 0,
              "ticks": ""
             }
            },
            "type": "scattergl"
           }
          ],
          "scattermapbox": [
           {
            "marker": {
             "colorbar": {
              "outlinewidth": 0,
              "ticks": ""
             }
            },
            "type": "scattermapbox"
           }
          ],
          "scatterpolar": [
           {
            "marker": {
             "colorbar": {
              "outlinewidth": 0,
              "ticks": ""
             }
            },
            "type": "scatterpolar"
           }
          ],
          "scatterpolargl": [
           {
            "marker": {
             "colorbar": {
              "outlinewidth": 0,
              "ticks": ""
             }
            },
            "type": "scatterpolargl"
           }
          ],
          "scatterternary": [
           {
            "marker": {
             "colorbar": {
              "outlinewidth": 0,
              "ticks": ""
             }
            },
            "type": "scatterternary"
           }
          ],
          "surface": [
           {
            "colorbar": {
             "outlinewidth": 0,
             "ticks": ""
            },
            "colorscale": [
             [
              0,
              "#0d0887"
             ],
             [
              0.1111111111111111,
              "#46039f"
             ],
             [
              0.2222222222222222,
              "#7201a8"
             ],
             [
              0.3333333333333333,
              "#9c179e"
             ],
             [
              0.4444444444444444,
              "#bd3786"
             ],
             [
              0.5555555555555556,
              "#d8576b"
             ],
             [
              0.6666666666666666,
              "#ed7953"
             ],
             [
              0.7777777777777778,
              "#fb9f3a"
             ],
             [
              0.8888888888888888,
              "#fdca26"
             ],
             [
              1,
              "#f0f921"
             ]
            ],
            "type": "surface"
           }
          ],
          "table": [
           {
            "cells": {
             "fill": {
              "color": "#EBF0F8"
             },
             "line": {
              "color": "white"
             }
            },
            "header": {
             "fill": {
              "color": "#C8D4E3"
             },
             "line": {
              "color": "white"
             }
            },
            "type": "table"
           }
          ]
         },
         "layout": {
          "annotationdefaults": {
           "arrowcolor": "#2a3f5f",
           "arrowhead": 0,
           "arrowwidth": 1
          },
          "autotypenumbers": "strict",
          "coloraxis": {
           "colorbar": {
            "outlinewidth": 0,
            "ticks": ""
           }
          },
          "colorscale": {
           "diverging": [
            [
             0,
             "#8e0152"
            ],
            [
             0.1,
             "#c51b7d"
            ],
            [
             0.2,
             "#de77ae"
            ],
            [
             0.3,
             "#f1b6da"
            ],
            [
             0.4,
             "#fde0ef"
            ],
            [
             0.5,
             "#f7f7f7"
            ],
            [
             0.6,
             "#e6f5d0"
            ],
            [
             0.7,
             "#b8e186"
            ],
            [
             0.8,
             "#7fbc41"
            ],
            [
             0.9,
             "#4d9221"
            ],
            [
             1,
             "#276419"
            ]
           ],
           "sequential": [
            [
             0,
             "#0d0887"
            ],
            [
             0.1111111111111111,
             "#46039f"
            ],
            [
             0.2222222222222222,
             "#7201a8"
            ],
            [
             0.3333333333333333,
             "#9c179e"
            ],
            [
             0.4444444444444444,
             "#bd3786"
            ],
            [
             0.5555555555555556,
             "#d8576b"
            ],
            [
             0.6666666666666666,
             "#ed7953"
            ],
            [
             0.7777777777777778,
             "#fb9f3a"
            ],
            [
             0.8888888888888888,
             "#fdca26"
            ],
            [
             1,
             "#f0f921"
            ]
           ],
           "sequentialminus": [
            [
             0,
             "#0d0887"
            ],
            [
             0.1111111111111111,
             "#46039f"
            ],
            [
             0.2222222222222222,
             "#7201a8"
            ],
            [
             0.3333333333333333,
             "#9c179e"
            ],
            [
             0.4444444444444444,
             "#bd3786"
            ],
            [
             0.5555555555555556,
             "#d8576b"
            ],
            [
             0.6666666666666666,
             "#ed7953"
            ],
            [
             0.7777777777777778,
             "#fb9f3a"
            ],
            [
             0.8888888888888888,
             "#fdca26"
            ],
            [
             1,
             "#f0f921"
            ]
           ]
          },
          "colorway": [
           "#636efa",
           "#EF553B",
           "#00cc96",
           "#ab63fa",
           "#FFA15A",
           "#19d3f3",
           "#FF6692",
           "#B6E880",
           "#FF97FF",
           "#FECB52"
          ],
          "font": {
           "color": "#2a3f5f"
          },
          "geo": {
           "bgcolor": "white",
           "lakecolor": "white",
           "landcolor": "#E5ECF6",
           "showlakes": true,
           "showland": true,
           "subunitcolor": "white"
          },
          "hoverlabel": {
           "align": "left"
          },
          "hovermode": "closest",
          "mapbox": {
           "style": "light"
          },
          "paper_bgcolor": "white",
          "plot_bgcolor": "#E5ECF6",
          "polar": {
           "angularaxis": {
            "gridcolor": "white",
            "linecolor": "white",
            "ticks": ""
           },
           "bgcolor": "#E5ECF6",
           "radialaxis": {
            "gridcolor": "white",
            "linecolor": "white",
            "ticks": ""
           }
          },
          "scene": {
           "xaxis": {
            "backgroundcolor": "#E5ECF6",
            "gridcolor": "white",
            "gridwidth": 2,
            "linecolor": "white",
            "showbackground": true,
            "ticks": "",
            "zerolinecolor": "white"
           },
           "yaxis": {
            "backgroundcolor": "#E5ECF6",
            "gridcolor": "white",
            "gridwidth": 2,
            "linecolor": "white",
            "showbackground": true,
            "ticks": "",
            "zerolinecolor": "white"
           },
           "zaxis": {
            "backgroundcolor": "#E5ECF6",
            "gridcolor": "white",
            "gridwidth": 2,
            "linecolor": "white",
            "showbackground": true,
            "ticks": "",
            "zerolinecolor": "white"
           }
          },
          "shapedefaults": {
           "line": {
            "color": "#2a3f5f"
           }
          },
          "ternary": {
           "aaxis": {
            "gridcolor": "white",
            "linecolor": "white",
            "ticks": ""
           },
           "baxis": {
            "gridcolor": "white",
            "linecolor": "white",
            "ticks": ""
           },
           "bgcolor": "#E5ECF6",
           "caxis": {
            "gridcolor": "white",
            "linecolor": "white",
            "ticks": ""
           }
          },
          "title": {
           "x": 0.05
          },
          "xaxis": {
           "automargin": true,
           "gridcolor": "white",
           "linecolor": "white",
           "ticks": "",
           "title": {
            "standoff": 15
           },
           "zerolinecolor": "white",
           "zerolinewidth": 2
          },
          "yaxis": {
           "automargin": true,
           "gridcolor": "white",
           "linecolor": "white",
           "ticks": "",
           "title": {
            "standoff": 15
           },
           "zerolinecolor": "white",
           "zerolinewidth": 2
          }
         }
        },
        "title": {
         "text": "CO₂ by Customer Country and Item Code"
        },
        "xaxis": {
         "anchor": "y",
         "domain": [
          0,
          1
         ],
         "title": {
          "text": "CO₂ Total"
         }
        },
        "yaxis": {
         "anchor": "x",
         "domain": [
          0,
          1
         ],
         "title": {
          "text": "Customer Country"
         }
        }
       }
      }
     },
     "metadata": {},
     "output_type": "display_data"
    }
   ],
   "source": [
    "import plotly.express as px\n",
    "\n",
    "df = pd.read_csv(\"Data/detailed_report.csv\")\n",
    "df_agg = df.groupby([\"Customer Country\", \"Item Code\"])[\"CO2 Total\"].sum().reset_index()\n",
    "fig = px.bar(\n",
    "    df_agg,\n",
    "    x=\"CO2 Total\",\n",
    "    y=\"Customer Country\",\n",
    "    color=\"Item Code\",\n",
    "    orientation=\"h\",    # Horizontal bars\n",
    "    hover_data=[\"Item Code\", \"CO2 Total\"],\n",
    "    title=\"CO₂ by Customer Country and Item Code\"\n",
    ")\n",
    "\n",
    "# Make sure the bars stack on top of each other rather than side by side\n",
    "fig.update_layout(\n",
    "    barmode=\"stack\",\n",
    "    xaxis_title=\"CO₂ Total\",\n",
    "    yaxis_title=\"Customer Country\"\n",
    ")\n",
    "\n",
    "fig.show()\n"
   ]
  },
  {
   "cell_type": "code",
   "execution_count": 24,
   "metadata": {},
   "outputs": [
    {
     "data": {
      "application/vnd.plotly.v1+json": {
       "config": {
        "plotlyServerURL": "https://plot.ly"
       },
       "data": [
        {
         "customdata": [
          [
           "AUBROMETZ"
          ],
          [
           "BELLEVILLE"
          ],
          [
           "BRISTOL"
          ],
          [
           "CLICHY CEDEX"
          ],
          [
           "DOLNI BOGROV"
          ],
          [
           "GAEL"
          ],
          [
           "GRETZ ARMAINVILLIERS"
          ],
          [
           "HERLIN LE SEC"
          ],
          [
           "KENT"
          ],
          [
           "LES ANGLES"
          ],
          [
           "LEVALLOIS PERRET"
          ],
          [
           "MACON"
          ],
          [
           "MOISSY-CRAMAYEL"
          ],
          [
           "NOUAKCHOTT"
          ],
          [
           "ORLY"
          ],
          [
           "PEINE - WOLTORF"
          ],
          [
           "SERRIS"
          ],
          [
           "SUCY EN BRIE"
          ],
          [
           "VITRY SUR SEINE"
          ]
         ],
         "hovertemplate": "Euros=%{x}<br>CO2 Total=%{marker.size}<br>Label=%{text}<br>Customer City=%{customdata[0]}<extra></extra>",
         "legendgroup": "",
         "marker": {
          "color": "#636efa",
          "size": [
           4.118113319414399,
           236.50045037077825,
           263.3323809144,
           0.7475155102271993,
           351.755712,
           683.7860020476537,
           58.02357450926591,
           11.77363253139839,
           6.047975326399999,
           169.0997330255769,
           44.74818351456958,
           19.610470861309437,
           1056.5445903350437,
           11.11369814,
           47.91338857915199,
           1537.77788802816,
           8.0601039,
           41.032542511073274,
           61.93173845524511
          ],
          "sizemode": "area",
          "sizeref": 3.8444447200704004,
          "symbol": "circle"
         },
         "mode": "markers+text",
         "name": "",
         "orientation": "v",
         "showlegend": false,
         "text": [
          "",
          "",
          "",
          "",
          "",
          "GAEL",
          "",
          "",
          "",
          "",
          "",
          "",
          "MOISSY-CRAMAYEL",
          "",
          "",
          "PEINE - WOLTORF",
          "",
          "",
          ""
         ],
         "textposition": "top center",
         "type": "scatter",
         "x": [
          3103.86,
          529886.28,
          52940.643915038,
          0,
          24247.474505,
          276079.66,
          78772.25,
          6805.72,
          6836.6665983,
          44662.37,
          40874.83,
          7569.96,
          1557584.73,
          2450.45,
          41798.14,
          221278.91,
          7120.2,
          57467.49,
          49371.45
         ],
         "xaxis": "x",
         "y": [
          4.118113319414399,
          236.50045037077825,
          263.3323809144,
          0.7475155102271993,
          351.755712,
          683.7860020476537,
          58.02357450926591,
          11.77363253139839,
          6.047975326399999,
          169.0997330255769,
          44.74818351456958,
          19.610470861309437,
          1056.5445903350437,
          11.11369814,
          47.91338857915199,
          1537.77788802816,
          8.0601039,
          41.032542511073274,
          61.93173845524511
         ],
         "yaxis": "y"
        }
       ],
       "layout": {
        "legend": {
         "itemsizing": "constant",
         "tracegroupgap": 0
        },
        "template": {
         "data": {
          "bar": [
           {
            "error_x": {
             "color": "rgb(36,36,36)"
            },
            "error_y": {
             "color": "rgb(36,36,36)"
            },
            "marker": {
             "line": {
              "color": "white",
              "width": 0.5
             },
             "pattern": {
              "fillmode": "overlay",
              "size": 10,
              "solidity": 0.2
             }
            },
            "type": "bar"
           }
          ],
          "barpolar": [
           {
            "marker": {
             "line": {
              "color": "white",
              "width": 0.5
             },
             "pattern": {
              "fillmode": "overlay",
              "size": 10,
              "solidity": 0.2
             }
            },
            "type": "barpolar"
           }
          ],
          "carpet": [
           {
            "aaxis": {
             "endlinecolor": "rgb(36,36,36)",
             "gridcolor": "white",
             "linecolor": "white",
             "minorgridcolor": "white",
             "startlinecolor": "rgb(36,36,36)"
            },
            "baxis": {
             "endlinecolor": "rgb(36,36,36)",
             "gridcolor": "white",
             "linecolor": "white",
             "minorgridcolor": "white",
             "startlinecolor": "rgb(36,36,36)"
            },
            "type": "carpet"
           }
          ],
          "choropleth": [
           {
            "colorbar": {
             "outlinewidth": 1,
             "tickcolor": "rgb(36,36,36)",
             "ticks": "outside"
            },
            "type": "choropleth"
           }
          ],
          "contour": [
           {
            "colorbar": {
             "outlinewidth": 1,
             "tickcolor": "rgb(36,36,36)",
             "ticks": "outside"
            },
            "colorscale": [
             [
              0,
              "#440154"
             ],
             [
              0.1111111111111111,
              "#482878"
             ],
             [
              0.2222222222222222,
              "#3e4989"
             ],
             [
              0.3333333333333333,
              "#31688e"
             ],
             [
              0.4444444444444444,
              "#26828e"
             ],
             [
              0.5555555555555556,
              "#1f9e89"
             ],
             [
              0.6666666666666666,
              "#35b779"
             ],
             [
              0.7777777777777778,
              "#6ece58"
             ],
             [
              0.8888888888888888,
              "#b5de2b"
             ],
             [
              1,
              "#fde725"
             ]
            ],
            "type": "contour"
           }
          ],
          "contourcarpet": [
           {
            "colorbar": {
             "outlinewidth": 1,
             "tickcolor": "rgb(36,36,36)",
             "ticks": "outside"
            },
            "type": "contourcarpet"
           }
          ],
          "heatmap": [
           {
            "colorbar": {
             "outlinewidth": 1,
             "tickcolor": "rgb(36,36,36)",
             "ticks": "outside"
            },
            "colorscale": [
             [
              0,
              "#440154"
             ],
             [
              0.1111111111111111,
              "#482878"
             ],
             [
              0.2222222222222222,
              "#3e4989"
             ],
             [
              0.3333333333333333,
              "#31688e"
             ],
             [
              0.4444444444444444,
              "#26828e"
             ],
             [
              0.5555555555555556,
              "#1f9e89"
             ],
             [
              0.6666666666666666,
              "#35b779"
             ],
             [
              0.7777777777777778,
              "#6ece58"
             ],
             [
              0.8888888888888888,
              "#b5de2b"
             ],
             [
              1,
              "#fde725"
             ]
            ],
            "type": "heatmap"
           }
          ],
          "heatmapgl": [
           {
            "colorbar": {
             "outlinewidth": 1,
             "tickcolor": "rgb(36,36,36)",
             "ticks": "outside"
            },
            "colorscale": [
             [
              0,
              "#440154"
             ],
             [
              0.1111111111111111,
              "#482878"
             ],
             [
              0.2222222222222222,
              "#3e4989"
             ],
             [
              0.3333333333333333,
              "#31688e"
             ],
             [
              0.4444444444444444,
              "#26828e"
             ],
             [
              0.5555555555555556,
              "#1f9e89"
             ],
             [
              0.6666666666666666,
              "#35b779"
             ],
             [
              0.7777777777777778,
              "#6ece58"
             ],
             [
              0.8888888888888888,
              "#b5de2b"
             ],
             [
              1,
              "#fde725"
             ]
            ],
            "type": "heatmapgl"
           }
          ],
          "histogram": [
           {
            "marker": {
             "line": {
              "color": "white",
              "width": 0.6
             }
            },
            "type": "histogram"
           }
          ],
          "histogram2d": [
           {
            "colorbar": {
             "outlinewidth": 1,
             "tickcolor": "rgb(36,36,36)",
             "ticks": "outside"
            },
            "colorscale": [
             [
              0,
              "#440154"
             ],
             [
              0.1111111111111111,
              "#482878"
             ],
             [
              0.2222222222222222,
              "#3e4989"
             ],
             [
              0.3333333333333333,
              "#31688e"
             ],
             [
              0.4444444444444444,
              "#26828e"
             ],
             [
              0.5555555555555556,
              "#1f9e89"
             ],
             [
              0.6666666666666666,
              "#35b779"
             ],
             [
              0.7777777777777778,
              "#6ece58"
             ],
             [
              0.8888888888888888,
              "#b5de2b"
             ],
             [
              1,
              "#fde725"
             ]
            ],
            "type": "histogram2d"
           }
          ],
          "histogram2dcontour": [
           {
            "colorbar": {
             "outlinewidth": 1,
             "tickcolor": "rgb(36,36,36)",
             "ticks": "outside"
            },
            "colorscale": [
             [
              0,
              "#440154"
             ],
             [
              0.1111111111111111,
              "#482878"
             ],
             [
              0.2222222222222222,
              "#3e4989"
             ],
             [
              0.3333333333333333,
              "#31688e"
             ],
             [
              0.4444444444444444,
              "#26828e"
             ],
             [
              0.5555555555555556,
              "#1f9e89"
             ],
             [
              0.6666666666666666,
              "#35b779"
             ],
             [
              0.7777777777777778,
              "#6ece58"
             ],
             [
              0.8888888888888888,
              "#b5de2b"
             ],
             [
              1,
              "#fde725"
             ]
            ],
            "type": "histogram2dcontour"
           }
          ],
          "mesh3d": [
           {
            "colorbar": {
             "outlinewidth": 1,
             "tickcolor": "rgb(36,36,36)",
             "ticks": "outside"
            },
            "type": "mesh3d"
           }
          ],
          "parcoords": [
           {
            "line": {
             "colorbar": {
              "outlinewidth": 1,
              "tickcolor": "rgb(36,36,36)",
              "ticks": "outside"
             }
            },
            "type": "parcoords"
           }
          ],
          "pie": [
           {
            "automargin": true,
            "type": "pie"
           }
          ],
          "scatter": [
           {
            "fillpattern": {
             "fillmode": "overlay",
             "size": 10,
             "solidity": 0.2
            },
            "type": "scatter"
           }
          ],
          "scatter3d": [
           {
            "line": {
             "colorbar": {
              "outlinewidth": 1,
              "tickcolor": "rgb(36,36,36)",
              "ticks": "outside"
             }
            },
            "marker": {
             "colorbar": {
              "outlinewidth": 1,
              "tickcolor": "rgb(36,36,36)",
              "ticks": "outside"
             }
            },
            "type": "scatter3d"
           }
          ],
          "scattercarpet": [
           {
            "marker": {
             "colorbar": {
              "outlinewidth": 1,
              "tickcolor": "rgb(36,36,36)",
              "ticks": "outside"
             }
            },
            "type": "scattercarpet"
           }
          ],
          "scattergeo": [
           {
            "marker": {
             "colorbar": {
              "outlinewidth": 1,
              "tickcolor": "rgb(36,36,36)",
              "ticks": "outside"
             }
            },
            "type": "scattergeo"
           }
          ],
          "scattergl": [
           {
            "marker": {
             "colorbar": {
              "outlinewidth": 1,
              "tickcolor": "rgb(36,36,36)",
              "ticks": "outside"
             }
            },
            "type": "scattergl"
           }
          ],
          "scattermapbox": [
           {
            "marker": {
             "colorbar": {
              "outlinewidth": 1,
              "tickcolor": "rgb(36,36,36)",
              "ticks": "outside"
             }
            },
            "type": "scattermapbox"
           }
          ],
          "scatterpolar": [
           {
            "marker": {
             "colorbar": {
              "outlinewidth": 1,
              "tickcolor": "rgb(36,36,36)",
              "ticks": "outside"
             }
            },
            "type": "scatterpolar"
           }
          ],
          "scatterpolargl": [
           {
            "marker": {
             "colorbar": {
              "outlinewidth": 1,
              "tickcolor": "rgb(36,36,36)",
              "ticks": "outside"
             }
            },
            "type": "scatterpolargl"
           }
          ],
          "scatterternary": [
           {
            "marker": {
             "colorbar": {
              "outlinewidth": 1,
              "tickcolor": "rgb(36,36,36)",
              "ticks": "outside"
             }
            },
            "type": "scatterternary"
           }
          ],
          "surface": [
           {
            "colorbar": {
             "outlinewidth": 1,
             "tickcolor": "rgb(36,36,36)",
             "ticks": "outside"
            },
            "colorscale": [
             [
              0,
              "#440154"
             ],
             [
              0.1111111111111111,
              "#482878"
             ],
             [
              0.2222222222222222,
              "#3e4989"
             ],
             [
              0.3333333333333333,
              "#31688e"
             ],
             [
              0.4444444444444444,
              "#26828e"
             ],
             [
              0.5555555555555556,
              "#1f9e89"
             ],
             [
              0.6666666666666666,
              "#35b779"
             ],
             [
              0.7777777777777778,
              "#6ece58"
             ],
             [
              0.8888888888888888,
              "#b5de2b"
             ],
             [
              1,
              "#fde725"
             ]
            ],
            "type": "surface"
           }
          ],
          "table": [
           {
            "cells": {
             "fill": {
              "color": "rgb(237,237,237)"
             },
             "line": {
              "color": "white"
             }
            },
            "header": {
             "fill": {
              "color": "rgb(217,217,217)"
             },
             "line": {
              "color": "white"
             }
            },
            "type": "table"
           }
          ]
         },
         "layout": {
          "annotationdefaults": {
           "arrowhead": 0,
           "arrowwidth": 1
          },
          "autotypenumbers": "strict",
          "coloraxis": {
           "colorbar": {
            "outlinewidth": 1,
            "tickcolor": "rgb(36,36,36)",
            "ticks": "outside"
           }
          },
          "colorscale": {
           "diverging": [
            [
             0,
             "rgb(103,0,31)"
            ],
            [
             0.1,
             "rgb(178,24,43)"
            ],
            [
             0.2,
             "rgb(214,96,77)"
            ],
            [
             0.3,
             "rgb(244,165,130)"
            ],
            [
             0.4,
             "rgb(253,219,199)"
            ],
            [
             0.5,
             "rgb(247,247,247)"
            ],
            [
             0.6,
             "rgb(209,229,240)"
            ],
            [
             0.7,
             "rgb(146,197,222)"
            ],
            [
             0.8,
             "rgb(67,147,195)"
            ],
            [
             0.9,
             "rgb(33,102,172)"
            ],
            [
             1,
             "rgb(5,48,97)"
            ]
           ],
           "sequential": [
            [
             0,
             "#440154"
            ],
            [
             0.1111111111111111,
             "#482878"
            ],
            [
             0.2222222222222222,
             "#3e4989"
            ],
            [
             0.3333333333333333,
             "#31688e"
            ],
            [
             0.4444444444444444,
             "#26828e"
            ],
            [
             0.5555555555555556,
             "#1f9e89"
            ],
            [
             0.6666666666666666,
             "#35b779"
            ],
            [
             0.7777777777777778,
             "#6ece58"
            ],
            [
             0.8888888888888888,
             "#b5de2b"
            ],
            [
             1,
             "#fde725"
            ]
           ],
           "sequentialminus": [
            [
             0,
             "#440154"
            ],
            [
             0.1111111111111111,
             "#482878"
            ],
            [
             0.2222222222222222,
             "#3e4989"
            ],
            [
             0.3333333333333333,
             "#31688e"
            ],
            [
             0.4444444444444444,
             "#26828e"
            ],
            [
             0.5555555555555556,
             "#1f9e89"
            ],
            [
             0.6666666666666666,
             "#35b779"
            ],
            [
             0.7777777777777778,
             "#6ece58"
            ],
            [
             0.8888888888888888,
             "#b5de2b"
            ],
            [
             1,
             "#fde725"
            ]
           ]
          },
          "colorway": [
           "#1F77B4",
           "#FF7F0E",
           "#2CA02C",
           "#D62728",
           "#9467BD",
           "#8C564B",
           "#E377C2",
           "#7F7F7F",
           "#BCBD22",
           "#17BECF"
          ],
          "font": {
           "color": "rgb(36,36,36)"
          },
          "geo": {
           "bgcolor": "white",
           "lakecolor": "white",
           "landcolor": "white",
           "showlakes": true,
           "showland": true,
           "subunitcolor": "white"
          },
          "hoverlabel": {
           "align": "left"
          },
          "hovermode": "closest",
          "mapbox": {
           "style": "light"
          },
          "paper_bgcolor": "white",
          "plot_bgcolor": "white",
          "polar": {
           "angularaxis": {
            "gridcolor": "rgb(232,232,232)",
            "linecolor": "rgb(36,36,36)",
            "showgrid": false,
            "showline": true,
            "ticks": "outside"
           },
           "bgcolor": "white",
           "radialaxis": {
            "gridcolor": "rgb(232,232,232)",
            "linecolor": "rgb(36,36,36)",
            "showgrid": false,
            "showline": true,
            "ticks": "outside"
           }
          },
          "scene": {
           "xaxis": {
            "backgroundcolor": "white",
            "gridcolor": "rgb(232,232,232)",
            "gridwidth": 2,
            "linecolor": "rgb(36,36,36)",
            "showbackground": true,
            "showgrid": false,
            "showline": true,
            "ticks": "outside",
            "zeroline": false,
            "zerolinecolor": "rgb(36,36,36)"
           },
           "yaxis": {
            "backgroundcolor": "white",
            "gridcolor": "rgb(232,232,232)",
            "gridwidth": 2,
            "linecolor": "rgb(36,36,36)",
            "showbackground": true,
            "showgrid": false,
            "showline": true,
            "ticks": "outside",
            "zeroline": false,
            "zerolinecolor": "rgb(36,36,36)"
           },
           "zaxis": {
            "backgroundcolor": "white",
            "gridcolor": "rgb(232,232,232)",
            "gridwidth": 2,
            "linecolor": "rgb(36,36,36)",
            "showbackground": true,
            "showgrid": false,
            "showline": true,
            "ticks": "outside",
            "zeroline": false,
            "zerolinecolor": "rgb(36,36,36)"
           }
          },
          "shapedefaults": {
           "fillcolor": "black",
           "line": {
            "width": 0
           },
           "opacity": 0.3
          },
          "ternary": {
           "aaxis": {
            "gridcolor": "rgb(232,232,232)",
            "linecolor": "rgb(36,36,36)",
            "showgrid": false,
            "showline": true,
            "ticks": "outside"
           },
           "baxis": {
            "gridcolor": "rgb(232,232,232)",
            "linecolor": "rgb(36,36,36)",
            "showgrid": false,
            "showline": true,
            "ticks": "outside"
           },
           "bgcolor": "white",
           "caxis": {
            "gridcolor": "rgb(232,232,232)",
            "linecolor": "rgb(36,36,36)",
            "showgrid": false,
            "showline": true,
            "ticks": "outside"
           }
          },
          "title": {
           "x": 0.05
          },
          "xaxis": {
           "automargin": true,
           "gridcolor": "rgb(232,232,232)",
           "linecolor": "rgb(36,36,36)",
           "showgrid": false,
           "showline": true,
           "ticks": "outside",
           "title": {
            "standoff": 15
           },
           "zeroline": false,
           "zerolinecolor": "rgb(36,36,36)"
          },
          "yaxis": {
           "automargin": true,
           "gridcolor": "rgb(232,232,232)",
           "linecolor": "rgb(36,36,36)",
           "showgrid": false,
           "showline": true,
           "ticks": "outside",
           "title": {
            "standoff": 15
           },
           "zeroline": false,
           "zerolinecolor": "rgb(36,36,36)"
          }
         }
        },
        "title": {
         "text": "CO₂ = f(Turnover) by City Destination"
        },
        "xaxis": {
         "anchor": "y",
         "domain": [
          0,
          1
         ],
         "tickformat": ".1f",
         "title": {
          "text": "Turnover (Euros)"
         }
        },
        "yaxis": {
         "anchor": "x",
         "domain": [
          0,
          1
         ],
         "title": {
          "text": "CO₂ Total (kg or relevant unit)"
         }
        }
       }
      }
     },
     "metadata": {},
     "output_type": "display_data"
    }
   ],
   "source": [
    "import plotly.express as px\n",
    "import pandas as pd\n",
    "import numpy as np\n",
    "\n",
    "df = pd.read_csv(\"Data/detailed_report.csv\")\n",
    "df_agg = df.groupby(\"Customer City\").agg({\"Euros\": \"sum\", \"CO2 Total\": \"sum\"}).reset_index()\n",
    "threshold = 500  # Only label if CO2 > 500\n",
    "df_agg[\"Label\"] = np.where(df_agg[\"CO2 Total\"] > threshold, df_agg[\"Customer City\"], \"\")\n",
    "\n",
    "fig = px.scatter(\n",
    "    df_agg,\n",
    "    x=\"Euros\",         # Horizontal axis\n",
    "    y=\"CO2 Total\",        # Vertical axis\n",
    "    text=\"Label\", # Show the city names on each data point\n",
    "    #color=\"Delivery Mode\",   # optional grouping\n",
    "    size=\"CO2 Total\",        # optional sizing by CO₂\n",
    "    hover_data=[\"Customer City\"],  # optional extra data in hover tooltip\n",
    "    title=\"CO₂ = f(Turnover) by City Destination\"\n",
    ")\n",
    "\n",
    "# Position the text labels nicely (above each point)\n",
    "fig.update_traces(textposition=\"top center\")\n",
    "\n",
    "# Optionally format axes (e.g., showing 0.5M or 1.5M for large values):\n",
    "fig.update_layout(\n",
    "    xaxis=dict(\n",
    "        title=\"Turnover (Euros)\",\n",
    "        tickformat=\".1f\",   # show one decimal, e.g., 0.5M\n",
    "    ),\n",
    "    yaxis=dict(\n",
    "        title=\"CO₂ Total (kg or relevant unit)\"\n",
    "    ),\n",
    "    template=\"simple_white\"\n",
    ")\n",
    "\n",
    "fig.show()"
   ]
  },
  {
   "cell_type": "markdown",
   "metadata": {},
   "source": [
    "The impacts of your future efforts for CO2 Emission reductions on profitability will be higher for the customers in PEINE-WOLTORF."
   ]
  },
  {
   "cell_type": "code",
   "execution_count": null,
   "metadata": {},
   "outputs": [],
   "source": []
  }
 ],
 "metadata": {
  "kernelspec": {
   "display_name": "data-science",
   "language": "python",
   "name": "python3"
  },
  "language_info": {
   "codemirror_mode": {
    "name": "ipython",
    "version": 3
   },
   "file_extension": ".py",
   "mimetype": "text/x-python",
   "name": "python",
   "nbconvert_exporter": "python",
   "pygments_lexer": "ipython3",
   "version": "3.9.21"
  }
 },
 "nbformat": 4,
 "nbformat_minor": 2
}